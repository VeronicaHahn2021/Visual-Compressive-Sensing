{
 "cells": [
  {
   "cell_type": "code",
   "execution_count": 1,
   "id": "2472ebcb",
   "metadata": {},
   "outputs": [],
   "source": [
    "import matplotlib.pyplot as plt\n",
    "import numpy as np\n",
    "import numpy.linalg as la\n",
    "\n",
    "from src.structured_random_features.src.models.weights import V1_weights\n",
    "\n",
    "# Packages for fft and fitting data\n",
    "from scipy import fftpack as fft\n",
    "from sklearn.linear_model import Lasso\n",
    "\n",
    "# Package for importing image representation\n",
    "from PIL import Image, ImageOps\n",
    "\n",
    "from src.V1_Compress import generate_Y, compress\n",
    "import pandas as pd\n",
    "import itertools\n",
    "import dask\n",
    "from dask.distributed import Client, progress\n",
    "import seaborn as sns\n",
    "import time\n",
    "import os.path"
   ]
  },
  {
   "cell_type": "code",
   "execution_count": 2,
   "id": "f6f1e2f4",
   "metadata": {},
   "outputs": [],
   "source": [
    "def opt_hyperparams(data): \n",
    "    # Try to use pd group_by to group repetition and get avg\n",
    "    \n",
    "    # Among those average, get the lowest error hyperparam\n",
    "    ordered_data = pd.DataFrame(data).sort_values(by = 'error', ascending = True)\n",
    "    print(ordered_data.head(5))\n",
    "    \n",
    "    return ordered_data.head(1)"
   ]
  },
  {
   "cell_type": "code",
   "execution_count": 3,
   "id": "e082a6a9",
   "metadata": {},
   "outputs": [],
   "source": [
    "def run_sim(rep, alp, num, sz, freq, img_arr):\n",
    "    num = int(num)\n",
    "    img_arr = np.array([img_arr]).squeeze()\n",
    "    dim = img_arr.shape\n",
    "    n, m = dim\n",
    "\n",
    "    # Generate V1 weight with y\n",
    "    W = V1_weights(num, dim, sz, freq) \n",
    "    y = generate_Y(W, img_arr)\n",
    "    W_model = W.reshape(num, n, m)\n",
    "    \n",
    "    # Call function and calculate error\n",
    "    theta, reform, s = compress(W_model, y, alp)\n",
    "    error = np.linalg.norm(img - reform, 'fro') / np.sqrt(m*n)\n",
    "    \n",
    "    return error, theta, reform, s"
   ]
  },
  {
   "cell_type": "code",
   "execution_count": 5,
   "id": "337052c8",
   "metadata": {
    "scrolled": false
   },
   "outputs": [
    {
     "name": "stdout",
     "output_type": "stream",
     "text": [
      "   rep    alp  num_cell  cell_sz  sparse_freq\n",
      "0    0  0.001       100        2            1\n",
      "1    0  0.001       100        2            2\n",
      "2    0  0.001       100        2            5\n",
      "3    0  0.001       100        5            1\n",
      "4    0  0.001       100        5            2\n"
     ]
    },
    {
     "name": "stderr",
     "output_type": "stream",
     "text": [
      "C:\\Users\\Owner\\anaconda3\\lib\\site-packages\\distributed\\node.py:151: UserWarning: Port 8787 is already in use.\n",
      "Perhaps you already have a cluster running?\n",
      "Hosting the HTTP server on port 52027 instead\n",
      "  warnings.warn(\n"
     ]
    },
    {
     "name": "stdout",
     "output_type": "stream",
     "text": [
      "running dask completed\n",
      "futures completed\n",
      "progressing futures\n",
      "result computed\n",
      "   rep    alp  num_cell  cell_sz  sparse_freq\n",
      "0    0  0.001       100        2            1\n",
      "1    0  0.001       100        2            2\n",
      "2    0  0.001       100        2            5\n",
      "3    0  0.001       100        5            1\n",
      "4    0  0.001       100        5            2\n"
     ]
    },
    {
     "name": "stderr",
     "output_type": "stream",
     "text": [
      "C:\\Users\\Owner\\anaconda3\\lib\\site-packages\\distributed\\node.py:151: UserWarning: Port 8787 is already in use.\n",
      "Perhaps you already have a cluster running?\n",
      "Hosting the HTTP server on port 52115 instead\n",
      "  warnings.warn(\n"
     ]
    },
    {
     "name": "stdout",
     "output_type": "stream",
     "text": [
      "running dask completed\n",
      "futures completed\n",
      "progressing futures\n",
      "result computed\n"
     ]
    }
   ],
   "source": [
    "image_path_list = ['image/city_part2.png', 'image/city_part3.png']\n",
    "for image_path in image_path_list:\n",
    "    #DF version after looking at Desk method\n",
    "\n",
    "    # Set up hyperparameters that would affect results\n",
    "    delay_list = []\n",
    "    params = []\n",
    "    alpha = np.logspace(-3, 3, 7)\n",
    "    rep = np.arange(10)\n",
    "    num_cell = [100, 200, 500]\n",
    "    cell_sz = [2, 5, 7]\n",
    "    sparse_freq = [1, 2, 5]\n",
    "\n",
    "    # Load Image\n",
    "#     image_path = 'image/city_part2.png'\n",
    "    image_nm = image_path.split('/')[1].split('.')[0]\n",
    "    img = Image.open(image_path)\n",
    "    img = ImageOps.grayscale(img)\n",
    "    img_arr = np.asarray(img)\n",
    "\n",
    "    save_path = os.path.join(\"result/{img_nm}/V1\".format(img_nm = image_nm))\n",
    "\n",
    "\n",
    "\n",
    "    search_list = [rep, alpha, num_cell, cell_sz, sparse_freq]\n",
    "\n",
    "    # All combinations of hyperparameter to try\n",
    "    search = list(itertools.product(*search_list))             \n",
    "    search_df = pd.DataFrame(search, columns= [ 'rep', 'alp', 'num_cell', 'cell_sz', 'sparse_freq'])\n",
    "    print(search_df.head())\n",
    "\n",
    "    # Call dask\n",
    "    client = Client()\n",
    "    client\n",
    "\n",
    "    # counter = 0; # Keep track of number of iteration. Debugging method\n",
    "    for p in search_df.values:\n",
    "        delay = dask.delayed(run_sim)(*p, img_arr)\n",
    "        delay_list.append(delay)\n",
    "\n",
    "    print('running dask completed')\n",
    "\n",
    "    futures = dask.persist(*delay_list)\n",
    "    print('futures completed')\n",
    "    progress(futures)\n",
    "    print('progressing futures')\n",
    "\n",
    "    # Compute the result\n",
    "    results = dask.compute(*futures)\n",
    "    print('result computed')\n",
    "    results_df = pd.DataFrame(results, columns=['error', 'theta', 'reform', 's'])\n",
    "\n",
    "    # Add error onto parameter\n",
    "    params_result_df = search_df.join(results_df['error'])\n",
    "\n",
    "    # save parameter_error data with error_results data\n",
    "    params_result_df.to_csv(os.path.join(save_path, \"param_\" + \"_\".join(str.split(time.ctime().replace(\":\", \"_\"))) + \".csv\"))\n",
    "    results_df.to_csv(os.path.join(save_path, \"result_\" + \"_\".join(str.split(time.ctime().replace(\":\", \"_\"))) + \".csv\"))\n",
    "\n",
    "\n"
   ]
  },
  {
   "cell_type": "code",
   "execution_count": null,
   "id": "cc1e28bb",
   "metadata": {},
   "outputs": [],
   "source": [
    "results_df = pd.DataFrame(results, columns=['error', 'theta', 'reform', 's'])\n",
    "results_df"
   ]
  },
  {
   "cell_type": "code",
   "execution_count": null,
   "id": "6a79fa48",
   "metadata": {
    "scrolled": true
   },
   "outputs": [],
   "source": [
    "temp = search_df.join(results_df['error'])\n",
    "opt_hyperparams(temp)"
   ]
  },
  {
   "cell_type": "code",
   "execution_count": null,
   "id": "034ac4e8",
   "metadata": {},
   "outputs": [],
   "source": [
    "image_path = 'image/tree_part1.jpg'"
   ]
  }
 ],
 "metadata": {
  "kernelspec": {
   "display_name": "Python 3",
   "language": "python",
   "name": "python3"
  },
  "language_info": {
   "codemirror_mode": {
    "name": "ipython",
    "version": 3
   },
   "file_extension": ".py",
   "mimetype": "text/x-python",
   "name": "python",
   "nbconvert_exporter": "python",
   "pygments_lexer": "ipython3",
   "version": "3.8.8"
  }
 },
 "nbformat": 4,
 "nbformat_minor": 5
}
