{
 "cells": [
  {
   "cell_type": "code",
   "execution_count": 1,
   "id": "2472ebcb",
   "metadata": {},
   "outputs": [],
   "source": [
    "import matplotlib.pyplot as plt\n",
    "import numpy as np\n",
    "import numpy.linalg as la\n",
    "\n",
    "from src.structured_random_features.src.models.weights import V1_weights\n",
    "\n",
    "# Packages for fft and fitting data\n",
    "from scipy import fftpack as fft\n",
    "from sklearn.linear_model import Lasso\n",
    "\n",
    "# Package for importing image representation\n",
    "from PIL import Image, ImageOps\n",
    "\n",
    "from src.V1_Compress import generate_Y, compress\n",
    "import pandas as pd\n",
    "import itertools\n",
    "import dask\n",
    "from dask.distributed import Client, progress\n",
    "import seaborn as sns\n",
    "import time\n",
    "import os.path"
   ]
  },
  {
   "cell_type": "code",
   "execution_count": 2,
   "id": "f6f1e2f4",
   "metadata": {},
   "outputs": [],
   "source": [
    "# def opt_hyperparams(data): \n",
    "#     # Try to use pd group_by to group repetition and get avg\n",
    "    \n",
    "#     # Among those average, get the lowest error hyperparam\n",
    "#     ordered_data = pd.DataFrame(data).sort_values(by = 'error', ascending = True)\n",
    "#     print(ordered_data.head(5))\n",
    "    \n",
    "#     return ordered_data.head(1)"
   ]
  },
  {
   "cell_type": "code",
   "execution_count": 3,
   "id": "e082a6a9",
   "metadata": {},
   "outputs": [],
   "source": [
    "def run_sim(rep, alp, num, sz, freq, img_arr):\n",
    "    num = int(num)\n",
    "    img_arr = np.array([img_arr]).squeeze()\n",
    "    dim = img_arr.shape\n",
    "    n, m = dim\n",
    "\n",
    "    # Generate V1 weight with y\n",
    "    W = V1_weights(num, dim, sz, freq) \n",
    "    y = generate_Y(W, img_arr)\n",
    "    W_model = W.reshape(num, n, m)\n",
    "    \n",
    "    # Call function and calculate error\n",
    "    theta, reform, s = compress(W_model, y, alp)\n",
    "    error = np.linalg.norm(img - reform, 'fro') / np.sqrt(m*n)\n",
    "    \n",
    "    return error, theta, reform, s"
   ]
  },
  {
   "cell_type": "code",
   "execution_count": 6,
   "id": "337052c8",
   "metadata": {
    "scrolled": false
   },
   "outputs": [
    {
     "data": {
      "image/png": "[encoded data removed]",
      "text/plain": [
       "<Figure size 432x288 with 1 Axes>"
      ]
     },
     "metadata": {
      "needs_background": "light"
     },
     "output_type": "display_data"
    },
    {
     "name": "stdout",
     "output_type": "stream",
     "text": [
      "   rep    alp  num_cell  cell_sz  sparse_freq\n",
      "0    0  0.001       100        2            1\n",
      "1    0  0.001       100        2            2\n",
      "2    0  0.001       100        2            5\n",
      "3    0  0.001       100        5            1\n",
      "4    0  0.001       100        5            2\n"
     ]
    },
    {
     "name": "stderr",
     "output_type": "stream",
     "text": [
      "/home/bans/anaconda3/lib/python3.9/site-packages/distributed/node.py:160: UserWarning: Port 8787 is already in use.\n",
      "Perhaps you already have a cluster running?\n",
      "Hosting the HTTP server on port 34261 instead\n",
      "  warnings.warn(\n"
     ]
    },
    {
     "name": "stdout",
     "output_type": "stream",
     "text": [
      "running dask completed\n",
      "futures completed\n",
      "progressing futures\n",
      "result computed\n"
     ]
    }
   ],
   "source": [
    "file = 'tree_part1.jpg'\n",
    "\n",
    "image_path ='image/{img}'.format(img = file)\n",
    "\n",
    "#DF version after looking at Desk method\n",
    "\n",
    "# Set up hyperparameters that would affect results\n",
    "delay_list = []\n",
    "params = []\n",
    "alpha = np.logspace(-3, 3, 7)\n",
    "rep = np.arange(30)\n",
    "num_cell = [50, 100, 200, 500]\n",
    "cell_sz = [2, 5, 7]\n",
    "sparse_freq = [1, 2, 5]\n",
    "\n",
    "# Load Image\n",
    "#     image_path = 'image/city_part2.png'\n",
    "image_nm = image_path.split('/')[1].split('.')[0]\n",
    "img = Image.open(image_path)\n",
    "img = ImageOps.grayscale(img)\n",
    "img_arr = np.asarray(img)\n",
    "plt.imshow(img_arr)\n",
    "plt.show()\n",
    "save_path = os.path.join(\"result/{img_nm}/V1\".format(img_nm = image_nm))\n",
    "\n",
    "\n",
    "\n",
    "search_list = [rep, alpha, num_cell, cell_sz, sparse_freq]\n",
    "\n",
    "# All combinations of hyperparameter to try\n",
    "search = list(itertools.product(*search_list))             \n",
    "search_df = pd.DataFrame(search, columns= [ 'rep', 'alp', 'num_cell', 'cell_sz', 'sparse_freq'])\n",
    "print(search_df.head())\n",
    "\n",
    "# Call dask\n",
    "client = Client()\n",
    "\n",
    "# counter = 0; # Keep track of number of iteration. Debugging method\n",
    "for p in search_df.values:\n",
    "    delay = dask.delayed(run_sim)(*p, img_arr)\n",
    "    delay_list.append(delay)\n",
    "\n",
    "print('running dask completed')\n",
    "\n",
    "futures = dask.persist(*delay_list)\n",
    "print('futures completed')\n",
    "progress(futures)\n",
    "print('progressing futures')\n",
    "\n",
    "# Compute the result\n",
    "results = dask.compute(*futures)\n",
    "print('result computed')\n",
    "results_df = pd.DataFrame(results, columns=['error', 'theta', 'reform', 's'])\n",
    "\n",
    "# Add error onto parameter\n",
    "params_result_df = search_df.join(results_df['error'])\n",
    "\n",
    "# save parameter_error data with error_results data\n",
    "params_result_df.to_csv(os.path.join(save_path, \"param_\" + \"_\".join(str.split(time.ctime().replace(\":\", \"_\"))) + \".csv\"))\n",
    "results_df.to_csv(os.path.join(save_path, \"result_\" + \"_\".join(str.split(time.ctime().replace(\":\", \"_\"))) + \".csv\"))\n",
    "\n",
    "\n"
   ]
  },
  {
   "cell_type": "markdown",
   "id": "ee39f259",
   "metadata": {},
   "source": [
    "###### results_df = pd.DataFrame(results, columns=['error', 'theta', 'reform', 's'])\n",
    "results_df"
   ]
  },
  {
   "cell_type": "code",
   "execution_count": 5,
   "id": "a4071d92",
   "metadata": {},
   "outputs": [
    {
     "data": {
      "text/plain": [
       "<matplotlib.image.AxesImage at 0x7f7d71ba3d60>"
      ]
     },
     "execution_count": 5,
     "metadata": {},
     "output_type": "execute_result"
    },
    {
     "data": {
      "image/png": "[encoded data removed]",
      "text/plain": [
       "<Figure size 432x288 with 1 Axes>"
      ]
     },
     "metadata": {
      "needs_background": "light"
     },
     "output_type": "display_data"
    }
   ],
   "source": [
    "plt.imshow(results_df['reform'][1110])"
   ]
  },
  {
   "cell_type": "code",
   "execution_count": 17,
   "id": "6a79fa48",
   "metadata": {
    "scrolled": true
   },
   "outputs": [
    {
     "name": "stdout",
     "output_type": "stream",
     "text": [
      "      rep     alp  num_cell  cell_sz  sparse_freq      error\n",
      "1302    6  1000.0       100        7            1  39.679307\n",
      "744     3  1000.0       200        7            1  40.164509\n",
      "1686    8  1000.0       200        5            1  40.235294\n",
      "171     0  1000.0       200        2            1  40.545128\n",
      "732     3  1000.0       100        5            1  40.751664\n"
     ]
    },
    {
     "data": {
      "text/html": [
       "<div>\n",
       "<style scoped>\n",
       "    .dataframe tbody tr th:only-of-type {\n",
       "        vertical-align: middle;\n",
       "    }\n",
       "\n",
       "    .dataframe tbody tr th {\n",
       "        vertical-align: top;\n",
       "    }\n",
       "\n",
       "    .dataframe thead th {\n",
       "        text-align: right;\n",
       "    }\n",
       "</style>\n",
       "<table border=\"1\" class=\"dataframe\">\n",
       "  <thead>\n",
       "    <tr style=\"text-align: right;\">\n",
       "      <th></th>\n",
       "      <th>rep</th>\n",
       "      <th>alp</th>\n",
       "      <th>num_cell</th>\n",
       "      <th>cell_sz</th>\n",
       "      <th>sparse_freq</th>\n",
       "      <th>error</th>\n",
       "    </tr>\n",
       "  </thead>\n",
       "  <tbody>\n",
       "    <tr>\n",
       "      <th>1302</th>\n",
       "      <td>6</td>\n",
       "      <td>1000.0</td>\n",
       "      <td>100</td>\n",
       "      <td>7</td>\n",
       "      <td>1</td>\n",
       "      <td>39.679307</td>\n",
       "    </tr>\n",
       "  </tbody>\n",
       "</table>\n",
       "</div>"
      ],
      "text/plain": [
       "      rep     alp  num_cell  cell_sz  sparse_freq      error\n",
       "1302    6  1000.0       100        7            1  39.679307"
      ]
     },
     "execution_count": 17,
     "metadata": {},
     "output_type": "execute_result"
    }
   ],
   "source": [
    "temp = search_df.join(results_df['error'])\n",
    "opt_hyperparams(temp)"
   ]
  },
  {
   "cell_type": "code",
   "execution_count": 8,
   "id": "034ac4e8",
   "metadata": {},
   "outputs": [],
   "source": [
    "image_path = 'image/tree_part1.jpg'"
   ]
  },
  {
   "cell_type": "code",
   "execution_count": 13,
   "id": "0c94a7c2",
   "metadata": {},
   "outputs": [
    {
     "data": {
      "text/plain": [
       "<matplotlib.image.AxesImage at 0x7fe6b5cd0dc0>"
      ]
     },
     "execution_count": 13,
     "metadata": {},
     "output_type": "execute_result"
    },
    {
     "data": {
      "image/png": "[encoded data removed]",
      "text/plain": [
       "<Figure size 432x288 with 1 Axes>"
      ]
     },
     "metadata": {
      "needs_background": "light"
     },
     "output_type": "display_data"
    }
   ],
   "source": [
    "alpha = np.logspace(-3, 3, 7)\n",
    "\n",
    "image_path = 'image/city_part2.png'\n",
    "image_nm = image_path.split('/')[1].split('.')[0]\n",
    "img = Image.open(image_path)\n",
    "img = ImageOps.grayscale(img)\n",
    "img_arr = np.asarray(img)\n",
    "\n",
    "plt.imshow(img_arr)\n",
    "\n"
   ]
  },
  {
   "cell_type": "code",
   "execution_count": null,
   "id": "880fcc14",
   "metadata": {},
   "outputs": [],
   "source": []
  }
 ],
 "metadata": {
  "kernelspec": {
   "display_name": "Python 3 (ipykernel)",
   "language": "python",
   "name": "python3"
  },
  "language_info": {
   "codemirror_mode": {
    "name": "ipython",
    "version": 3
   },
   "file_extension": ".py",
   "mimetype": "text/x-python",
   "name": "python",
   "nbconvert_exporter": "python",
   "pygments_lexer": "ipython3",
   "version": "3.9.7"
  }
 },
 "nbformat": 4,
 "nbformat_minor": 5
}
