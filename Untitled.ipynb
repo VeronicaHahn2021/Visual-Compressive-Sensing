{
 "cells": [
  {
   "cell_type": "code",
   "execution_count": 2,
   "id": "c78e5025",
   "metadata": {},
   "outputs": [],
   "source": [
    "import os\n",
    "import sys\n",
    "import numpy as np\n",
    "import matplotlib.pyplot as plt\n",
    "from src.compress_sensing_library import *\n"
   ]
  },
  {
   "cell_type": "code",
   "execution_count": 3,
   "id": "3bb616ca",
   "metadata": {},
   "outputs": [
    {
     "name": "stderr",
     "output_type": "stream",
     "text": [
      "python3: can't open file '/home/bans/Documents/research/dct_hyperparam_sweep_test.py': [Errno 2] No such file or directory\n"
     ]
    },
    {
     "data": {
      "text/plain": [
       "512"
      ]
     },
     "execution_count": 3,
     "metadata": {},
     "output_type": "execute_result"
    }
   ],
   "source": [
    "#Hyperparameter Values\n",
    "img=\"tree_part1.jpg\"\n",
    "method = 'dct'\n",
    "observation=\"pixel\"\n",
    "alpha=\"-n\"\n",
    "num_cell = [50, 100, 200, 300, 500]\n",
    "cell_size = [1, 2, 3, 4, 5, 6, 7, 8, 9, 10]\n",
    "sparse_freq = [1, 2, 3, 4, 5, 6, 7, 8, 9, 10]\n",
    "\n",
    "## For wavelet variable\n",
    "# lv='[1, 2, 4, 6]'\n",
    "# dwt_type='[harr, db1, db2]'\n",
    "\n",
    "# Call python script\n",
    "# os.chdir(os.path.join(os.getcwd(), './experiment'))\n",
    "# os.system('python3 dct_hyperparam_sweep_test.py {img} {observation} {alpha} {num_cell} {cell_size} {sparse_freq}'.format(img = img, observation = observation, alpha = alpha, num_cell = num_cell, cell_size = cell_size, sparse_freq = sparse_freq))\n",
    "# python3 "
   ]
  },
  {
   "cell_type": "code",
   "execution_count": 1,
   "id": "e58d6d8c",
   "metadata": {},
   "outputs": [],
   "source": [
    "test = [1, 2, 3, 4, 5, 6, 7, 8, 9, 10]"
   ]
  },
  {
   "cell_type": "code",
   "execution_count": 7,
   "id": "60ceedb3",
   "metadata": {},
   "outputs": [
    {
     "ename": "ValueError",
     "evalue": "not enough values to unpack (expected 2, got 1)",
     "output_type": "error",
     "traceback": [
      "\u001b[0;31m---------------------------------------------------------------------------\u001b[0m",
      "\u001b[0;31mValueError\u001b[0m                                Traceback (most recent call last)",
      "\u001b[0;32m/tmp/ipykernel_3692950/560633563.py\u001b[0m in \u001b[0;36m<module>\u001b[0;34m\u001b[0m\n\u001b[0;32m----> 1\u001b[0;31m \u001b[0mn\u001b[0m\u001b[0;34m,\u001b[0m \u001b[0mm\u001b[0m \u001b[0;34m=\u001b[0m \u001b[0mnp\u001b[0m\u001b[0;34m.\u001b[0m\u001b[0masarray\u001b[0m\u001b[0;34m(\u001b[0m\u001b[0mtest\u001b[0m\u001b[0;34m)\u001b[0m\u001b[0;34m.\u001b[0m\u001b[0mshape\u001b[0m\u001b[0;34m\u001b[0m\u001b[0;34m\u001b[0m\u001b[0m\n\u001b[0m",
      "\u001b[0;31mValueError\u001b[0m: not enough values to unpack (expected 2, got 1)"
     ]
    }
   ],
   "source": [
    "n, m = np.asarray(test).shape"
   ]
  },
  {
   "cell_type": "code",
   "execution_count": null,
   "id": "246679b4",
   "metadata": {},
   "outputs": [],
   "source": []
  }
 ],
 "metadata": {
  "kernelspec": {
   "display_name": "Python 3 (ipykernel)",
   "language": "python",
   "name": "python3"
  },
  "language_info": {
   "codemirror_mode": {
    "name": "ipython",
    "version": 3
   },
   "file_extension": ".py",
   "mimetype": "text/x-python",
   "name": "python",
   "nbconvert_exporter": "python",
   "pygments_lexer": "ipython3",
   "version": "3.9.7"
  }
 },
 "nbformat": 4,
 "nbformat_minor": 5
}
