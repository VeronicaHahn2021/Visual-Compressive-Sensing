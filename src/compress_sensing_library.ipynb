{
 "cells": [
  {
   "cell_type": "code",
   "execution_count": null,
   "id": "12502b4e",
   "metadata": {},
   "outputs": [],
   "source": [
    "import numpy as np\n",
    "import sys\n",
    "sys.path.append(\"../\")\n",
    "from structured_random_features.src.models.weights import V1_weights\n",
    "\n",
    "# Packages for dct, dwt and fitting data\n",
    "from scipy import fftpack as fft\n",
    "import pywt\n",
    "from pywt import wavedecn\n",
    "from sklearn.linear_model import Lasso\n",
    "\n",
    "# Packages for images\n",
    "from PIL import Image, ImageOps"
   ]
  },
  {
   "cell_type": "markdown",
   "id": "a208cd6c",
   "metadata": {},
   "source": [
    "# Generating General variables"
   ]
  },
  {
   "cell_type": "code",
   "execution_count": 2,
   "id": "18a44202",
   "metadata": {},
   "outputs": [],
   "source": [
    "def generate_Y(W, img):\n",
    "    ''' Generate sample y vector variable for data reconstruction using constant matrix W (containing open indices). Function does inner product W matrix with image array to find sample y vector, \n",
    "    \n",
    "    Parameters\n",
    "    ----------\n",
    "    W : array_like\n",
    "        (num_V1_weights/sample_size, n*m) shape array. Lists of weighted data\n",
    "        \n",
    "    img : array_like\n",
    "          (n, m) shape image containing array of pixels\n",
    "    \n",
    "    Returns\n",
    "    ----------\n",
    "    y : vector\n",
    "        (num_V1_weights/sample_size, 1) shape. Dot product of W and image\n",
    "    \n",
    "    '''\n",
    "    \n",
    "    num_cell = W.shape[0]\n",
    "    n, m = img.shape\n",
    "    W = W.reshape(num_cell, n*m)\n",
    "    y = W @ img.reshape(n * m, 1)\n",
    "    return y"
   ]
  },
  {
   "cell_type": "code",
   "execution_count": 3,
   "id": "23866037",
   "metadata": {},
   "outputs": [],
   "source": [
    "def generate_V1_variables(num_cell, cell_size, sparse_freq, img):\n",
    "    ''' Automatically generates variables needed for data reconstruction using V1 weights.\n",
    "    \n",
    "    Parameters\n",
    "    ----------\n",
    "    num_cell : int\n",
    "        Number of blobs that will be used to be determining which pixles to grab and use\n",
    "    \n",
    "    cell_size : int\n",
    "        Determines field size of opened and closed blob of data. Affect the data training\n",
    "        \n",
    "    sparse_freq : int\n",
    "        Determines filed frequency on how frequently opened and closed area would appear. Affect the data training\n",
    "    \n",
    "    img : array_like\n",
    "          (n, m) shape image containing array of pixels\n",
    "    \n",
    "    Returns\n",
    "    ----------\n",
    "    y : vector\n",
    "        (num_V1_weights/sample_size, 1) shape. Dot product of W and image\n",
    "    \n",
    "    W : array_like\n",
    "        (num_V1_weights, n*m) shape array. Lists of weighted data\n",
    "    \n",
    "    '''\n",
    "    # Get size of image\n",
    "    dim = np.asanyarray(img).shape\n",
    "    n, m = dim\n",
    "    # Store generated V1 cells in W\n",
    "    W = V1_weights(num_cell, dim, cell_size, sparse_freq) \n",
    "    \n",
    "    # Retrieve y from W @ imgArr\n",
    "    y = W @ img.reshape(n*m, 1)\n",
    "\n",
    "    # Resize W to shape (num_cell, height of image, width of image) for fetching into function\n",
    "    W = W.reshape(num_cell, dim[0], dim[1])\n",
    "    return W, y"
   ]
  },
  {
   "cell_type": "markdown",
   "id": "36d2e897",
   "metadata": {},
   "source": [
    "# Error Calculation by Frosbian Norm"
   ]
  },
  {
   "cell_type": "code",
   "execution_count": 4,
   "id": "e590142c",
   "metadata": {},
   "outputs": [],
   "source": [
    "def error_calculation(img_arr, reconst):\n",
    "    n, m = img_arr.shape\n",
    "    error = np.linalg.norm(img_arr - reconst, 'fro') / np.sqrt(cm*cn)\n",
    "    return error"
   ]
  },
  {
   "cell_type": "markdown",
   "id": "889acd42",
   "metadata": {},
   "source": [
    "# Generate Classical Variable"
   ]
  },
  {
   "cell_type": "code",
   "execution_count": 5,
   "id": "83ef0f0f",
   "metadata": {},
   "outputs": [],
   "source": [
    "def generate_classical_variables(img_arr, sample_size) :\n",
    "    n, m = img_arr.shape\n",
    "    sample = np.floor(n * m * sample_size).astype(int)\n",
    "    rand_index = np.random.randint(0, n * m, sample)\n",
    "    y = img_arr.flatten()[rand_index].reshape(sample, 1)\n",
    "    \n",
    "    classical_y = classical_y * np.sqrt(cn * cm)\n",
    "    C = np.eye(cn * cm)[rand_index, :] * np.sqrt(cn * cm)\n",
    "    C3D = C.reshape(classical_samp, cn, cm)\n",
    "    return C3D, y"
   ]
  },
  {
   "cell_type": "markdown",
   "id": "5122b942",
   "metadata": {},
   "source": [
    "# Generate Gaussian Weight"
   ]
  },
  {
   "cell_type": "code",
   "execution_count": 10,
   "id": "ab08a5f2",
   "metadata": {},
   "outputs": [],
   "source": [
    "def gaussian_W(num_cell, img_dim):\n",
    "    n, m = img_dim\n",
    "    W = W = np.random.randn(num_cell, n, m)\n",
    "    return W"
   ]
  },
  {
   "cell_type": "code",
   "execution_count": null,
   "id": "65f6f3d0",
   "metadata": {},
   "outputs": [],
   "source": []
  },
  {
   "cell_type": "markdown",
   "id": "6cf3aecf",
   "metadata": {},
   "source": [
    "# Reconstruction"
   ]
  },
  {
   "cell_type": "code",
   "execution_count": 7,
   "id": "7d468af6",
   "metadata": {},
   "outputs": [],
   "source": [
    "def fourier_based(W, y, alpha, sample_sz, n, m, fit_intercept) :\n",
    "    theta = fft.dctn(W.reshape(sample_sz, n, m), norm = 'ortho', axes = [1, 2])\n",
    "    theta = theta.reshape(sample_sz, n * m)\n",
    "\n",
    "    ## Initialize Lasso and Fit data\n",
    "    mini = Lasso(alpha = alpha, fit_intercept = fit_intercept)\n",
    "    mini.fit(theta, y)\n",
    "\n",
    "    ## Retrieve sparse vector s\n",
    "    s = mini.coef_\n",
    "    reconstruct = fft.idctn(s.reshape(n, m), norm='ortho', axes=[0,1])\n",
    "    return theta, s, reconstruct"
   ]
  },
  {
   "cell_type": "code",
   "execution_count": 8,
   "id": "0edaebcc",
   "metadata": {},
   "outputs": [],
   "source": [
    "def wavelet_based(W, y, alpha, sample_sz, n, m, fit_intercept, dwt_type, lv) :\n",
    "    dwt_sample = wavedecn(W[0], wavelet = dwt_type, level = lv)\n",
    "    coeff, coeff_slices, coeff_shapes = pywt.ravel_coeffs(dwt_sample)\n",
    "    theta = np.zeros((len(W), len(coeff)))\n",
    "    theta[0, :] = coeff \n",
    "\n",
    "    # Loop the wavedecn to fill theta\n",
    "    for i in range(samp):\n",
    "        theta_i = wavedecn(W[i], wavelet= dwt_type, level = lv)\n",
    "        theta[i, :] = pywt.ravel_coeffs(theta_i)[0]\n",
    "\n",
    "    mini = Lasso(alpha = alpha, fit_intercept = False)\n",
    "    mini.fit(theta, y)\n",
    "\n",
    "    s = mini.coef_\n",
    "\n",
    "    s_unravel = pywt.unravel_coeffs(s, coeff_slices, coeff_shapes)\n",
    "    reconstruct = pywt.waverecn(s_unravel, w)\n",
    "    \n",
    "    return theta, s_unravel, reconstruct"
   ]
  },
  {
   "cell_type": "code",
   "execution_count": 9,
   "id": "8e803ffa",
   "metadata": {},
   "outputs": [],
   "source": [
    "def reconstruct(W, y, alpha = None, fit_intercept = False, method = 'dct', lv = 4, dwt_type = 'db2'):\n",
    "    ''' Reconstruct gray-scaled image using sample data fitting into LASSO model\n",
    "    \n",
    "    Parameters\n",
    "    ----------\n",
    "    W : array_like\n",
    "        (num_V1_weights, n*m) shape array. Lists of weighted data\n",
    "        \n",
    "    y : vector\n",
    "        (num_V1_weights/sample_size, 1) shape. Dot product of W and image\n",
    "        \n",
    "    alpha : float\n",
    "        Penalty for fitting data onto LASSO function to search for significant coefficents\n",
    "    \n",
    "    fit_intercept : bool\n",
    "        default set to false to prevent LASSO function to calculate intercept for model\n",
    "    \n",
    "    Returns\n",
    "    ----------\n",
    "    theta : array_like\n",
    "        (num_V1_weights/sample_size, n * m) shape. Data after discrete fourier transform applied \n",
    "    \n",
    "    reformed : array_like\n",
    "        (n, m) shape array. Reconstructed image pixel array\n",
    "        \n",
    "    s : vector\n",
    "        (num_V1_weights/sample_size, 1) shape. Coefficient value generated from fitting data to LASSO. Contains significant values with most of vector zeroed out.\n",
    "    '''\n",
    "    \n",
    "    sample_sz, n, m = W.shape\n",
    "      \n",
    "    if alpha == None :\n",
    "        alpha = 1 * 50 / num_cell\n",
    "        \n",
    "    if fit_intercept:\n",
    "        raise Exception(\"fit_intercept = True not implemented\")\n",
    "    \n",
    "    if (method == 'dct') :\n",
    "        theta, s, reconstruct = fourier_reconstruct(W, y, sample_sz, n, m, fit_intercept)\n",
    "    elif (method == 'dwt') :\n",
    "        theta, s, reconstruct = wavelet_reconstruct(W, y , sample_sz, n, m, fit_intercept, dwt_type, lv)\n",
    "\n",
    "        # Reform the image using sparse vector s with inverse descrete cosine\n",
    "        \n",
    "    if fit_intercept:\n",
    "        reform += mini.intercept_ # not sure this is right\n",
    "    \n",
    "    #return theta, reformed img, sparse vectors\n",
    "    return theta, reconstruct, s"
   ]
  },
  {
   "cell_type": "code",
   "execution_count": null,
   "id": "1cb48908",
   "metadata": {},
   "outputs": [],
   "source": []
  },
  {
   "cell_type": "code",
   "execution_count": null,
   "id": "c97e7480",
   "metadata": {},
   "outputs": [],
   "source": []
  },
  {
   "cell_type": "code",
   "execution_count": null,
   "id": "cc9ea016",
   "metadata": {},
   "outputs": [],
   "source": []
  },
  {
   "cell_type": "code",
   "execution_count": null,
   "id": "eb0e7ff1",
   "metadata": {},
   "outputs": [],
   "source": []
  }
 ],
 "metadata": {
  "kernelspec": {
   "display_name": "Python 3",
   "language": "python",
   "name": "python3"
  },
  "language_info": {
   "codemirror_mode": {
    "name": "ipython",
    "version": 3
   },
   "file_extension": ".py",
   "mimetype": "text/x-python",
   "name": "python",
   "nbconvert_exporter": "python",
   "pygments_lexer": "ipython3",
   "version": "3.8.8"
  }
 },
 "nbformat": 4,
 "nbformat_minor": 5
}
