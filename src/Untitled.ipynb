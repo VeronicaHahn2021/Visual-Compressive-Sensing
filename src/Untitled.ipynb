{
 "cells": [
  {
   "cell_type": "code",
   "execution_count": 1,
   "id": "3b2a7016",
   "metadata": {},
   "outputs": [],
   "source": [
    "from structured_random_features.src.models.weights import V1_weights"
   ]
  },
  {
   "cell_type": "code",
   "execution_count": 26,
   "id": "b0d46de3",
   "metadata": {
    "scrolled": true
   },
   "outputs": [],
   "source": [
    "import numpy as np\n",
    "import numpy.linalg as la\n",
    "import sys\n",
    "import matplotlib.pyplot as plt\n",
    "\n",
    "# from structured_random_features.src.models.weights import V1_weights\n",
    "\n",
    "\n",
    "# Package for importing image representation\n",
    "from PIL import Image, ImageOps\n",
    "\n",
    "from V1_reconst import generate_Y, reconstruct\n",
    "import pandas as pd\n",
    "import itertools\n",
    "import dask\n",
    "from dask.distributed import Client, progress\n",
    "import time\n",
    "import os.path"
   ]
  },
  {
   "cell_type": "code",
   "execution_count": 2,
   "id": "938a2150",
   "metadata": {},
   "outputs": [],
   "source": [
    "def run_sim(rep, alp, num, sz, freq, img_arr):\n",
    "    num = int(num)\n",
    "    img_arr = np.array([img_arr]).squeeze()\n",
    "    dim = img_arr.shape\n",
    "    n, m = dim\n",
    "\n",
    "    # Generate V1 weight with y\n",
    "    W = V1_weights(num, dim, sz, freq) \n",
    "    y = generate_Y(W, img_arr)\n",
    "    W_model = W.reshape(num, n, m)\n",
    "    \n",
    "    # Call function and calculate error\n",
    "    theta, reform, s = compress(W_model, y, alp)\n",
    "    error = np.linalg.norm(img_arr - reform, 'fro') / np.sqrt(m*n)\n",
    "    \n",
    "    return error, theta, reform, s\n",
    "\n",
    "\n",
    "\n"
   ]
  },
  {
   "cell_type": "code",
   "execution_count": null,
   "id": "1c0ebb7f",
   "metadata": {},
   "outputs": [
    {
     "name": "stdout",
     "output_type": "stream",
     "text": [
      "   rep    alp  num_cell  cell_sz  sparse_freq\n",
      "0    0  0.001        50        2            1\n",
      "1    0  0.001        50        2            2\n",
      "2    0  0.001        50        2            5\n",
      "3    0  0.001        50        5            1\n",
      "4    0  0.001        50        5            2\n"
     ]
    },
    {
     "name": "stderr",
     "output_type": "stream",
     "text": [
      "/home/bans/anaconda3/lib/python3.9/site-packages/distributed/node.py:160: UserWarning: Port 8787 is already in use.\n",
      "Perhaps you already have a cluster running?\n",
      "Hosting the HTTP server on port 36837 instead\n",
      "  warnings.warn(\n"
     ]
    },
    {
     "name": "stdout",
     "output_type": "stream",
     "text": [
      "running dask completed\n",
      "futures completed\n",
      "progressing futures\n"
     ]
    },
    {
     "name": "stderr",
     "output_type": "stream",
     "text": [
      "distributed.worker - WARNING - Unmanaged memory use is high. This may indicate a memory leak or the memory may not be released to the OS; see https://distributed.dask.org/en/latest/worker.html#memtrim for more information. -- Unmanaged memory: 2.66 GiB -- Worker memory limit: 3.88 GiB\n",
      "distributed.worker - WARNING - Unmanaged memory use is high. This may indicate a memory leak or the memory may not be released to the OS; see https://distributed.dask.org/en/latest/worker.html#memtrim for more information. -- Unmanaged memory: 2.61 GiB -- Worker memory limit: 3.88 GiB\n",
      "distributed.worker - WARNING - Unmanaged memory use is high. This may indicate a memory leak or the memory may not be released to the OS; see https://distributed.dask.org/en/latest/worker.html#memtrim for more information. -- Unmanaged memory: 2.67 GiB -- Worker memory limit: 3.88 GiB\n",
      "distributed.worker - WARNING - Unmanaged memory use is high. This may indicate a memory leak or the memory may not be released to the OS; see https://distributed.dask.org/en/latest/worker.html#memtrim for more information. -- Unmanaged memory: 2.64 GiB -- Worker memory limit: 3.88 GiB\n"
     ]
    }
   ],
   "source": [
    "# Set up hyperparameters that would affect results\n",
    "# file = sys.argv[1]\n",
    "file = 'tree_part1.jpg'\n",
    "image_path ='../image/{img}'.format(img = file)\n",
    "delay_list = []\n",
    "params = []\n",
    "alpha = np.logspace(-3, 3, 7)\n",
    "rep = np.arange(30)\n",
    "num_cell = [50, 100, 200, 500]\n",
    "cell_sz = [2, 5, 7]\n",
    "sparse_freq = [1, 2, 5]\n",
    "\n",
    "# rep = np.arange(2)\n",
    "# num_cell = [200, 500]\n",
    "# cell_sz = [2, 5]\n",
    "# sparse_freq = [1, 2]\n",
    "\n",
    "\n",
    "image_nm = image_path.split('/')[2].split('.')[0]\n",
    "img = Image.open(image_path)\n",
    "img = ImageOps.grayscale(img)\n",
    "img_arr = np.asarray(img)\n",
    "#plt.imshow(img_arr)\n",
    "#plt.show()\n",
    "save_path = os.path.join(\"../result/{img_nm}/V1\".format(img_nm = image_nm))\n",
    "\n",
    "\n",
    "\n",
    "search_list = [rep, alpha, num_cell, cell_sz, sparse_freq]\n",
    "\n",
    "# All combinations of hyperparameter to try \n",
    "search = list(itertools.product(*search_list))             \n",
    "search_df = pd.DataFrame(search, columns= [ 'rep', 'alp', 'num_cell', 'cell_sz', 'sparse_freq'])\n",
    "print(search_df.head())\n",
    "\n",
    "# Call dask\n",
    "client = Client()\n",
    "\n",
    "# counter = 0; # Keep track of number of iteration. Debugging method\n",
    "for p in search_df.values:\n",
    "    delay = dask.delayed(run_sim)(*p, img_arr)\n",
    "    delay_list.append(delay)\n",
    "\n",
    "print('running dask completed')\n",
    "\n",
    "futures = dask.persist(*delay_list)\n",
    "print('futures completed')\n",
    "progress(futures)\n",
    "print('progressing futures')\n",
    "\n",
    "# Compute the result\n",
    "results = dask.compute(*futures)\n",
    "print('result computed')\n",
    "results_df = pd.DataFrame(results, columns=['error', 'theta', 'reform', 's'])\n",
    "\n",
    "# Add error onto parameter\n",
    "params_result_df = search_df.join(results_df['error'])\n",
    "\n",
    "# save parameter_error data with error_results data\n",
    "params_result_df.to_csv(os.path.join(save_path, \"param_\" + \"_\".join(str.split(time.ctime().replace(\":\", \"_\"))) + \".csv\"))\n",
    "results_df.to_csv(os.path.join(save_path, \"result_\" + \"_\".join(str.split(time.ctime().replace(\":\", \"_\"))) + \".csv\"))\n",
    "print(\"Execution Complete\")"
   ]
  },
  {
   "cell_type": "code",
   "execution_count": null,
   "id": "26c7835b",
   "metadata": {},
   "outputs": [],
   "source": []
  },
  {
   "cell_type": "code",
   "execution_count": 27,
   "id": "6372f26b",
   "metadata": {},
   "outputs": [],
   "source": [
    "import numpy as np\n",
    "\n",
    "# Packages for fft and fitting data\n",
    "from scipy import fftpack as fft\n",
    "from sklearn.linear_model import Lasso\n",
    "\n",
    "# Package for importing image representation\n",
    "from PIL import Image, ImageOps\n",
    "\n",
    "from V1_reconst import reconstruct\n",
    "\n",
    "import pandas as pd\n",
    "import itertools\n",
    "import dask\n",
    "from dask.distributed import Client, progress\n",
    "import time\n",
    "import os.path\n",
    "import sys"
   ]
  },
  {
   "cell_type": "code",
   "execution_count": 35,
   "id": "ea2f0da3",
   "metadata": {},
   "outputs": [],
   "source": [
    "def search(img_arr, img_nm, repetition = None, alpha = None, classical_samp_list = None):\n",
    "    if(repetition == None):\n",
    "        repetition = 20\n",
    "    if(alpha == None):\n",
    "        alpha = np.logspace(-3, 3, 7)\n",
    "    if(classical_samp_list == None):\n",
    "        classical_samp_list = [50, 100, 200, 500]\n",
    "    cn, cm = img_arr.shape\n",
    "    params = []\n",
    "    results = []\n",
    "    \n",
    "    # List to make combination of\n",
    "    search_list = {'repetition': repetition,\n",
    "                   'alpha': alpha,\n",
    "                   'classical_samp_list': classical_samp_list\n",
    "                  }\n",
    "\n",
    "\n",
    "\n",
    "    # Get repetition * alpha combination amount of result\n",
    "    for row in itertools.product(*search_list.values()):\n",
    "        product = dict(zip(search_list.keys(), row))\n",
    "        rep, alp, classical_samp = product.values()\n",
    "        \n",
    "        rand_index = np.random.randint(0, cn * cm, classical_samp)\n",
    "        classical_Y = classical_arr.flatten()[rand_index]\n",
    "        classical_Y = classical_Y.reshape(classical_samp, 1)\n",
    "\n",
    "        # Generate C matrix\n",
    "        C = np.eye(cn * cm)[rand_index, :] * np.sqrt(cn * cm)\n",
    "        C3D = C.reshape(classical_samp, cn, cm)\n",
    "        classical_Y = classical_Y * np.sqrt(cn * cm)\n",
    "        theta, classical_reform, s = reconstruct(C3D, classical_Y, alp)\n",
    "        \n",
    "        error = np.linalg.norm(classical_arr - classical_reform, 'fro') / np.sqrt(cm*cn)\n",
    "        \n",
    "        params.append({'classical_samp' : classical_samp,\n",
    "                       'alpha' : alp,\n",
    "                       'repetition' : rep,\n",
    "                       'error' : error\n",
    "                      })\n",
    "        results.append({'s' : s,\n",
    "                        'theta' : theta,\n",
    "                        'reform' : classical_reform,\n",
    "                       })\n",
    "    save_path = os.path.join('./result/{img}/Classical/'.format(img = img_nm))\n",
    "\n",
    "    classical_param_df = pd.DataFrame(params)\n",
    "    classical_param_df.to_csv(os.path.join(save_path, \"Classical_Param_\" + \"_\".\n",
    "                                           join(str.split(time.ctime().replace(\":\", \"_\"))) + \".csv\"))"
   ]
  },
  {
   "cell_type": "code",
   "execution_count": 36,
   "id": "a3681767",
   "metadata": {},
   "outputs": [
    {
     "ename": "TypeError",
     "evalue": "'int' object is not iterable",
     "output_type": "error",
     "traceback": [
      "\u001b[0;31m---------------------------------------------------------------------------\u001b[0m",
      "\u001b[0;31mTypeError\u001b[0m                                 Traceback (most recent call last)",
      "\u001b[0;32m/tmp/ipykernel_22132/2984202998.py\u001b[0m in \u001b[0;36m<module>\u001b[0;34m\u001b[0m\n\u001b[1;32m      7\u001b[0m \u001b[0mimg_arr\u001b[0m \u001b[0;34m=\u001b[0m \u001b[0mnp\u001b[0m\u001b[0;34m.\u001b[0m\u001b[0masarray\u001b[0m\u001b[0;34m(\u001b[0m\u001b[0mimg\u001b[0m\u001b[0;34m)\u001b[0m\u001b[0;34m\u001b[0m\u001b[0;34m\u001b[0m\u001b[0m\n\u001b[1;32m      8\u001b[0m \u001b[0msave_path\u001b[0m \u001b[0;34m=\u001b[0m \u001b[0mos\u001b[0m\u001b[0;34m.\u001b[0m\u001b[0mpath\u001b[0m\u001b[0;34m.\u001b[0m\u001b[0mjoin\u001b[0m\u001b[0;34m(\u001b[0m\u001b[0;34m\"../result/{img_nm}/V1\"\u001b[0m\u001b[0;34m.\u001b[0m\u001b[0mformat\u001b[0m\u001b[0;34m(\u001b[0m\u001b[0mimg_nm\u001b[0m \u001b[0;34m=\u001b[0m \u001b[0mimage_nm\u001b[0m\u001b[0;34m)\u001b[0m\u001b[0;34m)\u001b[0m\u001b[0;34m\u001b[0m\u001b[0;34m\u001b[0m\u001b[0m\n\u001b[0;32m----> 9\u001b[0;31m \u001b[0msearch\u001b[0m\u001b[0;34m(\u001b[0m\u001b[0mimg_arr\u001b[0m \u001b[0;34m=\u001b[0m \u001b[0mimg_arr\u001b[0m\u001b[0;34m,\u001b[0m \u001b[0mimg_nm\u001b[0m \u001b[0;34m=\u001b[0m \u001b[0mimage_nm\u001b[0m\u001b[0;34m)\u001b[0m\u001b[0;34m\u001b[0m\u001b[0;34m\u001b[0m\u001b[0m\n\u001b[0m\u001b[1;32m     10\u001b[0m \u001b[0mprint\u001b[0m\u001b[0;34m(\u001b[0m\u001b[0;34m'Process Completed'\u001b[0m\u001b[0;34m)\u001b[0m\u001b[0;34m\u001b[0m\u001b[0;34m\u001b[0m\u001b[0m\n\u001b[1;32m     11\u001b[0m \u001b[0;34m\u001b[0m\u001b[0m\n",
      "\u001b[0;32m/tmp/ipykernel_22132/2307231204.py\u001b[0m in \u001b[0;36msearch\u001b[0;34m(img_arr, img_nm, repetition, alpha, classical_samp_list)\u001b[0m\n\u001b[1;32m     19\u001b[0m \u001b[0;34m\u001b[0m\u001b[0m\n\u001b[1;32m     20\u001b[0m     \u001b[0;31m# Get repetition * alpha combination amount of result\u001b[0m\u001b[0;34m\u001b[0m\u001b[0;34m\u001b[0m\u001b[0m\n\u001b[0;32m---> 21\u001b[0;31m     \u001b[0;32mfor\u001b[0m \u001b[0mrow\u001b[0m \u001b[0;32min\u001b[0m \u001b[0mitertools\u001b[0m\u001b[0;34m.\u001b[0m\u001b[0mproduct\u001b[0m\u001b[0;34m(\u001b[0m\u001b[0;34m*\u001b[0m\u001b[0msearch_list\u001b[0m\u001b[0;34m.\u001b[0m\u001b[0mvalues\u001b[0m\u001b[0;34m(\u001b[0m\u001b[0;34m)\u001b[0m\u001b[0;34m)\u001b[0m\u001b[0;34m:\u001b[0m\u001b[0;34m\u001b[0m\u001b[0;34m\u001b[0m\u001b[0m\n\u001b[0m\u001b[1;32m     22\u001b[0m         \u001b[0mproduct\u001b[0m \u001b[0;34m=\u001b[0m \u001b[0mdict\u001b[0m\u001b[0;34m(\u001b[0m\u001b[0mzip\u001b[0m\u001b[0;34m(\u001b[0m\u001b[0msearch_list\u001b[0m\u001b[0;34m.\u001b[0m\u001b[0mkeys\u001b[0m\u001b[0;34m(\u001b[0m\u001b[0;34m)\u001b[0m\u001b[0;34m,\u001b[0m \u001b[0mrow\u001b[0m\u001b[0;34m)\u001b[0m\u001b[0;34m)\u001b[0m\u001b[0;34m\u001b[0m\u001b[0;34m\u001b[0m\u001b[0m\n\u001b[1;32m     23\u001b[0m         \u001b[0mrep\u001b[0m\u001b[0;34m,\u001b[0m \u001b[0malp\u001b[0m\u001b[0;34m,\u001b[0m \u001b[0mclassical_samp\u001b[0m \u001b[0;34m=\u001b[0m \u001b[0mproduct\u001b[0m\u001b[0;34m.\u001b[0m\u001b[0mvalues\u001b[0m\u001b[0;34m(\u001b[0m\u001b[0;34m)\u001b[0m\u001b[0;34m\u001b[0m\u001b[0;34m\u001b[0m\u001b[0m\n",
      "\u001b[0;31mTypeError\u001b[0m: 'int' object is not iterable"
     ]
    }
   ],
   "source": [
    "# file = sys.argv[1]\n",
    "file = 'tree_part1.jpg'\n",
    "image_path ='../image/{img}'.format(img = file)\n",
    "image_nm = image_path.split('/')[2].split('.')[0]\n",
    "img = Image.open(image_path)\n",
    "img = ImageOps.grayscale(img)\n",
    "img_arr = np.asarray(img)\n",
    "save_path = os.path.join(\"../result/{img_nm}/V1\".format(img_nm = image_nm))\n",
    "search(img_arr = img_arr, img_nm = image_nm)\n",
    "print('Process Completed')\n",
    "\n",
    "print('Save Completed. Terminate program')"
   ]
  },
  {
   "cell_type": "code",
   "execution_count": null,
   "id": "4dd20b92",
   "metadata": {},
   "outputs": [],
   "source": []
  },
  {
   "cell_type": "code",
   "execution_count": null,
   "id": "15a43751",
   "metadata": {},
   "outputs": [],
   "source": []
  },
  {
   "cell_type": "code",
   "execution_count": null,
   "id": "d23e6d74",
   "metadata": {},
   "outputs": [],
   "source": []
  }
 ],
 "metadata": {
  "kernelspec": {
   "display_name": "Python 3 (ipykernel)",
   "language": "python",
   "name": "python3"
  },
  "language_info": {
   "codemirror_mode": {
    "name": "ipython",
    "version": 3
   },
   "file_extension": ".py",
   "mimetype": "text/x-python",
   "name": "python",
   "nbconvert_exporter": "python",
   "pygments_lexer": "ipython3",
   "version": "3.9.7"
  }
 },
 "nbformat": 4,
 "nbformat_minor": 5
}
