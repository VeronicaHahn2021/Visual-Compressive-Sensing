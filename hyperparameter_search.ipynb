{
 "cells": [
  {
   "cell_type": "code",
   "execution_count": 1,
   "id": "2472ebcb",
   "metadata": {},
   "outputs": [],
   "source": [
    "import matplotlib.pyplot as plt\n",
    "import numpy as np\n",
    "import numpy.linalg as la\n",
    "\n",
    "from src.structured_random_features.src.models.weights import V1_weights\n",
    "\n",
    "# Packages for fft and fitting data\n",
    "from scipy import fftpack as fft\n",
    "from sklearn.linear_model import Lasso\n",
    "\n",
    "# Package for importing image representation\n",
    "from PIL import Image, ImageOps\n",
    "\n",
    "from src.V1_Compress import generate_Y, compress\n",
    "import pandas as pd\n",
    "import itertools\n",
    "import dask\n",
    "from dask.distributed import Client, progress\n",
    "import seaborn as sns\n",
    "import time\n",
    "import os.path"
   ]
  },
  {
   "cell_type": "code",
   "execution_count": 2,
   "id": "f6f1e2f4",
   "metadata": {},
   "outputs": [],
   "source": [
    "def opt_hyperparams(data): \n",
    "    # Try to use pd group_by to group repetition and get avg\n",
    "    \n",
    "    # Among those average, get the lowest error hyperparam\n",
    "    ordered_data = pd.DataFrame(data).sort_values(by = 'error', ascending = True)\n",
    "    print(ordered_data.head(5))\n",
    "    \n",
    "    return ordered_data.head(1)"
   ]
  },
  {
   "cell_type": "code",
   "execution_count": 3,
   "id": "e082a6a9",
   "metadata": {},
   "outputs": [],
   "source": [
    "def run_sim(rep, alp, num, sz, freq, img_arr):\n",
    "    num = int(num)\n",
    "    img_arr = np.array([img_arr]).squeeze()\n",
    "    dim = img_arr.shape\n",
    "    n, m = dim\n",
    "\n",
    "    # Generate V1 weight with y\n",
    "    W = V1_weights(num, dim, sz, freq) \n",
    "    y = generate_Y(W, img_arr)\n",
    "    W_model = W.reshape(num, n, m)\n",
    "    \n",
    "    # Call function and calculate error\n",
    "    theta, reform, s = compress(W_model, y, alp)\n",
    "    error = np.linalg.norm(img - reform, 'fro') / np.sqrt(m*n)\n",
    "    \n",
    "    return error, theta, reform, s"
   ]
  },
  {
   "cell_type": "code",
   "execution_count": null,
   "id": "337052c8",
   "metadata": {},
   "outputs": [
    {
     "name": "stdout",
     "output_type": "stream",
     "text": [
      "   rep    alp  num_cell  cell_sz  sparse_freq\n",
      "0    0  0.001       100        2            1\n",
      "1    0  0.001       100        2            2\n",
      "2    0  0.001       100        2            5\n",
      "3    0  0.001       100        5            1\n",
      "4    0  0.001       100        5            2\n"
     ]
    },
    {
     "name": "stderr",
     "output_type": "stream",
     "text": [
      "/home/bans/anaconda3/lib/python3.9/site-packages/distributed/node.py:160: UserWarning: Port 8787 is already in use.\n",
      "Perhaps you already have a cluster running?\n",
      "Hosting the HTTP server on port 40601 instead\n",
      "  warnings.warn(\n",
      "distributed.diskutils - INFO - Found stale lock file and directory '/home/bans/Documents/research/dask-worker-space/worker-n_phe0v5', purging\n",
      "distributed.diskutils - INFO - Found stale lock file and directory '/home/bans/Documents/research/dask-worker-space/worker-y5_se46z', purging\n",
      "distributed.diskutils - INFO - Found stale lock file and directory '/home/bans/Documents/research/dask-worker-space/worker-nx9l0vbo', purging\n",
      "distributed.diskutils - INFO - Found stale lock file and directory '/home/bans/Documents/research/dask-worker-space/worker-huinoxe4', purging\n",
      "distributed.diskutils - INFO - Found stale lock file and directory '/home/bans/Documents/research/dask-worker-space/worker-s2cu7eq4', purging\n",
      "distributed.diskutils - INFO - Found stale lock file and directory '/home/bans/Documents/research/dask-worker-space/worker-ogwbiikx', purging\n",
      "distributed.diskutils - INFO - Found stale lock file and directory '/home/bans/Documents/research/dask-worker-space/worker-36h2tfq1', purging\n",
      "distributed.diskutils - INFO - Found stale lock file and directory '/home/bans/Documents/research/dask-worker-space/worker-zkzjc_4y', purging\n"
     ]
    },
    {
     "name": "stdout",
     "output_type": "stream",
     "text": [
      "running dask completed\n",
      "futures completed\n",
      "progressing futures\n"
     ]
    }
   ],
   "source": [
    "#DF version after looking at Desk method\n",
    "\n",
    "# Set up hyperparameters that would affect results\n",
    "delay_list = []\n",
    "params = []\n",
    "# result = []\n",
    "alpha = np.logspace(-3, 3, 7)\n",
    "rep = np.arange(10)\n",
    "num_cell = [100, 200, 500]\n",
    "cell_sz = [2, 5, 7]\n",
    "sparse_freq = [1, 2, 5]\n",
    "\n",
    "# Load Image\n",
    "image_path = 'image/tree_part1.jpg'\n",
    "image_nm = image_path.split('/')[1].split('.')[0]\n",
    "img = Image.open(image_path)\n",
    "img = ImageOps.grayscale(img)\n",
    "img_arr = np.asarray(img)\n",
    "save_path = os.path.join(\"result/{img_nm}\".format(img_nm = image_nm))\n",
    "\n",
    "\n",
    "\n",
    "search_list = [rep, alpha, num_cell, cell_sz, sparse_freq]\n",
    "\n",
    "# All combinations of hyperparameter to try\n",
    "search = list(itertools.product(*search_list))             \n",
    "search_df = pd.DataFrame(search, columns= [ 'rep', 'alp', 'num_cell', 'cell_sz', 'sparse_freq'])\n",
    "print(search_df.head())\n",
    "\n",
    "# Call dask\n",
    "client = Client()\n",
    "client\n",
    "\n",
    "# counter = 0; # Keep track of number of iteration. Debugging method\n",
    "for p in search_df.values:\n",
    "    delay = dask.delayed(run_sim)(*p, img_arr)\n",
    "    delay_list.append(delay)\n",
    "    \n",
    "print('running dask completed')\n",
    "\n",
    "futures = dask.persist(*delay_list)\n",
    "print('futures completed')\n",
    "progress(futures)\n",
    "print('progressing futures')\n",
    "\n",
    "# Compute the result\n",
    "results = dask.compute(*futures)\n",
    "print('result computed')\n",
    "results_df = pd.DataFrame(results, columns=['error', 'theta', 'reform', 's'])\n",
    "\n",
    "# Add error onto parameter\n",
    "params_result_df = search_df.join(results_df['error'])\n",
    "\n",
    "# save parameter_error data with error_results data\n",
    "params_result_df.to_csv(os.path.join(save_path, \"param_\" + \"_\".join(str.split(time.ctime().replace(\":\", \"_\"))) + \".csv\"))\n",
    "results_df.to_csv(os.path.join(save_path, \"result_\" + \"_\".join(str.split(time.ctime().replace(\":\", \"_\"))) + \".csv\"))\n",
    "\n",
    "\n"
   ]
  },
  {
   "cell_type": "code",
   "execution_count": 17,
   "id": "cc1e28bb",
   "metadata": {},
   "outputs": [
    {
     "data": {
      "text/html": [
       "<div>\n",
       "<style scoped>\n",
       "    .dataframe tbody tr th:only-of-type {\n",
       "        vertical-align: middle;\n",
       "    }\n",
       "\n",
       "    .dataframe tbody tr th {\n",
       "        vertical-align: top;\n",
       "    }\n",
       "\n",
       "    .dataframe thead th {\n",
       "        text-align: right;\n",
       "    }\n",
       "</style>\n",
       "<table border=\"1\" class=\"dataframe\">\n",
       "  <thead>\n",
       "    <tr style=\"text-align: right;\">\n",
       "      <th></th>\n",
       "      <th>error</th>\n",
       "      <th>theta</th>\n",
       "      <th>reform</th>\n",
       "      <th>s</th>\n",
       "    </tr>\n",
       "  </thead>\n",
       "  <tbody>\n",
       "    <tr>\n",
       "      <th>0</th>\n",
       "      <td>120.462825</td>\n",
       "      <td>[[1.3314698558103133, 1.4450490146676267, 0.25...</td>\n",
       "      <td>[[214.5524440606901, 421.37164766963167, 68.86...</td>\n",
       "      <td>[4006.5678338553676, 549.7383766153997, 859.24...</td>\n",
       "    </tr>\n",
       "    <tr>\n",
       "      <th>1</th>\n",
       "      <td>1174.880316</td>\n",
       "      <td>[[2.2658501931210258, 2.159015441463411, -0.10...</td>\n",
       "      <td>[[418.31973370410583, 628.6285591126782, -611....</td>\n",
       "      <td>[4427.58524644345, 338.71426137802086, 358.299...</td>\n",
       "    </tr>\n",
       "    <tr>\n",
       "      <th>2</th>\n",
       "      <td>3218.789938</td>\n",
       "      <td>[[-8.056397776508536, -10.914925866409241, -9....</td>\n",
       "      <td>[[1176.5329070761652, 201.77278920080857, -319...</td>\n",
       "      <td>[3627.6932363731135, 625.568655037431, 485.559...</td>\n",
       "    </tr>\n",
       "    <tr>\n",
       "      <th>3</th>\n",
       "      <td>130.523395</td>\n",
       "      <td>[[-1.99959489673949, -1.913904812362233, -0.11...</td>\n",
       "      <td>[[199.00489307999956, 199.4695008695916, 295.7...</td>\n",
       "      <td>[3814.4248700667736, 246.31643509804474, 373.2...</td>\n",
       "    </tr>\n",
       "    <tr>\n",
       "      <th>4</th>\n",
       "      <td>1968.693287</td>\n",
       "      <td>[[-3.165958141351731, 0.02044877171218687, 4.4...</td>\n",
       "      <td>[[96.07424176748549, 369.1576036817019, 83.208...</td>\n",
       "      <td>[4264.176171847444, 254.82562175562234, 621.15...</td>\n",
       "    </tr>\n",
       "    <tr>\n",
       "      <th>...</th>\n",
       "      <td>...</td>\n",
       "      <td>...</td>\n",
       "      <td>...</td>\n",
       "      <td>...</td>\n",
       "    </tr>\n",
       "    <tr>\n",
       "      <th>1885</th>\n",
       "      <td>29.270912</td>\n",
       "      <td>[[-4.493912303133953, 3.166294401211231, 1.970...</td>\n",
       "      <td>[[199.37130161646087, 200.44801128157897, 202....</td>\n",
       "      <td>[3908.755555159066, 329.7636997529017, 478.699...</td>\n",
       "    </tr>\n",
       "    <tr>\n",
       "      <th>1886</th>\n",
       "      <td>29.716334</td>\n",
       "      <td>[[0.4154514135117409, 0.6893957861801724, -2.9...</td>\n",
       "      <td>[[233.55422382725052, 230.97741318161283, 226....</td>\n",
       "      <td>[4008.6603909481546, 344.83701158362015, 514.8...</td>\n",
       "    </tr>\n",
       "    <tr>\n",
       "      <th>1887</th>\n",
       "      <td>41.519969</td>\n",
       "      <td>[[-2.9000191272963067, -1.6099846134944231, 4....</td>\n",
       "      <td>[[169.83444240575696, 169.53310055167825, 168....</td>\n",
       "      <td>[3560.416059777383, 220.3930225906392, 169.506...</td>\n",
       "    </tr>\n",
       "    <tr>\n",
       "      <th>1888</th>\n",
       "      <td>29.674167</td>\n",
       "      <td>[[2.8734925259700486, -2.0652079758592263, -3....</td>\n",
       "      <td>[[218.15129451564832, 216.52314569720008, 213....</td>\n",
       "      <td>[3943.4299242582847, 337.40189053378356, 466.3...</td>\n",
       "    </tr>\n",
       "    <tr>\n",
       "      <th>1889</th>\n",
       "      <td>29.978142</td>\n",
       "      <td>[[11.789851548826421, 6.557871070025527, 4.681...</td>\n",
       "      <td>[[230.204527364965, 227.29077569189283, 221.72...</td>\n",
       "      <td>[4024.224293185688, 359.38692259158665, 544.84...</td>\n",
       "    </tr>\n",
       "  </tbody>\n",
       "</table>\n",
       "<p>1890 rows × 4 columns</p>\n",
       "</div>"
      ],
      "text/plain": [
       "            error                                              theta  \\\n",
       "0      120.462825  [[1.3314698558103133, 1.4450490146676267, 0.25...   \n",
       "1     1174.880316  [[2.2658501931210258, 2.159015441463411, -0.10...   \n",
       "2     3218.789938  [[-8.056397776508536, -10.914925866409241, -9....   \n",
       "3      130.523395  [[-1.99959489673949, -1.913904812362233, -0.11...   \n",
       "4     1968.693287  [[-3.165958141351731, 0.02044877171218687, 4.4...   \n",
       "...           ...                                                ...   \n",
       "1885    29.270912  [[-4.493912303133953, 3.166294401211231, 1.970...   \n",
       "1886    29.716334  [[0.4154514135117409, 0.6893957861801724, -2.9...   \n",
       "1887    41.519969  [[-2.9000191272963067, -1.6099846134944231, 4....   \n",
       "1888    29.674167  [[2.8734925259700486, -2.0652079758592263, -3....   \n",
       "1889    29.978142  [[11.789851548826421, 6.557871070025527, 4.681...   \n",
       "\n",
       "                                                 reform  \\\n",
       "0     [[214.5524440606901, 421.37164766963167, 68.86...   \n",
       "1     [[418.31973370410583, 628.6285591126782, -611....   \n",
       "2     [[1176.5329070761652, 201.77278920080857, -319...   \n",
       "3     [[199.00489307999956, 199.4695008695916, 295.7...   \n",
       "4     [[96.07424176748549, 369.1576036817019, 83.208...   \n",
       "...                                                 ...   \n",
       "1885  [[199.37130161646087, 200.44801128157897, 202....   \n",
       "1886  [[233.55422382725052, 230.97741318161283, 226....   \n",
       "1887  [[169.83444240575696, 169.53310055167825, 168....   \n",
       "1888  [[218.15129451564832, 216.52314569720008, 213....   \n",
       "1889  [[230.204527364965, 227.29077569189283, 221.72...   \n",
       "\n",
       "                                                      s  \n",
       "0     [4006.5678338553676, 549.7383766153997, 859.24...  \n",
       "1     [4427.58524644345, 338.71426137802086, 358.299...  \n",
       "2     [3627.6932363731135, 625.568655037431, 485.559...  \n",
       "3     [3814.4248700667736, 246.31643509804474, 373.2...  \n",
       "4     [4264.176171847444, 254.82562175562234, 621.15...  \n",
       "...                                                 ...  \n",
       "1885  [3908.755555159066, 329.7636997529017, 478.699...  \n",
       "1886  [4008.6603909481546, 344.83701158362015, 514.8...  \n",
       "1887  [3560.416059777383, 220.3930225906392, 169.506...  \n",
       "1888  [3943.4299242582847, 337.40189053378356, 466.3...  \n",
       "1889  [4024.224293185688, 359.38692259158665, 544.84...  \n",
       "\n",
       "[1890 rows x 4 columns]"
      ]
     },
     "execution_count": 17,
     "metadata": {},
     "output_type": "execute_result"
    }
   ],
   "source": [
    "results_df = pd.DataFrame(results, columns=['error', 'theta', 'reform', 's'])\n",
    "results_df"
   ]
  },
  {
   "cell_type": "code",
   "execution_count": 20,
   "id": "6a79fa48",
   "metadata": {
    "scrolled": true
   },
   "outputs": [
    {
     "name": "stdout",
     "output_type": "stream",
     "text": [
      "      rep   alp  num_cell  cell_sz  sparse_freq      error\n",
      "808     4  0.01       500        7            2  12.431534\n",
      "52      0  0.01       500        7            2  12.445648\n",
      "1018    5  0.10       500        2            2  12.492383\n",
      "1750    9  0.01       500        5            2  12.547963\n",
      "1564    8  0.01       500        7            2  12.556109\n"
     ]
    },
    {
     "data": {
      "text/html": [
       "<div>\n",
       "<style scoped>\n",
       "    .dataframe tbody tr th:only-of-type {\n",
       "        vertical-align: middle;\n",
       "    }\n",
       "\n",
       "    .dataframe tbody tr th {\n",
       "        vertical-align: top;\n",
       "    }\n",
       "\n",
       "    .dataframe thead th {\n",
       "        text-align: right;\n",
       "    }\n",
       "</style>\n",
       "<table border=\"1\" class=\"dataframe\">\n",
       "  <thead>\n",
       "    <tr style=\"text-align: right;\">\n",
       "      <th></th>\n",
       "      <th>rep</th>\n",
       "      <th>alp</th>\n",
       "      <th>num_cell</th>\n",
       "      <th>cell_sz</th>\n",
       "      <th>sparse_freq</th>\n",
       "      <th>error</th>\n",
       "    </tr>\n",
       "  </thead>\n",
       "  <tbody>\n",
       "    <tr>\n",
       "      <th>808</th>\n",
       "      <td>4</td>\n",
       "      <td>0.01</td>\n",
       "      <td>500</td>\n",
       "      <td>7</td>\n",
       "      <td>2</td>\n",
       "      <td>12.431534</td>\n",
       "    </tr>\n",
       "  </tbody>\n",
       "</table>\n",
       "</div>"
      ],
      "text/plain": [
       "     rep   alp  num_cell  cell_sz  sparse_freq      error\n",
       "808    4  0.01       500        7            2  12.431534"
      ]
     },
     "execution_count": 20,
     "metadata": {},
     "output_type": "execute_result"
    }
   ],
   "source": [
    "temp = search_df.join(results_df['error'])\n",
    "opt_hyperparams(temp)"
   ]
  },
  {
   "cell_type": "code",
   "execution_count": 21,
   "id": "034ac4e8",
   "metadata": {},
   "outputs": [],
   "source": [
    "image_path = 'image/tree_part1.jpg'"
   ]
  },
  {
   "cell_type": "code",
   "execution_count": 40,
   "id": "9d0dcefb",
   "metadata": {},
   "outputs": [],
   "source": [
    "img_nm = image_path.split('/')[1].split('.')[0]"
   ]
  },
  {
   "cell_type": "code",
   "execution_count": 41,
   "id": "712ebb62",
   "metadata": {},
   "outputs": [
    {
     "data": {
      "text/plain": [
       "'image/tree_part1'"
      ]
     },
     "execution_count": 41,
     "metadata": {},
     "output_type": "execute_result"
    }
   ],
   "source": []
  },
  {
   "cell_type": "code",
   "execution_count": 38,
   "id": "db8f374a",
   "metadata": {},
   "outputs": [
    {
     "data": {
      "text/plain": [
       "'image/tree_part1.jpg'"
      ]
     },
     "execution_count": 38,
     "metadata": {},
     "output_type": "execute_result"
    }
   ],
   "source": [
    "image_nm"
   ]
  },
  {
   "cell_type": "code",
   "execution_count": null,
   "id": "51ca212d",
   "metadata": {},
   "outputs": [],
   "source": []
  }
 ],
 "metadata": {
  "kernelspec": {
   "display_name": "Python 3 (ipykernel)",
   "language": "python",
   "name": "python3"
  },
  "language_info": {
   "codemirror_mode": {
    "name": "ipython",
    "version": 3
   },
   "file_extension": ".py",
   "mimetype": "text/x-python",
   "name": "python",
   "nbconvert_exporter": "python",
   "pygments_lexer": "ipython3",
   "version": "3.9.7"
  }
 },
 "nbformat": 4,
 "nbformat_minor": 5
}
