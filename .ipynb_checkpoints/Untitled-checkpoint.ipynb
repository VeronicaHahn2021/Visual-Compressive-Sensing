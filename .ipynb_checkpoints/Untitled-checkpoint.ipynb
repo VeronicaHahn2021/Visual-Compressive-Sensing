{
 "cells": [
  {
   "cell_type": "code",
   "execution_count": 12,
   "id": "c78e5025",
   "metadata": {},
   "outputs": [],
   "source": [
    "import os\n",
    "import sys\n",
    "# sys.path.append('./experiment')"
   ]
  },
  {
   "cell_type": "code",
   "execution_count": 19,
   "id": "3bb616ca",
   "metadata": {},
   "outputs": [
    {
     "name": "stdout",
     "output_type": "stream",
     "text": [
      "All input required. If you want it as basic, put '-n'. Current input number: 29\n",
      "Usage\n",
      "        arg[1] = img_name ex)tree_part1.jpg\n",
      "        arg[2] = observation_type ex)classical, V1, gaussian\n",
      "        arg[3] = alpha_list ex) [0.001, 0.01, 0.1]\n",
      "        arg[4] = num_cell list ex) [50, 100, 200, 500]\n",
      "        arg[5] = cell_size list ex) [1, 2, 4, 8, 10]\n",
      "        arg[6] = sparse_freq ex) [1, 2, 4, 8, 10]\n",
      "        \n"
     ]
    },
    {
     "data": {
      "text/plain": [
       "0"
      ]
     },
     "execution_count": 19,
     "metadata": {},
     "output_type": "execute_result"
    }
   ],
   "source": [
    "#Hyperparameter Values\n",
    "img=\"tree_part1.jpg\"\n",
    "observation=\"pixel\"\n",
    "alpha=\"-n\"\n",
    "num_cell = [50, 100, 200, 300, 500]\n",
    "cell_size = [1, 2, 3, 4, 5, 6, 7, 8, 9, 10]\n",
    "sparse_freq = [1, 2, 3, 4, 5, 6, 7, 8, 9, 10]\n",
    "\n",
    "## For wavelet variable\n",
    "lv='[1, 2, 4, 6]'\n",
    "dwt_type='[harr, db1, db2]'\n",
    "\n",
    "# Call python script\n",
    "# os.chdir(os.path.join(os.getcwd(), './experiment'))\n",
    "os.system('python3 dct_hyperparam_sweep_test.py {img} {observation} {alpha} {num_cell} {cell_size} {sparse_freq}'.format(img = img, observation = observation, alpha = alpha, num_cell = num_cell, cell_size = cell_size, sparse_freq = sparse_freq))\n",
    "# python3 "
   ]
  },
  {
   "cell_type": "code",
   "execution_count": null,
   "id": "e58d6d8c",
   "metadata": {},
   "outputs": [],
   "source": []
  }
 ],
 "metadata": {
  "kernelspec": {
   "display_name": "Python 3 (ipykernel)",
   "language": "python",
   "name": "python3"
  },
  "language_info": {
   "codemirror_mode": {
    "name": "ipython",
    "version": 3
   },
   "file_extension": ".py",
   "mimetype": "text/x-python",
   "name": "python",
   "nbconvert_exporter": "python",
   "pygments_lexer": "ipython3",
   "version": "3.9.7"
  }
 },
 "nbformat": 4,
 "nbformat_minor": 5
}
