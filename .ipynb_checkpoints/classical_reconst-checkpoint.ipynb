{
 "cells": [
  {
   "cell_type": "code",
   "execution_count": 2,
   "id": "947d18b5",
   "metadata": {},
   "outputs": [],
   "source": [
    "import numpy as np\n",
    "\n",
    "# Packages for fft and fitting data\n",
    "from scipy import fftpack as fft\n",
    "from sklearn.linear_model import Lasso\n",
    "\n",
    "# Package for importing image representation\n",
    "from PIL import Image, ImageOps\n",
    "import matplotlib.pyplot as plt\n",
    "\n",
    "from src.V1_reconst import reconstruct"
   ]
  },
  {
   "cell_type": "code",
   "execution_count": 1,
   "id": "ef32de46",
   "metadata": {},
   "outputs": [
    {
     "ename": "NameError",
     "evalue": "name 'plt' is not defined",
     "output_type": "error",
     "traceback": [
      "\u001b[0;31m---------------------------------------------------------------------------\u001b[0m",
      "\u001b[0;31mNameError\u001b[0m                                 Traceback (most recent call last)",
      "\u001b[0;32m/tmp/ipykernel_7464/2748831707.py\u001b[0m in \u001b[0;36m<module>\u001b[0;34m\u001b[0m\n\u001b[1;32m      4\u001b[0m \u001b[0;34m\u001b[0m\u001b[0m\n\u001b[1;32m      5\u001b[0m \u001b[0;31m# Read Image in GrayScale and show grayscale image\u001b[0m\u001b[0;34m\u001b[0m\u001b[0;34m\u001b[0m\u001b[0m\n\u001b[0;32m----> 6\u001b[0;31m \u001b[0mplt\u001b[0m\u001b[0;34m.\u001b[0m\u001b[0mfigure\u001b[0m\u001b[0;34m(\u001b[0m\u001b[0mdpi\u001b[0m \u001b[0;34m=\u001b[0m \u001b[0;36m400\u001b[0m\u001b[0;34m)\u001b[0m\u001b[0;34m\u001b[0m\u001b[0;34m\u001b[0m\u001b[0m\n\u001b[0m\u001b[1;32m      7\u001b[0m \u001b[0mimg\u001b[0m \u001b[0;34m=\u001b[0m \u001b[0mImage\u001b[0m\u001b[0;34m.\u001b[0m\u001b[0mopen\u001b[0m\u001b[0;34m(\u001b[0m\u001b[0mimage_path\u001b[0m\u001b[0;34m)\u001b[0m\u001b[0;34m\u001b[0m\u001b[0;34m\u001b[0m\u001b[0m\n\u001b[1;32m      8\u001b[0m \u001b[0mimg\u001b[0m \u001b[0;34m=\u001b[0m \u001b[0mImageOps\u001b[0m\u001b[0;34m.\u001b[0m\u001b[0mgrayscale\u001b[0m\u001b[0;34m(\u001b[0m\u001b[0mimg\u001b[0m\u001b[0;34m)\u001b[0m\u001b[0;34m\u001b[0m\u001b[0;34m\u001b[0m\u001b[0m\n",
      "\u001b[0;31mNameError\u001b[0m: name 'plt' is not defined"
     ]
    }
   ],
   "source": [
    "file = 'cliff.jpg'\n",
    "image_path = 'image/{image}'.format(image = file)\n",
    "image_nm = file.split('.')[0]\n",
    "\n",
    "# Read Image in GrayScale and show grayscale image\n",
    "plt.figure(dpi = 400)\n",
    "img = Image.open(image_path)\n",
    "img = ImageOps.grayscale(img)\n",
    "img_arr = np.asarray(img)\n",
    "plt.imshow(img_arr, 'gray')\n",
    "plt.title(\"Original Image\")\n",
    "plt.axis('off')\n",
    "# plt.savefig(\"grayscaled_original_image.png\", dpi = 400)\n",
    "plt.show()"
   ]
  },
  {
   "cell_type": "markdown",
   "id": "e1d7c883",
   "metadata": {},
   "source": [
    "## For one Comparison"
   ]
  },
  {
   "cell_type": "code",
   "execution_count": 20,
   "id": "4cdd745d",
   "metadata": {},
   "outputs": [
    {
     "name": "stdout",
     "output_type": "stream",
     "text": [
      "27.123913497298524\n"
     ]
    },
    {
     "data": {
      "image/png": "[encoded data removed]",
      "text/plain": [
       "<Figure size 432x288 with 1 Axes>"
      ]
     },
     "metadata": {
      "needs_background": "light"
     },
     "output_type": "display_data"
    }
   ],
   "source": [
    "# Genrate y\n",
    "cn, cm = img_arr.shape\n",
    "classical_samp = np.floor(cn * cm * 0.5).astype(int)\n",
    "rand_index = np.random.randint(0, cn * cm, classical_samp)\n",
    "classical_y = img_arr.flatten()[rand_index].reshape(classical_samp, 1)\n",
    "alpha = 0.09\n",
    "# Generate C matrix\n",
    "classical_y = classical_y * np.sqrt(cn * cm)\n",
    "C = np.eye(cn * cm)[rand_index, :] * np.sqrt(cn * cm)\n",
    "C3D = C.reshape(classical_samp, cn, cm)\n",
    "theta, classical_reconst, s = reconstruct(C3D, classical_y, alpha)\n",
    "\n",
    "error = np.linalg.norm(img_arr - classical_reconst, 'fro') / np.sqrt(cm*cn)\n",
    "print(error)\n",
    "plt.imshow(classical_reconst, 'gray')\n",
    "plt.title(\"$\\\\alpha = {alp}$\".format(alp = alpha))\n",
    "plt.axis('off')\n",
    "plt.clim(0, 255)\n",
    "plt.show()"
   ]
  },
  {
   "cell_type": "code",
   "execution_count": 4,
   "id": "1cc42a17",
   "metadata": {},
   "outputs": [
    {
     "data": {
      "text/plain": [
       "array([[ 67.0229965 ,  69.67050204,  64.06247004, ..., 137.82179466,\n",
       "        137.12804412, 134.21345912],\n",
       "       [ 66.89527341,  67.07324734,  59.54223465, ..., 135.01512118,\n",
       "        133.56011127, 138.42395365],\n",
       "       [ 62.61069252,  64.33771648,  65.12868639, ..., 137.70956878,\n",
       "        130.50987388, 126.24432379],\n",
       "       ...,\n",
       "       [ 81.4319411 ,  75.32217027,  80.39194011, ..., 128.93942212,\n",
       "        135.08267145, 146.9869355 ],\n",
       "       [ 88.91880212,  82.14108796,  76.29142829, ..., 137.92288494,\n",
       "        139.12922222, 152.75678659],\n",
       "       [ 89.86067238,  80.96079617,  77.05266796, ..., 140.46601467,\n",
       "        148.45542161, 157.69815274]])"
      ]
     },
     "execution_count": 4,
     "metadata": {},
     "output_type": "execute_result"
    }
   ],
   "source": [
    "classical_reconst"
   ]
  },
  {
   "cell_type": "code",
   "execution_count": null,
   "id": "6c0141a2",
   "metadata": {},
   "outputs": [],
   "source": []
  },
  {
   "cell_type": "code",
   "execution_count": null,
   "id": "0b3fdfb1",
   "metadata": {},
   "outputs": [],
   "source": []
  },
  {
   "cell_type": "code",
   "execution_count": null,
   "id": "6dae945b",
   "metadata": {},
   "outputs": [],
   "source": []
  },
  {
   "cell_type": "code",
   "execution_count": null,
   "id": "ad58879f",
   "metadata": {},
   "outputs": [],
   "source": []
  },
  {
   "cell_type": "code",
   "execution_count": null,
   "id": "7c6ee872",
   "metadata": {},
   "outputs": [],
   "source": []
  },
  {
   "cell_type": "code",
   "execution_count": null,
   "id": "25188457",
   "metadata": {},
   "outputs": [],
   "source": []
  },
  {
   "cell_type": "code",
   "execution_count": null,
   "id": "4140e955",
   "metadata": {},
   "outputs": [],
   "source": []
  },
  {
   "cell_type": "code",
   "execution_count": null,
   "id": "1cdd9eb6",
   "metadata": {},
   "outputs": [],
   "source": []
  },
  {
   "cell_type": "code",
   "execution_count": null,
   "id": "4929ac89",
   "metadata": {},
   "outputs": [],
   "source": []
  },
  {
   "cell_type": "code",
   "execution_count": null,
   "id": "beeb3d45",
   "metadata": {},
   "outputs": [],
   "source": []
  },
  {
   "cell_type": "code",
   "execution_count": null,
   "id": "40685b70",
   "metadata": {},
   "outputs": [],
   "source": []
  },
  {
   "cell_type": "code",
   "execution_count": null,
   "id": "d9013341",
   "metadata": {},
   "outputs": [],
   "source": []
  },
  {
   "cell_type": "markdown",
   "id": "d46edad5",
   "metadata": {},
   "source": [
    "## For multiple Comparison"
   ]
  },
  {
   "cell_type": "code",
   "execution_count": 12,
   "id": "be1f38b2",
   "metadata": {
    "scrolled": false
   },
   "outputs": [
    {
     "name": "stdout",
     "output_type": "stream",
     "text": [
      "39.96343857615001\n"
     ]
    },
    {
     "data": {
      "image/png": "[encoded data removed]",
      "text/plain": [
       "<Figure size 432x288 with 1 Axes>"
      ]
     },
     "metadata": {
      "needs_background": "light"
     },
     "output_type": "display_data"
    },
    {
     "name": "stdout",
     "output_type": "stream",
     "text": [
      "39.86400088685482\n"
     ]
    },
    {
     "data": {
      "image/png": "[encoded data removed]",
      "text/plain": [
       "<Figure size 432x288 with 1 Axes>"
      ]
     },
     "metadata": {
      "needs_background": "light"
     },
     "output_type": "display_data"
    },
    {
     "name": "stdout",
     "output_type": "stream",
     "text": [
      "29.93152150455534\n"
     ]
    },
    {
     "data": {
      "image/png": "[encoded data removed]",
      "text/plain": [
       "<Figure size 432x288 with 1 Axes>"
      ]
     },
     "metadata": {
      "needs_background": "light"
     },
     "output_type": "display_data"
    },
    {
     "name": "stdout",
     "output_type": "stream",
     "text": [
      "33.91825121962993\n"
     ]
    },
    {
     "data": {
      "image/png": "[encoded data removed]",
      "text/plain": [
       "<Figure size 432x288 with 1 Axes>"
      ]
     },
     "metadata": {
      "needs_background": "light"
     },
     "output_type": "display_data"
    },
    {
     "name": "stdout",
     "output_type": "stream",
     "text": [
      "33.15012670523657\n"
     ]
    },
    {
     "data": {
      "image/png": "[encoded data removed]",
      "text/plain": [
       "<Figure size 432x288 with 1 Axes>"
      ]
     },
     "metadata": {
      "needs_background": "light"
     },
     "output_type": "display_data"
    },
    {
     "name": "stdout",
     "output_type": "stream",
     "text": [
      "39.55202191357993\n"
     ]
    },
    {
     "data": {
      "image/png": "[encoded data removed]",
      "text/plain": [
       "<Figure size 432x288 with 1 Axes>"
      ]
     },
     "metadata": {
      "needs_background": "light"
     },
     "output_type": "display_data"
    }
   ],
   "source": [
    "# Genrate \n",
    "cn, cm = img_arr.shape\n",
    "classical_samp = np.floor(cn * cm * 0.2).astype(int)\n",
    "rand_index = np.random.randint(0, cn * cm, classical_samp)\n",
    "classical_y = img_arr.flatten()[rand_index].reshape(classical_samp, 1)\n",
    "alpha_list = [0.003, 0.03, 0.3, 3, 30, 300]\n",
    "# Generate C matrix\n",
    "classical_y = classical_y * np.sqrt(cn * cm)\n",
    "C = np.eye(cn * cm)[rand_index, :] * np.sqrt(cn * cm)\n",
    "C3D = C.reshape(classical_samp, cn, cm)\n",
    "\n",
    "for alpha in alpha_list:\n",
    "    theta, classical_reconst, s = reconstruct(C3D, classical_y, alpha)\n",
    "\n",
    "    error = np.linalg.norm(img_arr - classical_reconst, 'fro') / np.sqrt(cm*cn)\n",
    "    print(error)\n",
    "    \n",
    "    title = '{image} image reconstruction with alpha {alp}.png'.format(image = image_nm,\n",
    "                                                                       alp = alpha).replace(' ', '_')\n",
    "    plt.imshow(classical_reconst, 'gray')\n",
    "    plt.title(\"reconst. Image at alpha of {alp}\".format(alp = alpha))\n",
    "    plt.axis('off')\n",
    "    plt.savefig(title)\n",
    "    plt.show()"
   ]
  },
  {
   "cell_type": "code",
   "execution_count": 11,
   "id": "bdf78eb4",
   "metadata": {},
   "outputs": [
    {
     "data": {
      "text/plain": [
       "'tree_part1_image_reconstruction_with_alpha_3.png'"
      ]
     },
     "execution_count": 11,
     "metadata": {},
     "output_type": "execute_result"
    }
   ],
   "source": [
    "alpha = 3\n",
    "'{image} image reconstruction with alpha {alp}.png'.format(image = image_nm,\n",
    "                                                                       alp = alpha).replace(' ', '_')"
   ]
  },
  {
   "cell_type": "code",
   "execution_count": 27,
   "id": "e31bb0b0",
   "metadata": {},
   "outputs": [
    {
     "data": {
      "text/plain": [
       "array([[0.37596825, 0.37596825, 0.37596825, ..., 0.37596825, 0.37596825,\n",
       "        0.37596825],\n",
       "       [0.37596825, 0.37596825, 0.37596825, ..., 0.37596825, 0.37596825,\n",
       "        0.37596825],\n",
       "       [0.37596825, 0.37596825, 0.37596825, ..., 0.37596825, 0.37596825,\n",
       "        0.37596825],\n",
       "       ...,\n",
       "       [0.37596825, 0.37596825, 0.37596825, ..., 0.37596825, 0.37596825,\n",
       "        0.37596825],\n",
       "       [0.37596825, 0.37596825, 0.37596825, ..., 0.37596825, 0.37596825,\n",
       "        0.37596825],\n",
       "       [0.37596825, 0.37596825, 0.37596825, ..., 0.37596825, 0.37596825,\n",
       "        0.37596825]])"
      ]
     },
     "execution_count": 27,
     "metadata": {},
     "output_type": "execute_result"
    }
   ],
   "source": [
    "classical_reconst"
   ]
  },
  {
   "cell_type": "code",
   "execution_count": null,
   "id": "15846f49",
   "metadata": {},
   "outputs": [],
   "source": []
  }
 ],
 "metadata": {
  "kernelspec": {
   "display_name": "Python 3 (ipykernel)",
   "language": "python",
   "name": "python3"
  },
  "language_info": {
   "codemirror_mode": {
    "name": "ipython",
    "version": 3
   },
   "file_extension": ".py",
   "mimetype": "text/x-python",
   "name": "python",
   "nbconvert_exporter": "python",
   "pygments_lexer": "ipython3",
   "version": "3.9.7"
  }
 },
 "nbformat": 4,
 "nbformat_minor": 5
}
