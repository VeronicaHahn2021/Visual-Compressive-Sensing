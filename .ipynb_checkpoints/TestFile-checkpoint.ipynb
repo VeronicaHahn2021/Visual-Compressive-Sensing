{
 "cells": [
  {
   "cell_type": "code",
   "execution_count": 1,
   "id": "326591af",
   "metadata": {},
   "outputs": [],
   "source": [
    "import matplotlib.pyplot as plt\n",
    "import numpy as np\n",
    "import numpy.linalg as la\n",
    "\n",
    "from src.structured_random_features.src.models.weights import V1_weights\n",
    "\n",
    "# Packages for fft and fitting data\n",
    "from scipy import fftpack as fft\n",
    "from sklearn.linear_model import Lasso\n",
    "\n",
    "# Package for importing image representation\n",
    "from PIL import Image, ImageOps\n",
    "\n",
    "from src.V1_Compress import generate_Y, compress\n",
    "import pandas as pd\n",
    "import itertools\n",
    "import dask\n",
    "from dask.distributed import Client, progress"
   ]
  },
  {
   "cell_type": "code",
   "execution_count": 2,
   "id": "d98f0e5d",
   "metadata": {},
   "outputs": [],
   "source": [
    "def opt_hyperparams(data): \n",
    "    # Try to use pd group_by to group repetition and get avg\n",
    "    \n",
    "    # Among those average, get the lowest error hyperparam\n",
    "    \n",
    "    return pd.DataFrame(data).sort_values(by = 'error', ascending = True).head(1)"
   ]
  },
  {
   "cell_type": "code",
   "execution_count": 3,
   "id": "8e9fef49",
   "metadata": {},
   "outputs": [
    {
     "ename": "NameError",
     "evalue": "name 'img_arr' is not defined",
     "output_type": "error",
     "traceback": [
      "\u001b[0;31m---------------------------------------------------------------------------\u001b[0m",
      "\u001b[0;31mNameError\u001b[0m                                 Traceback (most recent call last)",
      "\u001b[0;32m/tmp/ipykernel_2172/3186818875.py\u001b[0m in \u001b[0;36m<module>\u001b[0;34m\u001b[0m\n\u001b[0;32m----> 1\u001b[0;31m \u001b[0;32mdef\u001b[0m \u001b[0mrun_sim\u001b[0m\u001b[0;34m(\u001b[0m\u001b[0mrep\u001b[0m\u001b[0;34m,\u001b[0m \u001b[0malpha\u001b[0m\u001b[0;34m,\u001b[0m \u001b[0mnum\u001b[0m\u001b[0;34m,\u001b[0m \u001b[0msz\u001b[0m\u001b[0;34m,\u001b[0m \u001b[0mfreq\u001b[0m\u001b[0;34m,\u001b[0m \u001b[0mimg_arr\u001b[0m \u001b[0;34m=\u001b[0m \u001b[0mimg_arr\u001b[0m\u001b[0;34m)\u001b[0m\u001b[0;34m:\u001b[0m\u001b[0;34m\u001b[0m\u001b[0;34m\u001b[0m\u001b[0m\n\u001b[0m\u001b[1;32m      2\u001b[0m     \u001b[0mimg_arr\u001b[0m \u001b[0;34m=\u001b[0m \u001b[0mnp\u001b[0m\u001b[0;34m.\u001b[0m\u001b[0marray\u001b[0m\u001b[0;34m(\u001b[0m\u001b[0;34m[\u001b[0m\u001b[0mimg_arr\u001b[0m\u001b[0;34m]\u001b[0m\u001b[0;34m)\u001b[0m\u001b[0;34m.\u001b[0m\u001b[0msqueeze\u001b[0m\u001b[0;34m(\u001b[0m\u001b[0;34m)\u001b[0m\u001b[0;34m\u001b[0m\u001b[0;34m\u001b[0m\u001b[0m\n\u001b[1;32m      3\u001b[0m     \u001b[0mdim\u001b[0m \u001b[0;34m=\u001b[0m \u001b[0mimg_arr\u001b[0m\u001b[0;34m.\u001b[0m\u001b[0mshape\u001b[0m\u001b[0;34m\u001b[0m\u001b[0;34m\u001b[0m\u001b[0m\n\u001b[1;32m      4\u001b[0m     \u001b[0mn\u001b[0m\u001b[0;34m,\u001b[0m \u001b[0mm\u001b[0m \u001b[0;34m=\u001b[0m \u001b[0mdim\u001b[0m\u001b[0;34m\u001b[0m\u001b[0;34m\u001b[0m\u001b[0m\n\u001b[1;32m      5\u001b[0m \u001b[0;34m\u001b[0m\u001b[0m\n",
      "\u001b[0;31mNameError\u001b[0m: name 'img_arr' is not defined"
     ]
    }
   ],
   "source": [
    "# def run_sim(rep, alpha, num, sz, freq, img_arr = img_arr):\n",
    "#     img_arr = np.array([img_arr]).squeeze()\n",
    "#     dim = img_arr.shape\n",
    "#     n, m = dim\n",
    "\n",
    "#     # Generate V1 weight with y\n",
    "#     W = V1_weights(num, dim, sz, freq) \n",
    "#     y = generate_Y(W, img_arr)\n",
    "#     W_model = W.reshape(num, n, m)\n",
    "    \n",
    "#     # Call function and calculate error\n",
    "#     theta, reform, s = compress(W_model, y, alp)\n",
    "#     error = np.linalg.norm(img - reform, 'fro') / np.sqrt(m*n)\n",
    "    \n",
    "#     return error, theta, reform, s"
   ]
  },
  {
   "cell_type": "code",
   "execution_count": 42,
   "id": "c5e10578",
   "metadata": {
    "scrolled": false
   },
   "outputs": [],
   "source": [
    "# #DF version after looking at Desk method\n",
    "\n",
    "# # Set up hyperparameters that would affect results\n",
    "# param = []\n",
    "# params = []\n",
    "# # result = []\n",
    "# alpha = np.logspace(-3, 3, 7)\n",
    "# rep = np.arange(10)\n",
    "# num_cell = [100, 200, 500]\n",
    "# cell_sz = [2, 5, 7]\n",
    "# sparse_freq = [1, 2, 5]\n",
    "\n",
    "# # Load Image\n",
    "# image_nm = 'image/tree_part1.jpg'\n",
    "# img = Image.open(image_nm)\n",
    "# img = ImageOps.grayscale(img)\n",
    "# img_arr = np.asarray(img)\n",
    "\n",
    "\n",
    "\n",
    "# search_list = [rep, alpha, num_cell, cell_sz, sparse_freq]\n",
    "# search = list(itertools.product(*search_list))             \n",
    "# search_df = pd.DataFrame(search, columns= [ 'rep', 'alp', 'num_cell', 'cell_sz', 'sparse_freq'])\n",
    "# print(search_df.head())\n",
    "\n",
    "# # Call dask\n",
    "# client = Client()\n",
    "# client\n",
    "\n",
    "# # counter = 0; # Keep track of number of iteration. Debugging method\n",
    "# for p in search_df.values:\n",
    "#     param = dask.delayed(run_sim)(*p)\n",
    "#     params.append(param)\n",
    "# #     counter+=1\n",
    "# #     print(\"iteration: \", counter)\n",
    "    \n",
    "# futures = dask.persist(*params)\n",
    "# progress(futures)\n",
    "\n",
    "# # print(\"Before computing the process\")\n",
    "# # results = dask.compute(*process)\n",
    "# # print(\"Computing over\")\n",
    "# # results = pd.DataFrame(results, columns = ['error', 'theta', 'reform', 's'])\n",
    "# # print(\"results DataFramed\")\n",
    "\n",
    "\n",
    "\n",
    "# # Load V1 weight\n",
    "# # dim = img_arr.shape\n",
    "# # n, m = dim\n",
    "\n",
    "# # # use itertool to reduce amount of for loops\n",
    "# # for row in itertools.product(*search_list.values()):\n",
    "# #     product = dict(zip(search_list.keys(), row))\n",
    "# #     epo, alp, num, sz, freq = product.values()\n",
    "# #     W = V1_weights(num, dim, sz, freq) \n",
    "# #     y = generate_Y(W, img_arr)\n",
    "# #     W_model = W.reshape(num, n, m)\n",
    "    \n",
    "# #     theta, reform, s = compress(W_model, y, alp)\n",
    "# #     error = np.linalg.norm(img - reform, 'fro') / np.sqrt(m*n)\n",
    "    \n",
    "# #     params.append({'repetition' : rep,\n",
    "# #                    'num_cell' : num,\n",
    "# #                    'cell_size' : sz,\n",
    "# #                    'sparse_freq' : freq,\n",
    "# #                    'alpha': alp,\n",
    "# #                    'error' : error\n",
    "# #                   })\n",
    "# # opt_param = opt_hyperparams(params)"
   ]
  },
  {
   "cell_type": "code",
   "execution_count": null,
   "id": "626aaa57",
   "metadata": {},
   "outputs": [],
   "source": [
    "# This works but other ways does not work at all for no reason\n",
    "\n",
    "params = []\n",
    "reformed = []\n",
    "alpha = np.logspace(-3, 3, 7)\n",
    "rep = np.arange(10)\n",
    "\n",
    "# Load Image\n",
    "image_nm = 'image/tree_part1.jpg'\n",
    "img = Image.open(image_nm)\n",
    "img = ImageOps.grayscale(img)\n",
    "img_arr = np.asarray(img)\n",
    "\n",
    "\n",
    "# Load V1 weight\n",
    "search_list = {'repetition': rep,\n",
    "               'alpha': alpha,\n",
    "               'num_cell': [100, 200, 500],\n",
    "               'cell_sz': [2, 5, 7],\n",
    "               'sparse_freq': [1, 2, 5]\n",
    "              }\n",
    "# num_cell = [100, 200, 500]\n",
    "# cell_sz = [2, 5, 7]\n",
    "# sparse_freq = [1, 2, 5]\n",
    "\n",
    "dim = img_arr.shape\n",
    "n, m = dim\n",
    "\n",
    "# use itertool to reduce amount of for loops\n",
    "for row in itertools.product(*search_list.values()):\n",
    "    product = dict(zip(search_list.keys(), row))\n",
    "    rep, alp, num, sz, freq = product.values()\n",
    "    W = V1_weights(num, dim, sz, freq) \n",
    "    y = generate_Y(W, img_arr)\n",
    "    W_model = W.reshape(num, n, m)\n",
    "    \n",
    "    theta, reform, s = compress(W_model, y, alp)\n",
    "    error = np.linalg.norm(img - reform, 'fro') / np.sqrt(m*n)\n",
    "    \n",
    "    params.append({'repetition' : rep,\n",
    "                   'num_cell' : num,\n",
    "                   'cell_size' : sz,\n",
    "                   'sparse_freq' : freq,\n",
    "                   'alpha': alp,\n",
    "                   'error' : error\n",
    "                  })\n",
    "opt_param = opt_hyperparams(params)"
   ]
  },
  {
   "cell_type": "code",
   "execution_count": null,
   "id": "4df3b48b",
   "metadata": {},
   "outputs": [],
   "source": [
    "params = []\n",
    "# result = []\n",
    "alpha = np.logspace(-3, 3, 7)\n",
    "rep = np.arange(10)\n",
    "num_cell = [100, 200, 500]\n",
    "cell_sz = [2, 5, 7]\n",
    "sparse_freq = [1, 2, 5]\n",
    "\n",
    "# Load Image\n",
    "image_nm = 'image/tree_part1.jpg'\n",
    "img = Image.open(image_nm)\n",
    "img = ImageOps.grayscale(img)\n",
    "img_arr = np.asarray(img)\n",
    "\n",
    "dim = img_arr.shape\n",
    "n, m = dim\n",
    "\n",
    "# Load V1 weight\n",
    "# search_list = {'repetition': rep,\n",
    "#                'alpha': alpha,\n",
    "#                'num_cell': ,\n",
    "#                'cell_sz': [2, 5, 7],\n",
    "#                'sparse_freq': [1, 2, 5]\n",
    "#               }\n",
    "\n",
    "\n",
    "search_list = [rep, alpha, num_cell, cell_sz, sparse_freq]\n",
    "search = list(itertools.product(*search_list))             \n",
    "search_df = pd.DataFrame(search, columns= [ 'rep', 'alp', 'num_cell', 'cell_sz', 'sparse_freq'])\n",
    "\n",
    "\n",
    "result = pd.DataFrame(columns=['s', 'theta', 'reform', 'error'])\n",
    "# use itertool to reduce amount of for loops\n",
    "# for row in itertools.product(*search_list.values()):\n",
    "print(\"start for loop\")\n",
    "for rep, alp, num, sz, freq in list(search_df.values):\n",
    "    print(rep, alp, num, sz, freq, dim[0], dim[1])\n",
    "    W = V1_weights(num, dim, sz, freq) \n",
    "    y = generate_Y(W, img_arr)\n",
    "    W_model = W.reshape(num, n, m)\n",
    "\n",
    "    theta, reform, s = compress(W_model, y, alp)\n",
    "    error = np.linalg.norm(img - reform, 'fro') / np.sqrt(m*n)\n",
    "    \n",
    "#     params.append({'repetition' : rep,\n",
    "#                    'num_cell' : num,\n",
    "#                    'cell_size' : sz,\n",
    "#                    'sparse_freq' : freq,\n",
    "#                    'alpha': alp,\n",
    "#                    'error' : error\n",
    "#                   })\n",
    "# opt_param = opt_hyperparams(params)"
   ]
  },
  {
   "cell_type": "code",
   "execution_count": null,
   "id": "ae5c5ce8",
   "metadata": {
    "scrolled": true
   },
   "outputs": [],
   "source": [
    "V1_reform = opt_param['reform'].to_numpy()[0]\n",
    "plt.figure(figsize= (3,3))\n",
    "plt.axis('off')\n",
    "plt.imshow(V1_reform)\n",
    "# use format string to name it with params\n",
    "plt.savefig(\"tree_reconstruction.png\", dpi = 200)\n",
    "\n",
    "# Try grayscale color map\n",
    "\n",
    "# Store original image of gray scale"
   ]
  },
  {
   "cell_type": "code",
   "execution_count": null,
   "id": "9814eed5",
   "metadata": {},
   "outputs": [],
   "source": [
    "params"
   ]
  },
  {
   "cell_type": "code",
   "execution_count": null,
   "id": "17302f94",
   "metadata": {},
   "outputs": [],
   "source": [
    "alpha = np.arange(1, 401, 5)\n",
    "search_list = {'alpha': alpha,\n",
    "          'cell_sz': [2, 5, 7],\n",
    "          'num_cell': [100, 200, 500],\n",
    "          'sparse_freq': [1, 2, 5]}\n",
    "search_list\n",
    "\n",
    "for row in itertools.product(*search_list.values()):\n",
    "    product = dict(zip(search_list.keys(), row))\n",
    "#     print(dict(product))\n",
    "#     print(dict(product).values()[0])"
   ]
  },
  {
   "cell_type": "code",
   "execution_count": null,
   "id": "71eb9739",
   "metadata": {},
   "outputs": [],
   "source": [
    "#Compress Sensing on function"
   ]
  },
  {
   "cell_type": "code",
   "execution_count": null,
   "id": "2346fb7e",
   "metadata": {},
   "outputs": [],
   "source": [
    "## Check if this function is applicable to regular compress sensing\n",
    "compress_img = Image.open(\"image/tree_part1.jpg\")\n",
    "compress_img = ImageOps.grayscale(compress_img)\n",
    "compress_arr = np.asarray(compress_img)\n",
    "cn, cm = compress_arr.shape\n",
    "print(cn, cm)\n",
    "compress_samp = 500#np.floor (cn * cm * 0.20).astype(int)\n",
    "rand_index = np.random.randint(0, cn * cm, compressSamp)\n",
    "compress_Y = compress_arr.flatten()[rand_index]\n",
    "compress_Y compress_Y.reshape(compress_samp, 1)"
   ]
  },
  {
   "cell_type": "code",
   "execution_count": null,
   "id": "8ba9ceba",
   "metadata": {},
   "outputs": [],
   "source": [
    "# Generate C matrix\n",
    "C = np.eye(cn * cm)[rand_index, :]\n",
    "C3D = C.reshape(compress_samp, cn, cm)\n",
    "theta, compress_reform, s = compress(C3D, compress_Y, .0003)\n",
    "\n",
    "plt.imshow(reform)"
   ]
  },
  {
   "cell_type": "code",
   "execution_count": 21,
   "id": "469e09da",
   "metadata": {},
   "outputs": [
    {
     "data": {
      "text/plain": [
       "list"
      ]
     },
     "execution_count": 21,
     "metadata": {},
     "output_type": "execute_result"
    }
   ],
   "source": [
    "a = np.array([1, 2, 3])\n",
    "\n",
    "type(list(list(a)))"
   ]
  },
  {
   "cell_type": "code",
   "execution_count": null,
   "id": "e31fbddf",
   "metadata": {},
   "outputs": [],
   "source": [
    "imgList = [\"image/city_part2.png\", \"image/city_part3.png\"]\n",
    "\n",
    "for im in img_list:\n",
    "    img = Image.open(im)\n",
    "    img = ImageOps.grayscale(img)\n",
    "    img_arr = np.asarray(img)\n",
    "\n",
    "    # V1 Variables\n",
    "    num_cell = 500\n",
    "    cell_size = 5\n",
    "    sparse_freq = 1\n",
    "    dim = img_arr.shape\n",
    "    n,m = dim\n",
    "\n",
    "    W = V1_weights(num_cell, dim, cell_size, sparse_freq) \n",
    "    y = generate_Y(W, img_arr)\n",
    "    W_rev = W.reshape(num_cell, n, m)\n",
    "    theta, reform, s = compress(W_rev, y, 1)\n",
    "    plt.imshow(reform)\n",
    "    plt.show()"
   ]
  },
  {
   "cell_type": "code",
   "execution_count": 36,
   "id": "c64b94ba",
   "metadata": {},
   "outputs": [
    {
     "data": {
      "text/plain": [
       "numpy.ndarray"
      ]
     },
     "execution_count": 36,
     "metadata": {},
     "output_type": "execute_result"
    }
   ],
   "source": [
    "type(img_arr)"
   ]
  },
  {
   "cell_type": "code",
   "execution_count": 27,
   "id": "c54d1c42",
   "metadata": {},
   "outputs": [
    {
     "data": {
      "text/plain": [
       "(30, 30)"
      ]
     },
     "execution_count": 27,
     "metadata": {},
     "output_type": "execute_result"
    }
   ],
   "source": []
  },
  {
   "cell_type": "code",
   "execution_count": null,
   "id": "36a0a8c4",
   "metadata": {},
   "outputs": [],
   "source": []
  },
  {
   "cell_type": "markdown",
   "id": "a34a851c",
   "metadata": {},
   "source": [
    "1. Save all the images for hyperparams, and hyperparams as well, save original image along with it\n",
    "2. Try same with compress sensing\n"
   ]
  }
 ],
 "metadata": {
  "kernelspec": {
   "display_name": "Python 3 (ipykernel)",
   "language": "python",
   "name": "python3"
  },
  "language_info": {
   "codemirror_mode": {
    "name": "ipython",
    "version": 3
   },
   "file_extension": ".py",
   "mimetype": "text/x-python",
   "name": "python",
   "nbconvert_exporter": "python",
   "pygments_lexer": "ipython3",
   "version": "3.9.7"
  }
 },
 "nbformat": 4,
 "nbformat_minor": 5
}
