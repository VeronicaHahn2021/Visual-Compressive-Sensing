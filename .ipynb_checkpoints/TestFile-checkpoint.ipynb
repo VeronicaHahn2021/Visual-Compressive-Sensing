{
 "cells": [
  {
   "cell_type": "code",
   "execution_count": 3,
   "id": "326591af",
   "metadata": {},
   "outputs": [],
   "source": [
    "import matplotlib.pyplot as plt\n",
    "import numpy as np\n",
    "import numpy.linalg as la\n",
    "\n",
    "from src.structured_random_features.src.models.weights import V1_weights\n",
    "\n",
    "# Packages for fft and fitting data\n",
    "from scipy import fftpack as fft\n",
    "from sklearn.linear_model import Lasso\n",
    "\n",
    "# Package for importing image representation\n",
    "from PIL import Image, ImageOps\n",
    "\n",
    "from src.V1_Compress import generate_Y, compress\n",
    "import pandas as pd\n",
    "import itertools"
   ]
  },
  {
   "cell_type": "code",
   "execution_count": 4,
   "id": "d98f0e5d",
   "metadata": {},
   "outputs": [],
   "source": [
    "def opt_hyperparams(data): \n",
    "    # Try to use pd group_by to group repetition and get avg\n",
    "    \n",
    "    # Among those average, get the lowest error hyperparam\n",
    "    \n",
    "    return pd.DataFrame(data).sort_values(by = 'error', ascending = True).head(1)"
   ]
  },
  {
   "cell_type": "code",
   "execution_count": null,
   "id": "626aaa57",
   "metadata": {},
   "outputs": [],
   "source": [
    "params = []\n",
    "reformed = []\n",
    "alpha = np.arange(1, 401, 5)\n",
    "epoch = np.arange(10)+1\n",
    "\n",
    "# Load Image\n",
    "image_nm = 'image/tree_part1.jpg'\n",
    "img = Image.open(image_nm)\n",
    "img = ImageOps.grayscale(img)\n",
    "img_arr = np.asarray(img)\n",
    "\n",
    "\n",
    "# Load V1 weight\n",
    "search_list = {'epoch': epoch,\n",
    "               'alpha': alpha,\n",
    "               'num_cell': [100, 200, 500],\n",
    "               'cell_sz': [2, 5, 7],\n",
    "               'sparse_freq': [1, 2, 5]\n",
    "              }\n",
    "# num_cell = [100, 200, 500]\n",
    "# cell_sz = [2, 5, 7]\n",
    "# sparse_freq = [1, 2, 5]\n",
    "dim = img_arr.shape\n",
    "n, m = dim\n",
    "\n",
    "# use itertool to reduce amount of for loops\n",
    "for row in itertools.product(*search_list.values()):\n",
    "    product = dict(zip(search_list.keys(), row))\n",
    "    epo, alp, num, sz, freq = product.values()\n",
    "    W = V1_weights(num, dim, sz, freq) \n",
    "    y = generate_Y(W, img_arr)\n",
    "    W_model = W.reshape(num, n, m)\n",
    "    \n",
    "    theta, reform, s = compress(W_model, y, a)\n",
    "    error = np.linalg.norm(img - reform, 'fro') / np.sqrt(m*n)\n",
    "    \n",
    "    params.append({'epoch' : epo,\n",
    "                   'num_cell' : num,\n",
    "                   'cell_size' : sz,\n",
    "                   'sparse_freq' : freq,'alpha': a,\n",
    "                   'theta': theta,\n",
    "                   'reform': reform,\n",
    "                   'sparse': s,\n",
    "                   'error' : error\n",
    "                  })\n",
    "        \n",
    "        \n",
    "    \n",
    "    \n",
    "    \n",
    "    \n",
    "    \n",
    "#     for num in num_cell:\n",
    "#         for sz in cell_size:\n",
    "#             for freq in sparse_freq:\n",
    "#                 W = V1_weights(num, dim, sz, freq) \n",
    "#                 y = generate_Y(W, img_arr)\n",
    "#                 W_model = W.reshape(num, n, m)\n",
    "#                 best_alpha = []\n",
    "#                 for i, a in enumerate(alpha):\n",
    "#                     theta, reform, s = compress(W_model, y, a)\n",
    "#                     error = np.linalg.norm(img - reform, 'fro') / np.sqrt(m*n)\n",
    "#                     params.append({'repetition' : i,\n",
    "#                                    'num_cell' : num,\n",
    "#                                    'cell_size' : sz,\n",
    "#                                    'sparse_freq' : freq,'alpha': a,\n",
    "#                                    'theta': theta,\n",
    "#                                    'reform': reform,\n",
    "#                                    'sparse': s,\n",
    "#                                    'error' : error})\n",
    "opt_param = opt_hyperarams(params)"
   ]
  },
  {
   "cell_type": "code",
   "execution_count": 48,
   "id": "ae5c5ce8",
   "metadata": {
    "scrolled": true
   },
   "outputs": [
    {
     "data": {
      "image/png": "[encoded data removed]",
      "text/plain": [
       "<Figure size 216x216 with 1 Axes>"
      ]
     },
     "metadata": {
      "needs_background": "light"
     },
     "output_type": "display_data"
    }
   ],
   "source": [
    "V1_reform = opt_param['reform'].to_numpy()[0]\n",
    "plt.figure(figsize= (3,3))\n",
    "plt.axis('off')\n",
    "plt.imshow(V1_reform)\n",
    "# use format string to name it with params\n",
    "plt.savefig(\"tree_reconstruction.png\", dpi = 200)\n",
    "\n",
    "# Try grayscale color map\n",
    "\n",
    "# Store original image of gray scale"
   ]
  },
  {
   "cell_type": "code",
   "execution_count": 34,
   "id": "9814eed5",
   "metadata": {},
   "outputs": [
    {
     "data": {
      "text/html": [
       "<div>\n",
       "<style scoped>\n",
       "    .dataframe tbody tr th:only-of-type {\n",
       "        vertical-align: middle;\n",
       "    }\n",
       "\n",
       "    .dataframe tbody tr th {\n",
       "        vertical-align: top;\n",
       "    }\n",
       "\n",
       "    .dataframe thead th {\n",
       "        text-align: right;\n",
       "    }\n",
       "</style>\n",
       "<table border=\"1\" class=\"dataframe\">\n",
       "  <thead>\n",
       "    <tr style=\"text-align: right;\">\n",
       "      <th></th>\n",
       "      <th>numCell</th>\n",
       "      <th>cellSize</th>\n",
       "      <th>sparseFreq</th>\n",
       "      <th>alpha</th>\n",
       "      <th>theta</th>\n",
       "      <th>reform</th>\n",
       "      <th>sparse</th>\n",
       "      <th>score</th>\n",
       "    </tr>\n",
       "  </thead>\n",
       "  <tbody>\n",
       "    <tr>\n",
       "      <th>1701</th>\n",
       "      <td>500</td>\n",
       "      <td>5</td>\n",
       "      <td>1</td>\n",
       "      <td>1</td>\n",
       "      <td>[[0.24597978400156112, -0.5072374723934677, 0....</td>\n",
       "      <td>[[214.37261950031467, 213.1457647207274, 209.0...</td>\n",
       "      <td>[4037.7474622998893, 361.6881308742081, 549.78...</td>\n",
       "      <td>12.969038</td>\n",
       "    </tr>\n",
       "  </tbody>\n",
       "</table>\n",
       "</div>"
      ],
      "text/plain": [
       "      numCell  cellSize  sparseFreq  alpha  \\\n",
       "1701      500         5           1      1   \n",
       "\n",
       "                                                  theta  \\\n",
       "1701  [[0.24597978400156112, -0.5072374723934677, 0....   \n",
       "\n",
       "                                                 reform  \\\n",
       "1701  [[214.37261950031467, 213.1457647207274, 209.0...   \n",
       "\n",
       "                                                 sparse      score  \n",
       "1701  [4037.7474622998893, 361.6881308742081, 549.78...  12.969038  "
      ]
     },
     "execution_count": 34,
     "metadata": {},
     "output_type": "execute_result"
    }
   ],
   "source": []
  },
  {
   "cell_type": "code",
   "execution_count": 52,
   "id": "17302f94",
   "metadata": {},
   "outputs": [],
   "source": [
    "alpha = np.arange(1, 401, 5)\n",
    "search_list = {'alpha': alpha,\n",
    "          'cell_sz': [2, 5, 7],\n",
    "          'num_cell': [100, 200, 500],\n",
    "          'sparse_freq': [1, 2, 5]}\n",
    "search_list\n",
    "\n",
    "for row in itertools.product(*search_list.values()):\n",
    "    product = dict(zip(search_list.keys(), row))\n",
    "#     print(dict(product))\n",
    "#     print(dict(product).values()[0])"
   ]
  },
  {
   "cell_type": "code",
   "execution_count": 54,
   "id": "2f931740",
   "metadata": {},
   "outputs": [],
   "source": [
    "a, b, c, d = product.values()"
   ]
  },
  {
   "cell_type": "code",
   "execution_count": 56,
   "id": "b6867cfc",
   "metadata": {},
   "outputs": [
    {
     "data": {
      "text/plain": [
       "7"
      ]
     },
     "execution_count": 56,
     "metadata": {},
     "output_type": "execute_result"
    }
   ],
   "source": [
    "b"
   ]
  },
  {
   "cell_type": "code",
   "execution_count": 59,
   "id": "06e9268d",
   "metadata": {},
   "outputs": [
    {
     "data": {
      "text/plain": [
       "array([ 1,  2,  3,  4,  5,  6,  7,  8,  9, 10])"
      ]
     },
     "execution_count": 59,
     "metadata": {},
     "output_type": "execute_result"
    }
   ],
   "source": [
    "epoch = np.arange(10)+1\n",
    "epoch"
   ]
  },
  {
   "cell_type": "code",
   "execution_count": null,
   "id": "71eb9739",
   "metadata": {},
   "outputs": [],
   "source": [
    "#Compress Sensing on function"
   ]
  },
  {
   "cell_type": "code",
   "execution_count": 39,
   "id": "2346fb7e",
   "metadata": {},
   "outputs": [
    {
     "name": "stdout",
     "output_type": "stream",
     "text": [
      "30 30\n"
     ]
    }
   ],
   "source": [
    "## Check if this function is applicable to regular compress sensing\n",
    "compress_img = Image.open(\"image/tree_part1.jpg\")\n",
    "compress_img = ImageOps.grayscale(compress_img)\n",
    "compress_arr = np.asarray(compress_img)\n",
    "cn, cm = compress_arr.shape\n",
    "print(cn, cm)\n",
    "compress_samp = 500#np.floor (cn * cm * 0.20).astype(int)\n",
    "rand_index = np.random.randint(0, cn * cm, compressSamp)\n",
    "compress_Y = compress_arr.flatten()[rand_index]\n",
    "compress_Y compress_Y.reshape(compress_samp, 1)"
   ]
  },
  {
   "cell_type": "code",
   "execution_count": 42,
   "id": "8ba9ceba",
   "metadata": {},
   "outputs": [
    {
     "data": {
      "text/plain": [
       "<matplotlib.image.AxesImage at 0x1bc6dfc4550>"
      ]
     },
     "execution_count": 42,
     "metadata": {},
     "output_type": "execute_result"
    },
    {
     "data": {
      "image/png": "[encoded data removed]",
      "text/plain": [
       "<Figure size 432x288 with 1 Axes>"
      ]
     },
     "metadata": {
      "needs_background": "light"
     },
     "output_type": "display_data"
    }
   ],
   "source": [
    "# Generate C matrix\n",
    "C = np.eye(cn * cm)[rand_index, :]\n",
    "C3D = C.reshape(compress_samp, cn, cm)\n",
    "theta, compress_reform, s = compress(C3D, compress_Y, .0003)\n",
    "\n",
    "plt.imshow(reform)"
   ]
  },
  {
   "cell_type": "code",
   "execution_count": null,
   "id": "469e09da",
   "metadata": {},
   "outputs": [],
   "source": []
  },
  {
   "cell_type": "code",
   "execution_count": 49,
   "id": "e31fbddf",
   "metadata": {},
   "outputs": [
    {
     "data": {
      "image/png": "[encoded data removed]",
      "text/plain": [
       "<Figure size 432x288 with 1 Axes>"
      ]
     },
     "metadata": {
      "needs_background": "light"
     },
     "output_type": "display_data"
    },
    {
     "data": {
      "image/png": "[encoded data removed]",
      "text/plain": [
       "<Figure size 432x288 with 1 Axes>"
      ]
     },
     "metadata": {
      "needs_background": "light"
     },
     "output_type": "display_data"
    }
   ],
   "source": [
    "imgList = [\"image/city_part2.png\", \"image/city_part3.png\"]\n",
    "\n",
    "for im in img_list:\n",
    "    img = Image.open(im)\n",
    "    img = ImageOps.grayscale(img)\n",
    "    img_arr = np.asarray(img)\n",
    "\n",
    "    # V1 Variables\n",
    "    num_cell = 500\n",
    "    cell_size = 5\n",
    "    sparse_freq = 1\n",
    "    dim = img_arr.shape\n",
    "    n,m = dim\n",
    "\n",
    "    W = V1_weights(num_cell, dim, cell_size, sparse_freq) \n",
    "    y = generate_Y(W, img_arr)\n",
    "    W_rev = W.reshape(num_cell, n, m)\n",
    "    theta, reform, s = compress(W_rev, y, 1)\n",
    "    plt.imshow(reform)\n",
    "    plt.show()"
   ]
  },
  {
   "cell_type": "code",
   "execution_count": null,
   "id": "c64b94ba",
   "metadata": {},
   "outputs": [],
   "source": []
  },
  {
   "cell_type": "code",
   "execution_count": null,
   "id": "c54d1c42",
   "metadata": {},
   "outputs": [],
   "source": []
  },
  {
   "cell_type": "code",
   "execution_count": null,
   "id": "36a0a8c4",
   "metadata": {},
   "outputs": [],
   "source": []
  },
  {
   "cell_type": "markdown",
   "id": "a34a851c",
   "metadata": {},
   "source": [
    "1. Save all the images for hyperparams, and hyperparams as well, save original image along with it\n",
    "2. Try same with compress sensing\n"
   ]
  }
 ],
 "metadata": {
  "kernelspec": {
   "display_name": "Python 3 (ipykernel)",
   "language": "python",
   "name": "python3"
  },
  "language_info": {
   "codemirror_mode": {
    "name": "ipython",
    "version": 3
   },
   "file_extension": ".py",
   "mimetype": "text/x-python",
   "name": "python",
   "nbconvert_exporter": "python",
   "pygments_lexer": "ipython3",
   "version": "3.9.7"
  }
 },
 "nbformat": 4,
 "nbformat_minor": 5
}
