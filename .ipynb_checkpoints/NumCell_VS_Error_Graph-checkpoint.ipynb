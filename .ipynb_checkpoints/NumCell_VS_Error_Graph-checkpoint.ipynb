{
 "cells": [
  {
   "cell_type": "code",
   "execution_count": 1,
   "id": "826e1346",
   "metadata": {},
   "outputs": [],
   "source": [
    "import matplotlib.pyplot as plt\n",
    "import numpy as np\n",
    "import numpy.linalg as la\n",
    "\n",
    "from src.structured_random_features.src.models.weights import V1_weights\n",
    "\n",
    "# Package for importing image representation\n",
    "from PIL import Image, ImageOps\n",
    "\n",
    "from src.V1_Compress import generate_Y, compress\n",
    "import pandas as pd\n",
    "import seaborn as sns\n",
    "import time\n",
    "import os.path"
   ]
  },
  {
   "cell_type": "markdown",
   "id": "c22131f6",
   "metadata": {},
   "source": [
    "## Process V1 data"
   ]
  },
  {
   "cell_type": "code",
   "execution_count": 107,
   "id": "3b60f8ce",
   "metadata": {},
   "outputs": [],
   "source": [
    "img_nm = 'city_part3'\n",
    "# Load previously saved data for V1 parameters\n",
    "V1_params_df = pd.read_csv('result//{img}//V1//param_Tue_Jul_12_12_26_49_2022.csv'.format(img = img_nm))\n",
    "\n",
    "\n",
    "for index in V1_params_df.columns:\n",
    "    if (index == 'Unnamed: 0') :\n",
    "        V1_params_df.drop('Unnamed: 0', axis = 1, inplace=True)"
   ]
  },
  {
   "cell_type": "code",
   "execution_count": 108,
   "id": "7d784c11",
   "metadata": {},
   "outputs": [
    {
     "data": {
      "image/png": "[encoded data removed]",
      "text/plain": [
       "<Figure size 360x360 with 1 Axes>"
      ]
     },
     "metadata": {
      "needs_background": "light"
     },
     "output_type": "display_data"
    }
   ],
   "source": [
    "V1_mean_err = V1_params_df.groupby(['num_cell', 'sparse_freq', 'cell_sz', 'alp'],\n",
    "                                as_index = False).agg({'error':'mean'})\n",
    "line_data = V1_mean_err.groupby(['num_cell'], as_index = False).agg({'error':'min'})\n",
    "fig = sns.relplot(x = line_data['num_cell'], y = line_data['error'], kind='line')\n",
    "plt.title(\"V1: Num_Cell Vs. Error ({img})\".format(img = img_nm))\n",
    "plt.xticks(line_data['num_cell'])\n",
    "fig.set(yscale = 'log')\n",
    "plt.plot(line_data['num_cell'], line_data['error'], 'r.')\n",
    "plt.show()"
   ]
  },
  {
   "cell_type": "code",
   "execution_count": 109,
   "id": "59aeeb38",
   "metadata": {},
   "outputs": [],
   "source": [
    "#V1 Data processing\n",
    "V1_min_mean_err_df = pd.DataFrame()\n",
    "for i in V1_mean_err['num_cell'].unique():\n",
    "    V1_temp = V1_mean_err.loc[V1_mean_err['num_cell'] == i]\n",
    "    #hyperparameter for each number of cell\n",
    "    ## Grabbing values by each values\n",
    "    V1_min_mean_err_df = V1_min_mean_err_df.append(V1_temp.loc[V1_temp['error'] == V1_temp['error'].min()])\n",
    "    \n",
    "# Merge two data to extract\n",
    "V1_min_mean_err_df = V1_min_mean_err_df.rename(columns={'error' : 'mean_err'})\n",
    "V1_merged_df = pd.merge(V1_params_df, V1_min_mean_err_df, on = ['num_cell', 'sparse_freq', 'cell_sz', 'alp'], how = 'left')\n",
    "V1_plotting_data = V1_merged_df.loc[V1_merged_df['mean_err'].notnull()]\n"
   ]
  },
  {
   "cell_type": "code",
   "execution_count": 110,
   "id": "f4f18fc2",
   "metadata": {},
   "outputs": [
    {
     "data": {
      "text/plain": [
       "<Figure size 1080x1080 with 0 Axes>"
      ]
     },
     "metadata": {},
     "output_type": "display_data"
    },
    {
     "data": {
      "image/png": "[encoded data removed]",
      "text/plain": [
       "<Figure size 360x360 with 1 Axes>"
      ]
     },
     "metadata": {
      "needs_background": "light"
     },
     "output_type": "display_data"
    }
   ],
   "source": [
    "plt.figure(figsize=(15, 15))\n",
    "save_path = 'result/{img}/V1'.format(img = img_nm)\n",
    "V1_fig = sns.relplot(data = V1_plotting_data, x = 'num_cell', y = 'error', kind='line',\n",
    "                     palette='Accent', legend = False)\n",
    "# sns.boxplot(data = plotting_data, x = 'num_cell', y = 'error')\n",
    "title = 'Error_for_each_num_cell_{img}_'.format(img = img_nm)\n",
    "V1_fig.set(title= title.replace('_', ' '))\n",
    "plt.xticks(line_data['num_cell'])\n",
    "V1_fig.set(yscale = 'log')\n",
    "plt.plot(line_data['num_cell'], line_data['error'], 'r.')\n",
    "fig.savefig(os.path.join(save_path, title + \"_\".join(\n",
    "    str.split(time.ctime().replace(\":\", \"_\"))) + \".png\"), dpi = 200)\n",
    "\n",
    "plt.show()\n"
   ]
  },
  {
   "cell_type": "code",
   "execution_count": null,
   "id": "b9bcfb7a",
   "metadata": {},
   "outputs": [],
   "source": []
  },
  {
   "cell_type": "code",
   "execution_count": null,
   "id": "a51215bc",
   "metadata": {},
   "outputs": [],
   "source": []
  },
  {
   "cell_type": "markdown",
   "id": "ac597209",
   "metadata": {},
   "source": [
    "## Process Classical Data"
   ]
  },
  {
   "cell_type": "code",
   "execution_count": 111,
   "id": "8bd3e02f",
   "metadata": {},
   "outputs": [],
   "source": [
    "load_classical = './result/{img}/Classical/Classical_Param_Tue_Jul_12_11_52_48_2022.csv'.format(img = img_nm)\n",
    "classical_param_df = pd.read_csv(load_classical)\n",
    "for index in classical_param_df.columns:\n",
    "    if (index == 'Unnamed: 0') :\n",
    "        classical_param_df.drop('Unnamed: 0', axis = 1, inplace=True)"
   ]
  },
  {
   "cell_type": "code",
   "execution_count": 112,
   "id": "8345186d",
   "metadata": {},
   "outputs": [
    {
     "data": {
      "text/html": [
       "<div>\n",
       "<style scoped>\n",
       "    .dataframe tbody tr th:only-of-type {\n",
       "        vertical-align: middle;\n",
       "    }\n",
       "\n",
       "    .dataframe tbody tr th {\n",
       "        vertical-align: top;\n",
       "    }\n",
       "\n",
       "    .dataframe thead th {\n",
       "        text-align: right;\n",
       "    }\n",
       "</style>\n",
       "<table border=\"1\" class=\"dataframe\">\n",
       "  <thead>\n",
       "    <tr style=\"text-align: right;\">\n",
       "      <th></th>\n",
       "      <th>classical_samp</th>\n",
       "      <th>alpha</th>\n",
       "      <th>repetition</th>\n",
       "      <th>error</th>\n",
       "    </tr>\n",
       "  </thead>\n",
       "  <tbody>\n",
       "    <tr>\n",
       "      <th>0</th>\n",
       "      <td>100</td>\n",
       "      <td>0.001</td>\n",
       "      <td>0</td>\n",
       "      <td>143.645646</td>\n",
       "    </tr>\n",
       "    <tr>\n",
       "      <th>1</th>\n",
       "      <td>200</td>\n",
       "      <td>0.001</td>\n",
       "      <td>0</td>\n",
       "      <td>143.574061</td>\n",
       "    </tr>\n",
       "    <tr>\n",
       "      <th>2</th>\n",
       "      <td>500</td>\n",
       "      <td>0.001</td>\n",
       "      <td>0</td>\n",
       "      <td>143.494568</td>\n",
       "    </tr>\n",
       "    <tr>\n",
       "      <th>3</th>\n",
       "      <td>100</td>\n",
       "      <td>0.010</td>\n",
       "      <td>0</td>\n",
       "      <td>143.729759</td>\n",
       "    </tr>\n",
       "    <tr>\n",
       "      <th>4</th>\n",
       "      <td>200</td>\n",
       "      <td>0.010</td>\n",
       "      <td>0</td>\n",
       "      <td>143.657552</td>\n",
       "    </tr>\n",
       "    <tr>\n",
       "      <th>...</th>\n",
       "      <td>...</td>\n",
       "      <td>...</td>\n",
       "      <td>...</td>\n",
       "      <td>...</td>\n",
       "    </tr>\n",
       "    <tr>\n",
       "      <th>205</th>\n",
       "      <td>200</td>\n",
       "      <td>100.000</td>\n",
       "      <td>9</td>\n",
       "      <td>143.886985</td>\n",
       "    </tr>\n",
       "    <tr>\n",
       "      <th>206</th>\n",
       "      <td>500</td>\n",
       "      <td>100.000</td>\n",
       "      <td>9</td>\n",
       "      <td>143.886985</td>\n",
       "    </tr>\n",
       "    <tr>\n",
       "      <th>207</th>\n",
       "      <td>100</td>\n",
       "      <td>1000.000</td>\n",
       "      <td>9</td>\n",
       "      <td>143.886985</td>\n",
       "    </tr>\n",
       "    <tr>\n",
       "      <th>208</th>\n",
       "      <td>200</td>\n",
       "      <td>1000.000</td>\n",
       "      <td>9</td>\n",
       "      <td>143.886985</td>\n",
       "    </tr>\n",
       "    <tr>\n",
       "      <th>209</th>\n",
       "      <td>500</td>\n",
       "      <td>1000.000</td>\n",
       "      <td>9</td>\n",
       "      <td>143.886985</td>\n",
       "    </tr>\n",
       "  </tbody>\n",
       "</table>\n",
       "<p>210 rows × 4 columns</p>\n",
       "</div>"
      ],
      "text/plain": [
       "     classical_samp     alpha  repetition       error\n",
       "0               100     0.001           0  143.645646\n",
       "1               200     0.001           0  143.574061\n",
       "2               500     0.001           0  143.494568\n",
       "3               100     0.010           0  143.729759\n",
       "4               200     0.010           0  143.657552\n",
       "..              ...       ...         ...         ...\n",
       "205             200   100.000           9  143.886985\n",
       "206             500   100.000           9  143.886985\n",
       "207             100  1000.000           9  143.886985\n",
       "208             200  1000.000           9  143.886985\n",
       "209             500  1000.000           9  143.886985\n",
       "\n",
       "[210 rows x 4 columns]"
      ]
     },
     "execution_count": 112,
     "metadata": {},
     "output_type": "execute_result"
    }
   ],
   "source": [
    "classical_param_df"
   ]
  },
  {
   "cell_type": "code",
   "execution_count": 105,
   "id": "0a9b8e33",
   "metadata": {
    "scrolled": false
   },
   "outputs": [
    {
     "data": {
      "image/png": "[encoded data removed]",
      "text/plain": [
       "<Figure size 360x360 with 1 Axes>"
      ]
     },
     "metadata": {
      "needs_background": "light"
     },
     "output_type": "display_data"
    }
   ],
   "source": [
    "save_path = 'result/{img}/Classical/'.format(img = img_nm)\n",
    "\n",
    "classical_param_mean_df = classical_param_df.groupby(\n",
    "    ['alpha', 'classical_samp'], as_index=False).mean().drop('repetition', axis=1) \n",
    "\n",
    "classical_param_min_df = classical_param_mean_df.groupby('classical_samp', as_index=False).min('error').rename(\n",
    "    columns={'error' : 'mean_err'})\n",
    "\n",
    "classical_merged_df = pd.merge(classical_param_df, classical_param_min_df, on=['alpha', 'classical_samp'], how='left')\n",
    "classical_plotting_data = classical_merged_df.loc[classical_merged_df['mean_err'].notnull()]\n",
    "\n",
    "classical_fig = sns.relplot(data = classical_plotting_data, x = 'classical_samp', y = 'error', kind= 'line')\n",
    "classical_fig.set(yscale='log')\n",
    "plt.plot(classical_param_min_df['classical_samp'].unique(), classical_param_min_df['mean_err'], 'r.')\n",
    "title = 'Classical_Num_Sample_VS_Error_'\n",
    "plt.title(title.replace('_', ' '))\n",
    "plt.xticks(classical_param_df['classical_samp'].unique())\n",
    "plt.show()\n",
    "\n",
    "classical_fig.savefig(os.path.join(save_path, title + \"_\".join(\n",
    "    str.split(time.ctime().replace(\":\", \"_\"))) + \".png\"), dpi = 200)"
   ]
  },
  {
   "cell_type": "code",
   "execution_count": null,
   "id": "877ded2b",
   "metadata": {},
   "outputs": [],
   "source": []
  },
  {
   "cell_type": "markdown",
   "id": "b947e05a",
   "metadata": {},
   "source": [
    "## Adding both lines in One Figure"
   ]
  },
  {
   "cell_type": "code",
   "execution_count": 113,
   "id": "1733fca1",
   "metadata": {
    "scrolled": false
   },
   "outputs": [
    {
     "data": {
      "image/png": "[encoded data removed]",
      "text/plain": [
       "<Figure size 432x288 with 1 Axes>"
      ]
     },
     "metadata": {
      "needs_background": "light"
     },
     "output_type": "display_data"
    }
   ],
   "source": [
    "save_path = 'result/{img}/'.format(img = img_nm)\n",
    "V1_err = sns.lineplot(data = V1_plotting_data, x = 'num_cell', y = 'error', palette='Accent', legend = False)\n",
    "Classical_err = sns.lineplot(data = classical_plotting_data, x = 'classical_samp', y = 'error')\n",
    "plt.yscale('log')\n",
    "plt.xticks(line_data['num_cell'])\n",
    "plt.plot(line_data['num_cell'], line_data['error'], 'r.') # for V1 numcell location\n",
    "plt.plot(classical_param_min_df['classical_samp'].unique(), classical_param_min_df['mean_err'], 'r.') #For classical samp location\n",
    "plt.xlabel('num_cell/classical_samp')\n",
    "title = \"Sampling_Vs_Error_for_both_techniques_{img}_\".format(img = img_nm)\n",
    "plt.title(title.replace('_', ' '))\n",
    "plt.legend(['V1', 'Classical'], loc = 'center right')\n",
    "plt.savefig(os.path.join(save_path, title + \"_\".join(\n",
    "    str.split(time.ctime().replace(\":\", \"_\"))) + \".png\"), dpi = 200)"
   ]
  },
  {
   "cell_type": "code",
   "execution_count": null,
   "id": "30c42955",
   "metadata": {},
   "outputs": [],
   "source": []
  },
  {
   "cell_type": "code",
   "execution_count": null,
   "id": "9b0506f2",
   "metadata": {},
   "outputs": [],
   "source": []
  },
  {
   "cell_type": "code",
   "execution_count": null,
   "id": "f28240f5",
   "metadata": {},
   "outputs": [],
   "source": []
  }
 ],
 "metadata": {
  "kernelspec": {
   "display_name": "Python 3 (ipykernel)",
   "language": "python",
   "name": "python3"
  },
  "language_info": {
   "codemirror_mode": {
    "name": "ipython",
    "version": 3
   },
   "file_extension": ".py",
   "mimetype": "text/x-python",
   "name": "python",
   "nbconvert_exporter": "python",
   "pygments_lexer": "ipython3",
   "version": "3.9.7"
  }
 },
 "nbformat": 4,
 "nbformat_minor": 5
}
