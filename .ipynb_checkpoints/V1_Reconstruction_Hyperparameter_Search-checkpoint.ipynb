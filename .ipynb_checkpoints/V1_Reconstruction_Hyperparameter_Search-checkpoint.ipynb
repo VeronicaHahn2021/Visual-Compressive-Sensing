{
 "cells": [
  {
   "cell_type": "code",
   "execution_count": 2,
   "id": "2472ebcb",
   "metadata": {},
   "outputs": [],
   "source": [
    "import matplotlib.pyplot as plt\n",
    "import numpy as np\n",
    "import numpy.linalg as la\n",
    "\n",
    "from src.structured_random_features.src.models.weights import V1_weights\n",
    "\n",
    "# Packages for fft and fitting data\n",
    "from scipy import fftpack as fft\n",
    "from sklearn.linear_model import Lasso\n",
    "\n",
    "# Package for importing image representation\n",
    "from PIL import Image, ImageOps\n",
    "\n",
    "from src.V1_Compress import generate_Y, compress\n",
    "import pandas as pd\n",
    "import itertools\n",
    "import dask\n",
    "from dask.distributed import Client, progress\n",
    "import seaborn as sns\n",
    "import time\n",
    "import os.path"
   ]
  },
  {
   "cell_type": "code",
   "execution_count": 3,
   "id": "f6f1e2f4",
   "metadata": {},
   "outputs": [],
   "source": [
    "def opt_hyperparams(data): \n",
    "    # Try to use pd group_by to group repetition and get avg\n",
    "    \n",
    "    # Among those average, get the lowest error hyperparam\n",
    "    ordered_data = pd.DataFrame(data).sort_values(by = 'error', ascending = True)\n",
    "    print(ordered_data.head(5))\n",
    "    \n",
    "    return ordered_data.head(1)"
   ]
  },
  {
   "cell_type": "code",
   "execution_count": 4,
   "id": "e082a6a9",
   "metadata": {},
   "outputs": [],
   "source": [
    "def run_sim(rep, alp, num, sz, freq, img_arr):\n",
    "    num = int(num)\n",
    "    img_arr = np.array([img_arr]).squeeze()\n",
    "    dim = img_arr.shape\n",
    "    n, m = dim\n",
    "\n",
    "    # Generate V1 weight with y\n",
    "    W = V1_weights(num, dim, sz, freq) \n",
    "    y = generate_Y(W, img_arr)\n",
    "    W_model = W.reshape(num, n, m)\n",
    "    \n",
    "    # Call function and calculate error\n",
    "    theta, reform, s = compress(W_model, y, alp)\n",
    "    error = np.linalg.norm(img - reform, 'fro') / np.sqrt(m*n)\n",
    "    \n",
    "    return error, theta, reform, s"
   ]
  },
  {
   "cell_type": "code",
   "execution_count": 5,
   "id": "337052c8",
   "metadata": {
    "scrolled": false
   },
   "outputs": [
    {
     "name": "stdout",
     "output_type": "stream",
     "text": [
      "   rep    alp  num_cell  cell_sz  sparse_freq\n",
      "0    0  0.001       100        2            1\n",
      "1    0  0.001       100        2            2\n",
      "2    0  0.001       100        2            5\n",
      "3    0  0.001       100        5            1\n",
      "4    0  0.001       100        5            2\n",
      "running dask completed\n",
      "futures completed\n",
      "progressing futures\n",
      "result computed\n",
      "   rep    alp  num_cell  cell_sz  sparse_freq\n",
      "0    0  0.001       100        2            1\n",
      "1    0  0.001       100        2            2\n",
      "2    0  0.001       100        2            5\n",
      "3    0  0.001       100        5            1\n",
      "4    0  0.001       100        5            2\n"
     ]
    },
    {
     "name": "stderr",
     "output_type": "stream",
     "text": [
      "/home/bans/anaconda3/lib/python3.9/site-packages/distributed/node.py:160: UserWarning: Port 8787 is already in use.\n",
      "Perhaps you already have a cluster running?\n",
      "Hosting the HTTP server on port 34477 instead\n",
      "  warnings.warn(\n"
     ]
    },
    {
     "name": "stdout",
     "output_type": "stream",
     "text": [
      "running dask completed\n",
      "futures completed\n",
      "progressing futures\n",
      "result computed\n",
      "   rep    alp  num_cell  cell_sz  sparse_freq\n",
      "0    0  0.001       100        2            1\n",
      "1    0  0.001       100        2            2\n",
      "2    0  0.001       100        2            5\n",
      "3    0  0.001       100        5            1\n",
      "4    0  0.001       100        5            2\n"
     ]
    },
    {
     "name": "stderr",
     "output_type": "stream",
     "text": [
      "/home/bans/anaconda3/lib/python3.9/site-packages/distributed/node.py:160: UserWarning: Port 8787 is already in use.\n",
      "Perhaps you already have a cluster running?\n",
      "Hosting the HTTP server on port 43429 instead\n",
      "  warnings.warn(\n"
     ]
    },
    {
     "name": "stdout",
     "output_type": "stream",
     "text": [
      "running dask completed\n",
      "futures completed\n",
      "progressing futures\n",
      "result computed\n"
     ]
    }
   ],
   "source": [
    "img_nm_list = ['tree_part1.jpg', 'city_part2.png', 'city_part3.png']\n",
    "for img_nm in img_nm_list:\n",
    "    image_path ='image/{img}'.format(img = img_nm)\n",
    "\n",
    "    #DF version after looking at Desk method\n",
    "\n",
    "    # Set up hyperparameters that would affect results\n",
    "    delay_list = []\n",
    "    params = []\n",
    "    alpha = np.logspace(-3, 3, 7)\n",
    "    rep = np.arange(10)\n",
    "    num_cell = [100, 200, 500]\n",
    "    cell_sz = [2, 5, 7]\n",
    "    sparse_freq = [1, 2, 5]\n",
    "\n",
    "    # Load Image\n",
    "    #     image_path = 'image/city_part2.png'\n",
    "    image_nm = image_path.split('/')[1].split('.')[0]\n",
    "    img = Image.open(image_path)\n",
    "    img = ImageOps.grayscale(img)\n",
    "    img_arr = np.asarray(img)\n",
    "\n",
    "    save_path = os.path.join(\"result/{img_nm}/V1\".format(img_nm = image_nm))\n",
    "\n",
    "\n",
    "\n",
    "    search_list = [rep, alpha, num_cell, cell_sz, sparse_freq]\n",
    "\n",
    "    # All combinations of hyperparameter to try\n",
    "    search = list(itertools.product(*search_list))             \n",
    "    search_df = pd.DataFrame(search, columns= [ 'rep', 'alp', 'num_cell', 'cell_sz', 'sparse_freq'])\n",
    "    print(search_df.head())\n",
    "\n",
    "    # Call dask\n",
    "    client = Client()\n",
    "\n",
    "    # counter = 0; # Keep track of number of iteration. Debugging method\n",
    "    for p in search_df.values:\n",
    "        delay = dask.delayed(run_sim)(*p, img_arr)\n",
    "        delay_list.append(delay)\n",
    "\n",
    "    print('running dask completed')\n",
    "\n",
    "    futures = dask.persist(*delay_list)\n",
    "    print('futures completed')\n",
    "    progress(futures)\n",
    "    print('progressing futures')\n",
    "\n",
    "    # Compute the result\n",
    "    results = dask.compute(*futures)\n",
    "    print('result computed')\n",
    "    results_df = pd.DataFrame(results, columns=['error', 'theta', 'reform', 's'])\n",
    "\n",
    "    # Add error onto parameter\n",
    "    params_result_df = search_df.join(results_df['error'])\n",
    "\n",
    "    # save parameter_error data with error_results data\n",
    "    params_result_df.to_csv(os.path.join(save_path, \"param_\" + \"_\".join(str.split(time.ctime().replace(\":\", \"_\"))) + \".csv\"))\n",
    "    results_df.to_csv(os.path.join(save_path, \"result_\" + \"_\".join(str.split(time.ctime().replace(\":\", \"_\"))) + \".csv\"))\n",
    "\n",
    "\n"
   ]
  },
  {
   "cell_type": "code",
   "execution_count": 6,
   "id": "cc1e28bb",
   "metadata": {},
   "outputs": [
    {
     "data": {
      "text/html": [
       "<div>\n",
       "<style scoped>\n",
       "    .dataframe tbody tr th:only-of-type {\n",
       "        vertical-align: middle;\n",
       "    }\n",
       "\n",
       "    .dataframe tbody tr th {\n",
       "        vertical-align: top;\n",
       "    }\n",
       "\n",
       "    .dataframe thead th {\n",
       "        text-align: right;\n",
       "    }\n",
       "</style>\n",
       "<table border=\"1\" class=\"dataframe\">\n",
       "  <thead>\n",
       "    <tr style=\"text-align: right;\">\n",
       "      <th></th>\n",
       "      <th>error</th>\n",
       "      <th>theta</th>\n",
       "      <th>reform</th>\n",
       "      <th>s</th>\n",
       "    </tr>\n",
       "  </thead>\n",
       "  <tbody>\n",
       "    <tr>\n",
       "      <th>0</th>\n",
       "      <td>128.595358</td>\n",
       "      <td>[[2.0753792757293947, -2.939713260140235, 2.99...</td>\n",
       "      <td>[[101.22724157695097, -20.46598564255528, 146....</td>\n",
       "      <td>[4291.290365832666, -101.3671894941771, -296.9...</td>\n",
       "    </tr>\n",
       "    <tr>\n",
       "      <th>1</th>\n",
       "      <td>829.265900</td>\n",
       "      <td>[[-1.3411462405184829, 0.9890292721018017, 0.7...</td>\n",
       "      <td>[[710.038142907944, -1210.7814874812275, 1409....</td>\n",
       "      <td>[4283.545888777847, -78.21203888522433, -33.98...</td>\n",
       "    </tr>\n",
       "    <tr>\n",
       "      <th>2</th>\n",
       "      <td>2204.136279</td>\n",
       "      <td>[[2.218461417764338, -0.9833211379938638, -2.6...</td>\n",
       "      <td>[[-1557.6850159359365, 1723.902888854448, 2321...</td>\n",
       "      <td>[4157.758836116884, -316.2260883985498, -104.1...</td>\n",
       "    </tr>\n",
       "    <tr>\n",
       "      <th>3</th>\n",
       "      <td>112.721442</td>\n",
       "      <td>[[1.973176422359584, -0.2929156043668017, 0.29...</td>\n",
       "      <td>[[70.56960068182491, 286.89310456103556, -100....</td>\n",
       "      <td>[4280.809640535858, -226.96787671362222, -192....</td>\n",
       "    </tr>\n",
       "    <tr>\n",
       "      <th>4</th>\n",
       "      <td>1498.514718</td>\n",
       "      <td>[[-3.599878382938171, 3.1788990520129117, 0.37...</td>\n",
       "      <td>[[-21.628116685291815, 481.1109855582867, -406...</td>\n",
       "      <td>[4174.11199580884, -406.3544064908659, -55.938...</td>\n",
       "    </tr>\n",
       "    <tr>\n",
       "      <th>...</th>\n",
       "      <td>...</td>\n",
       "      <td>...</td>\n",
       "      <td>...</td>\n",
       "      <td>...</td>\n",
       "    </tr>\n",
       "    <tr>\n",
       "      <th>1885</th>\n",
       "      <td>74.424631</td>\n",
       "      <td>[[-2.268370746031691, 1.8648789002302468, 0.31...</td>\n",
       "      <td>[[69.2122191768816, 69.26885804925021, 69.8230...</td>\n",
       "      <td>[4029.3155431908162, -263.88155388248725, -212...</td>\n",
       "    </tr>\n",
       "    <tr>\n",
       "      <th>1886</th>\n",
       "      <td>77.425139</td>\n",
       "      <td>[[7.858212388468309, 2.325375680181166, -8.369...</td>\n",
       "      <td>[[36.320443528848756, 38.04410051096007, 41.51...</td>\n",
       "      <td>[4064.6328908239407, -336.7213601240507, -250....</td>\n",
       "    </tr>\n",
       "    <tr>\n",
       "      <th>1887</th>\n",
       "      <td>62.163469</td>\n",
       "      <td>[[3.5022449139475924, 1.7723777699716643, -2.0...</td>\n",
       "      <td>[[126.0837220412615, 125.05908313450841, 123.1...</td>\n",
       "      <td>[4045.0873907732152, -77.21671273352334, -0.0,...</td>\n",
       "    </tr>\n",
       "    <tr>\n",
       "      <th>1888</th>\n",
       "      <td>74.762793</td>\n",
       "      <td>[[-2.9959818473684585, 0.6162951981356461, 3.4...</td>\n",
       "      <td>[[68.26480469809766, 67.20321578215582, 65.700...</td>\n",
       "      <td>[4010.6046804116663, -276.62147602641403, -198...</td>\n",
       "    </tr>\n",
       "    <tr>\n",
       "      <th>1889</th>\n",
       "      <td>76.467929</td>\n",
       "      <td>[[1.754157536477847, 1.0459953313091381, -1.99...</td>\n",
       "      <td>[[45.69660134481664, 47.11011484792677, 49.967...</td>\n",
       "      <td>[4072.758564865582, -327.424290252574, -224.56...</td>\n",
       "    </tr>\n",
       "  </tbody>\n",
       "</table>\n",
       "<p>1890 rows × 4 columns</p>\n",
       "</div>"
      ],
      "text/plain": [
       "            error                                              theta  \\\n",
       "0      128.595358  [[2.0753792757293947, -2.939713260140235, 2.99...   \n",
       "1      829.265900  [[-1.3411462405184829, 0.9890292721018017, 0.7...   \n",
       "2     2204.136279  [[2.218461417764338, -0.9833211379938638, -2.6...   \n",
       "3      112.721442  [[1.973176422359584, -0.2929156043668017, 0.29...   \n",
       "4     1498.514718  [[-3.599878382938171, 3.1788990520129117, 0.37...   \n",
       "...           ...                                                ...   \n",
       "1885    74.424631  [[-2.268370746031691, 1.8648789002302468, 0.31...   \n",
       "1886    77.425139  [[7.858212388468309, 2.325375680181166, -8.369...   \n",
       "1887    62.163469  [[3.5022449139475924, 1.7723777699716643, -2.0...   \n",
       "1888    74.762793  [[-2.9959818473684585, 0.6162951981356461, 3.4...   \n",
       "1889    76.467929  [[1.754157536477847, 1.0459953313091381, -1.99...   \n",
       "\n",
       "                                                 reform  \\\n",
       "0     [[101.22724157695097, -20.46598564255528, 146....   \n",
       "1     [[710.038142907944, -1210.7814874812275, 1409....   \n",
       "2     [[-1557.6850159359365, 1723.902888854448, 2321...   \n",
       "3     [[70.56960068182491, 286.89310456103556, -100....   \n",
       "4     [[-21.628116685291815, 481.1109855582867, -406...   \n",
       "...                                                 ...   \n",
       "1885  [[69.2122191768816, 69.26885804925021, 69.8230...   \n",
       "1886  [[36.320443528848756, 38.04410051096007, 41.51...   \n",
       "1887  [[126.0837220412615, 125.05908313450841, 123.1...   \n",
       "1888  [[68.26480469809766, 67.20321578215582, 65.700...   \n",
       "1889  [[45.69660134481664, 47.11011484792677, 49.967...   \n",
       "\n",
       "                                                      s  \n",
       "0     [4291.290365832666, -101.3671894941771, -296.9...  \n",
       "1     [4283.545888777847, -78.21203888522433, -33.98...  \n",
       "2     [4157.758836116884, -316.2260883985498, -104.1...  \n",
       "3     [4280.809640535858, -226.96787671362222, -192....  \n",
       "4     [4174.11199580884, -406.3544064908659, -55.938...  \n",
       "...                                                 ...  \n",
       "1885  [4029.3155431908162, -263.88155388248725, -212...  \n",
       "1886  [4064.6328908239407, -336.7213601240507, -250....  \n",
       "1887  [4045.0873907732152, -77.21671273352334, -0.0,...  \n",
       "1888  [4010.6046804116663, -276.62147602641403, -198...  \n",
       "1889  [4072.758564865582, -327.424290252574, -224.56...  \n",
       "\n",
       "[1890 rows x 4 columns]"
      ]
     },
     "execution_count": 6,
     "metadata": {},
     "output_type": "execute_result"
    }
   ],
   "source": [
    "results_df = pd.DataFrame(results, columns=['error', 'theta', 'reform', 's'])\n",
    "results_df"
   ]
  },
  {
   "cell_type": "code",
   "execution_count": 7,
   "id": "6a79fa48",
   "metadata": {
    "scrolled": true
   },
   "outputs": [
    {
     "name": "stdout",
     "output_type": "stream",
     "text": [
      "      rep     alp  num_cell  cell_sz  sparse_freq      error\n",
      "354     1  1000.0       100        5            1  59.078480\n",
      "1308    6  1000.0       200        5            1  59.460446\n",
      "1296    6  1000.0       100        2            1  60.230080\n",
      "1110    5  1000.0       100        5            1  61.249132\n",
      "1113    5  1000.0       100        7            1  61.954105\n"
     ]
    },
    {
     "data": {
      "text/html": [
       "<div>\n",
       "<style scoped>\n",
       "    .dataframe tbody tr th:only-of-type {\n",
       "        vertical-align: middle;\n",
       "    }\n",
       "\n",
       "    .dataframe tbody tr th {\n",
       "        vertical-align: top;\n",
       "    }\n",
       "\n",
       "    .dataframe thead th {\n",
       "        text-align: right;\n",
       "    }\n",
       "</style>\n",
       "<table border=\"1\" class=\"dataframe\">\n",
       "  <thead>\n",
       "    <tr style=\"text-align: right;\">\n",
       "      <th></th>\n",
       "      <th>rep</th>\n",
       "      <th>alp</th>\n",
       "      <th>num_cell</th>\n",
       "      <th>cell_sz</th>\n",
       "      <th>sparse_freq</th>\n",
       "      <th>error</th>\n",
       "    </tr>\n",
       "  </thead>\n",
       "  <tbody>\n",
       "    <tr>\n",
       "      <th>354</th>\n",
       "      <td>1</td>\n",
       "      <td>1000.0</td>\n",
       "      <td>100</td>\n",
       "      <td>5</td>\n",
       "      <td>1</td>\n",
       "      <td>59.07848</td>\n",
       "    </tr>\n",
       "  </tbody>\n",
       "</table>\n",
       "</div>"
      ],
      "text/plain": [
       "     rep     alp  num_cell  cell_sz  sparse_freq     error\n",
       "354    1  1000.0       100        5            1  59.07848"
      ]
     },
     "execution_count": 7,
     "metadata": {},
     "output_type": "execute_result"
    }
   ],
   "source": [
    "temp = search_df.join(results_df['error'])\n",
    "opt_hyperparams(temp)"
   ]
  },
  {
   "cell_type": "code",
   "execution_count": 8,
   "id": "034ac4e8",
   "metadata": {},
   "outputs": [],
   "source": [
    "image_path = 'image/tree_part1.jpg'"
   ]
  },
  {
   "cell_type": "code",
   "execution_count": 13,
   "id": "0c94a7c2",
   "metadata": {},
   "outputs": [
    {
     "data": {
      "text/plain": [
       "<matplotlib.image.AxesImage at 0x7fe6b5cd0dc0>"
      ]
     },
     "execution_count": 13,
     "metadata": {},
     "output_type": "execute_result"
    },
    {
     "data": {
      "image/png": "[encoded data removed]",
      "text/plain": [
       "<Figure size 432x288 with 1 Axes>"
      ]
     },
     "metadata": {
      "needs_background": "light"
     },
     "output_type": "display_data"
    }
   ],
   "source": [
    "alpha = np.logspace(-3, 3, 7)\n",
    "\n",
    "image_path = 'image/city_part2.png'\n",
    "image_nm = image_path.split('/')[1].split('.')[0]\n",
    "img = Image.open(image_path)\n",
    "img = ImageOps.grayscale(img)\n",
    "img_arr = np.asarray(img)\n",
    "\n",
    "plt.imshow(img_arr)\n",
    "\n"
   ]
  },
  {
   "cell_type": "code",
   "execution_count": null,
   "id": "880fcc14",
   "metadata": {},
   "outputs": [],
   "source": []
  }
 ],
 "metadata": {
  "kernelspec": {
   "display_name": "Python 3 (ipykernel)",
   "language": "python",
   "name": "python3"
  },
  "language_info": {
   "codemirror_mode": {
    "name": "ipython",
    "version": 3
   },
   "file_extension": ".py",
   "mimetype": "text/x-python",
   "name": "python",
   "nbconvert_exporter": "python",
   "pygments_lexer": "ipython3",
   "version": "3.9.7"
  }
 },
 "nbformat": 4,
 "nbformat_minor": 5
}
