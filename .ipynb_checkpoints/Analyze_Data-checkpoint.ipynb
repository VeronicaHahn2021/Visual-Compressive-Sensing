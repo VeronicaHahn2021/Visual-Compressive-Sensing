{
 "cells": [
  {
   "cell_type": "code",
   "execution_count": 2,
   "id": "1fdac7bd",
   "metadata": {},
   "outputs": [],
   "source": [
    "import matplotlib.pyplot as plt\n",
    "import numpy as np\n",
    "import numpy.linalg as la\n",
    "\n",
    "from src.structured_random_features.src.models.weights import V1_weights\n",
    "\n",
    "# Packages for fft and fitting data\n",
    "from scipy import fftpack as fft\n",
    "from sklearn.linear_model import Lasso\n",
    "\n",
    "# Package for importing image representation\n",
    "from PIL import Image, ImageOps\n",
    "\n",
    "from src.V1_Compress import generate_Y, compress\n",
    "import pandas as pd\n",
    "import itertools\n",
    "import dask\n",
    "from dask.distributed import Client, progress\n",
    "import seaborn as sns\n",
    "import time\n",
    "import os.path"
   ]
  },
  {
   "cell_type": "code",
   "execution_count": 80,
   "id": "e28cec41",
   "metadata": {},
   "outputs": [],
   "source": [
    "working_img = 'city_part3.jpg'"
   ]
  },
  {
   "cell_type": "code",
   "execution_count": 81,
   "id": "d2728030",
   "metadata": {},
   "outputs": [],
   "source": [
    "# Work on previously saved data\n",
    "params_df = pd.read_csv('result/{img}/V1/param_Tue_Jul_12_15_29_48_2022.csv'.format(img = working_img.split('.')[0]))\n",
    "# results_df = pd.read_csv('result//results_Mon_May_23_21_46_49_2022.csv')\n",
    "# total_df = pd.read_csv('result//total_Mon_May_23_21_47_07_2022.csv')"
   ]
  },
  {
   "cell_type": "code",
   "execution_count": 82,
   "id": "e6cc6a5d",
   "metadata": {},
   "outputs": [],
   "source": [
    "for index in params_df.columns:\n",
    "    if (index == 'Unnamed: 0') :\n",
    "        params_df.drop('Unnamed: 0', axis = 1, inplace=True)\n",
    "\n",
    "# for index in results_df.columns:\n",
    "#     if (index == 'Unnamed: 0') :\n",
    "#         results_df.drop('Unnamed: 0', axis = 1, inplace=True)\n",
    "# for index in total_df.columns:\n",
    "#     if (index == 'Unnamed: 0') :\n",
    "#         total_df.drop('Unnamed: 0', axis = 1, inplace=True)\n"
   ]
  },
  {
   "cell_type": "code",
   "execution_count": 83,
   "id": "ddcb7044",
   "metadata": {},
   "outputs": [
    {
     "data": {
      "text/html": [
       "<div>\n",
       "<style scoped>\n",
       "    .dataframe tbody tr th:only-of-type {\n",
       "        vertical-align: middle;\n",
       "    }\n",
       "\n",
       "    .dataframe tbody tr th {\n",
       "        vertical-align: top;\n",
       "    }\n",
       "\n",
       "    .dataframe thead th {\n",
       "        text-align: right;\n",
       "    }\n",
       "</style>\n",
       "<table border=\"1\" class=\"dataframe\">\n",
       "  <thead>\n",
       "    <tr style=\"text-align: right;\">\n",
       "      <th></th>\n",
       "      <th>rep</th>\n",
       "      <th>alp</th>\n",
       "      <th>num_cell</th>\n",
       "      <th>cell_sz</th>\n",
       "      <th>sparse_freq</th>\n",
       "      <th>error</th>\n",
       "    </tr>\n",
       "  </thead>\n",
       "  <tbody>\n",
       "    <tr>\n",
       "      <th>0</th>\n",
       "      <td>0</td>\n",
       "      <td>0.001</td>\n",
       "      <td>100</td>\n",
       "      <td>2</td>\n",
       "      <td>1</td>\n",
       "      <td>128.595358</td>\n",
       "    </tr>\n",
       "    <tr>\n",
       "      <th>1</th>\n",
       "      <td>0</td>\n",
       "      <td>0.001</td>\n",
       "      <td>100</td>\n",
       "      <td>2</td>\n",
       "      <td>2</td>\n",
       "      <td>829.265900</td>\n",
       "    </tr>\n",
       "    <tr>\n",
       "      <th>2</th>\n",
       "      <td>0</td>\n",
       "      <td>0.001</td>\n",
       "      <td>100</td>\n",
       "      <td>2</td>\n",
       "      <td>5</td>\n",
       "      <td>2204.136279</td>\n",
       "    </tr>\n",
       "    <tr>\n",
       "      <th>3</th>\n",
       "      <td>0</td>\n",
       "      <td>0.001</td>\n",
       "      <td>100</td>\n",
       "      <td>5</td>\n",
       "      <td>1</td>\n",
       "      <td>112.721442</td>\n",
       "    </tr>\n",
       "    <tr>\n",
       "      <th>4</th>\n",
       "      <td>0</td>\n",
       "      <td>0.001</td>\n",
       "      <td>100</td>\n",
       "      <td>5</td>\n",
       "      <td>2</td>\n",
       "      <td>1498.514718</td>\n",
       "    </tr>\n",
       "    <tr>\n",
       "      <th>...</th>\n",
       "      <td>...</td>\n",
       "      <td>...</td>\n",
       "      <td>...</td>\n",
       "      <td>...</td>\n",
       "      <td>...</td>\n",
       "      <td>...</td>\n",
       "    </tr>\n",
       "    <tr>\n",
       "      <th>1885</th>\n",
       "      <td>9</td>\n",
       "      <td>1000.000</td>\n",
       "      <td>500</td>\n",
       "      <td>5</td>\n",
       "      <td>2</td>\n",
       "      <td>74.424631</td>\n",
       "    </tr>\n",
       "    <tr>\n",
       "      <th>1886</th>\n",
       "      <td>9</td>\n",
       "      <td>1000.000</td>\n",
       "      <td>500</td>\n",
       "      <td>5</td>\n",
       "      <td>5</td>\n",
       "      <td>77.425139</td>\n",
       "    </tr>\n",
       "    <tr>\n",
       "      <th>1887</th>\n",
       "      <td>9</td>\n",
       "      <td>1000.000</td>\n",
       "      <td>500</td>\n",
       "      <td>7</td>\n",
       "      <td>1</td>\n",
       "      <td>62.163469</td>\n",
       "    </tr>\n",
       "    <tr>\n",
       "      <th>1888</th>\n",
       "      <td>9</td>\n",
       "      <td>1000.000</td>\n",
       "      <td>500</td>\n",
       "      <td>7</td>\n",
       "      <td>2</td>\n",
       "      <td>74.762793</td>\n",
       "    </tr>\n",
       "    <tr>\n",
       "      <th>1889</th>\n",
       "      <td>9</td>\n",
       "      <td>1000.000</td>\n",
       "      <td>500</td>\n",
       "      <td>7</td>\n",
       "      <td>5</td>\n",
       "      <td>76.467929</td>\n",
       "    </tr>\n",
       "  </tbody>\n",
       "</table>\n",
       "<p>1890 rows × 6 columns</p>\n",
       "</div>"
      ],
      "text/plain": [
       "      rep       alp  num_cell  cell_sz  sparse_freq        error\n",
       "0       0     0.001       100        2            1   128.595358\n",
       "1       0     0.001       100        2            2   829.265900\n",
       "2       0     0.001       100        2            5  2204.136279\n",
       "3       0     0.001       100        5            1   112.721442\n",
       "4       0     0.001       100        5            2  1498.514718\n",
       "...   ...       ...       ...      ...          ...          ...\n",
       "1885    9  1000.000       500        5            2    74.424631\n",
       "1886    9  1000.000       500        5            5    77.425139\n",
       "1887    9  1000.000       500        7            1    62.163469\n",
       "1888    9  1000.000       500        7            2    74.762793\n",
       "1889    9  1000.000       500        7            5    76.467929\n",
       "\n",
       "[1890 rows x 6 columns]"
      ]
     },
     "execution_count": 83,
     "metadata": {},
     "output_type": "execute_result"
    }
   ],
   "source": [
    "params_df"
   ]
  },
  {
   "cell_type": "code",
   "execution_count": 84,
   "id": "17e82a9d",
   "metadata": {},
   "outputs": [
    {
     "data": {
      "text/plain": [
       "<seaborn.axisgrid.FacetGrid at 0x7fc3a92756a0>"
      ]
     },
     "execution_count": 84,
     "metadata": {},
     "output_type": "execute_result"
    },
    {
     "data": {
      "image/png": "[encoded data removed]",
      "text/plain": [
       "<Figure size 402.375x360 with 1 Axes>"
      ]
     },
     "metadata": {
      "needs_background": "light"
     },
     "output_type": "display_data"
    }
   ],
   "source": [
    "save_path = os.path.join('./result/{img}/V1/'.format(img = working_img.split('.')[0]))\n",
    "fig = sns.relplot(data = params_df, x = 'alp', y = 'error', kind='line', palette='Accent', hue = 'cell_sz')\n",
    "fig.set(yscale='log')\n",
    "fig.set(xscale='log')\n",
    "fig.set(title='error for each cell_size')\n",
    "# fig.savefig(os.path.join(save_path, \"alpha_error_per_size\" + \"_\".join(str.split(time.ctime().replace(\":\", \"_\"))) + \".pdf\"), dpi = 200)"
   ]
  },
  {
   "cell_type": "code",
   "execution_count": 85,
   "id": "375ad5f4",
   "metadata": {},
   "outputs": [
    {
     "data": {
      "image/png": "[encoded data removed]",
      "text/plain": [
       "<Figure size 422.75x360 with 1 Axes>"
      ]
     },
     "metadata": {
      "needs_background": "light"
     },
     "output_type": "display_data"
    }
   ],
   "source": [
    "save_path = os.path.join('./result/{img}/V1/'.format(img = working_img.split('.')[0]))\n",
    "fig = sns.relplot(data = params_df, x = 'alp', y = 'error', kind='line', palette='Accent', \n",
    "                  hue = params_df[['sparse_freq', 'cell_sz']].apply(tuple, axis = 1))\n",
    "fig.set(yscale='log')\n",
    "fig.set(xscale='log')\n",
    "fig.set(title='error for each frequency')\n",
    "fig.savefig(os.path.join(save_path, \"alpha_error_per_hyperparam_\" + \"_\".join(\n",
    "    str.split(time.ctime().replace(\":\", \"_\"))) + \".png\"), dpi = 200)"
   ]
  },
  {
   "cell_type": "code",
   "execution_count": 86,
   "id": "e4f5ce43",
   "metadata": {},
   "outputs": [
    {
     "data": {
      "image/png": "[encoded data removed]",
      "text/plain": [
       "<Figure size 360x360 with 1 Axes>"
      ]
     },
     "metadata": {
      "needs_background": "light"
     },
     "output_type": "display_data"
    }
   ],
   "source": [
    "save_path = os.path.join('./result/{img}/V1'.format(img = working_img.split('.')[0]))\n",
    "fig = sns.relplot(data = params_df, x = 'alp', y = 'error', kind='line')\n",
    "fig.set(yscale='log')\n",
    "fig.set(xscale='log')\n",
    "fig.set(title='Error for each penalty(General)')\n",
    "fig.savefig(os.path.join(save_path, \"alpha_error_general\" + \"_\".join(\n",
    "    str.split(time.ctime().replace(\":\", \"_\"))) + \".png\"), dpi = 200)"
   ]
  },
  {
   "cell_type": "code",
   "execution_count": 87,
   "id": "799e2dfe",
   "metadata": {},
   "outputs": [
    {
     "data": {
      "image/png": "[encoded data removed]",
      "text/plain": [
       "<Figure size 431.125x360 with 1 Axes>"
      ]
     },
     "metadata": {
      "needs_background": "light"
     },
     "output_type": "display_data"
    }
   ],
   "source": [
    "# To show how consistent randomly generated V1 weight would be for each rep. it should be about same for each repetition\n",
    "save_path = os.path.join('./result/{img}/V1/'.format(img = working_img.split('.')[0]))\n",
    "fig = sns.relplot(data = params_df, x = 'rep', y = 'error', kind='line', palette='Accent', hue = 'alp')\n",
    "fig.set(title='error consistency')\n",
    "fig.set(yscale='log')\n",
    "fig.savefig(os.path.join(save_path, \"alpha_error_consistency\" + \"_\".join(\n",
    "    str.split(time.ctime().replace(\":\", \"_\"))) + \".png\"), dpi = 200)"
   ]
  },
  {
   "cell_type": "code",
   "execution_count": null,
   "id": "867da539",
   "metadata": {},
   "outputs": [],
   "source": []
  },
  {
   "cell_type": "code",
   "execution_count": 88,
   "id": "2db08014",
   "metadata": {},
   "outputs": [
    {
     "data": {
      "text/html": [
       "<div>\n",
       "<style scoped>\n",
       "    .dataframe tbody tr th:only-of-type {\n",
       "        vertical-align: middle;\n",
       "    }\n",
       "\n",
       "    .dataframe tbody tr th {\n",
       "        vertical-align: top;\n",
       "    }\n",
       "\n",
       "    .dataframe thead th {\n",
       "        text-align: right;\n",
       "    }\n",
       "</style>\n",
       "<table border=\"1\" class=\"dataframe\">\n",
       "  <thead>\n",
       "    <tr style=\"text-align: right;\">\n",
       "      <th></th>\n",
       "      <th></th>\n",
       "      <th></th>\n",
       "      <th></th>\n",
       "      <th>error</th>\n",
       "    </tr>\n",
       "    <tr>\n",
       "      <th>num_cell</th>\n",
       "      <th>cell_sz</th>\n",
       "      <th>sparse_freq</th>\n",
       "      <th>alp</th>\n",
       "      <th></th>\n",
       "    </tr>\n",
       "  </thead>\n",
       "  <tbody>\n",
       "    <tr>\n",
       "      <th>500</th>\n",
       "      <th>7</th>\n",
       "      <th>1</th>\n",
       "      <th>1000.0</th>\n",
       "      <td>63.809992</td>\n",
       "    </tr>\n",
       "  </tbody>\n",
       "</table>\n",
       "</div>"
      ],
      "text/plain": [
       "                                         error\n",
       "num_cell cell_sz sparse_freq alp              \n",
       "500      7       1           1000.0  63.809992"
      ]
     },
     "execution_count": 88,
     "metadata": {},
     "output_type": "execute_result"
    }
   ],
   "source": [
    "params_df.groupby(by=['num_cell', 'cell_sz', 'sparse_freq', 'alp']).mean().sort_values(\n",
    "    by='error', ascending= True).drop('rep', axis = 1).head(1)"
   ]
  },
  {
   "cell_type": "code",
   "execution_count": 89,
   "id": "3478d576",
   "metadata": {},
   "outputs": [
    {
     "data": {
      "text/html": [
       "<div>\n",
       "<style scoped>\n",
       "    .dataframe tbody tr th:only-of-type {\n",
       "        vertical-align: middle;\n",
       "    }\n",
       "\n",
       "    .dataframe tbody tr th {\n",
       "        vertical-align: top;\n",
       "    }\n",
       "\n",
       "    .dataframe thead th {\n",
       "        text-align: right;\n",
       "    }\n",
       "</style>\n",
       "<table border=\"1\" class=\"dataframe\">\n",
       "  <thead>\n",
       "    <tr style=\"text-align: right;\">\n",
       "      <th></th>\n",
       "      <th></th>\n",
       "      <th></th>\n",
       "      <th></th>\n",
       "      <th>error</th>\n",
       "    </tr>\n",
       "    <tr>\n",
       "      <th>num_cell</th>\n",
       "      <th>cell_sz</th>\n",
       "      <th>sparse_freq</th>\n",
       "      <th>alp</th>\n",
       "      <th></th>\n",
       "    </tr>\n",
       "  </thead>\n",
       "  <tbody>\n",
       "    <tr>\n",
       "      <th rowspan=\"5\" valign=\"top\">100</th>\n",
       "      <th rowspan=\"5\" valign=\"top\">2</th>\n",
       "      <th rowspan=\"5\" valign=\"top\">1</th>\n",
       "      <th>0.001</th>\n",
       "      <td>109.146700</td>\n",
       "    </tr>\n",
       "    <tr>\n",
       "      <th>0.010</th>\n",
       "      <td>106.351760</td>\n",
       "    </tr>\n",
       "    <tr>\n",
       "      <th>0.100</th>\n",
       "      <td>83.482099</td>\n",
       "    </tr>\n",
       "    <tr>\n",
       "      <th>1.000</th>\n",
       "      <td>78.364219</td>\n",
       "    </tr>\n",
       "    <tr>\n",
       "      <th>10.000</th>\n",
       "      <td>78.803230</td>\n",
       "    </tr>\n",
       "    <tr>\n",
       "      <th>...</th>\n",
       "      <th>...</th>\n",
       "      <th>...</th>\n",
       "      <th>...</th>\n",
       "      <td>...</td>\n",
       "    </tr>\n",
       "    <tr>\n",
       "      <th rowspan=\"5\" valign=\"top\">500</th>\n",
       "      <th rowspan=\"5\" valign=\"top\">7</th>\n",
       "      <th rowspan=\"5\" valign=\"top\">5</th>\n",
       "      <th>0.100</th>\n",
       "      <td>83.488258</td>\n",
       "    </tr>\n",
       "    <tr>\n",
       "      <th>1.000</th>\n",
       "      <td>82.552096</td>\n",
       "    </tr>\n",
       "    <tr>\n",
       "      <th>10.000</th>\n",
       "      <td>81.604943</td>\n",
       "    </tr>\n",
       "    <tr>\n",
       "      <th>100.000</th>\n",
       "      <td>80.498505</td>\n",
       "    </tr>\n",
       "    <tr>\n",
       "      <th>1000.000</th>\n",
       "      <td>76.414034</td>\n",
       "    </tr>\n",
       "  </tbody>\n",
       "</table>\n",
       "<p>189 rows × 1 columns</p>\n",
       "</div>"
      ],
      "text/plain": [
       "                                            error\n",
       "num_cell cell_sz sparse_freq alp                 \n",
       "100      2       1           0.001     109.146700\n",
       "                             0.010     106.351760\n",
       "                             0.100      83.482099\n",
       "                             1.000      78.364219\n",
       "                             10.000     78.803230\n",
       "...                                           ...\n",
       "500      7       5           0.100      83.488258\n",
       "                             1.000      82.552096\n",
       "                             10.000     81.604943\n",
       "                             100.000    80.498505\n",
       "                             1000.000   76.414034\n",
       "\n",
       "[189 rows x 1 columns]"
      ]
     },
     "execution_count": 89,
     "metadata": {},
     "output_type": "execute_result"
    }
   ],
   "source": [
    "params_df.groupby(by=['num_cell', 'cell_sz', 'sparse_freq', 'alp']).mean().drop('rep', axis = 1)"
   ]
  },
  {
   "cell_type": "code",
   "execution_count": null,
   "id": "4d5e5b4f",
   "metadata": {},
   "outputs": [],
   "source": []
  },
  {
   "cell_type": "code",
   "execution_count": 90,
   "id": "8f3d7fd5",
   "metadata": {},
   "outputs": [
    {
     "data": {
      "text/html": [
       "<div>\n",
       "<style scoped>\n",
       "    .dataframe tbody tr th:only-of-type {\n",
       "        vertical-align: middle;\n",
       "    }\n",
       "\n",
       "    .dataframe tbody tr th {\n",
       "        vertical-align: top;\n",
       "    }\n",
       "\n",
       "    .dataframe thead th {\n",
       "        text-align: right;\n",
       "    }\n",
       "</style>\n",
       "<table border=\"1\" class=\"dataframe\">\n",
       "  <thead>\n",
       "    <tr style=\"text-align: right;\">\n",
       "      <th></th>\n",
       "      <th>classical_samp</th>\n",
       "      <th>alpha</th>\n",
       "      <th>repetition</th>\n",
       "      <th>error</th>\n",
       "    </tr>\n",
       "  </thead>\n",
       "  <tbody>\n",
       "    <tr>\n",
       "      <th>0</th>\n",
       "      <td>100</td>\n",
       "      <td>0.001</td>\n",
       "      <td>0</td>\n",
       "      <td>52.343607</td>\n",
       "    </tr>\n",
       "    <tr>\n",
       "      <th>1</th>\n",
       "      <td>200</td>\n",
       "      <td>0.001</td>\n",
       "      <td>0</td>\n",
       "      <td>46.781468</td>\n",
       "    </tr>\n",
       "    <tr>\n",
       "      <th>2</th>\n",
       "      <td>500</td>\n",
       "      <td>0.001</td>\n",
       "      <td>0</td>\n",
       "      <td>31.417630</td>\n",
       "    </tr>\n",
       "  </tbody>\n",
       "</table>\n",
       "</div>"
      ],
      "text/plain": [
       "   classical_samp  alpha  repetition      error\n",
       "0             100  0.001           0  52.343607\n",
       "1             200  0.001           0  46.781468\n",
       "2             500  0.001           0  31.417630"
      ]
     },
     "execution_count": 90,
     "metadata": {},
     "output_type": "execute_result"
    }
   ],
   "source": [
    "compress_param_df = pd.read_csv('result/{img}/Classical/Classical_Param_Tue_Jul_12_15_40_34_2022.csv'.format(img = working_img.split('.')[0]))\n",
    "for index in compress_param_df.columns:\n",
    "    if (index == 'Unnamed: 0') :\n",
    "        compress_param_df.drop('Unnamed: 0', axis = 1, inplace=True)\n",
    "compress_param_df.head(3)"
   ]
  },
  {
   "cell_type": "code",
   "execution_count": 91,
   "id": "b0dd6cff",
   "metadata": {},
   "outputs": [
    {
     "data": {
      "image/png": "[encoded data removed]",
      "text/plain": [
       "<Figure size 467.5x360 with 1 Axes>"
      ]
     },
     "metadata": {
      "needs_background": "light"
     },
     "output_type": "display_data"
    }
   ],
   "source": [
    "save_path = os.path.join('./result/{img}/'.format(img = working_img.split('.')[0]))\n",
    "fig = sns.relplot(data = params_df, x = 'alp', y = 'error', kind='line', palette='Accent', \n",
    "                  hue = params_df[['sparse_freq', 'cell_sz']].apply(tuple, axis = 1), legend = False)\n",
    "\n",
    "fig.set(title='Error for each penalty')\n",
    "fig.map(sns.lineplot, x = 'alpha', y = 'error', data = compress_param_df, \n",
    "        label= 'classical_error', color = 'black', legend = True).add_legend(title='Classical Err', loc = 'right')\n",
    "fig.set(yscale='log')\n",
    "fig.set(xscale='log')\n",
    "plt.legend(title = 'V1', labels =['(1, 2)', '(2, 2)', '(5, 2)', '(1, 5)', '(2, 5)', '(5, 5)', '(1, 7)', '(2, 7)', '(5, 7)'])\n",
    "# plt.legend(title = 'Classical', label = ['classic'])\n",
    "fig.savefig(os.path.join(save_path, \"Error_for_each_penalty_\" + \"_\".join(\n",
    "    str.split(time.ctime().replace(\":\", \"_\"))) + \".png\"), dpi = 200)\n"
   ]
  },
  {
   "cell_type": "code",
   "execution_count": 92,
   "id": "5a84fbea",
   "metadata": {},
   "outputs": [
    {
     "data": {
      "image/png": "[encoded data removed]",
      "text/plain": [
       "<Figure size 360x360 with 1 Axes>"
      ]
     },
     "metadata": {
      "needs_background": "light"
     },
     "output_type": "display_data"
    }
   ],
   "source": [
    "save_path = os.path.join('./result/{img}/Classical/'.format(img = working_img.split('.')[0]))\n",
    "\n",
    "\n",
    "compress_fig = sns.relplot(data = compress_param_df, x = 'alpha', y = 'error', kind= 'line')\n",
    "compress_fig.set(yscale='log')\n",
    "compress_fig.set(xscale='log')\n",
    "plt.title('Classical: Error for each penalty')\n",
    "compress_fig.savefig(os.path.join(save_path, \"Error_for_each_penalty_\" + \"_\".join(\n",
    "    str.split(time.ctime().replace(\":\", \"_\"))) + \".png\"), dpi = 200)\n",
    "plt.show()"
   ]
  },
  {
   "cell_type": "code",
   "execution_count": 93,
   "id": "50620385",
   "metadata": {},
   "outputs": [],
   "source": [
    "temp_err = params_df.groupby(['num_cell', 'sparse_freq', 'cell_sz', 'alp']).agg({'error':'mean'})"
   ]
  },
  {
   "cell_type": "markdown",
   "id": "ede23f75",
   "metadata": {},
   "source": [
    "## Error Vs Num_Cell Graph"
   ]
  },
  {
   "cell_type": "code",
   "execution_count": 77,
   "id": "6fb6b8d6",
   "metadata": {
    "scrolled": false
   },
   "outputs": [
    {
     "ename": "KeyError",
     "evalue": "'cell_size'",
     "output_type": "error",
     "traceback": [
      "\u001b[0;31m---------------------------------------------------------------------------\u001b[0m",
      "\u001b[0;31mKeyError\u001b[0m                                  Traceback (most recent call last)",
      "\u001b[0;32m/tmp/ipykernel_26770/1555310164.py\u001b[0m in \u001b[0;36m<module>\u001b[0;34m\u001b[0m\n\u001b[0;32m----> 1\u001b[0;31m \u001b[0mmean_err\u001b[0m \u001b[0;34m=\u001b[0m \u001b[0mparams_df\u001b[0m\u001b[0;34m.\u001b[0m\u001b[0mgroupby\u001b[0m\u001b[0;34m(\u001b[0m\u001b[0;34m[\u001b[0m\u001b[0;34m'num_cell'\u001b[0m\u001b[0;34m,\u001b[0m \u001b[0;34m'sparse_freq'\u001b[0m\u001b[0;34m,\u001b[0m \u001b[0;34m'cell_size'\u001b[0m\u001b[0;34m,\u001b[0m \u001b[0;34m'alpha'\u001b[0m\u001b[0;34m]\u001b[0m\u001b[0;34m,\u001b[0m \u001b[0mas_index\u001b[0m \u001b[0;34m=\u001b[0m \u001b[0;32mFalse\u001b[0m\u001b[0;34m)\u001b[0m\u001b[0;34m.\u001b[0m\u001b[0magg\u001b[0m\u001b[0;34m(\u001b[0m\u001b[0;34m{\u001b[0m\u001b[0;34m'error'\u001b[0m\u001b[0;34m:\u001b[0m\u001b[0;34m'mean'\u001b[0m\u001b[0;34m}\u001b[0m\u001b[0;34m)\u001b[0m\u001b[0;34m\u001b[0m\u001b[0;34m\u001b[0m\u001b[0m\n\u001b[0m\u001b[1;32m      2\u001b[0m \u001b[0mline_data\u001b[0m \u001b[0;34m=\u001b[0m \u001b[0mmean_err\u001b[0m\u001b[0;34m.\u001b[0m\u001b[0mgroupby\u001b[0m\u001b[0;34m(\u001b[0m\u001b[0;34m[\u001b[0m\u001b[0;34m'num_cell'\u001b[0m\u001b[0;34m]\u001b[0m\u001b[0;34m,\u001b[0m \u001b[0mas_index\u001b[0m \u001b[0;34m=\u001b[0m \u001b[0;32mFalse\u001b[0m\u001b[0;34m)\u001b[0m\u001b[0;34m.\u001b[0m\u001b[0magg\u001b[0m\u001b[0;34m(\u001b[0m\u001b[0;34m{\u001b[0m\u001b[0;34m'error'\u001b[0m\u001b[0;34m:\u001b[0m\u001b[0;34m'min'\u001b[0m\u001b[0;34m}\u001b[0m\u001b[0;34m)\u001b[0m\u001b[0;34m\u001b[0m\u001b[0;34m\u001b[0m\u001b[0m\n\u001b[1;32m      3\u001b[0m \u001b[0mfig\u001b[0m \u001b[0;34m=\u001b[0m \u001b[0msns\u001b[0m\u001b[0;34m.\u001b[0m\u001b[0mrelplot\u001b[0m\u001b[0;34m(\u001b[0m\u001b[0mx\u001b[0m \u001b[0;34m=\u001b[0m \u001b[0mline_data\u001b[0m\u001b[0;34m[\u001b[0m\u001b[0;34m'num_cell'\u001b[0m\u001b[0;34m]\u001b[0m\u001b[0;34m,\u001b[0m \u001b[0my\u001b[0m \u001b[0;34m=\u001b[0m \u001b[0mline_data\u001b[0m\u001b[0;34m[\u001b[0m\u001b[0;34m'error'\u001b[0m\u001b[0;34m]\u001b[0m\u001b[0;34m,\u001b[0m \u001b[0mkind\u001b[0m\u001b[0;34m=\u001b[0m\u001b[0;34m'line'\u001b[0m\u001b[0;34m)\u001b[0m\u001b[0;34m\u001b[0m\u001b[0;34m\u001b[0m\u001b[0m\n\u001b[1;32m      4\u001b[0m \u001b[0mplt\u001b[0m\u001b[0;34m.\u001b[0m\u001b[0mtitle\u001b[0m\u001b[0;34m(\u001b[0m\u001b[0;34m\"Num_Cell Vs. Error\"\u001b[0m\u001b[0;34m)\u001b[0m\u001b[0;34m\u001b[0m\u001b[0;34m\u001b[0m\u001b[0m\n\u001b[1;32m      5\u001b[0m \u001b[0mplt\u001b[0m\u001b[0;34m.\u001b[0m\u001b[0mxticks\u001b[0m\u001b[0;34m(\u001b[0m\u001b[0mline_data\u001b[0m\u001b[0;34m[\u001b[0m\u001b[0;34m'num_cell'\u001b[0m\u001b[0;34m]\u001b[0m\u001b[0;34m)\u001b[0m\u001b[0;34m\u001b[0m\u001b[0;34m\u001b[0m\u001b[0m\n",
      "\u001b[0;32m~/anaconda3/lib/python3.9/site-packages/pandas/core/frame.py\u001b[0m in \u001b[0;36mgroupby\u001b[0;34m(self, by, axis, level, as_index, sort, group_keys, squeeze, observed, dropna)\u001b[0m\n\u001b[1;32m   7629\u001b[0m         \u001b[0;31m# error: Argument \"squeeze\" to \"DataFrameGroupBy\" has incompatible type\u001b[0m\u001b[0;34m\u001b[0m\u001b[0;34m\u001b[0m\u001b[0m\n\u001b[1;32m   7630\u001b[0m         \u001b[0;31m# \"Union[bool, NoDefault]\"; expected \"bool\"\u001b[0m\u001b[0;34m\u001b[0m\u001b[0;34m\u001b[0m\u001b[0m\n\u001b[0;32m-> 7631\u001b[0;31m         return DataFrameGroupBy(\n\u001b[0m\u001b[1;32m   7632\u001b[0m             \u001b[0mobj\u001b[0m\u001b[0;34m=\u001b[0m\u001b[0mself\u001b[0m\u001b[0;34m,\u001b[0m\u001b[0;34m\u001b[0m\u001b[0;34m\u001b[0m\u001b[0m\n\u001b[1;32m   7633\u001b[0m             \u001b[0mkeys\u001b[0m\u001b[0;34m=\u001b[0m\u001b[0mby\u001b[0m\u001b[0;34m,\u001b[0m\u001b[0;34m\u001b[0m\u001b[0;34m\u001b[0m\u001b[0m\n",
      "\u001b[0;32m~/anaconda3/lib/python3.9/site-packages/pandas/core/groupby/groupby.py\u001b[0m in \u001b[0;36m__init__\u001b[0;34m(self, obj, keys, axis, level, grouper, exclusions, selection, as_index, sort, group_keys, squeeze, observed, mutated, dropna)\u001b[0m\n\u001b[1;32m    887\u001b[0m             \u001b[0;32mfrom\u001b[0m \u001b[0mpandas\u001b[0m\u001b[0;34m.\u001b[0m\u001b[0mcore\u001b[0m\u001b[0;34m.\u001b[0m\u001b[0mgroupby\u001b[0m\u001b[0;34m.\u001b[0m\u001b[0mgrouper\u001b[0m \u001b[0;32mimport\u001b[0m \u001b[0mget_grouper\u001b[0m\u001b[0;34m\u001b[0m\u001b[0;34m\u001b[0m\u001b[0m\n\u001b[1;32m    888\u001b[0m \u001b[0;34m\u001b[0m\u001b[0m\n\u001b[0;32m--> 889\u001b[0;31m             grouper, exclusions, obj = get_grouper(\n\u001b[0m\u001b[1;32m    890\u001b[0m                 \u001b[0mobj\u001b[0m\u001b[0;34m,\u001b[0m\u001b[0;34m\u001b[0m\u001b[0;34m\u001b[0m\u001b[0m\n\u001b[1;32m    891\u001b[0m                 \u001b[0mkeys\u001b[0m\u001b[0;34m,\u001b[0m\u001b[0;34m\u001b[0m\u001b[0;34m\u001b[0m\u001b[0m\n",
      "\u001b[0;32m~/anaconda3/lib/python3.9/site-packages/pandas/core/groupby/grouper.py\u001b[0m in \u001b[0;36mget_grouper\u001b[0;34m(obj, key, axis, level, sort, observed, mutated, validate, dropna)\u001b[0m\n\u001b[1;32m    860\u001b[0m                 \u001b[0min_axis\u001b[0m\u001b[0;34m,\u001b[0m \u001b[0mlevel\u001b[0m\u001b[0;34m,\u001b[0m \u001b[0mgpr\u001b[0m \u001b[0;34m=\u001b[0m \u001b[0;32mFalse\u001b[0m\u001b[0;34m,\u001b[0m \u001b[0mgpr\u001b[0m\u001b[0;34m,\u001b[0m \u001b[0;32mNone\u001b[0m\u001b[0;34m\u001b[0m\u001b[0;34m\u001b[0m\u001b[0m\n\u001b[1;32m    861\u001b[0m             \u001b[0;32melse\u001b[0m\u001b[0;34m:\u001b[0m\u001b[0;34m\u001b[0m\u001b[0;34m\u001b[0m\u001b[0m\n\u001b[0;32m--> 862\u001b[0;31m                 \u001b[0;32mraise\u001b[0m \u001b[0mKeyError\u001b[0m\u001b[0;34m(\u001b[0m\u001b[0mgpr\u001b[0m\u001b[0;34m)\u001b[0m\u001b[0;34m\u001b[0m\u001b[0;34m\u001b[0m\u001b[0m\n\u001b[0m\u001b[1;32m    863\u001b[0m         \u001b[0;32melif\u001b[0m \u001b[0misinstance\u001b[0m\u001b[0;34m(\u001b[0m\u001b[0mgpr\u001b[0m\u001b[0;34m,\u001b[0m \u001b[0mGrouper\u001b[0m\u001b[0;34m)\u001b[0m \u001b[0;32mand\u001b[0m \u001b[0mgpr\u001b[0m\u001b[0;34m.\u001b[0m\u001b[0mkey\u001b[0m \u001b[0;32mis\u001b[0m \u001b[0;32mnot\u001b[0m \u001b[0;32mNone\u001b[0m\u001b[0;34m:\u001b[0m\u001b[0;34m\u001b[0m\u001b[0;34m\u001b[0m\u001b[0m\n\u001b[1;32m    864\u001b[0m             \u001b[0;31m# Add key to exclusions\u001b[0m\u001b[0;34m\u001b[0m\u001b[0;34m\u001b[0m\u001b[0m\n",
      "\u001b[0;31mKeyError\u001b[0m: 'cell_size'"
     ]
    }
   ],
   "source": [
    "mean_err = params_df.groupby(['num_cell', 'sparse_freq', 'cell_size', 'alpha'], as_index = False).agg({'error':'mean'})\n",
    "line_data = mean_err.groupby(['num_cell'], as_index = False).agg({'error':'min'})\n",
    "fig = sns.relplot(x = line_data['num_cell'], y = line_data['error'], kind='line')\n",
    "plt.title(\"Num_Cell Vs. Error\")\n",
    "plt.xticks(line_data['num_cell'])\n",
    "fig.set(yscale = 'log')\n",
    "plt.plot(line_data['num_cell'], line_data['error'], 'r.')"
   ]
  },
  {
   "cell_type": "code",
   "execution_count": 57,
   "id": "597b6cc5",
   "metadata": {},
   "outputs": [
    {
     "data": {
      "text/plain": [
       "3"
      ]
     },
     "execution_count": 57,
     "metadata": {},
     "output_type": "execute_result"
    }
   ],
   "source": [
    "line_data['num_cell'].value_counts().sum()"
   ]
  },
  {
   "cell_type": "code",
   "execution_count": 86,
   "id": "f57e6941",
   "metadata": {},
   "outputs": [],
   "source": [
    "min_mean_err_df = pd.DataFrame()\n",
    "for i in mean_err['num_cell'].unique():\n",
    "    temp = mean_err.loc[mean_err['num_cell'] == i]\n",
    "    #hyperparameter for each number of cell\n",
    "    ## Grabbing values by each values\n",
    "    min_mean_err_df = min_mean_err_df.append(temp.loc[temp['error'] == temp['error'].min()])\n",
    "    \n",
    "# Merge two data to extract\n",
    "min_mean_err_df = min_mean_err_df.rename(columns={'error' : 'mean_err'})\n",
    "merged_df = pd.merge(params_df, min_mean_err_df, on = ['num_cell', 'sparse_freq', 'cell_size', 'alpha'], how = 'left')\n",
    "plotting_data = merged_df.loc[merged_df['mean_err'].notnull()]"
   ]
  },
  {
   "cell_type": "code",
   "execution_count": 103,
   "id": "acf6daa8",
   "metadata": {
    "scrolled": false
   },
   "outputs": [],
   "source": []
  },
  {
   "cell_type": "code",
   "execution_count": 36,
   "id": "d67da04f",
   "metadata": {},
   "outputs": [
    {
     "data": {
      "text/html": [
       "<div>\n",
       "<style scoped>\n",
       "    .dataframe tbody tr th:only-of-type {\n",
       "        vertical-align: middle;\n",
       "    }\n",
       "\n",
       "    .dataframe tbody tr th {\n",
       "        vertical-align: top;\n",
       "    }\n",
       "\n",
       "    .dataframe thead th {\n",
       "        text-align: right;\n",
       "    }\n",
       "</style>\n",
       "<table border=\"1\" class=\"dataframe\">\n",
       "  <thead>\n",
       "    <tr style=\"text-align: right;\">\n",
       "      <th></th>\n",
       "      <th>repetition</th>\n",
       "      <th>num_cell</th>\n",
       "      <th>cell_size</th>\n",
       "      <th>sparse_freq</th>\n",
       "      <th>alpha</th>\n",
       "      <th>error</th>\n",
       "    </tr>\n",
       "  </thead>\n",
       "  <tbody>\n",
       "    <tr>\n",
       "      <th>86</th>\n",
       "      <td>0</td>\n",
       "      <td>100</td>\n",
       "      <td>5</td>\n",
       "      <td>5</td>\n",
       "      <td>1.0</td>\n",
       "      <td>23.323652</td>\n",
       "    </tr>\n",
       "    <tr>\n",
       "      <th>275</th>\n",
       "      <td>1</td>\n",
       "      <td>100</td>\n",
       "      <td>5</td>\n",
       "      <td>5</td>\n",
       "      <td>1.0</td>\n",
       "      <td>23.080329</td>\n",
       "    </tr>\n",
       "    <tr>\n",
       "      <th>464</th>\n",
       "      <td>2</td>\n",
       "      <td>100</td>\n",
       "      <td>5</td>\n",
       "      <td>5</td>\n",
       "      <td>1.0</td>\n",
       "      <td>22.865730</td>\n",
       "    </tr>\n",
       "    <tr>\n",
       "      <th>653</th>\n",
       "      <td>3</td>\n",
       "      <td>100</td>\n",
       "      <td>5</td>\n",
       "      <td>5</td>\n",
       "      <td>1.0</td>\n",
       "      <td>23.166681</td>\n",
       "    </tr>\n",
       "    <tr>\n",
       "      <th>842</th>\n",
       "      <td>4</td>\n",
       "      <td>100</td>\n",
       "      <td>5</td>\n",
       "      <td>5</td>\n",
       "      <td>1.0</td>\n",
       "      <td>22.958887</td>\n",
       "    </tr>\n",
       "    <tr>\n",
       "      <th>1031</th>\n",
       "      <td>5</td>\n",
       "      <td>100</td>\n",
       "      <td>5</td>\n",
       "      <td>5</td>\n",
       "      <td>1.0</td>\n",
       "      <td>23.147109</td>\n",
       "    </tr>\n",
       "    <tr>\n",
       "      <th>1220</th>\n",
       "      <td>6</td>\n",
       "      <td>100</td>\n",
       "      <td>5</td>\n",
       "      <td>5</td>\n",
       "      <td>1.0</td>\n",
       "      <td>23.117333</td>\n",
       "    </tr>\n",
       "    <tr>\n",
       "      <th>1409</th>\n",
       "      <td>7</td>\n",
       "      <td>100</td>\n",
       "      <td>5</td>\n",
       "      <td>5</td>\n",
       "      <td>1.0</td>\n",
       "      <td>22.862780</td>\n",
       "    </tr>\n",
       "    <tr>\n",
       "      <th>1598</th>\n",
       "      <td>8</td>\n",
       "      <td>100</td>\n",
       "      <td>5</td>\n",
       "      <td>5</td>\n",
       "      <td>1.0</td>\n",
       "      <td>23.043382</td>\n",
       "    </tr>\n",
       "    <tr>\n",
       "      <th>1787</th>\n",
       "      <td>9</td>\n",
       "      <td>100</td>\n",
       "      <td>5</td>\n",
       "      <td>5</td>\n",
       "      <td>1.0</td>\n",
       "      <td>24.205200</td>\n",
       "    </tr>\n",
       "  </tbody>\n",
       "</table>\n",
       "</div>"
      ],
      "text/plain": [
       "      repetition  num_cell  cell_size  sparse_freq  alpha      error\n",
       "86             0       100          5            5    1.0  23.323652\n",
       "275            1       100          5            5    1.0  23.080329\n",
       "464            2       100          5            5    1.0  22.865730\n",
       "653            3       100          5            5    1.0  23.166681\n",
       "842            4       100          5            5    1.0  22.958887\n",
       "1031           5       100          5            5    1.0  23.147109\n",
       "1220           6       100          5            5    1.0  23.117333\n",
       "1409           7       100          5            5    1.0  22.862780\n",
       "1598           8       100          5            5    1.0  23.043382\n",
       "1787           9       100          5            5    1.0  24.205200"
      ]
     },
     "execution_count": 36,
     "metadata": {},
     "output_type": "execute_result"
    }
   ],
   "source": [
    "params_df[(min_err_df.iloc[:, 0:4].head(1).values == params_df.iloc[:, 1:5].values).all(axis=1)]"
   ]
  },
  {
   "cell_type": "code",
   "execution_count": 19,
   "id": "b6cc2052",
   "metadata": {},
   "outputs": [
    {
     "name": "stdout",
     "output_type": "stream",
     "text": [
      "0\n",
      "1\n",
      "2\n"
     ]
    }
   ],
   "source": [
    "num_cell_error_df = pd.DataFrame()\n",
    "min_err_df = min_err_df.reset_index(drop = True)\n",
    "for i in range(len(min_err_df)):\n",
    "    print(i)\n",
    "    num_cell_error_df = num_cell_error_df.append(params_df[\n",
    "        (min_err_df.iloc[:, 0:4].iloc[i].values == params_df.iloc[:, 1:5].values).all(axis=1)])\n",
    "    "
   ]
  },
  {
   "cell_type": "code",
   "execution_count": 20,
   "id": "a24d1e9c",
   "metadata": {},
   "outputs": [
    {
     "data": {
      "text/plain": [
       "array([[1.e+02, 2.e+00, 1.e+00, 1.e-03],\n",
       "       [1.e+02, 2.e+00, 2.e+00, 1.e-03],\n",
       "       [1.e+02, 2.e+00, 5.e+00, 1.e-03],\n",
       "       ...,\n",
       "       [5.e+02, 7.e+00, 1.e+00, 1.e+03],\n",
       "       [5.e+02, 7.e+00, 2.e+00, 1.e+03],\n",
       "       [5.e+02, 7.e+00, 5.e+00, 1.e+03]])"
      ]
     },
     "execution_count": 20,
     "metadata": {},
     "output_type": "execute_result"
    }
   ],
   "source": [
    "params_df[['num_cell', 'cell_size', 'sparse_freq', 'alpha']].values"
   ]
  },
  {
   "cell_type": "code",
   "execution_count": 38,
   "id": "6f351dd5",
   "metadata": {},
   "outputs": [
    {
     "data": {
      "text/html": [
       "<div>\n",
       "<style scoped>\n",
       "    .dataframe tbody tr th:only-of-type {\n",
       "        vertical-align: middle;\n",
       "    }\n",
       "\n",
       "    .dataframe tbody tr th {\n",
       "        vertical-align: top;\n",
       "    }\n",
       "\n",
       "    .dataframe thead th {\n",
       "        text-align: right;\n",
       "    }\n",
       "</style>\n",
       "<table border=\"1\" class=\"dataframe\">\n",
       "  <thead>\n",
       "    <tr style=\"text-align: right;\">\n",
       "      <th></th>\n",
       "      <th>repetition</th>\n",
       "      <th>num_cell</th>\n",
       "      <th>cell_size</th>\n",
       "      <th>sparse_freq</th>\n",
       "      <th>alpha</th>\n",
       "      <th>error</th>\n",
       "    </tr>\n",
       "  </thead>\n",
       "  <tbody>\n",
       "    <tr>\n",
       "      <th>0</th>\n",
       "      <td>0</td>\n",
       "      <td>100</td>\n",
       "      <td>2</td>\n",
       "      <td>1</td>\n",
       "      <td>0.001</td>\n",
       "      <td>118.552402</td>\n",
       "    </tr>\n",
       "    <tr>\n",
       "      <th>1</th>\n",
       "      <td>0</td>\n",
       "      <td>100</td>\n",
       "      <td>2</td>\n",
       "      <td>2</td>\n",
       "      <td>0.001</td>\n",
       "      <td>1517.257701</td>\n",
       "    </tr>\n",
       "    <tr>\n",
       "      <th>2</th>\n",
       "      <td>0</td>\n",
       "      <td>100</td>\n",
       "      <td>2</td>\n",
       "      <td>5</td>\n",
       "      <td>0.001</td>\n",
       "      <td>2642.888029</td>\n",
       "    </tr>\n",
       "    <tr>\n",
       "      <th>2</th>\n",
       "      <td>0</td>\n",
       "      <td>100</td>\n",
       "      <td>2</td>\n",
       "      <td>5</td>\n",
       "      <td>0.001</td>\n",
       "      <td>2642.888029</td>\n",
       "    </tr>\n",
       "    <tr>\n",
       "      <th>3</th>\n",
       "      <td>0</td>\n",
       "      <td>100</td>\n",
       "      <td>5</td>\n",
       "      <td>1</td>\n",
       "      <td>0.001</td>\n",
       "      <td>122.698407</td>\n",
       "    </tr>\n",
       "    <tr>\n",
       "      <th>...</th>\n",
       "      <td>...</td>\n",
       "      <td>...</td>\n",
       "      <td>...</td>\n",
       "      <td>...</td>\n",
       "      <td>...</td>\n",
       "      <td>...</td>\n",
       "    </tr>\n",
       "    <tr>\n",
       "      <th>1884</th>\n",
       "      <td>9</td>\n",
       "      <td>500</td>\n",
       "      <td>5</td>\n",
       "      <td>1</td>\n",
       "      <td>1000.000</td>\n",
       "      <td>36.726366</td>\n",
       "    </tr>\n",
       "    <tr>\n",
       "      <th>1885</th>\n",
       "      <td>9</td>\n",
       "      <td>500</td>\n",
       "      <td>5</td>\n",
       "      <td>2</td>\n",
       "      <td>1000.000</td>\n",
       "      <td>28.332152</td>\n",
       "    </tr>\n",
       "    <tr>\n",
       "      <th>1886</th>\n",
       "      <td>9</td>\n",
       "      <td>500</td>\n",
       "      <td>5</td>\n",
       "      <td>5</td>\n",
       "      <td>1000.000</td>\n",
       "      <td>29.203209</td>\n",
       "    </tr>\n",
       "    <tr>\n",
       "      <th>1886</th>\n",
       "      <td>9</td>\n",
       "      <td>500</td>\n",
       "      <td>5</td>\n",
       "      <td>5</td>\n",
       "      <td>1000.000</td>\n",
       "      <td>29.203209</td>\n",
       "    </tr>\n",
       "    <tr>\n",
       "      <th>1889</th>\n",
       "      <td>9</td>\n",
       "      <td>500</td>\n",
       "      <td>7</td>\n",
       "      <td>5</td>\n",
       "      <td>1000.000</td>\n",
       "      <td>29.727872</td>\n",
       "    </tr>\n",
       "  </tbody>\n",
       "</table>\n",
       "<p>2160 rows × 6 columns</p>\n",
       "</div>"
      ],
      "text/plain": [
       "      repetition  num_cell  cell_size  sparse_freq     alpha        error\n",
       "0              0       100          2            1     0.001   118.552402\n",
       "1              0       100          2            2     0.001  1517.257701\n",
       "2              0       100          2            5     0.001  2642.888029\n",
       "2              0       100          2            5     0.001  2642.888029\n",
       "3              0       100          5            1     0.001   122.698407\n",
       "...          ...       ...        ...          ...       ...          ...\n",
       "1884           9       500          5            1  1000.000    36.726366\n",
       "1885           9       500          5            2  1000.000    28.332152\n",
       "1886           9       500          5            5  1000.000    29.203209\n",
       "1886           9       500          5            5  1000.000    29.203209\n",
       "1889           9       500          7            5  1000.000    29.727872\n",
       "\n",
       "[2160 rows x 6 columns]"
      ]
     },
     "execution_count": 38,
     "metadata": {},
     "output_type": "execute_result"
    }
   ],
   "source": [
    "params_df.iloc[params_df[['num_cell', 'cell_size', 'sparse_freq', 'alpha']].values == min_err_df.iloc[:, 0:4].iloc[0].values]"
   ]
  },
  {
   "cell_type": "code",
   "execution_count": 22,
   "id": "3c5ed2dd",
   "metadata": {},
   "outputs": [
    {
     "data": {
      "text/plain": [
       "array([200.,   2.,   7.,   1.])"
      ]
     },
     "execution_count": 22,
     "metadata": {},
     "output_type": "execute_result"
    }
   ],
   "source": [
    "min_err_df.reset_index(drop = True).iloc[:, 0:4].iloc[1].values"
   ]
  },
  {
   "cell_type": "code",
   "execution_count": 23,
   "id": "a243c9c7",
   "metadata": {},
   "outputs": [
    {
     "data": {
      "text/html": [
       "<div>\n",
       "<style scoped>\n",
       "    .dataframe tbody tr th:only-of-type {\n",
       "        vertical-align: middle;\n",
       "    }\n",
       "\n",
       "    .dataframe tbody tr th {\n",
       "        vertical-align: top;\n",
       "    }\n",
       "\n",
       "    .dataframe thead th {\n",
       "        text-align: right;\n",
       "    }\n",
       "</style>\n",
       "<table border=\"1\" class=\"dataframe\">\n",
       "  <thead>\n",
       "    <tr style=\"text-align: right;\">\n",
       "      <th></th>\n",
       "      <th>repetition</th>\n",
       "      <th>num_cell</th>\n",
       "      <th>cell_size</th>\n",
       "      <th>sparse_freq</th>\n",
       "      <th>alpha</th>\n",
       "      <th>error</th>\n",
       "    </tr>\n",
       "  </thead>\n",
       "  <tbody>\n",
       "  </tbody>\n",
       "</table>\n",
       "</div>"
      ],
      "text/plain": [
       "Empty DataFrame\n",
       "Columns: [repetition, num_cell, cell_size, sparse_freq, alpha, error]\n",
       "Index: []"
      ]
     },
     "execution_count": 23,
     "metadata": {},
     "output_type": "execute_result"
    }
   ],
   "source": [
    "params_df[(min_err_df.iloc[:, 0:4].iloc[2].values == params_df.iloc[:, 1:5].values).all(axis=1)]"
   ]
  },
  {
   "cell_type": "code",
   "execution_count": 24,
   "id": "97d2dc0e",
   "metadata": {},
   "outputs": [
    {
     "data": {
      "text/html": [
       "<div>\n",
       "<style scoped>\n",
       "    .dataframe tbody tr th:only-of-type {\n",
       "        vertical-align: middle;\n",
       "    }\n",
       "\n",
       "    .dataframe tbody tr th {\n",
       "        vertical-align: top;\n",
       "    }\n",
       "\n",
       "    .dataframe thead th {\n",
       "        text-align: right;\n",
       "    }\n",
       "</style>\n",
       "<table border=\"1\" class=\"dataframe\">\n",
       "  <thead>\n",
       "    <tr style=\"text-align: right;\">\n",
       "      <th></th>\n",
       "      <th>repetition</th>\n",
       "      <th>num_cell</th>\n",
       "      <th>cell_size</th>\n",
       "      <th>sparse_freq</th>\n",
       "      <th>alpha</th>\n",
       "      <th>error</th>\n",
       "    </tr>\n",
       "  </thead>\n",
       "  <tbody>\n",
       "    <tr>\n",
       "      <th>86</th>\n",
       "      <td>0</td>\n",
       "      <td>100</td>\n",
       "      <td>5</td>\n",
       "      <td>5</td>\n",
       "      <td>1.0</td>\n",
       "      <td>23.323652</td>\n",
       "    </tr>\n",
       "    <tr>\n",
       "      <th>275</th>\n",
       "      <td>1</td>\n",
       "      <td>100</td>\n",
       "      <td>5</td>\n",
       "      <td>5</td>\n",
       "      <td>1.0</td>\n",
       "      <td>23.080329</td>\n",
       "    </tr>\n",
       "    <tr>\n",
       "      <th>464</th>\n",
       "      <td>2</td>\n",
       "      <td>100</td>\n",
       "      <td>5</td>\n",
       "      <td>5</td>\n",
       "      <td>1.0</td>\n",
       "      <td>22.865730</td>\n",
       "    </tr>\n",
       "    <tr>\n",
       "      <th>653</th>\n",
       "      <td>3</td>\n",
       "      <td>100</td>\n",
       "      <td>5</td>\n",
       "      <td>5</td>\n",
       "      <td>1.0</td>\n",
       "      <td>23.166681</td>\n",
       "    </tr>\n",
       "    <tr>\n",
       "      <th>842</th>\n",
       "      <td>4</td>\n",
       "      <td>100</td>\n",
       "      <td>5</td>\n",
       "      <td>5</td>\n",
       "      <td>1.0</td>\n",
       "      <td>22.958887</td>\n",
       "    </tr>\n",
       "    <tr>\n",
       "      <th>1031</th>\n",
       "      <td>5</td>\n",
       "      <td>100</td>\n",
       "      <td>5</td>\n",
       "      <td>5</td>\n",
       "      <td>1.0</td>\n",
       "      <td>23.147109</td>\n",
       "    </tr>\n",
       "    <tr>\n",
       "      <th>1220</th>\n",
       "      <td>6</td>\n",
       "      <td>100</td>\n",
       "      <td>5</td>\n",
       "      <td>5</td>\n",
       "      <td>1.0</td>\n",
       "      <td>23.117333</td>\n",
       "    </tr>\n",
       "    <tr>\n",
       "      <th>1409</th>\n",
       "      <td>7</td>\n",
       "      <td>100</td>\n",
       "      <td>5</td>\n",
       "      <td>5</td>\n",
       "      <td>1.0</td>\n",
       "      <td>22.862780</td>\n",
       "    </tr>\n",
       "    <tr>\n",
       "      <th>1598</th>\n",
       "      <td>8</td>\n",
       "      <td>100</td>\n",
       "      <td>5</td>\n",
       "      <td>5</td>\n",
       "      <td>1.0</td>\n",
       "      <td>23.043382</td>\n",
       "    </tr>\n",
       "    <tr>\n",
       "      <th>1787</th>\n",
       "      <td>9</td>\n",
       "      <td>100</td>\n",
       "      <td>5</td>\n",
       "      <td>5</td>\n",
       "      <td>1.0</td>\n",
       "      <td>24.205200</td>\n",
       "    </tr>\n",
       "  </tbody>\n",
       "</table>\n",
       "</div>"
      ],
      "text/plain": [
       "      repetition  num_cell  cell_size  sparse_freq  alpha      error\n",
       "86             0       100          5            5    1.0  23.323652\n",
       "275            1       100          5            5    1.0  23.080329\n",
       "464            2       100          5            5    1.0  22.865730\n",
       "653            3       100          5            5    1.0  23.166681\n",
       "842            4       100          5            5    1.0  22.958887\n",
       "1031           5       100          5            5    1.0  23.147109\n",
       "1220           6       100          5            5    1.0  23.117333\n",
       "1409           7       100          5            5    1.0  22.862780\n",
       "1598           8       100          5            5    1.0  23.043382\n",
       "1787           9       100          5            5    1.0  24.205200"
      ]
     },
     "execution_count": 24,
     "metadata": {},
     "output_type": "execute_result"
    }
   ],
   "source": [
    "num_cell_error_df"
   ]
  },
  {
   "cell_type": "code",
   "execution_count": 25,
   "id": "9063ecf7",
   "metadata": {},
   "outputs": [
    {
     "data": {
      "text/html": [
       "<div>\n",
       "<style scoped>\n",
       "    .dataframe tbody tr th:only-of-type {\n",
       "        vertical-align: middle;\n",
       "    }\n",
       "\n",
       "    .dataframe tbody tr th {\n",
       "        vertical-align: top;\n",
       "    }\n",
       "\n",
       "    .dataframe thead th {\n",
       "        text-align: right;\n",
       "    }\n",
       "</style>\n",
       "<table border=\"1\" class=\"dataframe\">\n",
       "  <thead>\n",
       "    <tr style=\"text-align: right;\">\n",
       "      <th></th>\n",
       "      <th>num_cell</th>\n",
       "      <th>cell_size</th>\n",
       "      <th>sparse_freq</th>\n",
       "      <th>alpha</th>\n",
       "    </tr>\n",
       "  </thead>\n",
       "  <tbody>\n",
       "    <tr>\n",
       "      <th>0</th>\n",
       "      <td>100</td>\n",
       "      <td>2</td>\n",
       "      <td>1</td>\n",
       "      <td>0.001</td>\n",
       "    </tr>\n",
       "    <tr>\n",
       "      <th>1</th>\n",
       "      <td>100</td>\n",
       "      <td>2</td>\n",
       "      <td>2</td>\n",
       "      <td>0.001</td>\n",
       "    </tr>\n",
       "    <tr>\n",
       "      <th>2</th>\n",
       "      <td>100</td>\n",
       "      <td>2</td>\n",
       "      <td>5</td>\n",
       "      <td>0.001</td>\n",
       "    </tr>\n",
       "    <tr>\n",
       "      <th>3</th>\n",
       "      <td>100</td>\n",
       "      <td>5</td>\n",
       "      <td>1</td>\n",
       "      <td>0.001</td>\n",
       "    </tr>\n",
       "    <tr>\n",
       "      <th>4</th>\n",
       "      <td>100</td>\n",
       "      <td>5</td>\n",
       "      <td>2</td>\n",
       "      <td>0.001</td>\n",
       "    </tr>\n",
       "    <tr>\n",
       "      <th>...</th>\n",
       "      <td>...</td>\n",
       "      <td>...</td>\n",
       "      <td>...</td>\n",
       "      <td>...</td>\n",
       "    </tr>\n",
       "    <tr>\n",
       "      <th>1885</th>\n",
       "      <td>500</td>\n",
       "      <td>5</td>\n",
       "      <td>2</td>\n",
       "      <td>1000.000</td>\n",
       "    </tr>\n",
       "    <tr>\n",
       "      <th>1886</th>\n",
       "      <td>500</td>\n",
       "      <td>5</td>\n",
       "      <td>5</td>\n",
       "      <td>1000.000</td>\n",
       "    </tr>\n",
       "    <tr>\n",
       "      <th>1887</th>\n",
       "      <td>500</td>\n",
       "      <td>7</td>\n",
       "      <td>1</td>\n",
       "      <td>1000.000</td>\n",
       "    </tr>\n",
       "    <tr>\n",
       "      <th>1888</th>\n",
       "      <td>500</td>\n",
       "      <td>7</td>\n",
       "      <td>2</td>\n",
       "      <td>1000.000</td>\n",
       "    </tr>\n",
       "    <tr>\n",
       "      <th>1889</th>\n",
       "      <td>500</td>\n",
       "      <td>7</td>\n",
       "      <td>5</td>\n",
       "      <td>1000.000</td>\n",
       "    </tr>\n",
       "  </tbody>\n",
       "</table>\n",
       "<p>1890 rows × 4 columns</p>\n",
       "</div>"
      ],
      "text/plain": [
       "      num_cell  cell_size  sparse_freq     alpha\n",
       "0          100          2            1     0.001\n",
       "1          100          2            2     0.001\n",
       "2          100          2            5     0.001\n",
       "3          100          5            1     0.001\n",
       "4          100          5            2     0.001\n",
       "...        ...        ...          ...       ...\n",
       "1885       500          5            2  1000.000\n",
       "1886       500          5            5  1000.000\n",
       "1887       500          7            1  1000.000\n",
       "1888       500          7            2  1000.000\n",
       "1889       500          7            5  1000.000\n",
       "\n",
       "[1890 rows x 4 columns]"
      ]
     },
     "execution_count": 25,
     "metadata": {},
     "output_type": "execute_result"
    }
   ],
   "source": [
    "# params_df[(min_err_df.iloc[:, 0:4].loc[1].values == params_df.iloc[:, 1:5].values).all(axis=1)]\n",
    "params_df.iloc[:, 1:5]"
   ]
  },
  {
   "cell_type": "code",
   "execution_count": 26,
   "id": "8a6bc3da",
   "metadata": {},
   "outputs": [
    {
     "data": {
      "text/plain": [
       "array([200.,   2.,   7.,   1.])"
      ]
     },
     "execution_count": 26,
     "metadata": {},
     "output_type": "execute_result"
    }
   ],
   "source": [
    "min_err_df.iloc[:, 0:4].iloc[1].values"
   ]
  },
  {
   "cell_type": "code",
   "execution_count": 27,
   "id": "f9ec0060",
   "metadata": {},
   "outputs": [
    {
     "data": {
      "text/plain": [
       "array([[1.e+02, 2.e+00, 1.e+00, 1.e-03],\n",
       "       [1.e+02, 2.e+00, 2.e+00, 1.e-03],\n",
       "       [1.e+02, 2.e+00, 5.e+00, 1.e-03],\n",
       "       ...,\n",
       "       [5.e+02, 7.e+00, 1.e+00, 1.e+03],\n",
       "       [5.e+02, 7.e+00, 2.e+00, 1.e+03],\n",
       "       [5.e+02, 7.e+00, 5.e+00, 1.e+03]])"
      ]
     },
     "execution_count": 27,
     "metadata": {},
     "output_type": "execute_result"
    }
   ],
   "source": [
    "params_df.iloc[:, 1:5].values"
   ]
  },
  {
   "cell_type": "code",
   "execution_count": 28,
   "id": "7586e59a",
   "metadata": {},
   "outputs": [
    {
     "data": {
      "text/plain": [
       "array([False])"
      ]
     },
     "execution_count": 28,
     "metadata": {},
     "output_type": "execute_result"
    }
   ],
   "source": [
    "np.unique((min_err_df.iloc[:, 0:4].iloc[1].values == params_df.iloc[:, 1:5].values).all(axis=1))"
   ]
  },
  {
   "cell_type": "code",
   "execution_count": 31,
   "id": "43bd0315",
   "metadata": {},
   "outputs": [],
   "source": [
    "# params_df[params_df[\"num_cell\"] == 200.] & params_df[params_df[\"cell_size\"] == 2.]"
   ]
  },
  {
   "cell_type": "code",
   "execution_count": 30,
   "id": "5bf1ec66",
   "metadata": {},
   "outputs": [
    {
     "data": {
      "text/plain": [
       "array([200.,   2.,   7.,   1.])"
      ]
     },
     "execution_count": 30,
     "metadata": {},
     "output_type": "execute_result"
    }
   ],
   "source": [
    "min_err_df.iloc[:, 0:4].iloc[1].values"
   ]
  },
  {
   "cell_type": "code",
   "execution_count": null,
   "id": "8c3cf144",
   "metadata": {},
   "outputs": [],
   "source": []
  },
  {
   "cell_type": "code",
   "execution_count": null,
   "id": "e6182e7a",
   "metadata": {},
   "outputs": [],
   "source": []
  },
  {
   "cell_type": "code",
   "execution_count": null,
   "id": "39c5a149",
   "metadata": {},
   "outputs": [],
   "source": []
  },
  {
   "cell_type": "code",
   "execution_count": null,
   "id": "92b1bf18",
   "metadata": {},
   "outputs": [],
   "source": []
  },
  {
   "cell_type": "code",
   "execution_count": null,
   "id": "179588ff",
   "metadata": {},
   "outputs": [],
   "source": []
  },
  {
   "cell_type": "code",
   "execution_count": null,
   "id": "2437125b",
   "metadata": {},
   "outputs": [],
   "source": []
  },
  {
   "cell_type": "code",
   "execution_count": null,
   "id": "8bc85523",
   "metadata": {},
   "outputs": [],
   "source": []
  },
  {
   "cell_type": "code",
   "execution_count": null,
   "id": "22331dde",
   "metadata": {},
   "outputs": [],
   "source": []
  },
  {
   "cell_type": "code",
   "execution_count": null,
   "id": "418c3480",
   "metadata": {},
   "outputs": [],
   "source": []
  }
 ],
 "metadata": {
  "kernelspec": {
   "display_name": "Python 3 (ipykernel)",
   "language": "python",
   "name": "python3"
  },
  "language_info": {
   "codemirror_mode": {
    "name": "ipython",
    "version": 3
   },
   "file_extension": ".py",
   "mimetype": "text/x-python",
   "name": "python",
   "nbconvert_exporter": "python",
   "pygments_lexer": "ipython3",
   "version": "3.9.7"
  }
 },
 "nbformat": 4,
 "nbformat_minor": 5
}
