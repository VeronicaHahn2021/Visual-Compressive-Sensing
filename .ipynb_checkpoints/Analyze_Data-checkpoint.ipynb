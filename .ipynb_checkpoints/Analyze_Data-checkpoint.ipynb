{
 "cells": [
  {
   "cell_type": "code",
   "execution_count": 1,
   "id": "1fdac7bd",
   "metadata": {},
   "outputs": [],
   "source": [
    "import matplotlib.pyplot as plt\n",
    "import numpy as np\n",
    "import numpy.linalg as la\n",
    "\n",
    "from src.structured_random_features.src.models.weights import V1_weights\n",
    "\n",
    "# Packages for fft and fitting data\n",
    "from scipy import fftpack as fft\n",
    "from sklearn.linear_model import Lasso\n",
    "\n",
    "# Package for importing image representation\n",
    "from PIL import Image, ImageOps\n",
    "\n",
    "from src.V1_Compress import generate_Y, compress\n",
    "import pandas as pd\n",
    "import itertools\n",
    "import dask\n",
    "from dask.distributed import Client, progress\n",
    "import seaborn as sns\n",
    "import time\n",
    "import os.path"
   ]
  },
  {
   "cell_type": "code",
   "execution_count": null,
   "id": "ba828135",
   "metadata": {},
   "outputs": [],
   "source": [
    "num_cell = 500"
   ]
  },
  {
   "cell_type": "code",
   "execution_count": 2,
   "id": "e28cec41",
   "metadata": {},
   "outputs": [],
   "source": [
    "working_img = 'city_part3.png'"
   ]
  },
  {
   "cell_type": "code",
   "execution_count": 37,
   "id": "d2728030",
   "metadata": {},
   "outputs": [],
   "source": [
    "# Work on previously saved data\n",
    "params_df = pd.read_csv('result/{img}/V1/param_Tue_Jul_12_15_29_48_2022.csv'.format(img = working_img.split('.')[0]))\n",
    "# results_df = pd.read_csv('result//results_Mon_May_23_21_46_49_2022.csv')\n",
    "# total_df = pd.read_csv('result//total_Mon_May_23_21_47_07_2022.csv')"
   ]
  },
  {
   "cell_type": "code",
   "execution_count": 38,
   "id": "e6cc6a5d",
   "metadata": {},
   "outputs": [],
   "source": [
    "for index in params_df.columns:\n",
    "    if (index == 'Unnamed: 0') :\n",
    "        params_df.drop('Unnamed: 0', axis = 1, inplace=True)\n",
    "\n",
    "# for index in results_df.columns:\n",
    "#     if (index == 'Unnamed: 0') :\n",
    "#         results_df.drop('Unnamed: 0', axis = 1, inplace=True)\n",
    "# for index in total_df.columns:\n",
    "#     if (index == 'Unnamed: 0') :\n",
    "#         total_df.drop('Unnamed: 0', axis = 1, inplace=True)\n"
   ]
  },
  {
   "cell_type": "code",
   "execution_count": 39,
   "id": "ddcb7044",
   "metadata": {},
   "outputs": [],
   "source": [
    "params_df = params_df[params_df['num_cell'] == num_cell]"
   ]
  },
  {
   "cell_type": "code",
   "execution_count": 48,
   "id": "0422d2de",
   "metadata": {},
   "outputs": [
    {
     "data": {
      "text/html": [
       "<div>\n",
       "<style scoped>\n",
       "    .dataframe tbody tr th:only-of-type {\n",
       "        vertical-align: middle;\n",
       "    }\n",
       "\n",
       "    .dataframe tbody tr th {\n",
       "        vertical-align: top;\n",
       "    }\n",
       "\n",
       "    .dataframe thead th {\n",
       "        text-align: right;\n",
       "    }\n",
       "</style>\n",
       "<table border=\"1\" class=\"dataframe\">\n",
       "  <thead>\n",
       "    <tr style=\"text-align: right;\">\n",
       "      <th></th>\n",
       "      <th>rep</th>\n",
       "      <th>alp</th>\n",
       "      <th>num_cell</th>\n",
       "      <th>cell_sz</th>\n",
       "      <th>sparse_freq</th>\n",
       "      <th>error</th>\n",
       "    </tr>\n",
       "  </thead>\n",
       "  <tbody>\n",
       "    <tr>\n",
       "      <th>18</th>\n",
       "      <td>0</td>\n",
       "      <td>0.001</td>\n",
       "      <td>500</td>\n",
       "      <td>2</td>\n",
       "      <td>1</td>\n",
       "      <td>131.024109</td>\n",
       "    </tr>\n",
       "    <tr>\n",
       "      <th>19</th>\n",
       "      <td>0</td>\n",
       "      <td>0.001</td>\n",
       "      <td>500</td>\n",
       "      <td>2</td>\n",
       "      <td>2</td>\n",
       "      <td>704.791515</td>\n",
       "    </tr>\n",
       "    <tr>\n",
       "      <th>20</th>\n",
       "      <td>0</td>\n",
       "      <td>0.001</td>\n",
       "      <td>500</td>\n",
       "      <td>2</td>\n",
       "      <td>5</td>\n",
       "      <td>1039.406782</td>\n",
       "    </tr>\n",
       "    <tr>\n",
       "      <th>21</th>\n",
       "      <td>0</td>\n",
       "      <td>0.001</td>\n",
       "      <td>500</td>\n",
       "      <td>5</td>\n",
       "      <td>1</td>\n",
       "      <td>161.037582</td>\n",
       "    </tr>\n",
       "    <tr>\n",
       "      <th>22</th>\n",
       "      <td>0</td>\n",
       "      <td>0.001</td>\n",
       "      <td>500</td>\n",
       "      <td>5</td>\n",
       "      <td>2</td>\n",
       "      <td>741.112405</td>\n",
       "    </tr>\n",
       "  </tbody>\n",
       "</table>\n",
       "</div>"
      ],
      "text/plain": [
       "    rep    alp  num_cell  cell_sz  sparse_freq        error\n",
       "18    0  0.001       500        2            1   131.024109\n",
       "19    0  0.001       500        2            2   704.791515\n",
       "20    0  0.001       500        2            5  1039.406782\n",
       "21    0  0.001       500        5            1   161.037582\n",
       "22    0  0.001       500        5            2   741.112405"
      ]
     },
     "execution_count": 48,
     "metadata": {},
     "output_type": "execute_result"
    }
   ],
   "source": [
    "params_df.head()"
   ]
  },
  {
   "cell_type": "code",
   "execution_count": 40,
   "id": "17e82a9d",
   "metadata": {
    "scrolled": false
   },
   "outputs": [
    {
     "data": {
      "text/plain": [
       "<seaborn.axisgrid.FacetGrid at 0x7f27389a9f10>"
      ]
     },
     "execution_count": 40,
     "metadata": {},
     "output_type": "execute_result"
    },
    {
     "data": {
      "image/png": "[encoded data removed]",
      "text/plain": [
       "<Figure size 402.375x360 with 1 Axes>"
      ]
     },
     "metadata": {
      "needs_background": "light"
     },
     "output_type": "display_data"
    }
   ],
   "source": [
    "save_path = os.path.join('./result/{img}/V1/'.format(img = working_img.split('.')[0]))\n",
    "fig = sns.relplot(data = params_df, x = 'alp', y = 'error', kind='line', palette='Accent', hue = 'cell_sz')\n",
    "fig.set(yscale='log')\n",
    "fig.set(xscale='log')\n",
    "fig.set(title='error for each cell_size')\n",
    "# fig.savefig(os.path.join(save_path, \"alpha_error_per_size\" + \"_\".join(str.split(time.ctime().replace(\":\", \"_\"))) + \".png\"), dpi = 200)"
   ]
  },
  {
   "cell_type": "code",
   "execution_count": 41,
   "id": "375ad5f4",
   "metadata": {},
   "outputs": [
    {
     "data": {
      "text/plain": [
       "<seaborn.axisgrid.FacetGrid at 0x7f2738784820>"
      ]
     },
     "execution_count": 41,
     "metadata": {},
     "output_type": "execute_result"
    },
    {
     "data": {
      "image/png": "[encoded data removed]",
      "text/plain": [
       "<Figure size 422.75x360 with 1 Axes>"
      ]
     },
     "metadata": {
      "needs_background": "light"
     },
     "output_type": "display_data"
    }
   ],
   "source": [
    "save_path = os.path.join('./result/{img}/V1/'.format(img = working_img.split('.')[0]))\n",
    "fig = sns.relplot(data = params_df, x = 'alp', y = 'error', kind='line', palette='Accent', \n",
    "                  hue = params_df[['sparse_freq', 'cell_sz']].apply(tuple, axis = 1))\n",
    "fig.set(yscale='log')\n",
    "fig.set(xscale='log')\n",
    "fig.set(title='error for each frequency')\n",
    "# fig.savefig(os.path.join(save_path, \"alpha_error_per_hyperparam_\" + \"_\".join(\n",
    "#     str.split(time.ctime().replace(\":\", \"_\"))) + \".png\"), dpi = 200)"
   ]
  },
  {
   "cell_type": "code",
   "execution_count": 42,
   "id": "e4f5ce43",
   "metadata": {},
   "outputs": [
    {
     "data": {
      "text/plain": [
       "<seaborn.axisgrid.FacetGrid at 0x7f2738490cd0>"
      ]
     },
     "execution_count": 42,
     "metadata": {},
     "output_type": "execute_result"
    },
    {
     "data": {
      "image/png": "[encoded data removed]",
      "text/plain": [
       "<Figure size 360x360 with 1 Axes>"
      ]
     },
     "metadata": {
      "needs_background": "light"
     },
     "output_type": "display_data"
    }
   ],
   "source": [
    "save_path = os.path.join('./result/{img}/V1'.format(img = working_img.split('.')[0]))\n",
    "fig = sns.relplot(data = params_df, x = 'alp', y = 'error', kind='line')\n",
    "fig.set(yscale='log')\n",
    "fig.set(xscale='log')\n",
    "fig.set(title='Error for each penalty(General)')\n",
    "# fig.savefig(os.path.join(save_path, \"alpha_error_general\" + \"_\".join(\n",
    "#     str.split(time.ctime().replace(\":\", \"_\"))) + \".png\"), dpi = 200)"
   ]
  },
  {
   "cell_type": "code",
   "execution_count": 43,
   "id": "799e2dfe",
   "metadata": {},
   "outputs": [
    {
     "data": {
      "text/plain": [
       "<seaborn.axisgrid.FacetGrid at 0x7f27383852b0>"
      ]
     },
     "execution_count": 43,
     "metadata": {},
     "output_type": "execute_result"
    },
    {
     "data": {
      "image/png": "[encoded data removed]",
      "text/plain": [
       "<Figure size 431.125x360 with 1 Axes>"
      ]
     },
     "metadata": {
      "needs_background": "light"
     },
     "output_type": "display_data"
    }
   ],
   "source": [
    "# To show how consistent randomly generated V1 weight would be for each rep. it should be about same for each repetition\n",
    "save_path = os.path.join('./result/{img}/V1/'.format(img = working_img.split('.')[0]))\n",
    "fig = sns.relplot(data = params_df, x = 'rep', y = 'error', kind='line', palette='Accent', hue = 'alp')\n",
    "fig.set(title='error consistency')\n",
    "fig.set(yscale='log')\n",
    "# fig.savefig(os.path.join(save_path, \"alpha_error_consistency\" + \"_\".join(\n",
    "#     str.split(time.ctime().replace(\":\", \"_\"))) + \".png\"), dpi = 200)"
   ]
  },
  {
   "cell_type": "code",
   "execution_count": null,
   "id": "867da539",
   "metadata": {},
   "outputs": [],
   "source": []
  },
  {
   "cell_type": "code",
   "execution_count": 44,
   "id": "2db08014",
   "metadata": {},
   "outputs": [
    {
     "data": {
      "text/html": [
       "<div>\n",
       "<style scoped>\n",
       "    .dataframe tbody tr th:only-of-type {\n",
       "        vertical-align: middle;\n",
       "    }\n",
       "\n",
       "    .dataframe tbody tr th {\n",
       "        vertical-align: top;\n",
       "    }\n",
       "\n",
       "    .dataframe thead th {\n",
       "        text-align: right;\n",
       "    }\n",
       "</style>\n",
       "<table border=\"1\" class=\"dataframe\">\n",
       "  <thead>\n",
       "    <tr style=\"text-align: right;\">\n",
       "      <th></th>\n",
       "      <th></th>\n",
       "      <th></th>\n",
       "      <th></th>\n",
       "      <th>error</th>\n",
       "    </tr>\n",
       "    <tr>\n",
       "      <th>num_cell</th>\n",
       "      <th>cell_sz</th>\n",
       "      <th>sparse_freq</th>\n",
       "      <th>alp</th>\n",
       "      <th></th>\n",
       "    </tr>\n",
       "  </thead>\n",
       "  <tbody>\n",
       "    <tr>\n",
       "      <th>500</th>\n",
       "      <th>7</th>\n",
       "      <th>1</th>\n",
       "      <th>1000.0</th>\n",
       "      <td>63.809992</td>\n",
       "    </tr>\n",
       "  </tbody>\n",
       "</table>\n",
       "</div>"
      ],
      "text/plain": [
       "                                         error\n",
       "num_cell cell_sz sparse_freq alp              \n",
       "500      7       1           1000.0  63.809992"
      ]
     },
     "execution_count": 44,
     "metadata": {},
     "output_type": "execute_result"
    }
   ],
   "source": [
    "params_df.groupby(by=['num_cell', 'cell_sz', 'sparse_freq', 'alp']).mean().sort_values(\n",
    "    by='error', ascending= True).drop('rep', axis = 1).head(1)"
   ]
  },
  {
   "cell_type": "code",
   "execution_count": 45,
   "id": "3478d576",
   "metadata": {},
   "outputs": [
    {
     "data": {
      "text/html": [
       "<div>\n",
       "<style scoped>\n",
       "    .dataframe tbody tr th:only-of-type {\n",
       "        vertical-align: middle;\n",
       "    }\n",
       "\n",
       "    .dataframe tbody tr th {\n",
       "        vertical-align: top;\n",
       "    }\n",
       "\n",
       "    .dataframe thead th {\n",
       "        text-align: right;\n",
       "    }\n",
       "</style>\n",
       "<table border=\"1\" class=\"dataframe\">\n",
       "  <thead>\n",
       "    <tr style=\"text-align: right;\">\n",
       "      <th></th>\n",
       "      <th></th>\n",
       "      <th></th>\n",
       "      <th></th>\n",
       "      <th>error</th>\n",
       "    </tr>\n",
       "    <tr>\n",
       "      <th>num_cell</th>\n",
       "      <th>cell_sz</th>\n",
       "      <th>sparse_freq</th>\n",
       "      <th>alp</th>\n",
       "      <th></th>\n",
       "    </tr>\n",
       "  </thead>\n",
       "  <tbody>\n",
       "    <tr>\n",
       "      <th rowspan=\"11\" valign=\"top\">500</th>\n",
       "      <th rowspan=\"5\" valign=\"top\">2</th>\n",
       "      <th rowspan=\"5\" valign=\"top\">1</th>\n",
       "      <th>0.001</th>\n",
       "      <td>135.174157</td>\n",
       "    </tr>\n",
       "    <tr>\n",
       "      <th>0.010</th>\n",
       "      <td>95.806225</td>\n",
       "    </tr>\n",
       "    <tr>\n",
       "      <th>0.100</th>\n",
       "      <td>86.837771</td>\n",
       "    </tr>\n",
       "    <tr>\n",
       "      <th>1.000</th>\n",
       "      <td>85.939963</td>\n",
       "    </tr>\n",
       "    <tr>\n",
       "      <th>10.000</th>\n",
       "      <td>84.378132</td>\n",
       "    </tr>\n",
       "    <tr>\n",
       "      <th>...</th>\n",
       "      <th>...</th>\n",
       "      <th>...</th>\n",
       "      <td>...</td>\n",
       "    </tr>\n",
       "    <tr>\n",
       "      <th rowspan=\"5\" valign=\"top\">7</th>\n",
       "      <th rowspan=\"5\" valign=\"top\">5</th>\n",
       "      <th>0.100</th>\n",
       "      <td>83.488258</td>\n",
       "    </tr>\n",
       "    <tr>\n",
       "      <th>1.000</th>\n",
       "      <td>82.552096</td>\n",
       "    </tr>\n",
       "    <tr>\n",
       "      <th>10.000</th>\n",
       "      <td>81.604943</td>\n",
       "    </tr>\n",
       "    <tr>\n",
       "      <th>100.000</th>\n",
       "      <td>80.498505</td>\n",
       "    </tr>\n",
       "    <tr>\n",
       "      <th>1000.000</th>\n",
       "      <td>76.414034</td>\n",
       "    </tr>\n",
       "  </tbody>\n",
       "</table>\n",
       "<p>63 rows × 1 columns</p>\n",
       "</div>"
      ],
      "text/plain": [
       "                                            error\n",
       "num_cell cell_sz sparse_freq alp                 \n",
       "500      2       1           0.001     135.174157\n",
       "                             0.010      95.806225\n",
       "                             0.100      86.837771\n",
       "                             1.000      85.939963\n",
       "                             10.000     84.378132\n",
       "...                                           ...\n",
       "         7       5           0.100      83.488258\n",
       "                             1.000      82.552096\n",
       "                             10.000     81.604943\n",
       "                             100.000    80.498505\n",
       "                             1000.000   76.414034\n",
       "\n",
       "[63 rows x 1 columns]"
      ]
     },
     "execution_count": 45,
     "metadata": {},
     "output_type": "execute_result"
    }
   ],
   "source": [
    "params_df.groupby(by=['num_cell', 'cell_sz', 'sparse_freq', 'alp']).mean().drop('rep', axis = 1)"
   ]
  },
  {
   "cell_type": "code",
   "execution_count": null,
   "id": "4d5e5b4f",
   "metadata": {},
   "outputs": [],
   "source": []
  },
  {
   "cell_type": "code",
   "execution_count": 46,
   "id": "8f3d7fd5",
   "metadata": {},
   "outputs": [],
   "source": [
    "compress_param_df = pd.read_csv('result/{img}/Classical/Classical_Param_Tue_Jul_12_15_40_34_2022.csv'.format(img = working_img.split('.')[0]))\n",
    "for index in compress_param_df.columns:\n",
    "    if (index == 'Unnamed: 0') :\n",
    "        compress_param_df.drop('Unnamed: 0', axis = 1, inplace=True)\n",
    "compress_param_df = compress_param_df[compress_param_df['classical_samp'] == num_cell]"
   ]
  },
  {
   "cell_type": "code",
   "execution_count": 47,
   "id": "b0dd6cff",
   "metadata": {},
   "outputs": [
    {
     "data": {
      "text/plain": [
       "<matplotlib.legend.Legend at 0x7f27381cd550>"
      ]
     },
     "execution_count": 47,
     "metadata": {},
     "output_type": "execute_result"
    },
    {
     "data": {
      "image/png": "[encoded data removed]",
      "text/plain": [
       "<Figure size 467.5x360 with 1 Axes>"
      ]
     },
     "metadata": {
      "needs_background": "light"
     },
     "output_type": "display_data"
    }
   ],
   "source": [
    "save_path = os.path.join('./result/{img}/'.format(img = working_img.split('.')[0]))\n",
    "fig = sns.relplot(data = params_df, x = 'alp', y = 'error', kind='line', palette='Accent', \n",
    "                  hue = params_df[['sparse_freq', 'cell_sz']].apply(tuple, axis = 1), legend = False)\n",
    "\n",
    "fig.set(title='Error for each penalty')\n",
    "fig.map(sns.lineplot, x = 'alpha', y = 'error', data = compress_param_df, \n",
    "        label= 'classical_error', color = 'black', legend = True).add_legend(title='Classical Err', loc = 'right')\n",
    "fig.set(yscale='log')\n",
    "fig.set(xscale='log')\n",
    "plt.legend(title = 'V1', labels =['(1, 2)', '(2, 2)', '(5, 2)', '(1, 5)', '(2, 5)', '(5, 5)', '(1, 7)', '(2, 7)', '(5, 7)'])\n",
    "# plt.legend(title = 'Classical', label = ['classic'])\n",
    "# fig.savefig(os.path.join(save_path, \"Error_for_each_penalty_\" + \"_\".join(\n",
    "#     str.split(time.ctime().replace(\":\", \"_\"))) + \".png\"), dpi = 200)\n"
   ]
  },
  {
   "cell_type": "code",
   "execution_count": null,
   "id": "5a84fbea",
   "metadata": {},
   "outputs": [],
   "source": [
    "save_path = os.path.join('./result/{img}/Classical/'.format(img = working_img.split('.')[0]))\n",
    "\n",
    "\n",
    "compress_fig = sns.relplot(data = compress_param_df, x = 'alpha', y = 'error', kind= 'line')\n",
    "compress_fig.set(yscale='log')\n",
    "compress_fig.set(xscale='log')\n",
    "plt.title('Classical: Error for each penalty')\n",
    "compress_fig.savefig(os.path.join(save_path, \"Error_for_each_penalty_\" + \"_\".join(\n",
    "    str.split(time.ctime().replace(\":\", \"_\"))) + \".png\"), dpi = 200)\n",
    "plt.show()"
   ]
  },
  {
   "cell_type": "code",
   "execution_count": null,
   "id": "50620385",
   "metadata": {},
   "outputs": [],
   "source": [
    "temp_err = params_df.groupby(['num_cell', 'sparse_freq', 'cell_sz', 'alp']).agg({'error':'mean'})"
   ]
  },
  {
   "cell_type": "markdown",
   "id": "ede23f75",
   "metadata": {},
   "source": [
    "## Error Vs Num_Cell Graph"
   ]
  },
  {
   "cell_type": "code",
   "execution_count": null,
   "id": "597b6cc5",
   "metadata": {},
   "outputs": [],
   "source": [
    "line_data['num_cell'].value_counts().sum()"
   ]
  },
  {
   "cell_type": "code",
   "execution_count": null,
   "id": "f57e6941",
   "metadata": {},
   "outputs": [],
   "source": [
    "min_mean_err_df = pd.DataFrame()\n",
    "for i in mean_err['num_cell'].unique():\n",
    "    temp = mean_err.loc[mean_err['num_cell'] == i]\n",
    "    #hyperparameter for each number of cell\n",
    "    ## Grabbing values by each values\n",
    "    min_mean_err_df = min_mean_err_df.append(temp.loc[temp['error'] == temp['error'].min()])\n",
    "    \n",
    "# Merge two data to extract\n",
    "min_mean_err_df = min_mean_err_df.rename(columns={'error' : 'mean_err'})\n",
    "merged_df = pd.merge(params_df, min_mean_err_df, on = ['num_cell', 'sparse_freq', 'cell_size', 'alpha'], how = 'left')\n",
    "plotting_data = merged_df.loc[merged_df['mean_err'].notnull()]"
   ]
  },
  {
   "cell_type": "code",
   "execution_count": null,
   "id": "acf6daa8",
   "metadata": {
    "scrolled": false
   },
   "outputs": [],
   "source": []
  },
  {
   "cell_type": "code",
   "execution_count": null,
   "id": "d67da04f",
   "metadata": {},
   "outputs": [],
   "source": [
    "params_df[(min_err_df.iloc[:, 0:4].head(1).values == params_df.iloc[:, 1:5].values).all(axis=1)]"
   ]
  },
  {
   "cell_type": "code",
   "execution_count": null,
   "id": "b6cc2052",
   "metadata": {},
   "outputs": [],
   "source": [
    "num_cell_error_df = pd.DataFrame()\n",
    "min_err_df = min_err_df.reset_index(drop = True)\n",
    "for i in range(len(min_err_df)):\n",
    "    print(i)\n",
    "    num_cell_error_df = num_cell_error_df.append(params_df[\n",
    "        (min_err_df.iloc[:, 0:4].iloc[i].values == params_df.iloc[:, 1:5].values).all(axis=1)])\n",
    "    "
   ]
  },
  {
   "cell_type": "code",
   "execution_count": null,
   "id": "a24d1e9c",
   "metadata": {},
   "outputs": [],
   "source": [
    "params_df[['num_cell', 'cell_size', 'sparse_freq', 'alpha']].values"
   ]
  },
  {
   "cell_type": "code",
   "execution_count": null,
   "id": "6f351dd5",
   "metadata": {},
   "outputs": [],
   "source": [
    "params_df.iloc[params_df[['num_cell', 'cell_size', 'sparse_freq', 'alpha']].values == min_err_df.iloc[:, 0:4].iloc[0].values]"
   ]
  },
  {
   "cell_type": "code",
   "execution_count": null,
   "id": "3c5ed2dd",
   "metadata": {},
   "outputs": [],
   "source": [
    "min_err_df.reset_index(drop = True).iloc[:, 0:4].iloc[1].values"
   ]
  },
  {
   "cell_type": "code",
   "execution_count": null,
   "id": "a243c9c7",
   "metadata": {},
   "outputs": [],
   "source": [
    "params_df[(min_err_df.iloc[:, 0:4].iloc[2].values == params_df.iloc[:, 1:5].values).all(axis=1)]"
   ]
  },
  {
   "cell_type": "code",
   "execution_count": null,
   "id": "97d2dc0e",
   "metadata": {},
   "outputs": [],
   "source": [
    "num_cell_error_df"
   ]
  },
  {
   "cell_type": "code",
   "execution_count": null,
   "id": "9063ecf7",
   "metadata": {},
   "outputs": [],
   "source": [
    "# params_df[(min_err_df.iloc[:, 0:4].loc[1].values == params_df.iloc[:, 1:5].values).all(axis=1)]\n",
    "params_df.iloc[:, 1:5]"
   ]
  },
  {
   "cell_type": "code",
   "execution_count": null,
   "id": "8a6bc3da",
   "metadata": {},
   "outputs": [],
   "source": [
    "min_err_df.iloc[:, 0:4].iloc[1].values"
   ]
  },
  {
   "cell_type": "code",
   "execution_count": null,
   "id": "f9ec0060",
   "metadata": {},
   "outputs": [],
   "source": [
    "params_df.iloc[:, 1:5].values"
   ]
  },
  {
   "cell_type": "code",
   "execution_count": null,
   "id": "7586e59a",
   "metadata": {},
   "outputs": [],
   "source": [
    "np.unique((min_err_df.iloc[:, 0:4].iloc[1].values == params_df.iloc[:, 1:5].values).all(axis=1))"
   ]
  },
  {
   "cell_type": "code",
   "execution_count": null,
   "id": "43bd0315",
   "metadata": {},
   "outputs": [],
   "source": [
    "# params_df[params_df[\"num_cell\"] == 200.] & params_df[params_df[\"cell_size\"] == 2.]"
   ]
  },
  {
   "cell_type": "code",
   "execution_count": null,
   "id": "5bf1ec66",
   "metadata": {},
   "outputs": [],
   "source": [
    "min_err_df.iloc[:, 0:4].iloc[1].values"
   ]
  },
  {
   "cell_type": "code",
   "execution_count": null,
   "id": "8c3cf144",
   "metadata": {},
   "outputs": [],
   "source": []
  },
  {
   "cell_type": "code",
   "execution_count": null,
   "id": "e6182e7a",
   "metadata": {},
   "outputs": [],
   "source": []
  },
  {
   "cell_type": "code",
   "execution_count": null,
   "id": "39c5a149",
   "metadata": {},
   "outputs": [],
   "source": []
  },
  {
   "cell_type": "code",
   "execution_count": null,
   "id": "92b1bf18",
   "metadata": {},
   "outputs": [],
   "source": []
  },
  {
   "cell_type": "code",
   "execution_count": null,
   "id": "179588ff",
   "metadata": {},
   "outputs": [],
   "source": []
  },
  {
   "cell_type": "code",
   "execution_count": null,
   "id": "2437125b",
   "metadata": {},
   "outputs": [],
   "source": []
  },
  {
   "cell_type": "code",
   "execution_count": null,
   "id": "8bc85523",
   "metadata": {},
   "outputs": [],
   "source": []
  },
  {
   "cell_type": "code",
   "execution_count": null,
   "id": "22331dde",
   "metadata": {},
   "outputs": [],
   "source": []
  },
  {
   "cell_type": "code",
   "execution_count": null,
   "id": "418c3480",
   "metadata": {},
   "outputs": [],
   "source": []
  }
 ],
 "metadata": {
  "kernelspec": {
   "display_name": "Python 3 (ipykernel)",
   "language": "python",
   "name": "python3"
  },
  "language_info": {
   "codemirror_mode": {
    "name": "ipython",
    "version": 3
   },
   "file_extension": ".py",
   "mimetype": "text/x-python",
   "name": "python",
   "nbconvert_exporter": "python",
   "pygments_lexer": "ipython3",
   "version": "3.9.7"
  }
 },
 "nbformat": 4,
 "nbformat_minor": 5
}
