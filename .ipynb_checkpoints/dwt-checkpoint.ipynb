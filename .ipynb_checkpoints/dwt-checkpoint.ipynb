{
 "cells": [
  {
   "cell_type": "code",
   "execution_count": 2,
   "id": "bb692859",
   "metadata": {},
   "outputs": [],
   "source": [
    "import matplotlib.pyplot as plt\n",
    "import numpy as np\n",
    "import os\n",
    "import pywt\n",
    "from PIL import Image, ImageOps\n",
    "from structured_random_features.src.models.weights import V1_weights\n",
    "from sklearn.linear_model import Lasso\n",
    "import pandas as pd"
   ]
  },
  {
   "cell_type": "code",
   "execution_count": 10,
   "id": "c95919b1",
   "metadata": {},
   "outputs": [
    {
     "data": {
      "text/plain": [
       "<matplotlib.image.AxesImage at 0x7feb5958f1f0>"
      ]
     },
     "execution_count": 10,
     "metadata": {},
     "output_type": "execute_result"
    },
    {
     "data": {
      "image/png": "[encoded data removed]",
      "text/plain": [
       "<Figure size 432x288 with 1 Axes>"
      ]
     },
     "metadata": {
      "needs_background": "light"
     },
     "output_type": "display_data"
    }
   ],
   "source": [
    "image_nm = 'image/tree_part1.jpg'\n",
    "img = Image.open(image_nm)\n",
    "img = ImageOps.grayscale(img)\n",
    "img_arr = np.asarray(img)\n",
    "plt.imshow(img_arr)"
   ]
  },
  {
   "cell_type": "code",
   "execution_count": 4,
   "id": "60845b49",
   "metadata": {},
   "outputs": [],
   "source": [
    "# Wavelet Decomposition Lv 2\n",
    "#lv = 2\n",
    "w = 'db2'\n",
    "coeffs = pywt.dwt2(img, wavelet = w)\n",
    "LL, (LH, HL, HH) = coeffs\n",
    "reconst = pywt.idwt2(coeffs, w)"
   ]
  },
  {
   "cell_type": "code",
   "execution_count": 5,
   "id": "787d8922",
   "metadata": {},
   "outputs": [
    {
     "data": {
      "text/plain": [
       "(array([[426.625     , 422.28020872, 425.76313972, 418.5661071 ,\n",
       "         421.48533574, 436.35552627, 393.51185103, 309.66072573,\n",
       "         252.80449192, 266.94415619, 322.40321248, 391.56546276,\n",
       "         365.11186028, 376.59303089, 395.53613423, 362.375     ],\n",
       "        [431.12195092, 421.65215964, 417.65160162, 425.72395641,\n",
       "         422.65303983, 446.43354759, 376.67835275, 315.07995437,\n",
       "         219.87162874, 245.57948267, 319.05423295, 359.7536703 ,\n",
       "         351.04927395, 374.88517696, 392.65488655, 362.84784036],\n",
       "        [387.05056265, 382.59423326, 399.69134295, 401.16521303,\n",
       "         399.08892896, 366.14157417, 215.95753175, 268.60447342,\n",
       "         208.36306265, 197.92371593, 203.81073961, 204.50008633,\n",
       "         229.52140677, 352.83525866, 348.30296738, 396.56962788],\n",
       "        [413.64863886, 404.9411071 , 406.7698591 , 378.41360216,\n",
       "         295.91216395, 283.20231378, 260.9744281 , 205.99158342,\n",
       "         162.045431  , 201.20624306, 189.58285393, 218.55408342,\n",
       "         280.35015877, 315.93550376, 406.56769484, 363.35159699],\n",
       "        [414.11362067, 421.54422863, 409.79212294, 253.3948591 ,\n",
       "         209.3031169 , 179.11866599, 180.33493649, 207.3713929 ,\n",
       "         174.78613423, 165.67315791, 139.0840563 , 196.8916605 ,\n",
       "         193.40248181, 266.5126449 , 320.57435103, 335.82948267],\n",
       "        [409.65327568, 418.94870668, 370.90327568, 241.59461863,\n",
       "         158.84607998, 169.53093939, 150.53422432, 178.86570323,\n",
       "         189.94911518, 148.8538522 , 177.14702799, 126.57651992,\n",
       "         149.52812616, 165.08044919, 150.62227309, 249.3413337 ],\n",
       "        [324.85904704, 323.27522659, 325.80863392, 250.66257245,\n",
       "         161.12300376, 197.43133864, 318.10784468, 201.42474565,\n",
       "         141.6501634 , 189.51818504, 178.25528117, 127.71474596,\n",
       "         119.42227772, 179.04751356, 149.79158805, 174.13901992],\n",
       "        [240.27370205, 249.16817579, 185.41738192, 163.19855716,\n",
       "         229.85488192, 189.05449192, 273.80118386, 188.06505426,\n",
       "         113.53622056, 180.53076674, 143.53405167, 132.62676039,\n",
       "         130.0215563 , 124.41875694, 173.60312153, 150.86843014],\n",
       "        [147.08334875, 148.69271797, 146.41074886, 174.93004995,\n",
       "         139.66699655, 169.34863423, 182.32235479, 161.13156986,\n",
       "         116.32924682, 125.0625    , 155.6407803 , 116.19318967,\n",
       "         118.2090563 , 158.58701905, 169.48172863, 162.50985479],\n",
       "        [254.5499183 , 235.72412906, 244.38388827, 200.66899279,\n",
       "         216.83566716, 246.64878838, 125.32516803, 202.19254532,\n",
       "         114.26122981, 136.3173958 , 111.75577599, 125.96539031,\n",
       "         108.62203724, 145.9464746 , 147.83165156, 147.31763165],\n",
       "        [257.9999368 , 271.99744574, 293.48061259, 215.767886  ,\n",
       "         223.66426964, 285.22307621, 177.74703724, 194.05079849,\n",
       "         254.95031755, 165.79049514, 261.01754069, 154.23439235,\n",
       "         184.87323961, 121.71964176, 143.40426533, 176.33182421],\n",
       "        [388.06041744, 356.86611173, 364.01234585, 337.79560365,\n",
       "         388.41001819, 285.86931033, 242.35552627, 155.66225027,\n",
       "         171.19793594, 325.408321  , 279.01923789, 295.29528148,\n",
       "         256.29568998, 209.04513196, 244.4306311 , 312.81892034],\n",
       "        [396.95665156, 392.3965563 , 405.76017696, 411.36658342,\n",
       "         396.607931  , 404.86570323, 313.18013627, 200.37066222,\n",
       "         130.90793563, 260.37661087, 202.24409762, 375.5215563 ,\n",
       "         367.03710075, 384.48445554, 383.22636114, 373.81939203],\n",
       "        [402.69527223, 403.48205081, 406.21858891, 401.        ,\n",
       "         391.72011345, 384.71234123, 376.37411981, 352.08837094,\n",
       "         121.61194661, 191.36645703, 387.71650635, 385.57924682,\n",
       "         385.62772691, 384.24495468, 384.10441022, 387.74495468],\n",
       "        [400.39294919, 399.73325318, 397.64951905, 397.75777223,\n",
       "         398.90160162, 399.87588019, 385.8340563 , 412.71128838,\n",
       "         192.68324855, 277.07381614, 373.18846652, 399.02331668,\n",
       "         392.42764521, 403.65072142, 406.90520872, 410.01225953],\n",
       "        [408.875     , 408.76554446, 404.89054446, 401.64951905,\n",
       "         397.38068967, 408.17732304, 400.42556265, 425.38532649,\n",
       "         271.1830759 , 230.5174143 , 406.57684209, 405.02780398,\n",
       "         395.25      , 397.67315791, 405.16746825, 407.        ]]),\n",
       " (array([[-3.68060797e+00,  9.91905598e-01,  7.84807621e+00,\n",
       "          -4.32027223e+00,  1.48598008e+00, -1.33741198e+01,\n",
       "           2.17044827e+01,  6.19791281e+00,  3.62414971e+01,\n",
       "           1.63130580e+01,  1.59326674e+00,  2.64846914e+01,\n",
       "           8.82291281e+00,  3.82924682e+00,  4.01882939e+00,\n",
       "           2.16506351e-01],\n",
       "         [ 4.60224134e+00,  9.38702368e-01, -4.30024047e+00,\n",
       "           1.24159437e+01,  9.27563509e+00, -6.64863886e+00,\n",
       "           9.00536749e+00,  4.07362159e+01, -2.96946911e+00,\n",
       "          -2.57475953e+01, -7.22580312e+00, -3.10747595e+01,\n",
       "          -2.32837295e+01,  6.29871593e+00,  2.54695554e+00,\n",
       "           2.48117061e+00],\n",
       "         [-8.38661518e+00, -5.26434209e+00, -9.64101615e-01,\n",
       "          -1.11728357e+01, -4.04246825e+00,  4.45068920e+01,\n",
       "           1.56011253e+01, -1.00480947e-01,  1.20953493e+01,\n",
       "           1.90633802e+01,  2.79848008e+00,  1.74153857e+01,\n",
       "           1.72305263e+01, -9.00712788e+00, -1.64673865e+01,\n",
       "           1.72395641e+00],\n",
       "         [ 7.08100721e+00,  2.51225953e+00,  2.89110248e+00,\n",
       "           2.15304446e+01,  1.12452769e+01,  6.75504532e+00,\n",
       "          -1.37999183e+01, -2.20121732e+01,  7.75448730e+00,\n",
       "          -2.75656986e+00,  6.68838019e+00, -9.14623412e+00,\n",
       "           9.53924651e-01,  1.13560843e+01,  3.32298819e+01,\n",
       "           5.03108891e+00],\n",
       "         [-3.58910162e+00, -2.15192379e+00,  1.70113793e+01,\n",
       "          -3.85106487e+01,  5.77484123e+00, -3.40247549e+01,\n",
       "          -2.14150635e+01,  2.16132985e+01,  1.03537659e+01,\n",
       "           3.52005489e-01,  1.72370961e+01, -9.97595264e-01,\n",
       "           1.73991969e+01, -2.17864564e+01, -2.23013565e+01,\n",
       "           8.47235479e+01],\n",
       "         [ 7.21914693e+00,  5.23325318e+00,  1.47729945e+01,\n",
       "           2.88842104e+01, -8.07924682e+00,  6.54367061e+00,\n",
       "          -1.06975906e+01, -1.31614564e+01,  2.02431080e+01,\n",
       "           2.23565791e+00,  3.90641109e+00, -1.05038430e+01,\n",
       "          -1.94834890e+01,  9.36722777e+00,  8.95761808e+00,\n",
       "          -1.37366876e+01],\n",
       "         [ 2.33758802e+01,  2.47281215e+01, -1.70478357e+01,\n",
       "           2.76827137e+00,  3.69943735e+00, -1.14536888e+01,\n",
       "           3.37851677e+01,  1.61127405e+01, -1.70376588e+01,\n",
       "          -6.09719602e+00, -9.75656986e+00,  4.72964607e+00,\n",
       "           1.39012794e+01,  1.54943103e+01,  4.49014521e+00,\n",
       "           3.96979128e+00],\n",
       "         [-4.78647367e+01, -4.89595280e+01, -3.96377944e+00,\n",
       "          -3.59682667e+01,  7.08757707e+00,  3.63767604e+01,\n",
       "          -9.10672863e+00, -2.10107350e+01, -1.29007214e+01,\n",
       "           1.94270009e+01,  8.31009526e+00,  1.24102540e+00,\n",
       "          -6.53909699e+00,  4.89294919e+00,  1.93979945e+01,\n",
       "          -3.21152423e-01],\n",
       "         [ 4.64389382e+01,  3.62048048e+01,  4.79126588e+00,\n",
       "           2.09482350e+01, -1.33957331e+00, -5.73985525e+01,\n",
       "          -3.27645779e+01,  9.81634295e+00,  1.30864610e+01,\n",
       "           2.33253175e-01,  6.17732304e+00,  4.88942841e-01,\n",
       "           8.40456437e+00, -2.68617740e+01,  2.73241152e+01,\n",
       "           1.05989564e+01],\n",
       "         [-3.15696911e+00, -2.73533574e+00,  1.47089700e+01,\n",
       "          -2.81359708e+01, -2.76863840e+01,  7.69387408e-01,\n",
       "          -2.28306850e+01, -5.29535162e+01,  3.10408805e+00,\n",
       "          -5.51994543e+00, -5.74639290e+00,  8.90192379e+00,\n",
       "          -2.57538430e+01,  3.84425453e+01, -5.30648816e+00,\n",
       "           9.40226909e-01],\n",
       "         [ 4.19183484e+01,  4.73862930e+01,  1.68245468e+00,\n",
       "          -1.13185118e+01, -2.93282803e+01, -2.67165064e+01,\n",
       "           2.94648955e+01,  5.14406523e+00, -6.00240474e+00,\n",
       "          -3.03798095e+00,  5.07125771e+01,  4.05648816e+00,\n",
       "           3.46788476e+01,  6.64984123e+00,  1.72359801e+01,\n",
       "          -2.05068057e+01],\n",
       "         [ 2.31041744e+00, -1.21647413e+01,  1.26297231e+01,\n",
       "           4.76217320e+00,  2.29177041e+01,  3.04632214e+01,\n",
       "          -7.66753900e+01,  3.08638565e+01, -3.27744327e+01,\n",
       "           8.49591195e+01, -1.87224319e+01,  1.82180309e+01,\n",
       "           2.76118603e+01,  5.13860572e+01,  2.18186614e+01,\n",
       "           2.61972685e+01],\n",
       "         [ 4.75328493e+00,  6.34599365e+00,  3.87643822e+00,\n",
       "          -1.07323499e+00, -2.67732304e+00,  4.71161055e+00,\n",
       "           2.73863793e+01,  3.69323684e+01,  4.55352540e+00,\n",
       "          -7.91707300e+01,  3.97385343e+01,  5.51346189e+00,\n",
       "           7.48653811e+00, -6.66570786e+00, -6.34174220e+00,\n",
       "          -2.87019053e+00],\n",
       "         [-3.28493020e-03,  1.33974596e-01,  3.33734123e-01,\n",
       "           1.75000000e+00,  4.29038568e+00,  7.81041744e+00,\n",
       "           9.04815791e+00,  1.21564111e+01, -9.57853928e-01,\n",
       "           2.85432621e+01,  2.59391109e+00, -4.66834844e+00,\n",
       "          -1.08253175e-01,  2.37828493e+00,  2.03677858e+00,\n",
       "           2.37828493e+00],\n",
       "         [-4.81458256e+00, -5.02660162e+00, -6.77211432e+00,\n",
       "          -6.25208256e+00, -7.56338019e+00, -1.15074501e+01,\n",
       "          -1.49805263e+01, -1.04877405e+01, -2.81129763e+00,\n",
       "           5.94887933e+00, -1.75240474e+00,  4.77003175e+00,\n",
       "          -2.60496825e+00,  9.77563509e-01,  7.44310334e-01,\n",
       "           1.46081668e+00],\n",
       "         [ 5.41265877e+00,  5.68717783e+00,  6.65368418e+00,\n",
       "           5.57115242e+00,  5.46498181e+00,  1.04870961e+01,\n",
       "           1.44266787e+01,  1.06031215e+01,  1.82108167e+01,\n",
       "          -1.40702722e+01,  8.17075318e+00, -2.41418332e+00,\n",
       "           2.56698730e+00, -1.96979128e+00, -9.24038106e-01,\n",
       "          -1.73205081e+00]]),\n",
       "  array([[ 4.97964607e+00,  2.64664262e-01, -5.61602540e+00,\n",
       "           6.57684209e+00, -1.72640199e+01,  4.21736296e+01,\n",
       "           3.27009619e+01, -3.31882939e+01,  5.22642558e+01,\n",
       "           1.52521689e+01,  2.00480947e+00,  1.37346914e+01,\n",
       "           1.22703539e+01,  2.56610710e+00, -2.36514521e+00,\n",
       "          -4.97964607e+00],\n",
       "         [ 9.46826674e+00, -4.00745005e+00, -4.16626588e+00,\n",
       "           8.41594370e+00, -3.88813972e+00,  2.62568057e+01,\n",
       "           2.68271643e+01, -3.25580127e+01,  1.88510390e+01,\n",
       "           5.74278579e+00,  2.01844509e+01,  3.80412659e+01,\n",
       "          -1.06939835e+01,  1.21323637e+01,  6.36701506e-01,\n",
       "          -6.58581668e+00],\n",
       "         [ 4.68389290e+00, -1.13036749e+00, -2.28589838e+00,\n",
       "           7.55440560e+00,  2.08235572e+01, -7.44406986e+00,\n",
       "           1.10593477e+00, -1.30418239e+01, -8.54323898e-01,\n",
       "          -1.23084844e+00,  4.45392465e+00,  5.13300808e+00,\n",
       "          -1.85242832e+01,  7.81338019e+00,  4.56722315e+00,\n",
       "           6.38901992e+00],\n",
       "         [ 8.86690560e+00, -3.15280398e+00,  3.92700086e+00,\n",
       "           5.75897460e+00, -1.19784437e+01,  4.78614518e+01,\n",
       "           1.79811706e+01, -3.37948730e+00,  9.68269053e+00,\n",
       "          -3.30783666e+01, -1.40651406e+01, -5.01090470e+01,\n",
       "          -6.97427858e+00, -5.87948730e+00, -2.41755626e+01,\n",
       "           9.61954618e+00],\n",
       "         [-3.63813972e+00,  1.56913430e+01, -7.56041744e+00,\n",
       "          -9.67700086e+00, -1.42790064e+01,  2.17861342e+01,\n",
       "          -1.16782032e+01, -7.57536381e-01, -3.65875771e+01,\n",
       "           3.12828493e+00,  2.12370961e+01, -1.74389382e+01,\n",
       "          -1.30780445e+01, -7.09030398e+00, -4.86625724e+01,\n",
       "           4.02857257e+01],\n",
       "         [-2.47219602e+00,  2.65095326e+01, -1.24625771e+01,\n",
       "          -1.27616152e+01, -5.72155167e+00, -1.13223548e+01,\n",
       "          -1.80793332e+01,  2.16514984e+00, -2.01395779e+01,\n",
       "           6.17700086e+00,  2.60256351e+00, -1.07897413e+01,\n",
       "           5.25689203e+00, -4.12444198e+00, -1.02709119e+01,\n",
       "           2.80453447e+01],\n",
       "         [ 5.42972777e+00,  1.20582485e+01,  3.77415834e+01,\n",
       "          -4.04099319e+01,  6.50680571e+00, -4.35754671e+01,\n",
       "           4.00566377e+01,  1.06354991e+01, -4.71586200e+00,\n",
       "           1.58441469e+01, -9.30079849e+00,  9.30607966e-01,\n",
       "          -6.68717783e+00, -7.31786749e+00, -3.87502358e+01,\n",
       "           3.45761977e+01],\n",
       "         [-8.94615242e+00,  3.58822142e+00, -2.27269192e+01,\n",
       "          -3.01823684e+01,  4.04798819e+01, -5.91265877e+00,\n",
       "           2.72233984e+01, -2.63947096e+01,  1.09162659e+01,\n",
       "           1.02439882e+01, -1.28501588e+01,  7.35705081e+00,\n",
       "          -1.43298048e+01, -2.99583488e+00,  3.62096127e-01,\n",
       "          -4.92884758e+00],\n",
       "         [ 2.62195092e+00,  1.46833349e+01, -7.32828030e+00,\n",
       "           1.74578539e+01, -2.09209890e+01,  5.62735525e+01,\n",
       "          -1.34248320e+01,  8.78129211e-02, -1.89039200e+01,\n",
       "           1.06925453e+01, -7.95184209e+00, -3.87708256e+00,\n",
       "           6.24911981e+00,  2.45040387e+00, -2.17906215e+01,\n",
       "           1.52149818e+01],\n",
       "         [ 3.28058438e+01,  3.83088929e+01,  5.44541605e+01,\n",
       "          -3.26539200e+01,  5.65145779e+01,  5.82194629e+00,\n",
       "          -1.79957485e+01,  1.75439065e+01,  1.17665742e+01,\n",
       "          -3.88597083e+00,  2.49305216e+01,  1.82858984e+01,\n",
       "           1.34423326e+00,  5.63869774e+00,  6.67556265e+00,\n",
       "          -5.20336663e+00],\n",
       "         [-7.88068967e+00,  2.61590517e+01, -4.10005580e+01,\n",
       "           3.41587295e+01, -1.92314928e+01, -8.54663337e+00,\n",
       "          -2.85552858e+01, -1.08120018e+02,  1.10357257e+01,\n",
       "           2.96553983e+00, -4.36867693e+01,  3.25849997e+01,\n",
       "          -1.74240381e+01,  2.26008031e+01, -2.62508802e+01,\n",
       "           2.67861342e+01],\n",
       "         [ 3.68174590e+01,  5.42500463e+00, -4.93597546e+00,\n",
       "          -2.06288430e+01, -1.96348548e+01, -3.34543563e+00,\n",
       "           2.28675499e+01, -4.45534391e+01, -7.44430170e+01,\n",
       "           1.13256869e+02, -9.70438833e+01, -1.14303721e+01,\n",
       "           5.92403811e+00, -4.90014382e+01,  4.45375724e+01,\n",
       "          -2.00190652e+01],\n",
       "         [ 5.58822142e+00,  1.47515877e+00,  1.03991969e+01,\n",
       "          -7.85913337e+00, -4.06129763e+00,  1.42080898e+01,\n",
       "           1.16937477e+01, -9.56189018e+01,  5.65605670e+01,\n",
       "          -1.20393328e+01,  3.09167376e+01, -1.24967783e+00,\n",
       "           2.83942379e+00, -6.75416512e+00,  6.12740474e-01,\n",
       "          -2.39294919e+00],\n",
       "         [-8.87259526e-01,  5.68434189e-14,  1.38277223e+00,\n",
       "          -6.83012702e-01, -4.72756351e+00,  2.74519053e-01,\n",
       "           1.66725136e+01, -5.67275635e+01, -1.35533528e+01,\n",
       "           3.50993418e+01, -4.50317547e-01,  7.95600721e+00,\n",
       "          -2.78126157e-01,  7.92468245e-02, -2.62259526e-01,\n",
       "           9.45272228e-01],\n",
       "         [ 6.49519053e-01, -3.12500000e-01, -5.80127019e-02,\n",
       "          -1.54006351e-01, -3.78229128e+00, -1.83405630e+00,\n",
       "          -2.07616152e+01,  5.83003900e+01, -1.25400698e+02,\n",
       "           3.27584798e+01,  5.59567148e+00, -1.98411842e+01,\n",
       "           2.39503175e+00,  6.25000000e-02,  4.45272228e-01,\n",
       "           2.95753175e-01],\n",
       "         [ 2.16506351e-01,  3.08012702e-01, -9.15063509e-02,\n",
       "           3.75000000e-01, -9.95841195e+00, -1.42068998e-01,\n",
       "           6.63725953e+00,  4.54906169e+01, -1.45458711e+02,\n",
       "           4.55072774e+01, -1.03603357e+01,  4.16594370e+00,\n",
       "          -1.21410162e+00, -1.70753175e-01,  4.91025404e-01,\n",
       "           2.13162821e-14]]),\n",
       "  array([[-4.12500000e+00,  3.78677858e+00, -1.29903811e+00,\n",
       "          -1.46322142e+00, -1.61276406e+01,  1.40319691e+01,\n",
       "           6.58012702e+00, -8.46315823e-01,  2.69503175e+01,\n",
       "           9.20776760e+00, -1.51160254e+01, -1.97699454e+01,\n",
       "           2.19862159e+01, -8.12411981e+00, -2.49190560e+00,\n",
       "           1.12500000e+00],\n",
       "         [ 3.10048095e+00, -3.41177858e+00,  1.11153811e+00,\n",
       "           2.02123412e+00, -3.45336663e+00, -1.29649818e+01,\n",
       "          -1.45031755e-01, -4.48557159e-01, -3.55104128e+01,\n",
       "          -5.01730485e+00,  1.78223548e+01,  2.52866923e+01,\n",
       "          -1.29428675e+01,  8.81578493e+00,  2.95632939e+00,\n",
       "          -2.27123412e+00],\n",
       "         [-2.86274047e+00,  2.17852540e+00, -3.66025404e-01,\n",
       "          -1.41298095e+00,  1.83366969e+01,  3.19078493e+00,\n",
       "          -3.77404736e-01,  7.09936491e-01,  2.49670644e+01,\n",
       "           3.36570323e+00, -1.66181080e+01, -2.09712295e+01,\n",
       "           1.44527223e+00, -6.62467783e+00,  1.61690560e+00,\n",
       "           2.48774047e+00],\n",
       "         [ 3.77123412e+00, -4.57027223e+00,  1.79455081e+00,\n",
       "           2.05144284e+00,  1.14743649e+00,  5.75088019e+00,\n",
       "          -3.23533574e+00,  2.51193735e+00, -1.79294056e+01,\n",
       "          -1.11847731e+01,  6.20785393e+00,  4.65039925e+00,\n",
       "           2.31490474e+00,  2.94495005e+00, -3.36450086e+00,\n",
       "          -3.20096189e+00],\n",
       "         [-2.23445554e+00, -2.03108891e+00, -1.01536842e+01,\n",
       "          -1.63435889e+01, -7.37139290e+00,  1.65280398e+00,\n",
       "          -7.74519053e+00, -1.15675453e+01,  8.49847546e+00,\n",
       "          -2.85136114e+00, -3.47284036e+00,  6.11860279e-01,\n",
       "           6.98501356e+00, -3.45366923e+01, -1.81250000e+00,\n",
       "           2.32852540e+01],\n",
       "         [ 3.15280398e+00,  3.02243649e+00,  1.18261977e+01,\n",
       "           4.17556265e+00, -4.98838482e+00, -5.76522228e+00,\n",
       "          -1.87620237e+00,  1.17407032e+01, -7.63693735e+00,\n",
       "           2.11153811e+00,  5.83734123e-01, -1.73325318e+00,\n",
       "          -3.27331668e+00,  1.09817286e+01, -4.05176501e+00,\n",
       "          -1.54968245e+00],\n",
       "         [-1.49431033e+00,  1.01361142e-01, -9.40576674e+00,\n",
       "           3.89350721e+00,  1.66418332e+00, -7.45632939e+00,\n",
       "           1.31229174e+01, -5.73117061e+00,  3.18477309e+00,\n",
       "          -1.61778579e-01, -1.84150635e+00,  3.24102540e+00,\n",
       "           1.25777223e+01,  8.72876588e+00,  1.58603357e+01,\n",
       "          -1.22191469e+01],\n",
       "         [-5.17949192e-01, -5.79991830e+00,  5.73325318e+00,\n",
       "          -1.53277223e+01,  2.12108167e+01,  4.90127944e+00,\n",
       "          -6.59927858e+00, -4.95512702e+00,  1.10535254e+01,\n",
       "          -6.20512702e-01, -5.25721421e-01, -7.65544457e-01,\n",
       "          -7.81097546e+00, -1.71447096e+01, -1.81521596e+01,\n",
       "           9.82772228e+00],\n",
       "         [ 5.13813972e+00, -2.11901406e+01, -2.60080312e+00,\n",
       "           3.42218738e+01,  4.50317547e-01, -2.03749137e+01,\n",
       "           7.31995005e+00, -8.58253175e+00, -1.66366152e+01,\n",
       "          -5.61153811e+00, -2.37436660e+01, -3.67524047e+00,\n",
       "           3.06521596e+01,  1.08770826e+01, -8.32628407e+00,\n",
       "           2.93629763e+00],\n",
       "         [ 8.76225953e+00,  3.05713883e+01,  5.45808978e+00,\n",
       "          -1.74811706e+01, -5.26129301e+00, -4.01500771e+01,\n",
       "           4.19559209e+01,  1.49856579e+01,  1.26634526e+01,\n",
       "          -5.27539925e+00,  3.96054399e+01,  6.57531755e+00,\n",
       "          -1.42643421e+01, -4.93204618e+00,  1.11145009e+01,\n",
       "          -7.20993649e+00],\n",
       "         [-1.53226770e+01, -3.03022367e+01,  2.11875231e+00,\n",
       "          -5.34414693e+00,  3.63957794e+00,  3.34993557e+01,\n",
       "          -4.95986342e+01, -1.68664971e+01, -4.28877482e+00,\n",
       "           1.64767234e+00, -3.93249090e+01,  3.44791281e-01,\n",
       "           2.17165064e+01,  1.31608121e+01, -1.86145009e+01,\n",
       "           6.49254995e+00],\n",
       "         [ 2.47075318e+01,  2.77451042e+01, -1.55110572e+01,\n",
       "           1.58085707e+01,  1.86845372e+01,  1.22598548e+01,\n",
       "           1.31576135e+01,  7.23580743e+00,  1.41443874e+01,\n",
       "           2.40137841e+01,  1.56569860e+00, -5.49366599e+00,\n",
       "          -8.31458256e+00, -2.09777994e+01,  2.66713112e+01,\n",
       "          -1.94730762e+01],\n",
       "         [-1.72941022e+00,  2.20757802e-01, -1.75536749e+00,\n",
       "           1.80681033e+00, -2.02780398e+00, -4.28557621e+00,\n",
       "           1.79336570e+01, -2.50645826e+01,  2.06555309e+01,\n",
       "          -8.92436028e+00,  3.13670151e+00,  7.30857072e+00,\n",
       "          -3.30024047e+00,  1.80977309e+00, -2.13221421e-01,\n",
       "           8.73239611e-01],\n",
       "         [-7.92468245e-02,  2.50000000e-01, -3.70512702e-01,\n",
       "           2.50000000e-01,  5.99879763e+00,  1.32355716e+00,\n",
       "          -8.71738655e+00,  1.30298865e+01, -2.17709119e+01,\n",
       "           1.55813294e+01, -7.78349365e+00, -9.94310334e-01,\n",
       "           1.01105716e+00,  2.95753175e-01, -2.95753175e-01,\n",
       "           2.95753175e-01],\n",
       "         [ 3.75000000e-01,  4.49759526e-01, -2.16506351e-01,\n",
       "          -1.41746825e-01, -5.65160162e+00, -2.27780398e+00,\n",
       "           7.37740474e-01,  5.66177858e+00,  8.52956437e+00,\n",
       "          -1.55651406e+01,  7.52211432e+00, -4.59030398e+00,\n",
       "           1.26017696e+00, -4.49759526e-01,  2.95753175e-01,\n",
       "          -7.92468245e-02],\n",
       "         [-3.75000000e-01, -2.16506351e-01,  1.58493649e-01,\n",
       "           2.16506351e-01,  3.05232304e+00,  2.08581668e+00,\n",
       "           5.04334844e+00, -6.94527223e+00, -1.06186660e+01,\n",
       "           1.44960707e+01, -9.00985479e+00,  8.41834844e+00,\n",
       "          -1.70096189e+00,  2.95753175e-01, -2.16506351e-01,\n",
       "          -1.11022302e-16]])))"
      ]
     },
     "execution_count": 5,
     "metadata": {},
     "output_type": "execute_result"
    }
   ],
   "source": [
    "coeffs"
   ]
  },
  {
   "cell_type": "code",
   "execution_count": 6,
   "id": "c302956a",
   "metadata": {},
   "outputs": [
    {
     "data": {
      "image/png": "[encoded data removed]",
      "text/plain": [
       "<Figure size 864x216 with 4 Axes>"
      ]
     },
     "metadata": {},
     "output_type": "display_data"
    }
   ],
   "source": [
    "fig = plt.figure(figsize=(12, 3))\n",
    "for i, a in enumerate([LL, LH, HL, HH]):\n",
    "    ax = fig.add_subplot(1, 4, i + 1)\n",
    "    ax.imshow(a)\n",
    "    ax.set_xticks([])\n",
    "    ax.set_yticks([])"
   ]
  },
  {
   "cell_type": "code",
   "execution_count": 7,
   "id": "6c5fd8da",
   "metadata": {},
   "outputs": [
    {
     "data": {
      "text/plain": [
       "<matplotlib.image.AxesImage at 0x7feb59664ac0>"
      ]
     },
     "execution_count": 7,
     "metadata": {},
     "output_type": "execute_result"
    },
    {
     "data": {
      "image/png": "[encoded data removed]",
      "text/plain": [
       "<Figure size 432x288 with 1 Axes>"
      ]
     },
     "metadata": {
      "needs_background": "light"
     },
     "output_type": "display_data"
    }
   ],
   "source": [
    "plt.imshow(reconst)"
   ]
  },
  {
   "cell_type": "code",
   "execution_count": 8,
   "id": "65e910d7",
   "metadata": {},
   "outputs": [
    {
     "ename": "NameError",
     "evalue": "name 'wavedecn' is not defined",
     "output_type": "error",
     "traceback": [
      "\u001b[0;31m---------------------------------------------------------------------------\u001b[0m",
      "\u001b[0;31mNameError\u001b[0m                                 Traceback (most recent call last)",
      "\u001b[0;32m/tmp/ipykernel_25372/2320256511.py\u001b[0m in \u001b[0;36m<module>\u001b[0;34m\u001b[0m\n\u001b[0;32m----> 1\u001b[0;31m \u001b[0mwavedecn\u001b[0m\u001b[0;34m(\u001b[0m\u001b[0mimg\u001b[0m\u001b[0;34m,\u001b[0m \u001b[0;34m'db2'\u001b[0m\u001b[0;34m)\u001b[0m\u001b[0;34m\u001b[0m\u001b[0;34m\u001b[0m\u001b[0m\n\u001b[0m",
      "\u001b[0;31mNameError\u001b[0m: name 'wavedecn' is not defined"
     ]
    }
   ],
   "source": [
    "wavedecn(img, 'db2')"
   ]
  },
  {
   "cell_type": "code",
   "execution_count": null,
   "id": "5b77d58a",
   "metadata": {},
   "outputs": [],
   "source": [
    "from pywt import wavedecn\n",
    "\n",
    "coeffs = wavedecn(np.ones((10,4,4)), 'db2')"
   ]
  },
  {
   "cell_type": "code",
   "execution_count": null,
   "id": "ff1f0fe3",
   "metadata": {
    "scrolled": true
   },
   "outputs": [],
   "source": [
    "coeffs"
   ]
  },
  {
   "cell_type": "code",
   "execution_count": 11,
   "id": "f1a6ce84",
   "metadata": {},
   "outputs": [
    {
     "data": {
      "text/plain": [
       "array([[0., 0., 0., ..., 0., 0., 0.],\n",
       "       [0., 0., 0., ..., 0., 0., 0.],\n",
       "       [0., 0., 0., ..., 0., 0., 0.],\n",
       "       ...,\n",
       "       [0., 0., 0., ..., 0., 0., 0.],\n",
       "       [0., 0., 0., ..., 0., 0., 0.],\n",
       "       [0., 0., 0., ..., 0., 0., 0.]])"
      ]
     },
     "execution_count": 11,
     "metadata": {},
     "output_type": "execute_result"
    }
   ],
   "source": [
    "cn, cm = img_arr.shape\n",
    "samp = np.floor(cn * cm * 0.5).astype(int)\n",
    "rand_index = np.random.randint(0, cn * cm, samp)\n",
    "y = img_arr.flatten()[rand_index].reshape(samp, 1)\n",
    "\n",
    "y = y * np.sqrt(cn * cm)\n",
    "C = np.eye(cn * cm)[rand_index, :] * np.sqrt(cn * cm)\n",
    "C"
   ]
  },
  {
   "cell_type": "code",
   "execution_count": 12,
   "id": "81d5a5ca",
   "metadata": {},
   "outputs": [
    {
     "data": {
      "text/plain": [
       "array([ 0., 30.])"
      ]
     },
     "execution_count": 12,
     "metadata": {},
     "output_type": "execute_result"
    }
   ],
   "source": [
    "np.unique(C)"
   ]
  },
  {
   "cell_type": "code",
   "execution_count": null,
   "id": "2c5c17ab",
   "metadata": {},
   "outputs": [],
   "source": []
  },
  {
   "cell_type": "code",
   "execution_count": null,
   "id": "a69e2ee3",
   "metadata": {},
   "outputs": [],
   "source": []
  },
  {
   "cell_type": "code",
   "execution_count": null,
   "id": "61289544",
   "metadata": {},
   "outputs": [],
   "source": []
  },
  {
   "cell_type": "code",
   "execution_count": null,
   "id": "ad9560d8",
   "metadata": {},
   "outputs": [],
   "source": []
  }
 ],
 "metadata": {
  "kernelspec": {
   "display_name": "Python 3 (ipykernel)",
   "language": "python",
   "name": "python3"
  },
  "language_info": {
   "codemirror_mode": {
    "name": "ipython",
    "version": 3
   },
   "file_extension": ".py",
   "mimetype": "text/x-python",
   "name": "python",
   "nbconvert_exporter": "python",
   "pygments_lexer": "ipython3",
   "version": "3.9.7"
  }
 },
 "nbformat": 4,
 "nbformat_minor": 5
}
