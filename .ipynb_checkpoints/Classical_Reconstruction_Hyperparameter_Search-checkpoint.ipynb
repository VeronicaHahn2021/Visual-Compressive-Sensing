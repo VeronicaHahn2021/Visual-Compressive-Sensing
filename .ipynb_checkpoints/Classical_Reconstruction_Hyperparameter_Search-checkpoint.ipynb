{
 "cells": [
  {
   "cell_type": "code",
   "execution_count": 1,
   "id": "3f4883ef",
   "metadata": {},
   "outputs": [],
   "source": [
    "import matplotlib.pyplot as plt\n",
    "import numpy as np\n",
    "import numpy.linalg as la\n",
    "\n",
    "from src.structured_random_features.src.models.weights import V1_weights\n",
    "\n",
    "# Packages for fft and fitting data\n",
    "from scipy import fftpack as fft\n",
    "from sklearn.linear_model import Lasso\n",
    "\n",
    "# Package for importing image representation\n",
    "from PIL import Image, ImageOps\n",
    "\n",
    "from src.V1_Compress import generate_Y, compress\n",
    "import pandas as pd\n",
    "import itertools\n",
    "import dask\n",
    "from dask.distributed import Client, progress\n",
    "import seaborn as sns\n",
    "import time\n",
    "import os.path"
   ]
  },
  {
   "cell_type": "code",
   "execution_count": null,
   "id": "9415f8ce",
   "metadata": {},
   "outputs": [],
   "source": []
  },
  {
   "cell_type": "code",
   "execution_count": 36,
   "id": "3796ea94",
   "metadata": {
    "scrolled": true
   },
   "outputs": [
    {
     "name": "stdout",
     "output_type": "stream",
     "text": [
      "30 30\n"
     ]
    },
    {
     "name": "stderr",
     "output_type": "stream",
     "text": [
      "C:\\Users\\Owner\\anaconda3\\lib\\site-packages\\sklearn\\linear_model\\_coordinate_descent.py:647: ConvergenceWarning: Objective did not converge. You might want to increase the number of iterations, check the scale of the features or consider increasing regularisation. Duality gap: 4.053e+01, tolerance: 3.304e+01\n",
      "  model = cd_fast.enet_coordinate_descent(\n",
      "C:\\Users\\Owner\\anaconda3\\lib\\site-packages\\sklearn\\linear_model\\_coordinate_descent.py:647: ConvergenceWarning: Objective did not converge. You might want to increase the number of iterations, check the scale of the features or consider increasing regularisation. Duality gap: 8.737e+01, tolerance: 6.377e+01\n",
      "  model = cd_fast.enet_coordinate_descent(\n",
      "C:\\Users\\Owner\\anaconda3\\lib\\site-packages\\sklearn\\linear_model\\_coordinate_descent.py:647: ConvergenceWarning: Objective did not converge. You might want to increase the number of iterations, check the scale of the features or consider increasing regularisation. Duality gap: 6.433e+01, tolerance: 3.205e+01\n",
      "  model = cd_fast.enet_coordinate_descent(\n",
      "C:\\Users\\Owner\\anaconda3\\lib\\site-packages\\sklearn\\linear_model\\_coordinate_descent.py:647: ConvergenceWarning: Objective did not converge. You might want to increase the number of iterations, check the scale of the features or consider increasing regularisation. Duality gap: 7.232e+01, tolerance: 5.863e+01\n",
      "  model = cd_fast.enet_coordinate_descent(\n",
      "C:\\Users\\Owner\\anaconda3\\lib\\site-packages\\sklearn\\linear_model\\_coordinate_descent.py:647: ConvergenceWarning: Objective did not converge. You might want to increase the number of iterations, check the scale of the features or consider increasing regularisation. Duality gap: 3.864e+01, tolerance: 3.054e+01\n",
      "  model = cd_fast.enet_coordinate_descent(\n",
      "C:\\Users\\Owner\\anaconda3\\lib\\site-packages\\sklearn\\linear_model\\_coordinate_descent.py:647: ConvergenceWarning: Objective did not converge. You might want to increase the number of iterations, check the scale of the features or consider increasing regularisation. Duality gap: 8.099e+01, tolerance: 6.121e+01\n",
      "  model = cd_fast.enet_coordinate_descent(\n",
      "C:\\Users\\Owner\\anaconda3\\lib\\site-packages\\sklearn\\linear_model\\_coordinate_descent.py:647: ConvergenceWarning: Objective did not converge. You might want to increase the number of iterations, check the scale of the features or consider increasing regularisation. Duality gap: 4.522e+01, tolerance: 3.134e+01\n",
      "  model = cd_fast.enet_coordinate_descent(\n",
      "C:\\Users\\Owner\\anaconda3\\lib\\site-packages\\sklearn\\linear_model\\_coordinate_descent.py:647: ConvergenceWarning: Objective did not converge. You might want to increase the number of iterations, check the scale of the features or consider increasing regularisation. Duality gap: 3.904e+01, tolerance: 3.100e+01\n",
      "  model = cd_fast.enet_coordinate_descent(\n",
      "C:\\Users\\Owner\\anaconda3\\lib\\site-packages\\sklearn\\linear_model\\_coordinate_descent.py:647: ConvergenceWarning: Objective did not converge. You might want to increase the number of iterations, check the scale of the features or consider increasing regularisation. Duality gap: 7.839e+01, tolerance: 5.849e+01\n",
      "  model = cd_fast.enet_coordinate_descent(\n",
      "C:\\Users\\Owner\\anaconda3\\lib\\site-packages\\sklearn\\linear_model\\_coordinate_descent.py:647: ConvergenceWarning: Objective did not converge. You might want to increase the number of iterations, check the scale of the features or consider increasing regularisation. Duality gap: 7.368e+01, tolerance: 3.083e+01\n",
      "  model = cd_fast.enet_coordinate_descent(\n",
      "C:\\Users\\Owner\\anaconda3\\lib\\site-packages\\sklearn\\linear_model\\_coordinate_descent.py:647: ConvergenceWarning: Objective did not converge. You might want to increase the number of iterations, check the scale of the features or consider increasing regularisation. Duality gap: 3.567e+01, tolerance: 3.216e+01\n",
      "  model = cd_fast.enet_coordinate_descent(\n",
      "C:\\Users\\Owner\\anaconda3\\lib\\site-packages\\sklearn\\linear_model\\_coordinate_descent.py:647: ConvergenceWarning: Objective did not converge. You might want to increase the number of iterations, check the scale of the features or consider increasing regularisation. Duality gap: 3.724e+01, tolerance: 3.311e+01\n",
      "  model = cd_fast.enet_coordinate_descent(\n",
      "C:\\Users\\Owner\\anaconda3\\lib\\site-packages\\sklearn\\linear_model\\_coordinate_descent.py:647: ConvergenceWarning: Objective did not converge. You might want to increase the number of iterations, check the scale of the features or consider increasing regularisation. Duality gap: 6.818e+01, tolerance: 6.078e+01\n",
      "  model = cd_fast.enet_coordinate_descent(\n",
      "C:\\Users\\Owner\\anaconda3\\lib\\site-packages\\sklearn\\linear_model\\_coordinate_descent.py:647: ConvergenceWarning: Objective did not converge. You might want to increase the number of iterations, check the scale of the features or consider increasing regularisation. Duality gap: 1.021e+02, tolerance: 3.255e+01\n",
      "  model = cd_fast.enet_coordinate_descent(\n",
      "C:\\Users\\Owner\\anaconda3\\lib\\site-packages\\sklearn\\linear_model\\_coordinate_descent.py:647: ConvergenceWarning: Objective did not converge. You might want to increase the number of iterations, check the scale of the features or consider increasing regularisation. Duality gap: 7.302e+01, tolerance: 5.659e+01\n",
      "  model = cd_fast.enet_coordinate_descent(\n",
      "C:\\Users\\Owner\\anaconda3\\lib\\site-packages\\sklearn\\linear_model\\_coordinate_descent.py:647: ConvergenceWarning: Objective did not converge. You might want to increase the number of iterations, check the scale of the features or consider increasing regularisation. Duality gap: 1.515e+02, tolerance: 1.437e+02\n",
      "  model = cd_fast.enet_coordinate_descent(\n",
      "C:\\Users\\Owner\\anaconda3\\lib\\site-packages\\sklearn\\linear_model\\_coordinate_descent.py:647: ConvergenceWarning: Objective did not converge. You might want to increase the number of iterations, check the scale of the features or consider increasing regularisation. Duality gap: 3.586e+01, tolerance: 2.628e+01\n",
      "  model = cd_fast.enet_coordinate_descent(\n",
      "C:\\Users\\Owner\\anaconda3\\lib\\site-packages\\sklearn\\linear_model\\_coordinate_descent.py:647: ConvergenceWarning: Objective did not converge. You might want to increase the number of iterations, check the scale of the features or consider increasing regularisation. Duality gap: 8.396e+01, tolerance: 6.370e+01\n",
      "  model = cd_fast.enet_coordinate_descent(\n",
      "C:\\Users\\Owner\\anaconda3\\lib\\site-packages\\sklearn\\linear_model\\_coordinate_descent.py:647: ConvergenceWarning: Objective did not converge. You might want to increase the number of iterations, check the scale of the features or consider increasing regularisation. Duality gap: 1.721e+02, tolerance: 1.549e+02\n",
      "  model = cd_fast.enet_coordinate_descent(\n",
      "C:\\Users\\Owner\\anaconda3\\lib\\site-packages\\sklearn\\linear_model\\_coordinate_descent.py:647: ConvergenceWarning: Objective did not converge. You might want to increase the number of iterations, check the scale of the features or consider increasing regularisation. Duality gap: 5.675e+01, tolerance: 2.907e+01\n",
      "  model = cd_fast.enet_coordinate_descent(\n",
      "C:\\Users\\Owner\\anaconda3\\lib\\site-packages\\sklearn\\linear_model\\_coordinate_descent.py:647: ConvergenceWarning: Objective did not converge. You might want to increase the number of iterations, check the scale of the features or consider increasing regularisation. Duality gap: 1.007e+02, tolerance: 6.261e+01\n",
      "  model = cd_fast.enet_coordinate_descent(\n",
      "C:\\Users\\Owner\\anaconda3\\lib\\site-packages\\sklearn\\linear_model\\_coordinate_descent.py:647: ConvergenceWarning: Objective did not converge. You might want to increase the number of iterations, check the scale of the features or consider increasing regularisation. Duality gap: 4.218e+01, tolerance: 3.186e+01\n",
      "  model = cd_fast.enet_coordinate_descent(\n",
      "C:\\Users\\Owner\\anaconda3\\lib\\site-packages\\sklearn\\linear_model\\_coordinate_descent.py:647: ConvergenceWarning: Objective did not converge. You might want to increase the number of iterations, check the scale of the features or consider increasing regularisation. Duality gap: 7.683e+01, tolerance: 5.800e+01\n",
      "  model = cd_fast.enet_coordinate_descent(\n",
      "C:\\Users\\Owner\\anaconda3\\lib\\site-packages\\sklearn\\linear_model\\_coordinate_descent.py:647: ConvergenceWarning: Objective did not converge. You might want to increase the number of iterations, check the scale of the features or consider increasing regularisation. Duality gap: 5.220e+01, tolerance: 3.466e+01\n",
      "  model = cd_fast.enet_coordinate_descent(\n",
      "C:\\Users\\Owner\\anaconda3\\lib\\site-packages\\sklearn\\linear_model\\_coordinate_descent.py:647: ConvergenceWarning: Objective did not converge. You might want to increase the number of iterations, check the scale of the features or consider increasing regularisation. Duality gap: 7.796e+01, tolerance: 6.403e+01\n",
      "  model = cd_fast.enet_coordinate_descent(\n"
     ]
    },
    {
     "name": "stderr",
     "output_type": "stream",
     "text": [
      "C:\\Users\\Owner\\anaconda3\\lib\\site-packages\\sklearn\\linear_model\\_coordinate_descent.py:647: ConvergenceWarning: Objective did not converge. You might want to increase the number of iterations, check the scale of the features or consider increasing regularisation. Duality gap: 1.731e+02, tolerance: 1.522e+02\n",
      "  model = cd_fast.enet_coordinate_descent(\n",
      "C:\\Users\\Owner\\anaconda3\\lib\\site-packages\\sklearn\\linear_model\\_coordinate_descent.py:647: ConvergenceWarning: Objective did not converge. You might want to increase the number of iterations, check the scale of the features or consider increasing regularisation. Duality gap: 3.996e+01, tolerance: 3.236e+01\n",
      "  model = cd_fast.enet_coordinate_descent(\n",
      "C:\\Users\\Owner\\anaconda3\\lib\\site-packages\\sklearn\\linear_model\\_coordinate_descent.py:647: ConvergenceWarning: Objective did not converge. You might want to increase the number of iterations, check the scale of the features or consider increasing regularisation. Duality gap: 7.396e+01, tolerance: 6.015e+01\n",
      "  model = cd_fast.enet_coordinate_descent(\n",
      "C:\\Users\\Owner\\anaconda3\\lib\\site-packages\\sklearn\\linear_model\\_coordinate_descent.py:647: ConvergenceWarning: Objective did not converge. You might want to increase the number of iterations, check the scale of the features or consider increasing regularisation. Duality gap: 6.752e+01, tolerance: 3.053e+01\n",
      "  model = cd_fast.enet_coordinate_descent(\n",
      "C:\\Users\\Owner\\anaconda3\\lib\\site-packages\\sklearn\\linear_model\\_coordinate_descent.py:647: ConvergenceWarning: Objective did not converge. You might want to increase the number of iterations, check the scale of the features or consider increasing regularisation. Duality gap: 8.488e+01, tolerance: 5.972e+01\n",
      "  model = cd_fast.enet_coordinate_descent(\n",
      "C:\\Users\\Owner\\anaconda3\\lib\\site-packages\\sklearn\\linear_model\\_coordinate_descent.py:647: ConvergenceWarning: Objective did not converge. You might want to increase the number of iterations, check the scale of the features or consider increasing regularisation. Duality gap: 1.569e+02, tolerance: 1.529e+02\n",
      "  model = cd_fast.enet_coordinate_descent(\n",
      "C:\\Users\\Owner\\anaconda3\\lib\\site-packages\\sklearn\\linear_model\\_coordinate_descent.py:647: ConvergenceWarning: Objective did not converge. You might want to increase the number of iterations, check the scale of the features or consider increasing regularisation. Duality gap: 4.064e+01, tolerance: 2.850e+01\n",
      "  model = cd_fast.enet_coordinate_descent(\n",
      "C:\\Users\\Owner\\anaconda3\\lib\\site-packages\\sklearn\\linear_model\\_coordinate_descent.py:647: ConvergenceWarning: Objective did not converge. You might want to increase the number of iterations, check the scale of the features or consider increasing regularisation. Duality gap: 8.364e+01, tolerance: 6.664e+01\n",
      "  model = cd_fast.enet_coordinate_descent(\n",
      "C:\\Users\\Owner\\anaconda3\\lib\\site-packages\\sklearn\\linear_model\\_coordinate_descent.py:647: ConvergenceWarning: Objective did not converge. You might want to increase the number of iterations, check the scale of the features or consider increasing regularisation. Duality gap: 5.148e+01, tolerance: 2.744e+01\n",
      "  model = cd_fast.enet_coordinate_descent(\n",
      "C:\\Users\\Owner\\anaconda3\\lib\\site-packages\\sklearn\\linear_model\\_coordinate_descent.py:647: ConvergenceWarning: Objective did not converge. You might want to increase the number of iterations, check the scale of the features or consider increasing regularisation. Duality gap: 8.992e+01, tolerance: 6.332e+01\n",
      "  model = cd_fast.enet_coordinate_descent(\n",
      "C:\\Users\\Owner\\anaconda3\\lib\\site-packages\\sklearn\\linear_model\\_coordinate_descent.py:647: ConvergenceWarning: Objective did not converge. You might want to increase the number of iterations, check the scale of the features or consider increasing regularisation. Duality gap: 4.306e+01, tolerance: 3.214e+01\n",
      "  model = cd_fast.enet_coordinate_descent(\n",
      "C:\\Users\\Owner\\anaconda3\\lib\\site-packages\\sklearn\\linear_model\\_coordinate_descent.py:647: ConvergenceWarning: Objective did not converge. You might want to increase the number of iterations, check the scale of the features or consider increasing regularisation. Duality gap: 6.949e+01, tolerance: 5.951e+01\n",
      "  model = cd_fast.enet_coordinate_descent(\n",
      "C:\\Users\\Owner\\anaconda3\\lib\\site-packages\\sklearn\\linear_model\\_coordinate_descent.py:647: ConvergenceWarning: Objective did not converge. You might want to increase the number of iterations, check the scale of the features or consider increasing regularisation. Duality gap: 8.751e+01, tolerance: 3.014e+01\n",
      "  model = cd_fast.enet_coordinate_descent(\n",
      "C:\\Users\\Owner\\anaconda3\\lib\\site-packages\\sklearn\\linear_model\\_coordinate_descent.py:647: ConvergenceWarning: Objective did not converge. You might want to increase the number of iterations, check the scale of the features or consider increasing regularisation. Duality gap: 1.059e+02, tolerance: 6.089e+01\n",
      "  model = cd_fast.enet_coordinate_descent(\n",
      "C:\\Users\\Owner\\anaconda3\\lib\\site-packages\\sklearn\\linear_model\\_coordinate_descent.py:647: ConvergenceWarning: Objective did not converge. You might want to increase the number of iterations, check the scale of the features or consider increasing regularisation. Duality gap: 3.773e+01, tolerance: 2.736e+01\n",
      "  model = cd_fast.enet_coordinate_descent(\n",
      "C:\\Users\\Owner\\anaconda3\\lib\\site-packages\\sklearn\\linear_model\\_coordinate_descent.py:647: ConvergenceWarning: Objective did not converge. You might want to increase the number of iterations, check the scale of the features or consider increasing regularisation. Duality gap: 7.656e+01, tolerance: 6.092e+01\n",
      "  model = cd_fast.enet_coordinate_descent(\n",
      "C:\\Users\\Owner\\anaconda3\\lib\\site-packages\\sklearn\\linear_model\\_coordinate_descent.py:647: ConvergenceWarning: Objective did not converge. You might want to increase the number of iterations, check the scale of the features or consider increasing regularisation. Duality gap: 1.646e+02, tolerance: 1.491e+02\n",
      "  model = cd_fast.enet_coordinate_descent(\n",
      "C:\\Users\\Owner\\anaconda3\\lib\\site-packages\\sklearn\\linear_model\\_coordinate_descent.py:647: ConvergenceWarning: Objective did not converge. You might want to increase the number of iterations, check the scale of the features or consider increasing regularisation. Duality gap: 5.031e+01, tolerance: 2.902e+01\n",
      "  model = cd_fast.enet_coordinate_descent(\n",
      "C:\\Users\\Owner\\anaconda3\\lib\\site-packages\\sklearn\\linear_model\\_coordinate_descent.py:647: ConvergenceWarning: Objective did not converge. You might want to increase the number of iterations, check the scale of the features or consider increasing regularisation. Duality gap: 8.873e+01, tolerance: 5.737e+01\n",
      "  model = cd_fast.enet_coordinate_descent(\n"
     ]
    }
   ],
   "source": [
    "## Check if this function is applicable to regular compress sensing\n",
    "compress_img = Image.open(\"image/tree_part1.jpg\")\n",
    "compress_img = ImageOps.grayscale(compress_img)\n",
    "compress_arr = np.asarray(compress_img)\n",
    "cn, cm = compress_arr.shape\n",
    "print(cn, cm)\n",
    "compress_samp_list = [100, 200, 500]\n",
    "alpha = np.logspace(-3, 3, 7)\n",
    "rep = np.arange(10)\n",
    "params = []\n",
    "results = []\n",
    "\n",
    "# List to make combination of\n",
    "search_list = {'repetition': rep,\n",
    "               'alpha': alpha,\n",
    "               'compress_samp_list': compress_samp_list\n",
    "              }\n",
    "\n",
    "\n",
    "\n",
    "# Get repetition * alpha combination amount of result\n",
    "for row in itertools.product(*search_list.values()):\n",
    "    product = dict(zip(search_list.keys(), row))\n",
    "    rep, alp, compress_samp = product.values()\n",
    "    \n",
    "    rand_index = np.random.randint(0, cn * cm, compress_samp)\n",
    "    compress_Y = compress_arr.flatten()[rand_index]\n",
    "    compress_Y = compress_Y.reshape(compress_samp, 1)\n",
    "\n",
    "    # Generate C matrix\n",
    "    C = np.eye(cn * cm)[rand_index, :] * np.sqrt(cn * cm) # 여기서 C 매트릭스를 스케일 해도 결과값이 안달라지는데 교수에게 물어보기\n",
    "    C3D = C.reshape(compress_samp, cn, cm)\n",
    "    theta, compress_reform, s = compress(C3D, compress_Y, alp)\n",
    "    \n",
    "    error = np.linalg.norm(compress_img - compress_reform, 'fro') / np.sqrt(cm*cn)\n",
    "    \n",
    "    params.append({'compress_samp' : compress_samp,\n",
    "                   'alpha' : alp,\n",
    "                   'repetition' : rep,\n",
    "                   'error' : error\n",
    "                  })\n",
    "    results.append({'s' : s,\n",
    "                    'theta' : theta,\n",
    "                    'reform' : compress_reform,\n",
    "                   })"
   ]
  },
  {
   "cell_type": "code",
   "execution_count": 32,
   "id": "6bcd5906",
   "metadata": {
    "scrolled": true
   },
   "outputs": [
    {
     "data": {
      "text/plain": [
       "[{'alpha': 0.001, 'repetition': 0, 'error': 145.37770461853034},\n",
       " {'alpha': 0.001, 'repetition': 0, 'error': 145.30115272108657},\n",
       " {'alpha': 0.001, 'repetition': 0, 'error': 145.24754647268367},\n",
       " {'alpha': 0.01, 'repetition': 0, 'error': 145.4532720168762},\n",
       " {'alpha': 0.01, 'repetition': 0, 'error': 145.3045672267268},\n",
       " {'alpha': 0.01, 'repetition': 0, 'error': 145.1850218375465},\n",
       " {'alpha': 0.1, 'repetition': 0, 'error': 145.41833800701278},\n",
       " {'alpha': 0.1, 'repetition': 0, 'error': 145.31318636881684},\n",
       " {'alpha': 0.1, 'repetition': 0, 'error': 145.23637430135648},\n",
       " {'alpha': 1.0, 'repetition': 0, 'error': 145.40563547725478},\n",
       " {'alpha': 1.0, 'repetition': 0, 'error': 145.33571337018026},\n",
       " {'alpha': 1.0, 'repetition': 0, 'error': 145.26956601491858},\n",
       " {'alpha': 10.0, 'repetition': 0, 'error': 145.54807280305377},\n",
       " {'alpha': 10.0, 'repetition': 0, 'error': 145.50427237707171},\n",
       " {'alpha': 10.0, 'repetition': 0, 'error': 145.51826810431092},\n",
       " {'alpha': 100.0, 'repetition': 0, 'error': 145.78164036210686},\n",
       " {'alpha': 100.0, 'repetition': 0, 'error': 145.78164036210686},\n",
       " {'alpha': 100.0, 'repetition': 0, 'error': 145.78164036210686},\n",
       " {'alpha': 1000.0, 'repetition': 0, 'error': 145.78164036210686},\n",
       " {'alpha': 1000.0, 'repetition': 0, 'error': 145.78164036210686},\n",
       " {'alpha': 1000.0, 'repetition': 0, 'error': 145.78164036210686},\n",
       " {'alpha': 0.001, 'repetition': 1, 'error': 145.4035619642659},\n",
       " {'alpha': 0.001, 'repetition': 1, 'error': 145.3466518075461},\n",
       " {'alpha': 0.001, 'repetition': 1, 'error': 145.19878691069263},\n",
       " {'alpha': 0.01, 'repetition': 1, 'error': 145.38033081346464},\n",
       " {'alpha': 0.01, 'repetition': 1, 'error': 145.3014229883634},\n",
       " {'alpha': 0.01, 'repetition': 1, 'error': 145.21319936804403},\n",
       " {'alpha': 0.1, 'repetition': 1, 'error': 145.43971377446834},\n",
       " {'alpha': 0.1, 'repetition': 1, 'error': 145.35839752411442},\n",
       " {'alpha': 0.1, 'repetition': 1, 'error': 145.22261287583157},\n",
       " {'alpha': 1.0, 'repetition': 1, 'error': 145.41216566366256},\n",
       " {'alpha': 1.0, 'repetition': 1, 'error': 145.3406405559473},\n",
       " {'alpha': 1.0, 'repetition': 1, 'error': 145.26486033314316},\n",
       " {'alpha': 10.0, 'repetition': 1, 'error': 145.4830370021117},\n",
       " {'alpha': 10.0, 'repetition': 1, 'error': 145.54717644131404},\n",
       " {'alpha': 10.0, 'repetition': 1, 'error': 145.50563079610927},\n",
       " {'alpha': 100.0, 'repetition': 1, 'error': 145.78164036210686},\n",
       " {'alpha': 100.0, 'repetition': 1, 'error': 145.78164036210686},\n",
       " {'alpha': 100.0, 'repetition': 1, 'error': 145.78164036210686},\n",
       " {'alpha': 1000.0, 'repetition': 1, 'error': 145.78164036210686},\n",
       " {'alpha': 1000.0, 'repetition': 1, 'error': 145.78164036210686},\n",
       " {'alpha': 1000.0, 'repetition': 1, 'error': 145.78164036210686},\n",
       " {'alpha': 0.001, 'repetition': 2, 'error': 145.44969557879762},\n",
       " {'alpha': 0.001, 'repetition': 2, 'error': 145.298028703278},\n",
       " {'alpha': 0.001, 'repetition': 2, 'error': 145.2125939383119},\n",
       " {'alpha': 0.01, 'repetition': 2, 'error': 145.3757700177801},\n",
       " {'alpha': 0.01, 'repetition': 2, 'error': 145.32825777103594},\n",
       " {'alpha': 0.01, 'repetition': 2, 'error': 145.22198054802433},\n",
       " {'alpha': 0.1, 'repetition': 2, 'error': 145.42481421594889},\n",
       " {'alpha': 0.1, 'repetition': 2, 'error': 145.33075564252232},\n",
       " {'alpha': 0.1, 'repetition': 2, 'error': 145.2052792560426},\n",
       " {'alpha': 1.0, 'repetition': 2, 'error': 145.4098185634511},\n",
       " {'alpha': 1.0, 'repetition': 2, 'error': 145.34347458051818},\n",
       " {'alpha': 1.0, 'repetition': 2, 'error': 145.25824414323947},\n",
       " {'alpha': 10.0, 'repetition': 2, 'error': 145.50739108606413},\n",
       " {'alpha': 10.0, 'repetition': 2, 'error': 145.5194456648354},\n",
       " {'alpha': 10.0, 'repetition': 2, 'error': 145.5116917708657},\n",
       " {'alpha': 100.0, 'repetition': 2, 'error': 145.78164036210686},\n",
       " {'alpha': 100.0, 'repetition': 2, 'error': 145.78164036210686},\n",
       " {'alpha': 100.0, 'repetition': 2, 'error': 145.78164036210686},\n",
       " {'alpha': 1000.0, 'repetition': 2, 'error': 145.78164036210686},\n",
       " {'alpha': 1000.0, 'repetition': 2, 'error': 145.78164036210686},\n",
       " {'alpha': 1000.0, 'repetition': 2, 'error': 145.78164036210686},\n",
       " {'alpha': 0.001, 'repetition': 3, 'error': 145.39825962035556},\n",
       " {'alpha': 0.001, 'repetition': 3, 'error': 145.3036867691199},\n",
       " {'alpha': 0.001, 'repetition': 3, 'error': 145.21256020936778},\n",
       " {'alpha': 0.01, 'repetition': 3, 'error': 145.40558540396717},\n",
       " {'alpha': 0.01, 'repetition': 3, 'error': 145.32544295490445},\n",
       " {'alpha': 0.01, 'repetition': 3, 'error': 145.205922668343},\n",
       " {'alpha': 0.1, 'repetition': 3, 'error': 145.4780636535394},\n",
       " {'alpha': 0.1, 'repetition': 3, 'error': 145.32505597325613},\n",
       " {'alpha': 0.1, 'repetition': 3, 'error': 145.21197489829552},\n",
       " {'alpha': 1.0, 'repetition': 3, 'error': 145.34925387972584},\n",
       " {'alpha': 1.0, 'repetition': 3, 'error': 145.3304657287261},\n",
       " {'alpha': 1.0, 'repetition': 3, 'error': 145.24333298086748},\n",
       " {'alpha': 10.0, 'repetition': 3, 'error': 145.56044817321424},\n",
       " {'alpha': 10.0, 'repetition': 3, 'error': 145.5235385258403},\n",
       " {'alpha': 10.0, 'repetition': 3, 'error': 145.5150064301587},\n",
       " {'alpha': 100.0, 'repetition': 3, 'error': 145.78164036210686},\n",
       " {'alpha': 100.0, 'repetition': 3, 'error': 145.78164036210686},\n",
       " {'alpha': 100.0, 'repetition': 3, 'error': 145.78164036210686},\n",
       " {'alpha': 1000.0, 'repetition': 3, 'error': 145.78164036210686},\n",
       " {'alpha': 1000.0, 'repetition': 3, 'error': 145.78164036210686},\n",
       " {'alpha': 1000.0, 'repetition': 3, 'error': 145.78164036210686},\n",
       " {'alpha': 0.001, 'repetition': 4, 'error': 145.39729838627187},\n",
       " {'alpha': 0.001, 'repetition': 4, 'error': 145.30185803579525},\n",
       " {'alpha': 0.001, 'repetition': 4, 'error': 145.2285429723705},\n",
       " {'alpha': 0.01, 'repetition': 4, 'error': 145.4059312543462},\n",
       " {'alpha': 0.01, 'repetition': 4, 'error': 145.3257579912669},\n",
       " {'alpha': 0.01, 'repetition': 4, 'error': 145.2086687919086},\n",
       " {'alpha': 0.1, 'repetition': 4, 'error': 145.39260514017604},\n",
       " {'alpha': 0.1, 'repetition': 4, 'error': 145.3233111684096},\n",
       " {'alpha': 0.1, 'repetition': 4, 'error': 145.20306960679633},\n",
       " {'alpha': 1.0, 'repetition': 4, 'error': 145.4916408624619},\n",
       " {'alpha': 1.0, 'repetition': 4, 'error': 145.33550762407143},\n",
       " {'alpha': 1.0, 'repetition': 4, 'error': 145.25050731420592},\n",
       " {'alpha': 10.0, 'repetition': 4, 'error': 145.46261392244222},\n",
       " {'alpha': 10.0, 'repetition': 4, 'error': 145.50952813515545},\n",
       " {'alpha': 10.0, 'repetition': 4, 'error': 145.5235557474941},\n",
       " {'alpha': 100.0, 'repetition': 4, 'error': 145.78164036210686},\n",
       " {'alpha': 100.0, 'repetition': 4, 'error': 145.78164036210686},\n",
       " {'alpha': 100.0, 'repetition': 4, 'error': 145.78164036210686},\n",
       " {'alpha': 1000.0, 'repetition': 4, 'error': 145.78164036210686},\n",
       " {'alpha': 1000.0, 'repetition': 4, 'error': 145.78164036210686},\n",
       " {'alpha': 1000.0, 'repetition': 4, 'error': 145.78164036210686},\n",
       " {'alpha': 0.001, 'repetition': 5, 'error': 145.42694485155414},\n",
       " {'alpha': 0.001, 'repetition': 5, 'error': 145.35144039053614},\n",
       " {'alpha': 0.001, 'repetition': 5, 'error': 145.22161837090786},\n",
       " {'alpha': 0.01, 'repetition': 5, 'error': 145.46907446490604},\n",
       " {'alpha': 0.01, 'repetition': 5, 'error': 145.34412803551135},\n",
       " {'alpha': 0.01, 'repetition': 5, 'error': 145.20015427427953},\n",
       " {'alpha': 0.1, 'repetition': 5, 'error': 145.37306290756487},\n",
       " {'alpha': 0.1, 'repetition': 5, 'error': 145.36080614670448},\n",
       " {'alpha': 0.1, 'repetition': 5, 'error': 145.23016295409903},\n",
       " {'alpha': 1.0, 'repetition': 5, 'error': 145.44894012906462},\n",
       " {'alpha': 1.0, 'repetition': 5, 'error': 145.37324696776307},\n",
       " {'alpha': 1.0, 'repetition': 5, 'error': 145.2783659937174},\n",
       " {'alpha': 10.0, 'repetition': 5, 'error': 145.5140671409361},\n",
       " {'alpha': 10.0, 'repetition': 5, 'error': 145.48260727496577},\n",
       " {'alpha': 10.0, 'repetition': 5, 'error': 145.5206853271572},\n",
       " {'alpha': 100.0, 'repetition': 5, 'error': 145.78164036210686},\n",
       " {'alpha': 100.0, 'repetition': 5, 'error': 145.78164036210686},\n",
       " {'alpha': 100.0, 'repetition': 5, 'error': 145.78164036210686},\n",
       " {'alpha': 1000.0, 'repetition': 5, 'error': 145.78164036210686},\n",
       " {'alpha': 1000.0, 'repetition': 5, 'error': 145.78164036210686},\n",
       " {'alpha': 1000.0, 'repetition': 5, 'error': 145.78164036210686},\n",
       " {'alpha': 0.001, 'repetition': 6, 'error': 145.39810932408486},\n",
       " {'alpha': 0.001, 'repetition': 6, 'error': 145.2987628669819},\n",
       " {'alpha': 0.001, 'repetition': 6, 'error': 145.1980558878462},\n",
       " {'alpha': 0.01, 'repetition': 6, 'error': 145.41237653533219},\n",
       " {'alpha': 0.01, 'repetition': 6, 'error': 145.27438271969805},\n",
       " {'alpha': 0.01, 'repetition': 6, 'error': 145.2179920530301},\n",
       " {'alpha': 0.1, 'repetition': 6, 'error': 145.43121613258774},\n",
       " {'alpha': 0.1, 'repetition': 6, 'error': 145.3386598903099},\n",
       " {'alpha': 0.1, 'repetition': 6, 'error': 145.22022702889043},\n",
       " {'alpha': 1.0, 'repetition': 6, 'error': 145.44525787746358},\n",
       " {'alpha': 1.0, 'repetition': 6, 'error': 145.3470358621054},\n",
       " {'alpha': 1.0, 'repetition': 6, 'error': 145.25803049236637},\n",
       " {'alpha': 10.0, 'repetition': 6, 'error': 145.5626775201572},\n",
       " {'alpha': 10.0, 'repetition': 6, 'error': 145.52306773605167},\n",
       " {'alpha': 10.0, 'repetition': 6, 'error': 145.5182772806332},\n",
       " {'alpha': 100.0, 'repetition': 6, 'error': 145.78164036210686},\n",
       " {'alpha': 100.0, 'repetition': 6, 'error': 145.78164036210686},\n",
       " {'alpha': 100.0, 'repetition': 6, 'error': 145.78164036210686},\n",
       " {'alpha': 1000.0, 'repetition': 6, 'error': 145.78164036210686},\n",
       " {'alpha': 1000.0, 'repetition': 6, 'error': 145.78164036210686},\n",
       " {'alpha': 1000.0, 'repetition': 6, 'error': 145.78164036210686},\n",
       " {'alpha': 0.001, 'repetition': 7, 'error': 145.37159826849665},\n",
       " {'alpha': 0.001, 'repetition': 7, 'error': 145.2546349440072},\n",
       " {'alpha': 0.001, 'repetition': 7, 'error': 145.20416572631336},\n",
       " {'alpha': 0.01, 'repetition': 7, 'error': 145.39266105856296},\n",
       " {'alpha': 0.01, 'repetition': 7, 'error': 145.312950578091},\n",
       " {'alpha': 0.01, 'repetition': 7, 'error': 145.20854537542422},\n",
       " {'alpha': 0.1, 'repetition': 7, 'error': 145.46702391913234},\n",
       " {'alpha': 0.1, 'repetition': 7, 'error': 145.2942940305119},\n",
       " {'alpha': 0.1, 'repetition': 7, 'error': 145.2154216510676},\n",
       " {'alpha': 1.0, 'repetition': 7, 'error': 145.38042914527134},\n",
       " {'alpha': 1.0, 'repetition': 7, 'error': 145.3501015362021},\n",
       " {'alpha': 1.0, 'repetition': 7, 'error': 145.2645141845701},\n",
       " {'alpha': 10.0, 'repetition': 7, 'error': 145.53320797865882},\n",
       " {'alpha': 10.0, 'repetition': 7, 'error': 145.5248880249473},\n",
       " {'alpha': 10.0, 'repetition': 7, 'error': 145.50627522147485},\n",
       " {'alpha': 100.0, 'repetition': 7, 'error': 145.78164036210686},\n",
       " {'alpha': 100.0, 'repetition': 7, 'error': 145.78164036210686},\n",
       " {'alpha': 100.0, 'repetition': 7, 'error': 145.78164036210686},\n",
       " {'alpha': 1000.0, 'repetition': 7, 'error': 145.78164036210686},\n",
       " {'alpha': 1000.0, 'repetition': 7, 'error': 145.78164036210686},\n",
       " {'alpha': 1000.0, 'repetition': 7, 'error': 145.78164036210686},\n",
       " {'alpha': 0.001, 'repetition': 8, 'error': 145.39931169257855},\n",
       " {'alpha': 0.001, 'repetition': 8, 'error': 145.32184624461482},\n",
       " {'alpha': 0.001, 'repetition': 8, 'error': 145.19822133831056},\n",
       " {'alpha': 0.01, 'repetition': 8, 'error': 145.4604686040888},\n",
       " {'alpha': 0.01, 'repetition': 8, 'error': 145.30056587264394},\n",
       " {'alpha': 0.01, 'repetition': 8, 'error': 145.23057466660185},\n",
       " {'alpha': 0.1, 'repetition': 8, 'error': 145.45278194386367},\n",
       " {'alpha': 0.1, 'repetition': 8, 'error': 145.35639190640208},\n",
       " {'alpha': 0.1, 'repetition': 8, 'error': 145.23545785699562},\n",
       " {'alpha': 1.0, 'repetition': 8, 'error': 145.48370889301842},\n",
       " {'alpha': 1.0, 'repetition': 8, 'error': 145.36742572706032},\n",
       " {'alpha': 1.0, 'repetition': 8, 'error': 145.28225442805808},\n",
       " {'alpha': 10.0, 'repetition': 8, 'error': 145.5282664270442},\n",
       " {'alpha': 10.0, 'repetition': 8, 'error': 145.51352479768485},\n",
       " {'alpha': 10.0, 'repetition': 8, 'error': 145.50549910455027},\n",
       " {'alpha': 100.0, 'repetition': 8, 'error': 145.78164036210686},\n",
       " {'alpha': 100.0, 'repetition': 8, 'error': 145.78164036210686},\n",
       " {'alpha': 100.0, 'repetition': 8, 'error': 145.78164036210686},\n",
       " {'alpha': 1000.0, 'repetition': 8, 'error': 145.78164036210686},\n",
       " {'alpha': 1000.0, 'repetition': 8, 'error': 145.78164036210686},\n",
       " {'alpha': 1000.0, 'repetition': 8, 'error': 145.78164036210686},\n",
       " {'alpha': 0.001, 'repetition': 9, 'error': 145.3956659257659},\n",
       " {'alpha': 0.001, 'repetition': 9, 'error': 145.34571892447227},\n",
       " {'alpha': 0.001, 'repetition': 9, 'error': 145.21846412066034},\n",
       " {'alpha': 0.01, 'repetition': 9, 'error': 145.37857190231054},\n",
       " {'alpha': 0.01, 'repetition': 9, 'error': 145.27254864214774},\n",
       " {'alpha': 0.01, 'repetition': 9, 'error': 145.22111283627873},\n",
       " {'alpha': 0.1, 'repetition': 9, 'error': 145.3731888296081},\n",
       " {'alpha': 0.1, 'repetition': 9, 'error': 145.31817431835452},\n",
       " {'alpha': 0.1, 'repetition': 9, 'error': 145.2217708943156},\n",
       " {'alpha': 1.0, 'repetition': 9, 'error': 145.44296075027916},\n",
       " {'alpha': 1.0, 'repetition': 9, 'error': 145.31907398191527},\n",
       " {'alpha': 1.0, 'repetition': 9, 'error': 145.27218144732734},\n",
       " {'alpha': 10.0, 'repetition': 9, 'error': 145.49088845585672},\n",
       " {'alpha': 10.0, 'repetition': 9, 'error': 145.49912226079778},\n",
       " {'alpha': 10.0, 'repetition': 9, 'error': 145.51178895463707},\n",
       " {'alpha': 100.0, 'repetition': 9, 'error': 145.78164036210686},\n",
       " {'alpha': 100.0, 'repetition': 9, 'error': 145.78164036210686},\n",
       " {'alpha': 100.0, 'repetition': 9, 'error': 145.78164036210686},\n",
       " {'alpha': 1000.0, 'repetition': 9, 'error': 145.78164036210686},\n",
       " {'alpha': 1000.0, 'repetition': 9, 'error': 145.78164036210686},\n",
       " {'alpha': 1000.0, 'repetition': 9, 'error': 145.78164036210686}]"
      ]
     },
     "execution_count": 32,
     "metadata": {},
     "output_type": "execute_result"
    }
   ],
   "source": [
    "params"
   ]
  },
  {
   "cell_type": "code",
   "execution_count": 34,
   "id": "4d1383c5",
   "metadata": {},
   "outputs": [],
   "source": [
    "save_path = os.path.join('./result/classical/')\n",
    "\n",
    "compress_param_df = pd.DataFrame(params)\n",
    "compress_param_df.to_csv(os.path.join(save_path, \"Compress_param_\" + \"_\".join(str.split(time.ctime().replace(\":\", \"_\"))) + \".csv\"))"
   ]
  },
  {
   "cell_type": "code",
   "execution_count": 37,
   "id": "6df8bc9a",
   "metadata": {},
   "outputs": [
    {
     "data": {
      "text/html": [
       "<div>\n",
       "<style scoped>\n",
       "    .dataframe tbody tr th:only-of-type {\n",
       "        vertical-align: middle;\n",
       "    }\n",
       "\n",
       "    .dataframe tbody tr th {\n",
       "        vertical-align: top;\n",
       "    }\n",
       "\n",
       "    .dataframe thead th {\n",
       "        text-align: right;\n",
       "    }\n",
       "</style>\n",
       "<table border=\"1\" class=\"dataframe\">\n",
       "  <thead>\n",
       "    <tr style=\"text-align: right;\">\n",
       "      <th></th>\n",
       "      <th>error</th>\n",
       "    </tr>\n",
       "    <tr>\n",
       "      <th>alpha</th>\n",
       "      <th></th>\n",
       "    </tr>\n",
       "  </thead>\n",
       "  <tbody>\n",
       "    <tr>\n",
       "      <th>0.001</th>\n",
       "      <td>145.309416</td>\n",
       "    </tr>\n",
       "    <tr>\n",
       "      <th>0.010</th>\n",
       "      <td>145.311241</td>\n",
       "    </tr>\n",
       "    <tr>\n",
       "      <th>0.100</th>\n",
       "      <td>145.325740</td>\n",
       "    </tr>\n",
       "    <tr>\n",
       "      <th>1.000</th>\n",
       "      <td>145.345145</td>\n",
       "    </tr>\n",
       "    <tr>\n",
       "      <th>10.000</th>\n",
       "      <td>145.515817</td>\n",
       "    </tr>\n",
       "    <tr>\n",
       "      <th>100.000</th>\n",
       "      <td>145.781640</td>\n",
       "    </tr>\n",
       "    <tr>\n",
       "      <th>1000.000</th>\n",
       "      <td>145.781640</td>\n",
       "    </tr>\n",
       "  </tbody>\n",
       "</table>\n",
       "</div>"
      ],
      "text/plain": [
       "               error\n",
       "alpha               \n",
       "0.001     145.309416\n",
       "0.010     145.311241\n",
       "0.100     145.325740\n",
       "1.000     145.345145\n",
       "10.000    145.515817\n",
       "100.000   145.781640\n",
       "1000.000  145.781640"
      ]
     },
     "execution_count": 37,
     "metadata": {},
     "output_type": "execute_result"
    }
   ],
   "source": [
    "compress_param_df_aug = compress_param_df.groupby('alpha').mean().drop('repetition', axis=1) #  sort_values('error', ascending=True).head()\n",
    "compress_param_df_aug"
   ]
  },
  {
   "cell_type": "code",
   "execution_count": 39,
   "id": "229b0200",
   "metadata": {},
   "outputs": [
    {
     "data": {
      "text/plain": [
       "<seaborn.axisgrid.FacetGrid at 0x20fe72254f0>"
      ]
     },
     "execution_count": 39,
     "metadata": {},
     "output_type": "execute_result"
    },
    {
     "data": {
      "image/png": "[encoded data removed]",
      "text/plain": [
       "<Figure size 360x360 with 1 Axes>"
      ]
     },
     "metadata": {
      "needs_background": "light"
     },
     "output_type": "display_data"
    }
   ],
   "source": [
    "compress_fig = sns.relplot(data = compress_param_df, x = 'alpha', y = 'error', kind= 'line')\n",
    "compress_fig.set(yscale='log')\n",
    "compress_fig.set(xscale='log')"
   ]
  },
  {
   "cell_type": "code",
   "execution_count": null,
   "id": "5a1e5c6f",
   "metadata": {},
   "outputs": [],
   "source": []
  },
  {
   "cell_type": "code",
   "execution_count": null,
   "id": "68a3ef5d",
   "metadata": {},
   "outputs": [],
   "source": []
  },
  {
   "cell_type": "code",
   "execution_count": null,
   "id": "238c98a6",
   "metadata": {},
   "outputs": [],
   "source": []
  },
  {
   "cell_type": "code",
   "execution_count": null,
   "id": "96a0c02e",
   "metadata": {},
   "outputs": [],
   "source": []
  },
  {
   "cell_type": "code",
   "execution_count": null,
   "id": "1c1283a3",
   "metadata": {},
   "outputs": [],
   "source": []
  },
  {
   "cell_type": "code",
   "execution_count": null,
   "id": "a13a22e4",
   "metadata": {},
   "outputs": [],
   "source": []
  },
  {
   "cell_type": "code",
   "execution_count": null,
   "id": "7e6abeb6",
   "metadata": {},
   "outputs": [],
   "source": []
  },
  {
   "cell_type": "code",
   "execution_count": null,
   "id": "d0e689bd",
   "metadata": {},
   "outputs": [],
   "source": []
  },
  {
   "cell_type": "code",
   "execution_count": null,
   "id": "9426f388",
   "metadata": {},
   "outputs": [],
   "source": []
  },
  {
   "cell_type": "code",
   "execution_count": null,
   "id": "c3b4e2d2",
   "metadata": {},
   "outputs": [],
   "source": []
  },
  {
   "cell_type": "code",
   "execution_count": null,
   "id": "376fe7ea",
   "metadata": {},
   "outputs": [],
   "source": []
  },
  {
   "cell_type": "code",
   "execution_count": null,
   "id": "8df3cac3",
   "metadata": {},
   "outputs": [],
   "source": []
  },
  {
   "cell_type": "code",
   "execution_count": null,
   "id": "63995789",
   "metadata": {},
   "outputs": [],
   "source": []
  },
  {
   "cell_type": "code",
   "execution_count": null,
   "id": "96e30dcc",
   "metadata": {},
   "outputs": [],
   "source": []
  },
  {
   "cell_type": "code",
   "execution_count": 2,
   "id": "adc5b59b",
   "metadata": {},
   "outputs": [
    {
     "name": "stdout",
     "output_type": "stream",
     "text": [
      "30 30\n"
     ]
    }
   ],
   "source": [
    "## Check if this function is applicable to regular compress sensing\n",
    "classical_img = Image.open(\"image/tree_part1.jpg\")\n",
    "classical_img = ImageOps.grayscale(classical_img)\n",
    "classical_arr = np.asarray(classical_img)\n",
    "cn, cm = classical_arr.shape\n",
    "print(cn, cm)\n",
    "classical_samp_list = [100, 200, 500] #np.floor (cn * cm * 0.20).astype(int)\n"
   ]
  },
  {
   "cell_type": "code",
   "execution_count": 24,
   "id": "00b1e3d4",
   "metadata": {
    "scrolled": true
   },
   "outputs": [
    {
     "name": "stdout",
     "output_type": "stream",
     "text": [
      "sample at:  100\n"
     ]
    },
    {
     "name": "stderr",
     "output_type": "stream",
     "text": [
      "C:\\Users\\Owner\\anaconda3\\lib\\site-packages\\sklearn\\linear_model\\_coordinate_descent.py:647: ConvergenceWarning: Objective did not converge. You might want to increase the number of iterations, check the scale of the features or consider increasing regularisation. Duality gap: 3.151e+01, tolerance: 2.990e+01\n",
      "  model = cd_fast.enet_coordinate_descent(\n"
     ]
    },
    {
     "data": {
      "image/png": "[encoded data removed]",
      "text/plain": [
       "<Figure size 432x288 with 1 Axes>"
      ]
     },
     "metadata": {
      "needs_background": "light"
     },
     "output_type": "display_data"
    },
    {
     "data": {
      "image/png": "[encoded data removed]",
      "text/plain": [
       "<Figure size 432x288 with 1 Axes>"
      ]
     },
     "metadata": {
      "needs_background": "light"
     },
     "output_type": "display_data"
    },
    {
     "data": {
      "image/png": "[encoded data removed]",
      "text/plain": [
       "<Figure size 432x288 with 1 Axes>"
      ]
     },
     "metadata": {
      "needs_background": "light"
     },
     "output_type": "display_data"
    },
    {
     "data": {
      "image/png": "[encoded data removed]",
      "text/plain": [
       "<Figure size 432x288 with 1 Axes>"
      ]
     },
     "metadata": {
      "needs_background": "light"
     },
     "output_type": "display_data"
    },
    {
     "data": {
      "image/png": "[encoded data removed]",
      "text/plain": [
       "<Figure size 432x288 with 1 Axes>"
      ]
     },
     "metadata": {
      "needs_background": "light"
     },
     "output_type": "display_data"
    },
    {
     "data": {
      "image/png": "[encoded data removed]",
      "text/plain": [
       "<Figure size 432x288 with 1 Axes>"
      ]
     },
     "metadata": {
      "needs_background": "light"
     },
     "output_type": "display_data"
    },
    {
     "data": {
      "image/png": "[encoded data removed]",
      "text/plain": [
       "<Figure size 432x288 with 1 Axes>"
      ]
     },
     "metadata": {
      "needs_background": "light"
     },
     "output_type": "display_data"
    },
    {
     "name": "stdout",
     "output_type": "stream",
     "text": [
      "sample at:  200\n"
     ]
    },
    {
     "data": {
      "image/png": "[encoded data removed]",
      "text/plain": [
       "<Figure size 432x288 with 1 Axes>"
      ]
     },
     "metadata": {
      "needs_background": "light"
     },
     "output_type": "display_data"
    },
    {
     "data": {
      "image/png": "[encoded data removed]",
      "text/plain": [
       "<Figure size 432x288 with 1 Axes>"
      ]
     },
     "metadata": {
      "needs_background": "light"
     },
     "output_type": "display_data"
    },
    {
     "data": {
      "image/png": "[encoded data removed]",
      "text/plain": [
       "<Figure size 432x288 with 1 Axes>"
      ]
     },
     "metadata": {
      "needs_background": "light"
     },
     "output_type": "display_data"
    },
    {
     "data": {
      "image/png": "[encoded data removed]",
      "text/plain": [
       "<Figure size 432x288 with 1 Axes>"
      ]
     },
     "metadata": {
      "needs_background": "light"
     },
     "output_type": "display_data"
    },
    {
     "data": {
      "image/png": "[encoded data removed]",
      "text/plain": [
       "<Figure size 432x288 with 1 Axes>"
      ]
     },
     "metadata": {
      "needs_background": "light"
     },
     "output_type": "display_data"
    },
    {
     "data": {
      "image/png": "[encoded data removed]",
      "text/plain": [
       "<Figure size 432x288 with 1 Axes>"
      ]
     },
     "metadata": {
      "needs_background": "light"
     },
     "output_type": "display_data"
    },
    {
     "data": {
      "image/png": "[encoded data removed]",
      "text/plain": [
       "<Figure size 432x288 with 1 Axes>"
      ]
     },
     "metadata": {
      "needs_background": "light"
     },
     "output_type": "display_data"
    },
    {
     "name": "stdout",
     "output_type": "stream",
     "text": [
      "sample at:  500\n"
     ]
    },
    {
     "data": {
      "image/png": "[encoded data removed]",
      "text/plain": [
       "<Figure size 432x288 with 1 Axes>"
      ]
     },
     "metadata": {
      "needs_background": "light"
     },
     "output_type": "display_data"
    },
    {
     "data": {
      "image/png": "[encoded data removed]",
      "text/plain": [
       "<Figure size 432x288 with 1 Axes>"
      ]
     },
     "metadata": {
      "needs_background": "light"
     },
     "output_type": "display_data"
    },
    {
     "data": {
      "image/png": "[encoded data removed]",
      "text/plain": [
       "<Figure size 432x288 with 1 Axes>"
      ]
     },
     "metadata": {
      "needs_background": "light"
     },
     "output_type": "display_data"
    },
    {
     "data": {
      "image/png": "[encoded data removed]",
      "text/plain": [
       "<Figure size 432x288 with 1 Axes>"
      ]
     },
     "metadata": {
      "needs_background": "light"
     },
     "output_type": "display_data"
    },
    {
     "data": {
      "image/png": "[encoded data removed]",
      "text/plain": [
       "<Figure size 432x288 with 1 Axes>"
      ]
     },
     "metadata": {
      "needs_background": "light"
     },
     "output_type": "display_data"
    },
    {
     "data": {
      "image/png": "[encoded data removed]",
      "text/plain": [
       "<Figure size 432x288 with 1 Axes>"
      ]
     },
     "metadata": {
      "needs_background": "light"
     },
     "output_type": "display_data"
    },
    {
     "data": {
      "image/png": "[encoded data removed]",
      "text/plain": [
       "<Figure size 432x288 with 1 Axes>"
      ]
     },
     "metadata": {
      "needs_background": "light"
     },
     "output_type": "display_data"
    }
   ],
   "source": [
    "alpha_list = np.logspace(-3, 3, 7)\n",
    "\n",
    "for classical_samp in classical_samp_list:\n",
    "    print('sample at: ', classical_samp)\n",
    "    for alp in alpha_list:\n",
    "        # Generate random indexes and find corresponding y value for each index\n",
    "        rand_index = np.random.permutation(cn * cm)[:classical_samp]\n",
    "        classical_Y = classical_arr.flatten()[rand_index]\n",
    "        classical_Y = classical_Y.reshape(classical_samp, 1)\n",
    "\n",
    "        # Generate C matrix\n",
    "        C = np.eye(cn * cm)[rand_index, :]# * np.sqrt(cn * cm)\n",
    "        C3D = C.reshape(classical_samp, cn, cm)\n",
    "        theta, classical_reform, s = compress(C3D, classical_Y, alp)\n",
    "\n",
    "        plt.imshow(classical_reform)\n",
    "        plt.title(\"Recon.(alp: \" + str(alp) + \")\")\n",
    "        plt.show()"
   ]
  },
  {
   "cell_type": "code",
   "execution_count": 17,
   "id": "71a7da4b",
   "metadata": {},
   "outputs": [],
   "source": [
    "rand_index = np.random.permutation(cn * cm)[:500]\n",
    "classical_Y = classical_arr.flatten()[rand_index]\n",
    "classical_Y = classical_Y.reshape(500, 1)\n",
    "\n",
    "# Generate C matrix\n",
    "C = np.eye(cn * cm)[rand_index, :] * np.sqrt(cn * cm)\n",
    "C3D = C.reshape(500, cn, cm)\n",
    "theta, classical_reform, s = compress(C3D, classical_Y, 0.03)\n",
    "\n"
   ]
  },
  {
   "cell_type": "code",
   "execution_count": 19,
   "id": "7919dc38",
   "metadata": {},
   "outputs": [
    {
     "data": {
      "image/png": "[encoded data removed]",
      "text/plain": [
       "<Figure size 432x288 with 1 Axes>"
      ]
     },
     "metadata": {
      "needs_background": "light"
     },
     "output_type": "display_data"
    }
   ],
   "source": [
    "plt.imshow(classical_reform)\n",
    "plt.title(\"Recon.(alp: 0.003)\")\n",
    "plt.show()"
   ]
  },
  {
   "cell_type": "code",
   "execution_count": null,
   "id": "f1a66f19",
   "metadata": {
    "scrolled": false
   },
   "outputs": [],
   "source": []
  },
  {
   "cell_type": "code",
   "execution_count": 13,
   "id": "260bea71",
   "metadata": {
    "scrolled": true
   },
   "outputs": [
    {
     "data": {
      "text/plain": [
       "array([[213, 210, 216, 216, 206, 208, 216, 214, 193, 216, 233, 178, 196,\n",
       "        141, 117, 134, 176, 112, 167, 160, 186, 213, 190, 177, 203, 182,\n",
       "        195, 202, 185, 180],\n",
       "       [220, 206, 204, 208, 208, 214, 215, 204, 228, 227, 203, 159, 174,\n",
       "        142,  93,  95, 115, 122, 144, 163, 181, 158, 205, 163, 165, 193,\n",
       "        201, 190, 187, 179],\n",
       "       [207, 195, 196, 203, 207, 214, 216, 204, 199, 184, 145, 131, 164,\n",
       "        171, 115, 105,  70, 102, 101, 117, 125,  86, 147, 109, 143, 204,\n",
       "        196, 176, 195, 194],\n",
       "       [190, 187, 197, 202, 195, 195, 197, 189, 192, 160, 111,  75, 106,\n",
       "        124, 100, 101, 108,  96,  96,  93,  93, 100,  99, 117, 146, 189,\n",
       "        174, 170, 192, 203],\n",
       "       [198, 194, 200, 202, 190, 180, 169, 152, 183, 172, 167, 112, 129,\n",
       "        108,  94,  87, 131, 104,  95, 106, 100, 141, 101, 168, 148, 165,\n",
       "        169, 191, 177, 191],\n",
       "       [214, 202, 202, 204, 195, 182, 160, 132, 101, 116, 157, 112, 124,\n",
       "         88,  79,  67,  91, 105,  71, 105, 101, 119, 101, 162, 147, 162,\n",
       "        192, 225, 169, 180],\n",
       "       [213, 207, 209, 202, 176, 155, 138, 119, 107, 109, 124,  82,  88,\n",
       "         88,  95,  95,  63, 105,  68,  83, 104,  97,  93, 121, 131, 160,\n",
       "        187, 210, 148, 174],\n",
       "       [203, 212, 219, 193, 138, 102,  95,  93,  77,  84,  97,  90,  95,\n",
       "        115,  96,  85,  59,  89,  75,  46, 103, 101,  83,  91, 104, 142,\n",
       "        145, 155, 115, 162],\n",
       "       [201, 208, 217, 196, 118,  92,  76, 104,  64,  66,  71,  72,  82,\n",
       "        126,  93, 102,  75,  78,  88,  94,  84,  72,  80, 100,  97,  88,\n",
       "         61, 109, 138, 207],\n",
       "       [204, 206, 203, 159, 137, 124,  89,  65,  91, 100,  77,  87,  73,\n",
       "         85,  93,  92,  65,  75,  86,  85,  69,  55,  59,  72,  77,  77,\n",
       "         80,  58,  81,  93],\n",
       "       [180, 172, 188, 168, 178, 125,  80,  73,  93, 111,  91, 138, 107,\n",
       "         72, 106,  88,  78,  94, 101,  88,  66,  53,  51,  54,  73, 101,\n",
       "         90,  82,  62, 100],\n",
       "       [150, 144, 154, 149, 158, 102,  63,  92, 106, 107, 120, 193, 154,\n",
       "         75,  79,  52,  87, 102, 103,  84,  67,  66,  66,  61,  73,  96,\n",
       "         69,  82,  49,  96],\n",
       "       [150, 157, 127,  96,  95, 109,  86, 111, 111,  77, 119, 181, 156,\n",
       "         84,  57,  48,  79,  88,  84,  66,  60,  71,  76,  69,  79,  78,\n",
       "         87,  80,  89,  79],\n",
       "       [109, 121, 101,  84,  66,  91,  87, 129, 123,  73, 114, 124, 114,\n",
       "         83,  54,  65,  84,  89,  83,  66,  59,  67,  69,  63,  42,  57,\n",
       "         72,  91,  78,  70],\n",
       "       [ 55,  58,  76,  78,  66,  65,  65,  97, 116, 104, 135,  87,  77,\n",
       "         71,  48,  48,  75,  85,  88,  77,  64,  60,  59,  58,  65,  92,\n",
       "         80, 110,  61,  84],\n",
       "       [ 75,  71,  89,  61,  82, 101,  91,  51,  39,  88, 131,  72,  74,\n",
       "         87,  77,  57,  37,  56,  75,  75,  63,  53,  55,  60,  79,  86,\n",
       "         85,  69,  71,  84],\n",
       "       [146, 114, 111, 100, 126,  97, 115,  81, 103,  61,  66,  51,  80,\n",
       "        120,  79,  61,  55,  75,  66,  72,  50,  66,  62,  55,  81,  37,\n",
       "         94,  97,  77,  84],\n",
       "       [131,  94, 145, 103, 153,  82,  72, 133, 181, 127, 114,  56,  74,\n",
       "        126,  81,  30,  79,  65,  53,  42,  77,  49,  72,  48,  59,  84,\n",
       "         66,  59,  76,  66],\n",
       "       [128, 107, 183, 128, 106,  82,  91, 101, 130, 157,  51,  65,  90,\n",
       "         63,  64, 127, 102,  61,  85, 100, 100,  57,  91,  52,  59, 101,\n",
       "         79,  61,  80,  88],\n",
       "       [119, 138, 155, 154,  86, 128, 163, 112, 124, 164, 121,  92,  95,\n",
       "        153,  51, 191, 106,  76, 133, 156,  51,  84, 114, 100,  50,  36,\n",
       "         80,  72,  63, 104],\n",
       "       [198, 198, 162, 178, 146, 143, 141, 157, 118, 121, 156, 135,  76,\n",
       "        107,  48, 139,  79, 140, 212, 170,  64, 161, 132, 131, 120,  74,\n",
       "        103, 122, 115, 122],\n",
       "       [205, 150, 189, 183, 190, 186, 189, 237, 155, 149, 112, 126, 126,\n",
       "         39,  74, 111,  74, 191, 220,  90, 101, 192, 120, 118, 112, 110,\n",
       "         72, 138, 195, 164],\n",
       "       [211, 159, 219, 197, 191, 199, 209, 209, 210, 191, 142,  66, 127,\n",
       "        111,  28,  60, 163, 206, 165,  62, 154, 206, 176, 186, 192, 207,\n",
       "        156, 189, 220, 184],\n",
       "       [193, 212, 189, 204, 224, 207, 189, 196, 190, 207, 197, 179, 125,\n",
       "         88,  11,  94, 139, 100,  65, 100, 189, 187, 185, 180, 193, 188,\n",
       "        207, 198, 172, 188],\n",
       "       [203, 204, 205, 205, 204, 200, 197, 195, 192, 201, 191, 187, 211,\n",
       "        172,  36,  74,  81,  42, 149, 207, 200, 189, 203, 190, 188, 188,\n",
       "        188, 188, 189, 190],\n",
       "       [200, 201, 201, 202, 201, 199, 197, 196, 187, 188, 184, 181, 186,\n",
       "        177,  77,  55,  71, 126, 197, 198, 190, 193, 195, 190, 194, 194,\n",
       "        194, 194, 195, 196],\n",
       "       [201, 201, 201, 201, 201, 201, 201, 201, 205, 202, 202, 200, 188,\n",
       "        207, 155,  69,  49, 183, 208, 182, 190, 199, 188, 199, 200, 200,\n",
       "        201, 201, 202, 203],\n",
       "       [201, 200, 199, 199, 199, 199, 200, 201, 197, 203, 196, 196, 185,\n",
       "        209, 190,  82,  44, 183, 184, 183, 204, 205, 185, 204, 202, 203,\n",
       "        204, 205, 206, 206],\n",
       "       [200, 199, 198, 196, 196, 196, 196, 196, 186, 201, 188, 188, 192,\n",
       "        198, 192, 105,  48, 169, 186, 201, 206, 206, 192, 197, 200, 201,\n",
       "        202, 204, 205, 205],\n",
       "       [206, 206, 205, 204, 203, 202, 202, 201, 200, 211, 205, 202, 214,\n",
       "        208, 203, 137,  26, 149, 209, 207, 193, 205, 205, 195, 197, 199,\n",
       "        201, 203, 203, 203]], dtype=uint8)"
      ]
     },
     "execution_count": 13,
     "metadata": {},
     "output_type": "execute_result"
    }
   ],
   "source": [
    "classical_arr"
   ]
  },
  {
   "cell_type": "code",
   "execution_count": 14,
   "id": "56968c94",
   "metadata": {
    "scrolled": true
   },
   "outputs": [
    {
     "data": {
      "text/plain": [
       "array([[  67.31657051,   76.49723832,   39.05598447,   82.52834958,\n",
       "          73.29320028,   74.53204314,   88.67154195,   80.5118759 ,\n",
       "          59.60071948,   82.42207285,   58.44764598,   44.52786865,\n",
       "          -3.02679387,    1.74478727,    5.80183729,   35.87652052,\n",
       "          42.46520328,  -21.45137457,   33.56172126,   26.56425236,\n",
       "          52.46330028,   36.91915943,   56.50669212,   12.27943754,\n",
       "          14.08721464,   48.48010429,   42.87374165,   22.63322735,\n",
       "          51.53626938,   46.48846781],\n",
       "       [  86.56614793,   72.51664147,   69.9797415 ,   74.55892715,\n",
       "          55.13621576,   67.56439766,   81.55564975,   70.4934302 ,\n",
       "          36.28186524,   93.44618877,   69.52540744,   25.53276907,\n",
       "          40.46369287,    8.54770848,  -40.34779121,    0.40796983,\n",
       "           3.87375944,   14.16924524,   10.5314374 ,   28.14658543,\n",
       "          47.56862926,   43.42670204,   71.44318994,   29.54485405,\n",
       "          31.57416425,   59.51974444,   67.51734644,   59.32428864,\n",
       "          33.31687106,   66.51807886],\n",
       "       [  73.54391204,   68.1861861 ,   62.55922556,   69.5393419 ,\n",
       "          73.45845583,   80.50770662,   85.76578115,   66.25554278,\n",
       "          18.71133596,   50.48761528,   17.38559031,   -2.46618409,\n",
       "          30.49771473,   15.01154624,  -18.46696733,  -28.45632234,\n",
       "         -63.3827637 ,  -31.3505828 ,  -32.39273091,  -23.47341039,\n",
       "          -8.49094428,   43.3101328 ,   13.54435405,    8.16675933,\n",
       "           9.63516663,   70.50382432,   62.52737178,   47.19912339,\n",
       "          43.71427036,   65.94752776],\n",
       "       [  72.5311467 ,   53.54535324,   63.54698652,   68.52294721,\n",
       "          61.52492887,   51.04314509,   63.52315392,   55.47061366,\n",
       "          35.3215171 ,   26.53906425,  -22.4386105 ,  -58.35705634,\n",
       "         -27.4052602 ,   -9.46738557,  -33.46308388,  -32.45752465,\n",
       "         -27.39463106,  -37.48530445,   -7.06046406,  -20.42832727,\n",
       "         -16.9969695 ,    7.60885289,  -34.4306484 ,  -16.41663725,\n",
       "          12.58949227,   55.11100765,   40.52663565,   36.54488504,\n",
       "          53.1569403 ,   69.5298596 ],\n",
       "       [  88.82485951,   75.31124368,   66.62277034,   68.44274055,\n",
       "          56.49834873,   14.86427344,   35.52705346,   18.56175851,\n",
       "          49.4725627 ,    8.28178997,   23.44041225,  -21.46567886,\n",
       "         -26.44285649,  -26.90904238,  -39.46554835,  -46.42543921,\n",
       "          -2.4828343 ,  -29.4370652 ,  -13.88568908,  -27.41853286,\n",
       "          20.15841113,    7.48717055,  -32.46218825,    7.06420724,\n",
       "          14.51794366,    4.15705795,   31.21682394,   57.52504222,\n",
       "          43.62647192,   57.54777322],\n",
       "       [  74.75895856,   67.51871499,   54.690598  ,   70.48126259,\n",
       "          30.7254933 ,    3.57677775,   -4.6686339 ,   -4.03013813,\n",
       "         -32.37918129,   18.01531658,   23.5440472 ,  -18.01221665,\n",
       "          -8.54678049,  -10.67958451,  -54.44358509,  -58.82765247,\n",
       "         -25.50421642,  -28.47719462,  -62.41008332,  -28.43468048,\n",
       "          18.0738974 ,  -33.71584024,  -23.03535222,   28.54913542,\n",
       "          13.52219842,    9.16041201,   58.45416508,   91.448544  ,\n",
       "          28.5515081 ,   46.43471186],\n",
       "       [  79.45087571,   73.4724732 ,   75.56398039,   46.78267525,\n",
       "          42.51209262,   21.53767625,    4.51974609,   -3.96456896,\n",
       "         -26.43790762,  -24.48560159,  -18.57808163,  -51.3303503 ,\n",
       "           8.03869841,  -10.25059274,  -38.47729262,  -38.44570819,\n",
       "         -43.02210255,  -59.00388514,  -65.4412746 ,  -35.19221501,\n",
       "         -35.1097251 ,  -37.5905217 ,  -40.44217944,  -12.55321436,\n",
       "          -2.4238884 ,   26.45859162,    2.29010023,   22.5704525 ,\n",
       "          14.52713001,   40.53618377],\n",
       "       [  69.49851132,   45.17086744,   50.81648726,   41.32138737,\n",
       "          26.21325998,  -31.373577  ,  -12.56892208,  -40.44843868,\n",
       "         -22.80447746,   -3.51043536,  -11.32637723,  -25.27575533,\n",
       "         -38.4462977 ,  -36.52002221,  -55.69543567,  -45.8889401 ,\n",
       "         -32.94123732,  -44.40809933,  -58.46896545,  -47.20938478,\n",
       "         -52.01040422,  -95.27210489,  -50.45536343,  -42.45300156,\n",
       "         -21.79270587,  -32.14705609,   11.52151972,    4.35859398,\n",
       "         -18.39823909,   28.61252521],\n",
       "       [  36.91175737,   48.99185454,   83.47963407,   62.47905316,\n",
       "         -15.3792511 ,   -7.61886664,  -57.41557558,  -29.51029892,\n",
       "         -27.45761483,  -25.13661534,  -31.38607141,  -14.66618283,\n",
       "         -51.44681337,  -59.67425334,  -35.98462208,  -31.49145743,\n",
       "         -58.54846035,  -55.46057675,  -45.48973043,  -51.52524618,\n",
       "         -49.46612769,  -61.43398025,  -53.46639919,  -38.23225166,\n",
       "         -36.47771697,  -45.4183618 ,  -72.40855773,  -24.43366921,\n",
       "           4.52810875,   73.39607912],\n",
       "       [  70.53362051,   24.77391542,   69.51087384,   37.8260186 ,\n",
       "           3.51275287,  -22.70792877,  -13.85968592,  -29.70738966,\n",
       "         -42.40760799,  -33.42806353,  -56.42867345,  -46.46442712,\n",
       "         -46.71728829,  -48.44186305,  -24.14005783,  -41.45652328,\n",
       "         -45.09245867,  -54.4103687 ,  -47.44631135,  -48.41760864,\n",
       "         -64.46269945,  -78.44014716,  -74.42880606,  -54.00364311,\n",
       "         -56.449827  ,  -53.45343025,  -53.4318622 ,  -47.68271779,\n",
       "         -40.50805209,  -40.41469356],\n",
       "       [  28.52870191,   20.96548864,   54.4665796 ,   34.52427403,\n",
       "          44.44786165,  -37.08207733,  -53.40753504,  -17.51755132,\n",
       "         -40.46109466,  -37.98603838,  -42.41449855,  -10.4600357 ,\n",
       "         -53.99742018,  -61.43213838,  -42.08495002,  -45.4622726 ,\n",
       "         -67.11310492,  -39.47269326,  -32.45921049,  -45.91044415,\n",
       "         -67.48756748,  -79.00661175,  -71.1259712 ,  -79.45314028,\n",
       "         -60.38517545,  -42.6548196 ,  -43.4378302 ,  -51.4944175 ,\n",
       "         -71.36792947,  -48.36730769],\n",
       "       [  -9.28954958,   10.53553563,   20.4832461 ,   15.57270654,\n",
       "          24.46135479,  -31.51415953,  -54.85077399,  -22.54168961,\n",
       "         -24.14707564,  -26.46010049,  -13.49060367,  -35.32079488,\n",
       "         -36.33894254,  -45.56123623,  -54.5070998 ,  -81.45835492,\n",
       "         -62.34688404,  -31.46465484,  -30.49230776,  -49.53361643,\n",
       "         -66.4380912 ,  -87.72105769,  -67.48012711,  -72.3821211 ,\n",
       "         -60.46603605,  -37.50860194,  -64.39283235,  -31.04370081,\n",
       "         -84.44501323,  -37.43032901],\n",
       "       [  -8.25872874,   -8.68558257,   -6.52196377,  -37.43371106,\n",
       "         -22.04880145,  -24.51006176,  -47.39990317,  -22.50370818,\n",
       "         -22.48041907,  -27.43568815,  -35.03279106,  -44.40462533,\n",
       "          22.42266069,  -58.08008829,  -76.45714377,  -85.45278098,\n",
       "         -54.41885382,  -71.09529762,  -49.48969491,  -57.46751349,\n",
       "         -52.28670011,  -62.44171904,  -57.47394964,  -64.46827319,\n",
       "         -54.0752091 ,  -52.84276391,  -41.59475685,  -45.63126582,\n",
       "         -39.07288487,  -51.08796649],\n",
       "       [ -24.51310262,  -15.15496622,  -32.47054934,  -49.42159867,\n",
       "         -67.39115291,  -42.43577349,  -46.4376035 ,   -4.53100508,\n",
       "         -10.5319173 ,  -15.78000958,  -19.45926903,  -39.46282648,\n",
       "         -19.52212164,  -50.47929997,  -76.74505507,  -68.51896499,\n",
       "         -80.18737499,  -44.44962449,  -75.23788888,  -54.24397827,\n",
       "         -64.25547295,  -66.39765761,  -64.47635564,  -70.44684455,\n",
       "         -91.41363747,  -76.41089563,  -61.46836291,  -57.58593509,\n",
       "         -55.50739398,  -63.40934492],\n",
       "       [ -78.36870816,  -21.34094861,  -28.76935016,  -55.43576115,\n",
       "         -59.63297115,  -35.87169451,  -63.2604508 ,  -36.47661168,\n",
       "         -17.53238949,  -41.87179834,    1.44592926,  -46.44895828,\n",
       "         -56.4062609 ,  -53.23643398,  -56.24497307,  -85.38296683,\n",
       "         -75.83947877,  -48.41496573,  -45.44272881,  -69.3266541 ,\n",
       "         -69.46346703,  -73.45501812,  -72.91399929,  -62.019408  ,\n",
       "         -58.20909443,  -41.48596924,  -72.28787143,  -65.70905192,\n",
       "         -72.4448489 ,  -49.44426991],\n",
       "       [ -58.38334529,  -42.79690947,  -45.83799616,  -72.41372813,\n",
       "         -34.55632247,  -33.09794145,  -42.43941176,  -82.3617    ,\n",
       "         -94.36877282,  -45.42375171,  -58.21752401,  -60.96695484,\n",
       "         -54.58929007,  -46.5034439 ,  -66.20074887,  -76.41252883,\n",
       "         -96.40367016,  -77.42985249,  -64.88981706,  -58.54620853,\n",
       "         -70.48544691,  -49.20678016,  -78.49931611,  -73.4742607 ,\n",
       "         -50.24376204,  -60.74778668,  -36.18202669,  -64.41525723,\n",
       "         -48.70006399,  -74.30578685],\n",
       "       [  -9.1795824 ,  -17.36774284,  -22.45726239,  -28.6659587 ,\n",
       "          -7.51802599,  -36.4132877 ,  -27.91917014,  -52.472982  ,\n",
       "         -33.21810134,   -2.07470245,   -4.37322201,  -60.66199409,\n",
       "         -39.87524073,  -13.52733203,  -65.06276994,  -72.43829638,\n",
       "         -63.63387305,  -58.47535028,  -67.45522046,  -57.0260379 ,\n",
       "         -50.58502678,  -67.47860096,  -88.81630815,  -77.19047608,\n",
       "         -52.54475847,  -61.87085826,  -39.4974646 ,  -36.50660317,\n",
       "         -49.19330764,  -31.5388867 ],\n",
       "       [  -2.41517269,   14.63143013,   11.42409691,  -30.40406426,\n",
       "          19.42359204,  -50.87821329,  -61.45957647,  -53.7070808 ,\n",
       "          47.38480167,   -6.46862459,  -19.46742335,  -77.37817763,\n",
       "         -34.95390682,  -69.84855091,  -57.75874584,  -51.65261476,\n",
       "         -54.4385998 ,  -72.90743319,  -80.34642948,  -46.33191474,\n",
       "         -56.46070177,  -84.37917061,  -61.44169898,  -65.93380339,\n",
       "         -74.33209135,  -49.52921865,  -67.42354571,  -69.20298012,\n",
       "         -22.33020849,    8.70730431],\n",
       "       [  33.98297623,  -26.43382632,  -29.5495648 ,  -29.87883474,\n",
       "         -25.09618755,  -51.37348784,  -42.41003393,  -32.45114461,\n",
       "          -3.47605455,  -12.98414697,  -82.37103475,  -68.42145099,\n",
       "         -43.43699518,  -70.36356496,  -69.41404619,   -6.43672563,\n",
       "         -31.49681914,  -72.44640631,  -48.47102005,  -23.22188506,\n",
       "         -81.44760413,  -76.40931353,  -52.56342929,  -61.70831855,\n",
       "         -74.50280918,  -32.4620123 ,  -38.34769148,  -40.86430046,\n",
       "         -17.24196682,  -45.47577208],\n",
       "       [  24.67751517,   13.92258199,   -1.48202352,   20.45090805,\n",
       "         -47.42028782,   -9.83436901,   29.43179258,  -26.62195366,\n",
       "          -9.45406631,  -22.25290541,  -12.48037787,  -41.43592293,\n",
       "         -19.53407712,   19.36516537,  -61.1104806 ,   57.28991286,\n",
       "         -21.4454492 ,  -57.43262442,   -0.66637507,  -48.68235704,\n",
       "         -82.40601708,  -51.63665262,  -42.25564826,  -40.97972246,\n",
       "         -83.36325151,  -62.96129109,  -49.49824867,  -61.46360522,\n",
       "         -70.39856872,  -51.96604113],\n",
       "       [  64.4862924 ,   64.44226286,   23.26584535,   44.52722736,\n",
       "          12.55934706,    9.5280288 ,    7.55519259,    4.33550864,\n",
       "         -15.44223539,   14.26894537,   22.4787186 ,    1.4871661 ,\n",
       "         -57.45584349,  -26.53720975,  -85.37064749,    5.54820789,\n",
       "         -54.35851641,    6.4119363 ,   78.39143363,  -16.33809017,\n",
       "         -69.41996352,    4.87192539,   -1.5234006 ,   -2.51981912,\n",
       "         -37.96334132,  -59.44626123,  -30.52629347,  -14.45880473,\n",
       "          -7.88268417,    4.44541649],\n",
       "       [  35.95297066,   16.60580153,   36.27931916,   34.2479976 ,\n",
       "          34.23515975,   35.67448914,   13.81800705,  103.3137636 ,\n",
       "          21.57456816,    3.52816155,   -0.27412056,   -3.26718154,\n",
       "          -7.56199173,  -94.34784855,  -59.43686779,  -22.55272325,\n",
       "         -59.4031463 ,  -16.96426459,   86.37176362,  -23.12791525,\n",
       "         -39.60438009,   58.44023017,  -13.43254363,  -15.48389871,\n",
       "         -21.43753779,   18.65431157,  -61.37097655,    9.41183778,\n",
       "          61.4670708 ,   13.36689316],\n",
       "       [  77.5125451 ,   25.58346951,   41.93668611,   84.17907396,\n",
       "          57.57117344,   65.45400207,   75.43367663,   56.21923984,\n",
       "          76.40984497,   57.4714649 ,    8.55048004,  -67.39813022,\n",
       "          -9.96411797,  -22.55920942, -105.3523469 ,  -73.36830918,\n",
       "          29.42335403,  -15.09497183,  -11.26264514,  -71.32050897,\n",
       "         -11.9981433 ,   -9.95710538,   30.44172152,   52.46838083,\n",
       "           9.10648557,   19.70002622,   22.53593007,   55.48275016,\n",
       "          30.73070142,    9.35297841],\n",
       "       [  59.53020632,   78.51848282,   55.49977375,   70.51533272,\n",
       "          90.45950676,   73.52899047,   35.66196974,   24.66343929,\n",
       "          56.50831408,   61.97541274,   28.86512709,   45.4146006 ,\n",
       "          -8.42980023,  -21.01214224, -122.36516802,  -39.4677043 ,\n",
       "           5.48279775,  -33.4763481 ,  -68.31494165,  -33.38670519,\n",
       "          17.51286395,   53.49460214,   51.51949494,   46.54960362,\n",
       "          59.5770144 ,   54.44735514,   57.95926288,   64.50205779,\n",
       "          60.7318507 ,   23.83844701],\n",
       "       [  69.55344022,   74.90778495,   53.66013357,   71.46877003,\n",
       "          70.60302143,   66.51721923,   51.68509166,   62.16489755,\n",
       "          82.94666096,   56.20261856,   57.39213107,   13.85954727,\n",
       "          77.4193202 ,   38.43903119,  -32.5138107 ,  -59.41269818,\n",
       "         -26.49283741,  -91.31092962,   15.52406965,   73.41555461,\n",
       "          25.33193291,   55.51806445,   69.54624662,   56.53594541,\n",
       "          62.1708486 ,   54.49572909,   55.95852003,   54.86565311,\n",
       "          59.66069783,   56.51317797],\n",
       "       [  66.52588612,   67.58816104,   55.92287545,   55.30057697,\n",
       "          67.50415696,   65.5146047 ,   63.60047896,   62.59023914,\n",
       "          53.55832541,   44.52644722,   50.57027684,   21.35535595,\n",
       "          52.51277029,   14.22365938,  -56.40418266,  -41.68341735,\n",
       "         -32.64211973,   -7.46888871,   32.13764201,   40.94391811,\n",
       "          45.66345569,   59.52657931,   68.48329271,   62.05068704,\n",
       "          60.30673917,   60.51768152,   60.55000578,   60.53714399,\n",
       "          61.54930699,   62.5340469 ],\n",
       "       [  67.56387274,   63.44749371,   78.52912111,   67.51138181,\n",
       "          67.61541152,   75.27128972,   67.5218961 ,   67.59347988,\n",
       "          71.49671532,   68.50612644,   46.14680136,   44.50017585,\n",
       "          54.46285235,   73.42065856,   -5.3681393 ,  -64.4240848 ,\n",
       "         -84.35325416,   49.47398533,   21.00943549,   48.50178174,\n",
       "          52.19876117,   65.44833913,   54.49029832,   65.54694692,\n",
       "          65.00710721,   66.49511057,   64.69537181,   65.52746607,\n",
       "          68.5191143 ,   69.68882406],\n",
       "       [  67.57636942,   71.14848248,   76.97650683,   83.97283092,\n",
       "          59.52221975,   65.5546395 ,   47.66644869,   67.57548573,\n",
       "          72.02633509,   46.80999521,   62.55941924,   62.55781864,\n",
       "          59.02948039,   75.45798542,   47.62987751,  -51.39109308,\n",
       "         -89.29032036,   15.86807547,   50.46849655,   53.49743831,\n",
       "          70.4756474 ,   65.98865803,   51.57085758,   63.32554285,\n",
       "          82.69121535,   93.06512428,   70.49951462,   71.48380651,\n",
       "          77.37196913,   72.5550937 ],\n",
       "       [  87.0875948 ,   65.50142228,   64.56894684,   73.72550083,\n",
       "          62.54907172,   59.90647213,   54.54150005,   73.76879056,\n",
       "          52.58408457,   67.50597116,   51.44688837,   62.92239533,\n",
       "          58.50794345,   46.35018138,   25.5763749 ,   14.0203555 ,\n",
       "         -85.33017043,   35.54798743,   31.52126136,   67.47866557,\n",
       "          45.6548019 ,   60.41238341,   58.53465246,   53.54936395,\n",
       "          66.50670454,   67.5712802 ,   68.52760842,   70.51169088,\n",
       "          68.8139593 ,   59.53430303],\n",
       "       [  72.53349685,   72.55472942,   88.93773702,   70.54103978,\n",
       "          69.60389065,   68.52481334,   53.4152329 ,   67.55339694,\n",
       "          66.5147289 ,   77.47666499,   71.43283954,   45.38364633,\n",
       "          80.50712769,    8.92581935,   69.46047552,    3.57728863,\n",
       "           6.70795387,   15.55640896,   63.27388649,   47.51605834,\n",
       "          59.53838953,   71.4784906 ,   71.54592513,   61.52834645,\n",
       "          63.49963183,   33.75308805,   67.5294408 ,   64.35773312,\n",
       "          69.49567035,   71.48074968]])"
      ]
     },
     "execution_count": 14,
     "metadata": {},
     "output_type": "execute_result"
    }
   ],
   "source": [
    "classical_reform * 30"
   ]
  },
  {
   "cell_type": "code",
   "execution_count": 21,
   "id": "f9b82171",
   "metadata": {},
   "outputs": [
    {
     "data": {
      "text/plain": [
       "136.37381994675107"
      ]
     },
     "execution_count": 21,
     "metadata": {},
     "output_type": "execute_result"
    }
   ],
   "source": [
    "error = np.linalg.norm(classical_arr - classical_reform, 'fro') / np.sqrt(cm*cn)\n",
    "error"
   ]
  },
  {
   "cell_type": "code",
   "execution_count": null,
   "id": "ad7e2338",
   "metadata": {},
   "outputs": [],
   "source": []
  }
 ],
 "metadata": {
  "kernelspec": {
   "display_name": "Python 3",
   "language": "python",
   "name": "python3"
  },
  "language_info": {
   "codemirror_mode": {
    "name": "ipython",
    "version": 3
   },
   "file_extension": ".py",
   "mimetype": "text/x-python",
   "name": "python",
   "nbconvert_exporter": "python",
   "pygments_lexer": "ipython3",
   "version": "3.8.8"
  }
 },
 "nbformat": 4,
 "nbformat_minor": 5
}
