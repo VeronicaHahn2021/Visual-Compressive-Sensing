{
 "cells": [
  {
   "cell_type": "code",
   "execution_count": 41,
   "id": "d5ee52ba",
   "metadata": {},
   "outputs": [],
   "source": [
    "import matplotlib.pyplot as plt\n",
    "import numpy as np\n",
    "import numpy.linalg as la\n",
    "\n",
    "from src.structured_random_features.src.models.weights import V1_weights\n",
    "\n",
    "# Packages for fft and fitting data\n",
    "from scipy import fftpack as fft\n",
    "from sklearn.linear_model import Lasso\n",
    "\n",
    "# Package for importing image representation\n",
    "from PIL import Image, ImageOps, ImageEnhance\n",
    "from src.filter_reconst import filter_reconstruction\n",
    "from src.V1_Compress import generate_Y, compress\n",
    "import pandas as pd\n",
    "import seaborn as sns\n",
    "import time\n",
    "import os.path"
   ]
  },
  {
   "cell_type": "code",
   "execution_count": 42,
   "id": "44e609e4",
   "metadata": {
    "scrolled": true
   },
   "outputs": [
    {
     "data": {
      "image/png": "[encoded data removed]",
      "text/plain": [
       "<Figure size 432x288 with 1 Axes>"
      ]
     },
     "metadata": {
      "needs_background": "light"
     },
     "output_type": "display_data"
    },
    {
     "name": "stderr",
     "output_type": "stream",
     "text": [
      "Clipping input data to the valid range for imshow with RGB data ([0..1] for floats or [0..255] for integers).\n"
     ]
    },
    {
     "data": {
      "image/png": "[encoded data removed]",
      "text/plain": [
       "<Figure size 432x288 with 1 Axes>"
      ]
     },
     "metadata": {
      "needs_background": "light"
     },
     "output_type": "display_data"
    }
   ],
   "source": [
    "image_path = 'image/city_part2.png'\n",
    "num_cell = 200\n",
    "cell_size = 7\n",
    "sparse_freq = 2\n",
    "alpha = 0.01\n",
    "\n",
    "filter_dim = (30, 30)\n",
    "filt = np.zeros(filter_dim)\n",
    "\n",
    "img = Image.open(image_path)\n",
    "img_arr = np.asarray(img)\n",
    "# dim = img_arr.shape\n",
    "\n",
    "i = 0\n",
    "dim = img_arr[:,:,i].shape\n",
    "\n",
    "W = V1_weights(num_cell, dim, cell_size, sparse_freq) \n",
    "final = np.zeros(img_arr.shape)\n",
    "\n",
    "# with same V1 cells generated, reconstruct images for each of 3 rgb arrays and append to final\n",
    "while (i < 3):\n",
    "    img_arr_pt = img_arr[:,:,i]\n",
    "    img_arr_pt_dim = img_arr_pt.shape\n",
    "    n_pt, m_pt = img_arr_pt_dim\n",
    "    y = generate_Y(W, img_arr_pt)\n",
    "    W_model = W.reshape(num_cell, n_pt, m_pt)\n",
    "    theta, reform, s = compress(W_model, y, alpha)\n",
    "    final[:,:,i] = reform\n",
    "    i+=1\n",
    "    \n",
    "# final = np.round(final).astype(int)\n",
    "\n",
    "plt.imshow(img_arr)\n",
    "plt.title(\"original image\")\n",
    "plt.show()\n",
    "\n",
    "plt.imshow(final, vmin = 0, vmax=255)\n",
    "plt.title(\"reconstructed RGB image\")\n",
    "plt.show()\n"
   ]
  },
  {
   "cell_type": "code",
   "execution_count": 43,
   "id": "668ae76c",
   "metadata": {},
   "outputs": [
    {
     "data": {
      "text/plain": [
       "-577.1090676146468"
      ]
     },
     "execution_count": 43,
     "metadata": {},
     "output_type": "execute_result"
    }
   ],
   "source": [
    "np.min(img_arr - final)"
   ]
  },
  {
   "cell_type": "code",
   "execution_count": 56,
   "id": "c15cee7c",
   "metadata": {
    "scrolled": true
   },
   "outputs": [
    {
     "data": {
      "text/plain": [
       "array([[[192, 167, 154],\n",
       "        [193, 165, 149],\n",
       "        [200, 168, 150],\n",
       "        ...,\n",
       "        [176, 165, 160],\n",
       "        [155, 141, 140],\n",
       "        [165, 150, 148]],\n",
       "\n",
       "       [[185, 164, 155],\n",
       "        [203, 176, 157],\n",
       "        [229, 189, 163],\n",
       "        ...,\n",
       "        [175, 152, 139],\n",
       "        [191, 162, 147],\n",
       "        [187, 165, 154]],\n",
       "\n",
       "       [[186, 165, 156],\n",
       "        [195, 172, 154],\n",
       "        [238, 194, 162],\n",
       "        ...,\n",
       "        [180, 153, 138],\n",
       "        [185, 145, 121],\n",
       "        [197, 161, 136]],\n",
       "\n",
       "       ...,\n",
       "\n",
       "       [[168, 147, 138],\n",
       "        [195, 176, 166],\n",
       "        [163, 145, 143],\n",
       "        ...,\n",
       "        [161, 144, 144],\n",
       "        [147, 130, 132],\n",
       "        [157, 135, 136]],\n",
       "\n",
       "       [[200, 180, 171],\n",
       "        [211, 191, 187],\n",
       "        [158, 137, 139],\n",
       "        ...,\n",
       "        [171, 146, 140],\n",
       "        [152, 132, 131],\n",
       "        [162, 141, 134]],\n",
       "\n",
       "       [[201, 180, 172],\n",
       "        [192, 172, 166],\n",
       "        [147, 128, 127],\n",
       "        ...,\n",
       "        [152, 123, 112],\n",
       "        [139, 118, 111],\n",
       "        [113,  97,  95]]], dtype=uint8)"
      ]
     },
     "execution_count": 56,
     "metadata": {},
     "output_type": "execute_result"
    }
   ],
   "source": [
    "img_arr[0:, ]"
   ]
  },
  {
   "cell_type": "code",
   "execution_count": 39,
   "id": "b97f1c2a",
   "metadata": {},
   "outputs": [
    {
     "data": {
      "text/plain": [
       "691.7821660947995"
      ]
     },
     "execution_count": 39,
     "metadata": {},
     "output_type": "execute_result"
    }
   ],
   "source": [
    "np.max(final)"
   ]
  },
  {
   "cell_type": "code",
   "execution_count": 51,
   "id": "e11294fc",
   "metadata": {},
   "outputs": [],
   "source": [
    "img_arr_grey = ImageOps.grayscale(img)\n",
    "img_arr_grey = np.asarray(img_arr_grey)"
   ]
  },
  {
   "cell_type": "code",
   "execution_count": 53,
   "id": "35c8a924",
   "metadata": {
    "scrolled": true
   },
   "outputs": [
    {
     "name": "stdout",
     "output_type": "stream",
     "text": [
      "(40, 40)\n",
      "iteration 3\n",
      "iteration 6\n",
      "iteration 9\n",
      "iteration 12\n",
      "iteration 15\n"
     ]
    },
    {
     "name": "stderr",
     "output_type": "stream",
     "text": [
      "/home/bans/anaconda3/lib/python3.9/site-packages/sklearn/linear_model/_coordinate_descent.py:530: ConvergenceWarning: Objective did not converge. You might want to increase the number of iterations. Duality gap: 0.0, tolerance: 0.0\n",
      "  model = cd_fast.enet_coordinate_descent(\n",
      "/home/bans/anaconda3/lib/python3.9/site-packages/sklearn/linear_model/_coordinate_descent.py:530: ConvergenceWarning: Objective did not converge. You might want to increase the number of iterations. Duality gap: 0.0, tolerance: 0.0\n",
      "  model = cd_fast.enet_coordinate_descent(\n",
      "/home/bans/anaconda3/lib/python3.9/site-packages/sklearn/linear_model/_coordinate_descent.py:530: ConvergenceWarning: Objective did not converge. You might want to increase the number of iterations. Duality gap: 0.0, tolerance: 0.0\n",
      "  model = cd_fast.enet_coordinate_descent(\n",
      "/home/bans/anaconda3/lib/python3.9/site-packages/sklearn/linear_model/_coordinate_descent.py:530: ConvergenceWarning: Objective did not converge. You might want to increase the number of iterations. Duality gap: 0.0, tolerance: 0.0\n",
      "  model = cd_fast.enet_coordinate_descent(\n",
      "/home/bans/anaconda3/lib/python3.9/site-packages/sklearn/linear_model/_coordinate_descent.py:530: ConvergenceWarning: Objective did not converge. You might want to increase the number of iterations. Duality gap: 0.0, tolerance: 0.0\n",
      "  model = cd_fast.enet_coordinate_descent(\n",
      "/home/bans/anaconda3/lib/python3.9/site-packages/sklearn/linear_model/_coordinate_descent.py:530: ConvergenceWarning: Objective did not converge. You might want to increase the number of iterations. Duality gap: 0.0, tolerance: 0.0\n",
      "  model = cd_fast.enet_coordinate_descent(\n",
      "/home/bans/anaconda3/lib/python3.9/site-packages/sklearn/linear_model/_coordinate_descent.py:530: ConvergenceWarning: Objective did not converge. You might want to increase the number of iterations. Duality gap: 0.0, tolerance: 0.0\n",
      "  model = cd_fast.enet_coordinate_descent(\n"
     ]
    },
    {
     "data": {
      "text/plain": [
       "array([[170.80723773, 173.80167311, 175.78138467, 186.98199712,\n",
       "        177.17954596, 165.14000518, 192.99754628, 190.15301711,\n",
       "        223.51260786, 191.03108831, 180.17880043, 187.84080502,\n",
       "        180.46878757, 184.16811479, 179.14356245, 179.10582812,\n",
       "        187.59300354, 187.76390079, 195.11102287, 193.55319734,\n",
       "        189.74297414, 189.51486513, 187.00407716, 184.36806028,\n",
       "        180.28200248, 169.94357898, 174.78180649, 163.32926163,\n",
       "        148.8348576 , 153.06457448],\n",
       "       [171.52753514, 180.14436855, 197.10505298, 189.69937497,\n",
       "        162.81994848, 154.70127007, 192.81768643, 194.98993302,\n",
       "        204.32835431, 184.30262179, 179.1566081 , 181.68529868,\n",
       "        180.89569439, 188.22862178, 193.01527355, 186.41079034,\n",
       "        167.04377018, 166.25395302, 175.36869225, 196.75013356,\n",
       "        188.2622368 , 187.69831917, 188.50551966, 192.03897729,\n",
       "        191.90899248, 178.89874556, 174.57623248, 165.00772435,\n",
       "        162.90158094, 171.83433281],\n",
       "       [168.87841826, 177.5878351 , 205.36052165, 186.73509634,\n",
       "        151.05299292, 149.36782863, 198.90330729, 208.13052493,\n",
       "        190.7769607 , 187.27096072, 185.45185223, 168.90270854,\n",
       "        180.1795016 , 191.38446586, 180.51300398, 171.12297319,\n",
       "        158.25566005, 155.85301719, 151.30523441, 175.6865795 ,\n",
       "        193.31184804, 188.99485373, 186.36540144, 183.75720051,\n",
       "        179.34866086, 172.76552039, 168.02903942, 154.88707469,\n",
       "        157.33101206, 167.74942861],\n",
       "       [175.12523377, 182.69057199, 208.73180989, 188.35262205,\n",
       "        151.74369936, 153.5533645 , 203.04207013, 214.91477444,\n",
       "        185.78132987, 181.98729695, 179.53838195, 152.25097225,\n",
       "        171.65464422, 190.17814841, 174.59562513, 187.2321817 ,\n",
       "        176.26633693, 163.31018288, 155.05514877, 172.06901507,\n",
       "        183.53583384, 173.39164532, 166.91560483, 162.42137145,\n",
       "        162.29417132, 175.63526825, 176.31501143, 147.46200396,\n",
       "        139.74087768, 147.83294402],\n",
       "       [176.80741097, 184.02328813, 204.71081531, 191.25487122,\n",
       "        154.32232279, 156.3109568 , 201.33572003, 210.98971608,\n",
       "        184.82195866, 170.07296672, 155.17733037, 139.36323524,\n",
       "        162.8601326 , 178.84754653, 164.65756399, 220.67882205,\n",
       "        199.59979555, 184.79225213, 172.39650386, 176.64553343,\n",
       "        162.90131359, 162.01765414, 164.80841036, 164.56794527,\n",
       "        162.63813109, 179.1985599 , 179.7788826 , 140.1160883 ,\n",
       "        118.40640254, 116.85021424],\n",
       "       [183.28510045, 181.232927  , 191.44310897, 188.0889028 ,\n",
       "        154.43575237, 157.94450376, 207.29044153, 212.67867455,\n",
       "        185.58536602, 167.48716614, 150.48429714, 152.14257027,\n",
       "        155.85218303, 135.54067391, 104.0088549 , 196.62466692,\n",
       "        201.38723602, 196.53020879, 178.7010494 , 172.0798951 ,\n",
       "        159.25187675, 160.36827471, 161.04166122, 162.12381449,\n",
       "        160.29359617, 172.71209264, 175.43198705, 143.59633801,\n",
       "        120.88226303, 115.131541  ],\n",
       "       [184.49817966, 179.21183996, 187.04003142, 190.80333398,\n",
       "        168.67329005, 169.56235742, 206.49428549, 206.83328786,\n",
       "        177.71052555, 160.75406854, 146.99094381, 160.89539025,\n",
       "        140.35166435, 106.85989884,  84.00867267, 168.30313474,\n",
       "        216.23700445, 201.45378841, 183.22504202, 152.99218356,\n",
       "        151.79218168, 156.42498263, 157.60524363, 158.1574324 ,\n",
       "        155.22267286, 162.90171553, 168.3638624 , 146.75869666,\n",
       "        125.39842134, 121.03123404],\n",
       "       [184.48038253, 179.60114896, 193.56538002, 196.81826487,\n",
       "        184.56034497, 174.32009121, 172.75307084, 177.70165654,\n",
       "        171.25127219, 162.67906759, 176.3463123 , 155.22738949,\n",
       "        111.9490944 ,  96.18836202,  95.23935035, 134.96909146,\n",
       "        218.52111751, 200.14890616, 197.20791333, 163.10578895,\n",
       "        151.62619244, 153.13790784, 153.34194491, 152.87219697,\n",
       "        155.15597317, 166.19177438, 168.45473993, 146.20289987,\n",
       "        123.28414518, 121.85688301],\n",
       "       [203.51026789, 180.79958809, 193.86890156, 195.71881849,\n",
       "        185.61930446, 178.47198775, 163.49101172, 171.55816667,\n",
       "        174.03334785, 174.01437978, 195.92053832, 130.11039281,\n",
       "         92.93934688,  94.51845252, 100.83000387, 103.27912703,\n",
       "        175.25233026, 179.1420171 , 185.66353645, 182.31121003,\n",
       "        156.69638905, 162.53075461, 170.2366829 , 166.76980498,\n",
       "        167.36633526, 176.03564857, 171.19965009, 155.11274737,\n",
       "        138.79372891, 135.47189585],\n",
       "       [210.53269406, 173.76494976, 190.19951977, 192.46600617,\n",
       "        165.57513514, 158.2866032 , 155.82723358, 161.48992126,\n",
       "        153.9188962 , 166.24710479, 119.95337356,  64.42950545,\n",
       "         70.38896094,  76.92387858,  76.25837885,  68.09697136,\n",
       "        121.50072412, 186.52623593, 194.05365036, 200.92470556,\n",
       "        171.70315989, 174.73110729, 181.8506408 , 175.72971472,\n",
       "        177.9055439 , 183.71693073, 169.64941806, 159.67902225,\n",
       "        151.82165518, 144.54493292],\n",
       "       [203.62118848, 162.55470655, 174.9865894 , 192.99853198,\n",
       "        160.4379676 , 160.19931505, 159.14979309, 141.06693064,\n",
       "        152.49262648, 115.24827043,  74.31832237,  57.69400151,\n",
       "         58.90111906,  62.99707604,  62.13144247,  58.19688578,\n",
       "        114.33238945, 203.35824822, 173.48344721, 199.06507865,\n",
       "        172.72684327, 162.72496629, 169.57736807, 147.00931645,\n",
       "        137.24725471, 180.25244199, 176.43744642, 137.70078446,\n",
       "        139.38448657, 121.45079877],\n",
       "       [199.40133393, 186.54571721, 199.24438362, 231.06717538,\n",
       "        179.2856053 , 142.17873056, 151.1082848 , 152.67302151,\n",
       "        176.23843231, 112.20224528,  77.66883485,  71.88017791,\n",
       "         65.30309071,  70.05285638,  80.00657677,  68.55319705,\n",
       "        124.65627005, 205.66834524, 181.09397886, 204.00771269,\n",
       "        162.20928222, 153.41874396, 155.59946128, 142.25176878,\n",
       "        137.89649977, 173.63794494, 166.00046339, 125.45501453,\n",
       "        134.16011546, 128.52822349],\n",
       "       [197.90000987, 199.43068912, 200.19341616, 238.95899145,\n",
       "        191.53250396, 149.12304169, 147.2654636 , 139.18101247,\n",
       "        170.91656835, 117.92060298,  82.81093468,  82.61487498,\n",
       "         78.70859447,  85.16042171,  87.57260479,  74.69146173,\n",
       "        141.98223498, 213.96432365, 180.77876386, 173.98249576,\n",
       "        130.79688602, 140.06500818, 152.60816284, 143.51827424,\n",
       "        138.85495642, 157.88361626, 148.39403915, 120.40447157,\n",
       "        131.62575123, 135.27431765],\n",
       "       [199.89738015, 203.44927914, 191.19956577, 207.44610279,\n",
       "        174.98232631, 167.36685583, 141.90807364, 129.31244328,\n",
       "        157.94662556, 116.8203339 ,  70.25399988,  81.14299887,\n",
       "         76.80873886,  72.00671151,  76.61442089,  80.97774364,\n",
       "        114.68037281, 162.37919738, 157.12880863, 146.5778696 ,\n",
       "        132.86168444, 132.43780665, 146.55191609, 141.07324901,\n",
       "        143.90783236, 145.07538938, 129.30055827, 124.24678663,\n",
       "        134.16331981, 139.8484815 ],\n",
       "       [187.50467766, 179.30111137, 165.39070837, 170.48571977,\n",
       "        160.43554338, 195.22268974, 159.82891261, 165.61901425,\n",
       "        174.36671017,  95.87178419,  68.76480082,  81.18398356,\n",
       "         78.0617166 ,  72.61865465,  79.38310668,  82.58951175,\n",
       "         82.69484076, 150.04500988, 197.69254387, 170.04921515,\n",
       "        132.47537953, 117.74763034, 134.06625438, 134.17946363,\n",
       "        145.6884249 , 146.42887669, 129.68982103, 134.63588423,\n",
       "        140.57470445, 146.4138893 ],\n",
       "       [175.25885764, 165.80632777, 167.51928738, 171.97211068,\n",
       "        156.82380658, 198.70576465, 174.21110802, 175.26046573,\n",
       "        164.85581019,  82.226383  ,  82.30256447,  79.7637824 ,\n",
       "         85.41172711,  91.21680558,  96.51831637,  99.67737322,\n",
       "         87.21330037, 120.06847449, 152.74954184, 108.82929542,\n",
       "         86.69291506, 118.1902769 , 166.85447285, 168.28513738,\n",
       "        154.74807567, 146.66974647, 138.14908695, 142.09249341,\n",
       "        140.22287789, 139.48340455],\n",
       "       [172.34108115, 155.84469088, 146.92426766, 149.58250217,\n",
       "        148.72340833, 191.12655593, 186.73091476, 133.51525956,\n",
       "         93.29399738,  67.50408042,  69.82764123,  74.67824184,\n",
       "         85.85866192,  71.73422927,  62.91889838,  76.8333545 ,\n",
       "         75.80600585,  68.74244308, 103.25435043, 103.06863578,\n",
       "        127.44557052, 156.16030458, 159.52217978, 153.31005252,\n",
       "        143.40481174, 138.48921647, 137.79914267, 139.99756468,\n",
       "        139.74382477, 141.66494453],\n",
       "       [162.09064986, 161.6094805 , 148.74856098, 148.1620536 ,\n",
       "        143.73217586, 137.92695423, 149.42203491, 102.83264579,\n",
       "         69.16568806,  92.05353027,  90.74233136, 108.10628477,\n",
       "        112.35159599,  91.54166863,  90.49702921,  91.81954331,\n",
       "         88.62174231, 110.82576465, 157.76756564, 137.21450511,\n",
       "        130.06885691, 179.31791696, 159.67554002, 154.0599199 ,\n",
       "        147.99295443, 142.15844638, 142.29033553, 144.15116864,\n",
       "        147.28796088, 153.80269824],\n",
       "       [147.82597883, 153.41558869, 138.54252509, 147.36757   ,\n",
       "        143.46399115, 101.72191706, 117.64760874, 105.79121098,\n",
       "         89.94229757, 115.65917937, 114.27988102, 120.0698677 ,\n",
       "         94.08077406,  79.34514998, 114.50299119, 126.71773502,\n",
       "        104.98901139, 142.58796517, 152.99489933,  63.16231416,\n",
       "        102.34357893, 169.56558791, 151.38528981, 144.98218314,\n",
       "        139.53632845, 153.46829263, 148.80881282, 130.82513111,\n",
       "        134.15415599, 148.47296191],\n",
       "       [130.85569439, 136.85337181, 121.14440925, 133.77600699,\n",
       "        133.28199666, 101.79197235, 119.6109217 , 107.61812498,\n",
       "         92.49226789, 111.83758165, 112.40296644, 108.08106816,\n",
       "         62.46889048,  40.51256055,  82.86108215, 119.90127712,\n",
       "         97.40572903, 140.87101216, 150.82620951,  74.30606286,\n",
       "        117.28342116, 169.29245977, 140.27394303, 120.45933146,\n",
       "        109.2814749 , 155.46971125, 162.31083925, 132.33174102,\n",
       "        130.45861385, 137.85504696],\n",
       "       [125.13137746, 119.33447521, 119.11316881, 118.05892254,\n",
       "        120.74872067, 109.69982912,  91.29874189,  89.66781726,\n",
       "         97.58873105, 113.93672646, 115.47722002, 125.59347967,\n",
       "         70.65102172,  46.41274146, 105.115058  , 126.04660066,\n",
       "        100.44786917, 143.15684707, 156.80992433,  86.81942362,\n",
       "        122.23081368, 155.10497929, 108.28669674, 137.09092517,\n",
       "        157.81257339, 172.97547017, 159.349615  , 145.77613512,\n",
       "        135.36451969, 123.83334943],\n",
       "       [155.12165651, 150.12971209, 138.65281313, 108.43220879,\n",
       "        103.33023137, 105.69980587,  92.31773165,  85.32679533,\n",
       "         91.57438119, 109.58460059, 105.59856655, 125.031355  ,\n",
       "         77.74349125,  56.9170675 , 108.9815011 , 125.184337  ,\n",
       "         98.80826675, 144.19412453, 156.40150338,  84.526085  ,\n",
       "        124.94481829, 138.0019146 , 122.67167789, 141.98517452,\n",
       "        165.31765902, 156.12854433, 131.57404388, 139.72088283,\n",
       "        139.07824282, 122.38957156],\n",
       "       [158.29116394, 142.8740197 , 140.93477007, 126.5476343 ,\n",
       "        128.87621045, 115.59372563,  89.49813616,  84.28781568,\n",
       "         90.71215554, 108.43358125, 106.87424302, 122.29613984,\n",
       "         81.93588112,  59.83771144, 107.11789685, 125.22529066,\n",
       "        106.2112869 , 143.43446796, 147.47078236,  97.57643519,\n",
       "        116.42028696, 118.10955372, 149.14975373, 161.39596366,\n",
       "        176.23288713, 154.27592289, 109.303463  , 140.08021815,\n",
       "        141.34284722, 119.82321344],\n",
       "       [131.35204961, 138.33164342, 151.28454303, 124.40195323,\n",
       "        122.94064856, 112.68759806,  91.49142794,  87.28778009,\n",
       "         86.90165929, 106.17661532, 118.95872567, 114.97311287,\n",
       "         84.89448363,  66.42484295, 104.42340347, 117.73747106,\n",
       "        105.84999918, 120.24554702, 126.59079817, 126.41770041,\n",
       "        120.91323831, 113.74910401, 157.29751321, 164.35407186,\n",
       "        184.22616778, 191.74684111, 116.27549202, 127.06112327,\n",
       "        124.77456631, 125.32767774],\n",
       "       [ 82.40014195, 111.30294881, 150.17110405, 121.96239329,\n",
       "        115.25011574, 107.61069991,  87.44359206,  86.76231676,\n",
       "         79.53800716,  81.44339833,  79.91430791,  85.17601508,\n",
       "         90.83487093,  87.74935711,  89.5141881 ,  80.93713072,\n",
       "         82.66000605,  82.22340775,  96.62932518, 112.36367926,\n",
       "        124.99178459, 120.16223084, 152.69220834, 151.00996603,\n",
       "        178.69526925, 200.58011199, 117.71165971, 108.58235317,\n",
       "        116.11752604, 131.89962071],\n",
       "       [ 97.41277248,  89.33861866, 132.64432795, 148.7402537 ,\n",
       "        167.38426492, 150.95823423,  95.60775295,  82.62171572,\n",
       "         87.14155679,  81.87482444,  84.15705011,  79.14863862,\n",
       "         81.28462065,  92.59752381,  83.92581496,  76.43935479,\n",
       "         87.99675007,  87.28639296, 118.89645413, 124.4671245 ,\n",
       "        111.08950773, 122.15206612, 140.30578823, 132.04927253,\n",
       "        178.60367939, 193.33589644, 147.21674914, 144.09254917,\n",
       "        158.0113277 , 152.15642363],\n",
       "       [111.91737361, 109.7173291 , 132.44756518, 133.22482401,\n",
       "        153.8724944 , 158.00444793, 104.06295918,  86.9138536 ,\n",
       "        102.54915828,  93.20008072,  92.68138123,  96.58766789,\n",
       "         93.43460792, 101.17817944,  95.02939456,  95.26710179,\n",
       "         98.61388015, 104.17682419, 130.69931585, 111.81272583,\n",
       "        122.14168338, 154.50849725, 157.2385302 , 132.59222199,\n",
       "        175.35647301, 172.48503588, 159.16287992, 149.71224159,\n",
       "        149.05531635, 126.8584072 ],\n",
       "       [155.32150411, 174.54048302, 153.43939349, 117.7011511 ,\n",
       "        130.24842139, 139.75145482,  91.64473229,  84.5923432 ,\n",
       "        108.48271563,  87.2134622 ,  83.48010953,  98.72221912,\n",
       "         88.87389188,  85.03317027,  96.29138157, 105.70454565,\n",
       "         94.5386509 , 120.20166142, 153.4133605 , 137.46398763,\n",
       "        131.54135259, 165.03748906, 156.40609004, 130.46632929,\n",
       "        160.60252687, 162.2999868 , 168.636824  , 149.29128794,\n",
       "        140.60203728, 137.90715274],\n",
       "       [186.78961027, 195.07006137, 144.8516362 , 118.2276779 ,\n",
       "        131.34302017, 133.10890167,  95.79574862,  97.52413371,\n",
       "        120.65161284,  96.6405801 , 100.76610813, 119.12880567,\n",
       "         96.42016398,  84.80830839, 108.06460432, 121.44171143,\n",
       "        106.36764671, 142.18962721, 169.87302283, 138.3988792 ,\n",
       "        133.40822619, 160.22274276, 155.86404885, 137.34599724,\n",
       "        145.88605421, 147.66011883, 161.29608011, 147.33738331,\n",
       "        141.50390248, 144.29469249],\n",
       "       [182.3028101 , 180.49611273, 133.34533701, 123.80020996,\n",
       "        123.49609037, 123.25530137, 104.46235552,  98.30811251,\n",
       "        116.46144901, 114.9899459 , 112.67601192, 120.5262666 ,\n",
       "         84.18168789,  85.32458023, 123.07558952, 133.04804504,\n",
       "        110.55767482, 144.54626982, 179.10870779, 139.10579228,\n",
       "        136.77901405, 155.3353317 , 152.11317808, 139.26734067,\n",
       "        150.95037922, 158.02661609, 160.88469688, 133.19182001,\n",
       "        118.60444406, 104.69109249]])"
      ]
     },
     "execution_count": 53,
     "metadata": {},
     "output_type": "execute_result"
    }
   ],
   "source": [
    "filter_reconstruction(num_cell = num_cell, img_arr = img_arr_grey, \n",
    "                                          sparse_freq = sparse_freq, cell_size = cell_size, alpha = alpha, filter_dim = (10, 10))"
   ]
  },
  {
   "cell_type": "code",
   "execution_count": 58,
   "id": "9a68f8a3",
   "metadata": {},
   "outputs": [
    {
     "data": {
      "text/plain": [
       "(30, 30, 3)"
      ]
     },
     "execution_count": 58,
     "metadata": {},
     "output_type": "execute_result"
    }
   ],
   "source": [
    "final.shape"
   ]
  },
  {
   "cell_type": "code",
   "execution_count": 59,
   "id": "45a30923",
   "metadata": {},
   "outputs": [
    {
     "data": {
      "text/plain": [
       "(30, 30, 3)"
      ]
     },
     "execution_count": 59,
     "metadata": {},
     "output_type": "execute_result"
    }
   ],
   "source": [
    "img_arr.shape"
   ]
  },
  {
   "cell_type": "code",
   "execution_count": 67,
   "id": "e271dfbd",
   "metadata": {},
   "outputs": [
    {
     "data": {
      "text/plain": [
       "<matplotlib.image.AxesImage at 0x7f01df8b7df0>"
      ]
     },
     "execution_count": 67,
     "metadata": {},
     "output_type": "execute_result"
    },
    {
     "data": {
      "image/png": "[encoded data removed]",
      "text/plain": [
       "<Figure size 432x288 with 1 Axes>"
      ]
     },
     "metadata": {
      "needs_background": "light"
     },
     "output_type": "display_data"
    }
   ],
   "source": [
    "plt.imshow(img_arr[:,:,2])"
   ]
  },
  {
   "cell_type": "code",
   "execution_count": 70,
   "id": "10a78175",
   "metadata": {},
   "outputs": [
    {
     "data": {
      "text/plain": [
       "<matplotlib.image.AxesImage at 0x7f01df61f3d0>"
      ]
     },
     "execution_count": 70,
     "metadata": {},
     "output_type": "execute_result"
    },
    {
     "data": {
      "image/png": "[encoded data removed]",
      "text/plain": [
       "<Figure size 432x288 with 1 Axes>"
      ]
     },
     "metadata": {
      "needs_background": "light"
     },
     "output_type": "display_data"
    }
   ],
   "source": [
    "plt.imshow(final[:,:,2])"
   ]
  },
  {
   "cell_type": "code",
   "execution_count": null,
   "id": "b4d47a75",
   "metadata": {},
   "outputs": [],
   "source": []
  }
 ],
 "metadata": {
  "kernelspec": {
   "display_name": "Python 3 (ipykernel)",
   "language": "python",
   "name": "python3"
  },
  "language_info": {
   "codemirror_mode": {
    "name": "ipython",
    "version": 3
   },
   "file_extension": ".py",
   "mimetype": "text/x-python",
   "name": "python",
   "nbconvert_exporter": "python",
   "pygments_lexer": "ipython3",
   "version": "3.9.7"
  }
 },
 "nbformat": 4,
 "nbformat_minor": 5
}
