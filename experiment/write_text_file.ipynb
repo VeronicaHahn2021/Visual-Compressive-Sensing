{
 "cells": [
  {
   "cell_type": "code",
   "execution_count": null,
   "id": "bc2dae8f",
   "metadata": {},
   "outputs": [],
   "source": [
    "import sys\n",
    "sys.path.append('../')\n",
    "from src.compress_sensing_library import *\n",
    "import pandas as pd"
   ]
  },
  {
   "cell_type": "code",
   "execution_count": 35,
   "id": "8fabd911",
   "metadata": {},
   "outputs": [
    {
     "name": "stdout",
     "output_type": "stream",
     "text": [
      "upper triggered: V1\n"
     ]
    }
   ],
   "source": [
    "hyperparam_track = data_save_path('tree_part1', 'dct', 'V1', 'test')\n",
    "hyperparam_track = hyperparam_track.split('.')[0] + '.txt'\n",
    "rep = 10\n",
    "alp = [1, 2, 3, 4, 5, 6]\n",
    "num_cell = [50, 100, 200]\n",
    "cell_size = [1, 2, 4, 6, 8]\n",
    "sparse_freq = [1, 2, 4, 6, 8]\n",
    "search_list = [rep, alp, num_cell, cell_size, sparse_freq]\n",
    "\n",
    "hyperparam_list = list(zip(search_df.columns, search_list))\n",
    "\n",
    "f = open(hyperparam_track, \"a+\")\n",
    "f.write(\"nameofFile\\n\")\n",
    "for i in hyperparam_list:\n",
    "    f.write(f\"   {i[0]}: {i[1]}\\n\")\n",
    "f.write(\"\\n\\n\")\n",
    "f.close()"
   ]
  },
  {
   "cell_type": "code",
   "execution_count": 15,
   "id": "ad8169f6",
   "metadata": {},
   "outputs": [
    {
     "data": {
      "text/plain": [
       "Index(['alp', 'num_cell', 'cell_size', 'sparse_freq'], dtype='object')"
      ]
     },
     "execution_count": 15,
     "metadata": {},
     "output_type": "execute_result"
    }
   ],
   "source": [
    "search_df = pd.DataFrame(columns= [ 'rep', 'alp', 'num_cell', 'cell_size', 'sparse_freq'])\n",
    "search_df.columns[1:]"
   ]
  },
  {
   "cell_type": "code",
   "execution_count": null,
   "id": "a47d3b92",
   "metadata": {},
   "outputs": [],
   "source": [
    "\n",
    "\n"
   ]
  },
  {
   "cell_type": "code",
   "execution_count": null,
   "id": "12c73b21",
   "metadata": {},
   "outputs": [],
   "source": []
  },
  {
   "cell_type": "code",
   "execution_count": null,
   "id": "754c545d",
   "metadata": {},
   "outputs": [],
   "source": []
  },
  {
   "cell_type": "code",
   "execution_count": null,
   "id": "bd69baca",
   "metadata": {},
   "outputs": [],
   "source": []
  },
  {
   "cell_type": "code",
   "execution_count": 2,
   "id": "0fd529d4",
   "metadata": {},
   "outputs": [],
   "source": [
    "import matplotlib.pyplot as plt\n",
    "import numpy as np\n",
    "import numpy.linalg as la\n",
    "\n",
    "import sys\n",
    "sys.path.append(\"../\")\n",
    "\n",
    "# Package for importing image representation\n",
    "from PIL import Image, ImageOps\n",
    "\n",
    "# from src.V1_reconst import generate_Y, reconstruct\n",
    "import pandas as pd\n",
    "import seaborn as sns\n",
    "import time\n",
    "import os.path\n",
    "from src.compress_sensing_library import *"
   ]
  },
  {
   "cell_type": "code",
   "execution_count": 31,
   "id": "5562aa52",
   "metadata": {},
   "outputs": [],
   "source": [
    "img_nm = 'tree_part1'\n",
    "root = search_root()\n",
    "load_V1 = '{root}/result/dct/{img}/V1/color_param_Fri_May_12_17_45_15_2023.csv'.format(root = root, img = img_nm)\n",
    "load_pixel = '{root}/result/dct/{img}/pixel/color_param_Fri_May_12_16_46_28_2023.csv'.format(root = root, img = img_nm)\n",
    "load_gaussian = '{root}/result/dct/{img}/gaussian/color_param_Fri_May_12_16_46_08_2023.csv'.format(root = root, img = img_nm)\n",
    "directory = \"num_cell_error\"\n",
    "save = True\n",
    "data = [load_pixel, load_gaussian, load_V1]"
   ]
  },
  {
   "cell_type": "code",
   "execution_count": 32,
   "id": "8788672f",
   "metadata": {},
   "outputs": [],
   "source": [
    "V1_param_df = pd.read_csv(load_V1)\n",
    "\n",
    "for index in V1_param_df.columns:\n",
    "    if (index == 'Unnamed: 0') :\n",
    "        V1_param_df.drop('Unnamed: 0', axis = 1, inplace=True)"
   ]
  },
  {
   "cell_type": "code",
   "execution_count": 33,
   "id": "11eed0ff",
   "metadata": {},
   "outputs": [
    {
     "data": {
      "text/html": [
       "<div>\n",
       "<style scoped>\n",
       "    .dataframe tbody tr th:only-of-type {\n",
       "        vertical-align: middle;\n",
       "    }\n",
       "\n",
       "    .dataframe tbody tr th {\n",
       "        vertical-align: top;\n",
       "    }\n",
       "\n",
       "    .dataframe thead th {\n",
       "        text-align: right;\n",
       "    }\n",
       "</style>\n",
       "<table border=\"1\" class=\"dataframe\">\n",
       "  <thead>\n",
       "    <tr style=\"text-align: right;\">\n",
       "      <th></th>\n",
       "      <th>rep</th>\n",
       "      <th>alp</th>\n",
       "      <th>num_cell</th>\n",
       "      <th>cell_size</th>\n",
       "      <th>sparse_freq</th>\n",
       "      <th>error</th>\n",
       "    </tr>\n",
       "  </thead>\n",
       "  <tbody>\n",
       "    <tr>\n",
       "      <th>0</th>\n",
       "      <td>0</td>\n",
       "      <td>0.001</td>\n",
       "      <td>50</td>\n",
       "      <td>1</td>\n",
       "      <td>1</td>\n",
       "      <td>140.450802</td>\n",
       "    </tr>\n",
       "    <tr>\n",
       "      <th>1</th>\n",
       "      <td>0</td>\n",
       "      <td>0.001</td>\n",
       "      <td>50</td>\n",
       "      <td>1</td>\n",
       "      <td>2</td>\n",
       "      <td>195.519780</td>\n",
       "    </tr>\n",
       "    <tr>\n",
       "      <th>2</th>\n",
       "      <td>0</td>\n",
       "      <td>0.001</td>\n",
       "      <td>50</td>\n",
       "      <td>1</td>\n",
       "      <td>4</td>\n",
       "      <td>221.493346</td>\n",
       "    </tr>\n",
       "    <tr>\n",
       "      <th>3</th>\n",
       "      <td>0</td>\n",
       "      <td>0.001</td>\n",
       "      <td>50</td>\n",
       "      <td>1</td>\n",
       "      <td>6</td>\n",
       "      <td>221.502516</td>\n",
       "    </tr>\n",
       "    <tr>\n",
       "      <th>4</th>\n",
       "      <td>0</td>\n",
       "      <td>0.001</td>\n",
       "      <td>50</td>\n",
       "      <td>1</td>\n",
       "      <td>8</td>\n",
       "      <td>219.336160</td>\n",
       "    </tr>\n",
       "    <tr>\n",
       "      <th>...</th>\n",
       "      <td>...</td>\n",
       "      <td>...</td>\n",
       "      <td>...</td>\n",
       "      <td>...</td>\n",
       "      <td>...</td>\n",
       "      <td>...</td>\n",
       "    </tr>\n",
       "    <tr>\n",
       "      <th>13995</th>\n",
       "      <td>19</td>\n",
       "      <td>1000.000</td>\n",
       "      <td>500</td>\n",
       "      <td>8</td>\n",
       "      <td>1</td>\n",
       "      <td>69.212788</td>\n",
       "    </tr>\n",
       "    <tr>\n",
       "      <th>13996</th>\n",
       "      <td>19</td>\n",
       "      <td>1000.000</td>\n",
       "      <td>500</td>\n",
       "      <td>8</td>\n",
       "      <td>2</td>\n",
       "      <td>52.488433</td>\n",
       "    </tr>\n",
       "    <tr>\n",
       "      <th>13997</th>\n",
       "      <td>19</td>\n",
       "      <td>1000.000</td>\n",
       "      <td>500</td>\n",
       "      <td>8</td>\n",
       "      <td>4</td>\n",
       "      <td>50.776755</td>\n",
       "    </tr>\n",
       "    <tr>\n",
       "      <th>13998</th>\n",
       "      <td>19</td>\n",
       "      <td>1000.000</td>\n",
       "      <td>500</td>\n",
       "      <td>8</td>\n",
       "      <td>6</td>\n",
       "      <td>53.899237</td>\n",
       "    </tr>\n",
       "    <tr>\n",
       "      <th>13999</th>\n",
       "      <td>19</td>\n",
       "      <td>1000.000</td>\n",
       "      <td>500</td>\n",
       "      <td>8</td>\n",
       "      <td>8</td>\n",
       "      <td>55.051864</td>\n",
       "    </tr>\n",
       "  </tbody>\n",
       "</table>\n",
       "<p>14000 rows × 6 columns</p>\n",
       "</div>"
      ],
      "text/plain": [
       "       rep       alp  num_cell  cell_size  sparse_freq       error\n",
       "0        0     0.001        50          1            1  140.450802\n",
       "1        0     0.001        50          1            2  195.519780\n",
       "2        0     0.001        50          1            4  221.493346\n",
       "3        0     0.001        50          1            6  221.502516\n",
       "4        0     0.001        50          1            8  219.336160\n",
       "...    ...       ...       ...        ...          ...         ...\n",
       "13995   19  1000.000       500          8            1   69.212788\n",
       "13996   19  1000.000       500          8            2   52.488433\n",
       "13997   19  1000.000       500          8            4   50.776755\n",
       "13998   19  1000.000       500          8            6   53.899237\n",
       "13999   19  1000.000       500          8            8   55.051864\n",
       "\n",
       "[14000 rows x 6 columns]"
      ]
     },
     "execution_count": 33,
     "metadata": {},
     "output_type": "execute_result"
    }
   ],
   "source": [
    "V1_param_df"
   ]
  },
  {
   "cell_type": "code",
   "execution_count": 34,
   "id": "2bd2c9ea",
   "metadata": {},
   "outputs": [
    {
     "data": {
      "text/html": [
       "<div>\n",
       "<style scoped>\n",
       "    .dataframe tbody tr th:only-of-type {\n",
       "        vertical-align: middle;\n",
       "    }\n",
       "\n",
       "    .dataframe tbody tr th {\n",
       "        vertical-align: top;\n",
       "    }\n",
       "\n",
       "    .dataframe thead th {\n",
       "        text-align: right;\n",
       "    }\n",
       "</style>\n",
       "<table border=\"1\" class=\"dataframe\">\n",
       "  <thead>\n",
       "    <tr style=\"text-align: right;\">\n",
       "      <th></th>\n",
       "      <th>rep</th>\n",
       "      <th>alp</th>\n",
       "      <th>num_cell</th>\n",
       "      <th>cell_size</th>\n",
       "      <th>sparse_freq</th>\n",
       "      <th>error</th>\n",
       "    </tr>\n",
       "  </thead>\n",
       "  <tbody>\n",
       "    <tr>\n",
       "      <th>0</th>\n",
       "      <td>0</td>\n",
       "      <td>0.001</td>\n",
       "      <td>50</td>\n",
       "      <td>1</td>\n",
       "      <td>1</td>\n",
       "      <td>140.450802</td>\n",
       "    </tr>\n",
       "    <tr>\n",
       "      <th>1</th>\n",
       "      <td>0</td>\n",
       "      <td>0.001</td>\n",
       "      <td>50</td>\n",
       "      <td>1</td>\n",
       "      <td>2</td>\n",
       "      <td>195.519780</td>\n",
       "    </tr>\n",
       "    <tr>\n",
       "      <th>2</th>\n",
       "      <td>0</td>\n",
       "      <td>0.001</td>\n",
       "      <td>50</td>\n",
       "      <td>1</td>\n",
       "      <td>4</td>\n",
       "      <td>221.493346</td>\n",
       "    </tr>\n",
       "    <tr>\n",
       "      <th>3</th>\n",
       "      <td>0</td>\n",
       "      <td>0.001</td>\n",
       "      <td>50</td>\n",
       "      <td>1</td>\n",
       "      <td>6</td>\n",
       "      <td>221.502516</td>\n",
       "    </tr>\n",
       "    <tr>\n",
       "      <th>4</th>\n",
       "      <td>0</td>\n",
       "      <td>0.001</td>\n",
       "      <td>50</td>\n",
       "      <td>1</td>\n",
       "      <td>8</td>\n",
       "      <td>219.336160</td>\n",
       "    </tr>\n",
       "    <tr>\n",
       "      <th>...</th>\n",
       "      <td>...</td>\n",
       "      <td>...</td>\n",
       "      <td>...</td>\n",
       "      <td>...</td>\n",
       "      <td>...</td>\n",
       "      <td>...</td>\n",
       "    </tr>\n",
       "    <tr>\n",
       "      <th>13920</th>\n",
       "      <td>19</td>\n",
       "      <td>1000.000</td>\n",
       "      <td>50</td>\n",
       "      <td>8</td>\n",
       "      <td>1</td>\n",
       "      <td>74.738470</td>\n",
       "    </tr>\n",
       "    <tr>\n",
       "      <th>13921</th>\n",
       "      <td>19</td>\n",
       "      <td>1000.000</td>\n",
       "      <td>50</td>\n",
       "      <td>8</td>\n",
       "      <td>2</td>\n",
       "      <td>62.431741</td>\n",
       "    </tr>\n",
       "    <tr>\n",
       "      <th>13922</th>\n",
       "      <td>19</td>\n",
       "      <td>1000.000</td>\n",
       "      <td>50</td>\n",
       "      <td>8</td>\n",
       "      <td>4</td>\n",
       "      <td>52.519964</td>\n",
       "    </tr>\n",
       "    <tr>\n",
       "      <th>13923</th>\n",
       "      <td>19</td>\n",
       "      <td>1000.000</td>\n",
       "      <td>50</td>\n",
       "      <td>8</td>\n",
       "      <td>6</td>\n",
       "      <td>54.726482</td>\n",
       "    </tr>\n",
       "    <tr>\n",
       "      <th>13924</th>\n",
       "      <td>19</td>\n",
       "      <td>1000.000</td>\n",
       "      <td>50</td>\n",
       "      <td>8</td>\n",
       "      <td>8</td>\n",
       "      <td>55.534124</td>\n",
       "    </tr>\n",
       "  </tbody>\n",
       "</table>\n",
       "<p>3500 rows × 6 columns</p>\n",
       "</div>"
      ],
      "text/plain": [
       "       rep       alp  num_cell  cell_size  sparse_freq       error\n",
       "0        0     0.001        50          1            1  140.450802\n",
       "1        0     0.001        50          1            2  195.519780\n",
       "2        0     0.001        50          1            4  221.493346\n",
       "3        0     0.001        50          1            6  221.502516\n",
       "4        0     0.001        50          1            8  219.336160\n",
       "...    ...       ...       ...        ...          ...         ...\n",
       "13920   19  1000.000        50          8            1   74.738470\n",
       "13921   19  1000.000        50          8            2   62.431741\n",
       "13922   19  1000.000        50          8            4   52.519964\n",
       "13923   19  1000.000        50          8            6   54.726482\n",
       "13924   19  1000.000        50          8            8   55.534124\n",
       "\n",
       "[3500 rows x 6 columns]"
      ]
     },
     "execution_count": 34,
     "metadata": {},
     "output_type": "execute_result"
    }
   ],
   "source": [
    "V1_param_df.loc[V1_param_df['num_cell'] == 50]"
   ]
  },
  {
   "cell_type": "code",
   "execution_count": 35,
   "id": "9a1bb720",
   "metadata": {},
   "outputs": [
    {
     "data": {
      "text/html": [
       "<div>\n",
       "<style scoped>\n",
       "    .dataframe tbody tr th:only-of-type {\n",
       "        vertical-align: middle;\n",
       "    }\n",
       "\n",
       "    .dataframe tbody tr th {\n",
       "        vertical-align: top;\n",
       "    }\n",
       "\n",
       "    .dataframe thead th {\n",
       "        text-align: right;\n",
       "    }\n",
       "</style>\n",
       "<table border=\"1\" class=\"dataframe\">\n",
       "  <thead>\n",
       "    <tr style=\"text-align: right;\">\n",
       "      <th></th>\n",
       "      <th>rep</th>\n",
       "      <th>alp</th>\n",
       "      <th>num_cell</th>\n",
       "      <th>cell_size</th>\n",
       "      <th>sparse_freq</th>\n",
       "      <th>error</th>\n",
       "    </tr>\n",
       "  </thead>\n",
       "  <tbody>\n",
       "    <tr>\n",
       "      <th>222</th>\n",
       "      <td>0</td>\n",
       "      <td>0.1</td>\n",
       "      <td>50</td>\n",
       "      <td>8</td>\n",
       "      <td>4</td>\n",
       "      <td>218.324079</td>\n",
       "    </tr>\n",
       "    <tr>\n",
       "      <th>922</th>\n",
       "      <td>1</td>\n",
       "      <td>0.1</td>\n",
       "      <td>50</td>\n",
       "      <td>8</td>\n",
       "      <td>4</td>\n",
       "      <td>226.209991</td>\n",
       "    </tr>\n",
       "    <tr>\n",
       "      <th>1622</th>\n",
       "      <td>2</td>\n",
       "      <td>0.1</td>\n",
       "      <td>50</td>\n",
       "      <td>8</td>\n",
       "      <td>4</td>\n",
       "      <td>225.006741</td>\n",
       "    </tr>\n",
       "    <tr>\n",
       "      <th>2322</th>\n",
       "      <td>3</td>\n",
       "      <td>0.1</td>\n",
       "      <td>50</td>\n",
       "      <td>8</td>\n",
       "      <td>4</td>\n",
       "      <td>210.164819</td>\n",
       "    </tr>\n",
       "    <tr>\n",
       "      <th>3022</th>\n",
       "      <td>4</td>\n",
       "      <td>0.1</td>\n",
       "      <td>50</td>\n",
       "      <td>8</td>\n",
       "      <td>4</td>\n",
       "      <td>213.554172</td>\n",
       "    </tr>\n",
       "    <tr>\n",
       "      <th>3722</th>\n",
       "      <td>5</td>\n",
       "      <td>0.1</td>\n",
       "      <td>50</td>\n",
       "      <td>8</td>\n",
       "      <td>4</td>\n",
       "      <td>208.661339</td>\n",
       "    </tr>\n",
       "    <tr>\n",
       "      <th>4422</th>\n",
       "      <td>6</td>\n",
       "      <td>0.1</td>\n",
       "      <td>50</td>\n",
       "      <td>8</td>\n",
       "      <td>4</td>\n",
       "      <td>221.450860</td>\n",
       "    </tr>\n",
       "    <tr>\n",
       "      <th>5122</th>\n",
       "      <td>7</td>\n",
       "      <td>0.1</td>\n",
       "      <td>50</td>\n",
       "      <td>8</td>\n",
       "      <td>4</td>\n",
       "      <td>217.438060</td>\n",
       "    </tr>\n",
       "    <tr>\n",
       "      <th>5822</th>\n",
       "      <td>8</td>\n",
       "      <td>0.1</td>\n",
       "      <td>50</td>\n",
       "      <td>8</td>\n",
       "      <td>4</td>\n",
       "      <td>220.358884</td>\n",
       "    </tr>\n",
       "    <tr>\n",
       "      <th>6522</th>\n",
       "      <td>9</td>\n",
       "      <td>0.1</td>\n",
       "      <td>50</td>\n",
       "      <td>8</td>\n",
       "      <td>4</td>\n",
       "      <td>218.332870</td>\n",
       "    </tr>\n",
       "    <tr>\n",
       "      <th>7222</th>\n",
       "      <td>10</td>\n",
       "      <td>0.1</td>\n",
       "      <td>50</td>\n",
       "      <td>8</td>\n",
       "      <td>4</td>\n",
       "      <td>218.942506</td>\n",
       "    </tr>\n",
       "    <tr>\n",
       "      <th>7922</th>\n",
       "      <td>11</td>\n",
       "      <td>0.1</td>\n",
       "      <td>50</td>\n",
       "      <td>8</td>\n",
       "      <td>4</td>\n",
       "      <td>226.719303</td>\n",
       "    </tr>\n",
       "    <tr>\n",
       "      <th>8622</th>\n",
       "      <td>12</td>\n",
       "      <td>0.1</td>\n",
       "      <td>50</td>\n",
       "      <td>8</td>\n",
       "      <td>4</td>\n",
       "      <td>205.224752</td>\n",
       "    </tr>\n",
       "    <tr>\n",
       "      <th>9322</th>\n",
       "      <td>13</td>\n",
       "      <td>0.1</td>\n",
       "      <td>50</td>\n",
       "      <td>8</td>\n",
       "      <td>4</td>\n",
       "      <td>209.301343</td>\n",
       "    </tr>\n",
       "    <tr>\n",
       "      <th>10022</th>\n",
       "      <td>14</td>\n",
       "      <td>0.1</td>\n",
       "      <td>50</td>\n",
       "      <td>8</td>\n",
       "      <td>4</td>\n",
       "      <td>214.063109</td>\n",
       "    </tr>\n",
       "    <tr>\n",
       "      <th>10722</th>\n",
       "      <td>15</td>\n",
       "      <td>0.1</td>\n",
       "      <td>50</td>\n",
       "      <td>8</td>\n",
       "      <td>4</td>\n",
       "      <td>217.230124</td>\n",
       "    </tr>\n",
       "    <tr>\n",
       "      <th>11422</th>\n",
       "      <td>16</td>\n",
       "      <td>0.1</td>\n",
       "      <td>50</td>\n",
       "      <td>8</td>\n",
       "      <td>4</td>\n",
       "      <td>219.475147</td>\n",
       "    </tr>\n",
       "    <tr>\n",
       "      <th>12122</th>\n",
       "      <td>17</td>\n",
       "      <td>0.1</td>\n",
       "      <td>50</td>\n",
       "      <td>8</td>\n",
       "      <td>4</td>\n",
       "      <td>209.200226</td>\n",
       "    </tr>\n",
       "    <tr>\n",
       "      <th>12822</th>\n",
       "      <td>18</td>\n",
       "      <td>0.1</td>\n",
       "      <td>50</td>\n",
       "      <td>8</td>\n",
       "      <td>4</td>\n",
       "      <td>224.175809</td>\n",
       "    </tr>\n",
       "    <tr>\n",
       "      <th>13522</th>\n",
       "      <td>19</td>\n",
       "      <td>0.1</td>\n",
       "      <td>50</td>\n",
       "      <td>8</td>\n",
       "      <td>4</td>\n",
       "      <td>215.510191</td>\n",
       "    </tr>\n",
       "  </tbody>\n",
       "</table>\n",
       "</div>"
      ],
      "text/plain": [
       "       rep  alp  num_cell  cell_size  sparse_freq       error\n",
       "222      0  0.1        50          8            4  218.324079\n",
       "922      1  0.1        50          8            4  226.209991\n",
       "1622     2  0.1        50          8            4  225.006741\n",
       "2322     3  0.1        50          8            4  210.164819\n",
       "3022     4  0.1        50          8            4  213.554172\n",
       "3722     5  0.1        50          8            4  208.661339\n",
       "4422     6  0.1        50          8            4  221.450860\n",
       "5122     7  0.1        50          8            4  217.438060\n",
       "5822     8  0.1        50          8            4  220.358884\n",
       "6522     9  0.1        50          8            4  218.332870\n",
       "7222    10  0.1        50          8            4  218.942506\n",
       "7922    11  0.1        50          8            4  226.719303\n",
       "8622    12  0.1        50          8            4  205.224752\n",
       "9322    13  0.1        50          8            4  209.301343\n",
       "10022   14  0.1        50          8            4  214.063109\n",
       "10722   15  0.1        50          8            4  217.230124\n",
       "11422   16  0.1        50          8            4  219.475147\n",
       "12122   17  0.1        50          8            4  209.200226\n",
       "12822   18  0.1        50          8            4  224.175809\n",
       "13522   19  0.1        50          8            4  215.510191"
      ]
     },
     "execution_count": 35,
     "metadata": {},
     "output_type": "execute_result"
    }
   ],
   "source": [
    "V1_param_df.loc[(V1_param_df['num_cell'] == 50) & (V1_param_df['alp'] == 0.1) & (V1_param_df['cell_size'] == 8) & (V1_param_df['sparse_freq'] == 4)]"
   ]
  },
  {
   "cell_type": "code",
   "execution_count": 36,
   "id": "b83e4517",
   "metadata": {},
   "outputs": [
    {
     "data": {
      "text/html": [
       "<div>\n",
       "<style scoped>\n",
       "    .dataframe tbody tr th:only-of-type {\n",
       "        vertical-align: middle;\n",
       "    }\n",
       "\n",
       "    .dataframe tbody tr th {\n",
       "        vertical-align: top;\n",
       "    }\n",
       "\n",
       "    .dataframe thead th {\n",
       "        text-align: right;\n",
       "    }\n",
       "</style>\n",
       "<table border=\"1\" class=\"dataframe\">\n",
       "  <thead>\n",
       "    <tr style=\"text-align: right;\">\n",
       "      <th></th>\n",
       "      <th>num_cell</th>\n",
       "      <th>cell_size</th>\n",
       "      <th>sparse_freq</th>\n",
       "      <th>alp</th>\n",
       "      <th>error</th>\n",
       "    </tr>\n",
       "  </thead>\n",
       "  <tbody>\n",
       "    <tr>\n",
       "      <th>156</th>\n",
       "      <td>50</td>\n",
       "      <td>8</td>\n",
       "      <td>4</td>\n",
       "      <td>0.1</td>\n",
       "      <td>216.967216</td>\n",
       "    </tr>\n",
       "  </tbody>\n",
       "</table>\n",
       "</div>"
      ],
      "text/plain": [
       "     num_cell  cell_size  sparse_freq  alp       error\n",
       "156        50          8            4  0.1  216.967216"
      ]
     },
     "execution_count": 36,
     "metadata": {},
     "output_type": "execute_result"
    }
   ],
   "source": [
    "temp = V1_param_df.loc[(V1_param_df['num_cell'] == 50) & (V1_param_df['alp'] == 0.01) & (V1_param_df['cell_size'] == 8) & (V1_param_df['sparse_freq'] == 4)]\n",
    "\n",
    "temp2 = V1_param_df.groupby(\n",
    "    ['num_cell', 'cell_size', 'sparse_freq', 'alp'], as_index=False).mean().drop('rep', axis=1) \n",
    "temp2.loc[(temp2['num_cell'] == 50) & (temp2['alp'] == 0.1) & (temp2['cell_size'] == 8) & (temp2['sparse_freq'] == 4)]"
   ]
  },
  {
   "cell_type": "code",
   "execution_count": 39,
   "id": "6b959cd4",
   "metadata": {
    "scrolled": false
   },
   "outputs": [
    {
     "data": {
      "text/html": [
       "<div>\n",
       "<style scoped>\n",
       "    .dataframe tbody tr th:only-of-type {\n",
       "        vertical-align: middle;\n",
       "    }\n",
       "\n",
       "    .dataframe tbody tr th {\n",
       "        vertical-align: top;\n",
       "    }\n",
       "\n",
       "    .dataframe thead th {\n",
       "        text-align: right;\n",
       "    }\n",
       "</style>\n",
       "<table border=\"1\" class=\"dataframe\">\n",
       "  <thead>\n",
       "    <tr style=\"text-align: right;\">\n",
       "      <th></th>\n",
       "      <th>num_cell</th>\n",
       "      <th>sparse_freq</th>\n",
       "      <th>cell_size</th>\n",
       "      <th>alp</th>\n",
       "      <th>error</th>\n",
       "    </tr>\n",
       "  </thead>\n",
       "  <tbody>\n",
       "    <tr>\n",
       "      <th>0</th>\n",
       "      <td>50</td>\n",
       "      <td>1</td>\n",
       "      <td>1</td>\n",
       "      <td>0.001</td>\n",
       "      <td>137.887991</td>\n",
       "    </tr>\n",
       "    <tr>\n",
       "      <th>1</th>\n",
       "      <td>50</td>\n",
       "      <td>1</td>\n",
       "      <td>1</td>\n",
       "      <td>0.010</td>\n",
       "      <td>138.662410</td>\n",
       "    </tr>\n",
       "    <tr>\n",
       "      <th>2</th>\n",
       "      <td>50</td>\n",
       "      <td>1</td>\n",
       "      <td>1</td>\n",
       "      <td>0.100</td>\n",
       "      <td>114.038187</td>\n",
       "    </tr>\n",
       "    <tr>\n",
       "      <th>3</th>\n",
       "      <td>50</td>\n",
       "      <td>1</td>\n",
       "      <td>1</td>\n",
       "      <td>1.000</td>\n",
       "      <td>77.762571</td>\n",
       "    </tr>\n",
       "    <tr>\n",
       "      <th>4</th>\n",
       "      <td>50</td>\n",
       "      <td>1</td>\n",
       "      <td>1</td>\n",
       "      <td>10.000</td>\n",
       "      <td>74.941483</td>\n",
       "    </tr>\n",
       "    <tr>\n",
       "      <th>...</th>\n",
       "      <td>...</td>\n",
       "      <td>...</td>\n",
       "      <td>...</td>\n",
       "      <td>...</td>\n",
       "      <td>...</td>\n",
       "    </tr>\n",
       "    <tr>\n",
       "      <th>170</th>\n",
       "      <td>50</td>\n",
       "      <td>8</td>\n",
       "      <td>8</td>\n",
       "      <td>0.100</td>\n",
       "      <td>225.990907</td>\n",
       "    </tr>\n",
       "    <tr>\n",
       "      <th>171</th>\n",
       "      <td>50</td>\n",
       "      <td>8</td>\n",
       "      <td>8</td>\n",
       "      <td>1.000</td>\n",
       "      <td>45.392222</td>\n",
       "    </tr>\n",
       "    <tr>\n",
       "      <th>172</th>\n",
       "      <td>50</td>\n",
       "      <td>8</td>\n",
       "      <td>8</td>\n",
       "      <td>10.000</td>\n",
       "      <td>47.625088</td>\n",
       "    </tr>\n",
       "    <tr>\n",
       "      <th>173</th>\n",
       "      <td>50</td>\n",
       "      <td>8</td>\n",
       "      <td>8</td>\n",
       "      <td>100.000</td>\n",
       "      <td>50.883049</td>\n",
       "    </tr>\n",
       "    <tr>\n",
       "      <th>174</th>\n",
       "      <td>50</td>\n",
       "      <td>8</td>\n",
       "      <td>8</td>\n",
       "      <td>1000.000</td>\n",
       "      <td>56.125841</td>\n",
       "    </tr>\n",
       "  </tbody>\n",
       "</table>\n",
       "<p>175 rows × 5 columns</p>\n",
       "</div>"
      ],
      "text/plain": [
       "     num_cell  sparse_freq  cell_size       alp       error\n",
       "0          50            1          1     0.001  137.887991\n",
       "1          50            1          1     0.010  138.662410\n",
       "2          50            1          1     0.100  114.038187\n",
       "3          50            1          1     1.000   77.762571\n",
       "4          50            1          1    10.000   74.941483\n",
       "..        ...          ...        ...       ...         ...\n",
       "170        50            8          8     0.100  225.990907\n",
       "171        50            8          8     1.000   45.392222\n",
       "172        50            8          8    10.000   47.625088\n",
       "173        50            8          8   100.000   50.883049\n",
       "174        50            8          8  1000.000   56.125841\n",
       "\n",
       "[175 rows x 5 columns]"
      ]
     },
     "execution_count": 39,
     "metadata": {},
     "output_type": "execute_result"
    }
   ],
   "source": [
    "temp3.groupby(\n",
    "    ['num_cell', 'sparse_freq', 'cell_size', 'alp'], as_index=False).mean().drop('rep', axis=1)"
   ]
  },
  {
   "cell_type": "code",
   "execution_count": 72,
   "id": "4dd4cb21",
   "metadata": {},
   "outputs": [],
   "source": [
    "temp3 = V1_param_df.loc[V1_param_df['num_cell'] == 500]\n",
    "\n",
    "# temp3.loc[(temp3['error'] == temp3['error'].min())]\n",
    "temp50 = temp3.groupby(\n",
    "    ['num_cell', 'cell_size', 'sparse_freq', 'alp'], as_index=False).mean().drop('rep', axis=1)\n",
    "num_cell, cell_size, sparse_freq, alpha, error = temp50.loc[(temp50['error'] == temp50['error'].min())].values.squeeze()\n",
    "num_cell = int(num_cell)\n",
    "cell_size = int(cell_size)\n",
    "sparse_freq = int(sparse_freq)"
   ]
  },
  {
   "cell_type": "code",
   "execution_count": 73,
   "id": "e48b1ed9",
   "metadata": {
    "scrolled": true
   },
   "outputs": [
    {
     "name": "stdout",
     "output_type": "stream",
     "text": [
      "minimum parameter\n"
     ]
    },
    {
     "data": {
      "text/html": [
       "<div>\n",
       "<style scoped>\n",
       "    .dataframe tbody tr th:only-of-type {\n",
       "        vertical-align: middle;\n",
       "    }\n",
       "\n",
       "    .dataframe tbody tr th {\n",
       "        vertical-align: top;\n",
       "    }\n",
       "\n",
       "    .dataframe thead th {\n",
       "        text-align: right;\n",
       "    }\n",
       "</style>\n",
       "<table border=\"1\" class=\"dataframe\">\n",
       "  <thead>\n",
       "    <tr style=\"text-align: right;\">\n",
       "      <th></th>\n",
       "      <th>num_cell</th>\n",
       "      <th>cell_size</th>\n",
       "      <th>sparse_freq</th>\n",
       "      <th>alp</th>\n",
       "      <th>error</th>\n",
       "    </tr>\n",
       "  </thead>\n",
       "  <tbody>\n",
       "    <tr>\n",
       "      <th>148</th>\n",
       "      <td>500</td>\n",
       "      <td>8</td>\n",
       "      <td>2</td>\n",
       "      <td>0.01</td>\n",
       "      <td>21.790609</td>\n",
       "    </tr>\n",
       "  </tbody>\n",
       "</table>\n",
       "</div>"
      ],
      "text/plain": [
       "     num_cell  cell_size  sparse_freq   alp      error\n",
       "148       500          8            2  0.01  21.790609"
      ]
     },
     "execution_count": 73,
     "metadata": {},
     "output_type": "execute_result"
    }
   ],
   "source": [
    "print('minimum parameter')\n",
    "temp50.loc[(temp50['error'] == temp50['error'].min())]"
   ]
  },
  {
   "cell_type": "code",
   "execution_count": 74,
   "id": "f31ba947",
   "metadata": {},
   "outputs": [
    {
     "data": {
      "text/html": [
       "<div>\n",
       "<style scoped>\n",
       "    .dataframe tbody tr th:only-of-type {\n",
       "        vertical-align: middle;\n",
       "    }\n",
       "\n",
       "    .dataframe tbody tr th {\n",
       "        vertical-align: top;\n",
       "    }\n",
       "\n",
       "    .dataframe thead th {\n",
       "        text-align: right;\n",
       "    }\n",
       "</style>\n",
       "<table border=\"1\" class=\"dataframe\">\n",
       "  <thead>\n",
       "    <tr style=\"text-align: right;\">\n",
       "      <th></th>\n",
       "      <th>rep</th>\n",
       "      <th>alp</th>\n",
       "      <th>num_cell</th>\n",
       "      <th>cell_size</th>\n",
       "      <th>sparse_freq</th>\n",
       "      <th>error</th>\n",
       "    </tr>\n",
       "  </thead>\n",
       "  <tbody>\n",
       "    <tr>\n",
       "      <th>196</th>\n",
       "      <td>0</td>\n",
       "      <td>0.01</td>\n",
       "      <td>500</td>\n",
       "      <td>8</td>\n",
       "      <td>2</td>\n",
       "      <td>21.920640</td>\n",
       "    </tr>\n",
       "    <tr>\n",
       "      <th>896</th>\n",
       "      <td>1</td>\n",
       "      <td>0.01</td>\n",
       "      <td>500</td>\n",
       "      <td>8</td>\n",
       "      <td>2</td>\n",
       "      <td>21.397793</td>\n",
       "    </tr>\n",
       "    <tr>\n",
       "      <th>1596</th>\n",
       "      <td>2</td>\n",
       "      <td>0.01</td>\n",
       "      <td>500</td>\n",
       "      <td>8</td>\n",
       "      <td>2</td>\n",
       "      <td>21.945539</td>\n",
       "    </tr>\n",
       "    <tr>\n",
       "      <th>2296</th>\n",
       "      <td>3</td>\n",
       "      <td>0.01</td>\n",
       "      <td>500</td>\n",
       "      <td>8</td>\n",
       "      <td>2</td>\n",
       "      <td>21.715739</td>\n",
       "    </tr>\n",
       "    <tr>\n",
       "      <th>2996</th>\n",
       "      <td>4</td>\n",
       "      <td>0.01</td>\n",
       "      <td>500</td>\n",
       "      <td>8</td>\n",
       "      <td>2</td>\n",
       "      <td>21.798445</td>\n",
       "    </tr>\n",
       "    <tr>\n",
       "      <th>3696</th>\n",
       "      <td>5</td>\n",
       "      <td>0.01</td>\n",
       "      <td>500</td>\n",
       "      <td>8</td>\n",
       "      <td>2</td>\n",
       "      <td>22.094494</td>\n",
       "    </tr>\n",
       "    <tr>\n",
       "      <th>4396</th>\n",
       "      <td>6</td>\n",
       "      <td>0.01</td>\n",
       "      <td>500</td>\n",
       "      <td>8</td>\n",
       "      <td>2</td>\n",
       "      <td>21.383301</td>\n",
       "    </tr>\n",
       "    <tr>\n",
       "      <th>5096</th>\n",
       "      <td>7</td>\n",
       "      <td>0.01</td>\n",
       "      <td>500</td>\n",
       "      <td>8</td>\n",
       "      <td>2</td>\n",
       "      <td>21.466175</td>\n",
       "    </tr>\n",
       "    <tr>\n",
       "      <th>5796</th>\n",
       "      <td>8</td>\n",
       "      <td>0.01</td>\n",
       "      <td>500</td>\n",
       "      <td>8</td>\n",
       "      <td>2</td>\n",
       "      <td>22.039434</td>\n",
       "    </tr>\n",
       "    <tr>\n",
       "      <th>6496</th>\n",
       "      <td>9</td>\n",
       "      <td>0.01</td>\n",
       "      <td>500</td>\n",
       "      <td>8</td>\n",
       "      <td>2</td>\n",
       "      <td>21.891424</td>\n",
       "    </tr>\n",
       "    <tr>\n",
       "      <th>7196</th>\n",
       "      <td>10</td>\n",
       "      <td>0.01</td>\n",
       "      <td>500</td>\n",
       "      <td>8</td>\n",
       "      <td>2</td>\n",
       "      <td>21.669051</td>\n",
       "    </tr>\n",
       "    <tr>\n",
       "      <th>7896</th>\n",
       "      <td>11</td>\n",
       "      <td>0.01</td>\n",
       "      <td>500</td>\n",
       "      <td>8</td>\n",
       "      <td>2</td>\n",
       "      <td>21.679202</td>\n",
       "    </tr>\n",
       "    <tr>\n",
       "      <th>8596</th>\n",
       "      <td>12</td>\n",
       "      <td>0.01</td>\n",
       "      <td>500</td>\n",
       "      <td>8</td>\n",
       "      <td>2</td>\n",
       "      <td>21.832952</td>\n",
       "    </tr>\n",
       "    <tr>\n",
       "      <th>9296</th>\n",
       "      <td>13</td>\n",
       "      <td>0.01</td>\n",
       "      <td>500</td>\n",
       "      <td>8</td>\n",
       "      <td>2</td>\n",
       "      <td>21.835929</td>\n",
       "    </tr>\n",
       "    <tr>\n",
       "      <th>9996</th>\n",
       "      <td>14</td>\n",
       "      <td>0.01</td>\n",
       "      <td>500</td>\n",
       "      <td>8</td>\n",
       "      <td>2</td>\n",
       "      <td>22.078446</td>\n",
       "    </tr>\n",
       "    <tr>\n",
       "      <th>10696</th>\n",
       "      <td>15</td>\n",
       "      <td>0.01</td>\n",
       "      <td>500</td>\n",
       "      <td>8</td>\n",
       "      <td>2</td>\n",
       "      <td>21.749304</td>\n",
       "    </tr>\n",
       "    <tr>\n",
       "      <th>11396</th>\n",
       "      <td>16</td>\n",
       "      <td>0.01</td>\n",
       "      <td>500</td>\n",
       "      <td>8</td>\n",
       "      <td>2</td>\n",
       "      <td>21.998081</td>\n",
       "    </tr>\n",
       "    <tr>\n",
       "      <th>12096</th>\n",
       "      <td>17</td>\n",
       "      <td>0.01</td>\n",
       "      <td>500</td>\n",
       "      <td>8</td>\n",
       "      <td>2</td>\n",
       "      <td>21.725459</td>\n",
       "    </tr>\n",
       "    <tr>\n",
       "      <th>12796</th>\n",
       "      <td>18</td>\n",
       "      <td>0.01</td>\n",
       "      <td>500</td>\n",
       "      <td>8</td>\n",
       "      <td>2</td>\n",
       "      <td>21.843102</td>\n",
       "    </tr>\n",
       "    <tr>\n",
       "      <th>13496</th>\n",
       "      <td>19</td>\n",
       "      <td>0.01</td>\n",
       "      <td>500</td>\n",
       "      <td>8</td>\n",
       "      <td>2</td>\n",
       "      <td>21.747669</td>\n",
       "    </tr>\n",
       "  </tbody>\n",
       "</table>\n",
       "</div>"
      ],
      "text/plain": [
       "       rep   alp  num_cell  cell_size  sparse_freq      error\n",
       "196      0  0.01       500          8            2  21.920640\n",
       "896      1  0.01       500          8            2  21.397793\n",
       "1596     2  0.01       500          8            2  21.945539\n",
       "2296     3  0.01       500          8            2  21.715739\n",
       "2996     4  0.01       500          8            2  21.798445\n",
       "3696     5  0.01       500          8            2  22.094494\n",
       "4396     6  0.01       500          8            2  21.383301\n",
       "5096     7  0.01       500          8            2  21.466175\n",
       "5796     8  0.01       500          8            2  22.039434\n",
       "6496     9  0.01       500          8            2  21.891424\n",
       "7196    10  0.01       500          8            2  21.669051\n",
       "7896    11  0.01       500          8            2  21.679202\n",
       "8596    12  0.01       500          8            2  21.832952\n",
       "9296    13  0.01       500          8            2  21.835929\n",
       "9996    14  0.01       500          8            2  22.078446\n",
       "10696   15  0.01       500          8            2  21.749304\n",
       "11396   16  0.01       500          8            2  21.998081\n",
       "12096   17  0.01       500          8            2  21.725459\n",
       "12796   18  0.01       500          8            2  21.843102\n",
       "13496   19  0.01       500          8            2  21.747669"
      ]
     },
     "execution_count": 74,
     "metadata": {},
     "output_type": "execute_result"
    }
   ],
   "source": [
    "V1_param_df.loc[(V1_param_df['num_cell'] == num_cell) & (V1_param_df['sparse_freq'] == sparse_freq) & (V1_param_df['cell_size'] == cell_size) & (V1_param_df['alp'] == alpha)]"
   ]
  },
  {
   "cell_type": "code",
   "execution_count": 75,
   "id": "35e1335a",
   "metadata": {
    "scrolled": false
   },
   "outputs": [
    {
     "name": "stdout",
     "output_type": "stream",
     "text": [
      "Process Reconstruction on (30, 30, 3) image\n"
     ]
    },
    {
     "data": {
      "image/png": "[encoded data removed]",
      "text/plain": [
       "<Figure size 432x288 with 1 Axes>"
      ]
     },
     "metadata": {
      "needs_background": "light"
     },
     "output_type": "display_data"
    },
    {
     "name": "stdout",
     "output_type": "stream",
     "text": [
      "21.821879947530746\n",
      "Process Reconstruction on (30, 30, 3) image\n"
     ]
    },
    {
     "data": {
      "image/png": "[encoded data removed]",
      "text/plain": [
       "<Figure size 432x288 with 1 Axes>"
      ]
     },
     "metadata": {
      "needs_background": "light"
     },
     "output_type": "display_data"
    },
    {
     "name": "stdout",
     "output_type": "stream",
     "text": [
      "22.10218692045352\n",
      "Process Reconstruction on (30, 30, 3) image\n"
     ]
    },
    {
     "data": {
      "image/png": "[encoded data removed]",
      "text/plain": [
       "<Figure size 432x288 with 1 Axes>"
      ]
     },
     "metadata": {
      "needs_background": "light"
     },
     "output_type": "display_data"
    },
    {
     "name": "stdout",
     "output_type": "stream",
     "text": [
      "21.812432744245246\n",
      "Process Reconstruction on (30, 30, 3) image\n"
     ]
    },
    {
     "data": {
      "image/png": "[encoded data removed]",
      "text/plain": [
       "<Figure size 432x288 with 1 Axes>"
      ]
     },
     "metadata": {
      "needs_background": "light"
     },
     "output_type": "display_data"
    },
    {
     "name": "stdout",
     "output_type": "stream",
     "text": [
      "22.197146963817968\n",
      "Process Reconstruction on (30, 30, 3) image\n"
     ]
    },
    {
     "data": {
      "image/png": "[encoded data removed]",
      "text/plain": [
       "<Figure size 432x288 with 1 Axes>"
      ]
     },
     "metadata": {
      "needs_background": "light"
     },
     "output_type": "display_data"
    },
    {
     "name": "stdout",
     "output_type": "stream",
     "text": [
      "21.67794578213843\n",
      "Process Reconstruction on (30, 30, 3) image\n"
     ]
    },
    {
     "data": {
      "image/png": "[encoded data removed]",
      "text/plain": [
       "<Figure size 432x288 with 1 Axes>"
      ]
     },
     "metadata": {
      "needs_background": "light"
     },
     "output_type": "display_data"
    },
    {
     "name": "stdout",
     "output_type": "stream",
     "text": [
      "21.880483439713018\n",
      "Process Reconstruction on (30, 30, 3) image\n"
     ]
    },
    {
     "data": {
      "image/png": "[encoded data removed]",
      "text/plain": [
       "<Figure size 432x288 with 1 Axes>"
      ]
     },
     "metadata": {
      "needs_background": "light"
     },
     "output_type": "display_data"
    },
    {
     "name": "stdout",
     "output_type": "stream",
     "text": [
      "22.226535692475533\n",
      "Process Reconstruction on (30, 30, 3) image\n"
     ]
    },
    {
     "data": {
      "image/png": "[encoded data removed]",
      "text/plain": [
       "<Figure size 432x288 with 1 Axes>"
      ]
     },
     "metadata": {
      "needs_background": "light"
     },
     "output_type": "display_data"
    },
    {
     "name": "stdout",
     "output_type": "stream",
     "text": [
      "21.917065902574134\n",
      "Process Reconstruction on (30, 30, 3) image\n"
     ]
    },
    {
     "data": {
      "image/png": "[encoded data removed]",
      "text/plain": [
       "<Figure size 432x288 with 1 Axes>"
      ]
     },
     "metadata": {
      "needs_background": "light"
     },
     "output_type": "display_data"
    },
    {
     "name": "stdout",
     "output_type": "stream",
     "text": [
      "21.859526273203837\n",
      "Process Reconstruction on (30, 30, 3) image\n"
     ]
    },
    {
     "data": {
      "image/png": "[encoded data removed]",
      "text/plain": [
       "<Figure size 432x288 with 1 Axes>"
      ]
     },
     "metadata": {
      "needs_background": "light"
     },
     "output_type": "display_data"
    },
    {
     "name": "stdout",
     "output_type": "stream",
     "text": [
      "21.742840456368874\n",
      "Process Reconstruction on (30, 30, 3) image\n"
     ]
    },
    {
     "data": {
      "image/png": "[encoded data removed]",
      "text/plain": [
       "<Figure size 432x288 with 1 Axes>"
      ]
     },
     "metadata": {
      "needs_background": "light"
     },
     "output_type": "display_data"
    },
    {
     "name": "stdout",
     "output_type": "stream",
     "text": [
      "21.866336379619394\n",
      "Process Reconstruction on (30, 30, 3) image\n"
     ]
    },
    {
     "data": {
      "image/png": "[encoded data removed]",
      "text/plain": [
       "<Figure size 432x288 with 1 Axes>"
      ]
     },
     "metadata": {
      "needs_background": "light"
     },
     "output_type": "display_data"
    },
    {
     "name": "stdout",
     "output_type": "stream",
     "text": [
      "22.322360488482794\n",
      "Process Reconstruction on (30, 30, 3) image\n"
     ]
    },
    {
     "data": {
      "image/png": "[encoded data removed]",
      "text/plain": [
       "<Figure size 432x288 with 1 Axes>"
      ]
     },
     "metadata": {
      "needs_background": "light"
     },
     "output_type": "display_data"
    },
    {
     "name": "stdout",
     "output_type": "stream",
     "text": [
      "22.067623342806993\n",
      "Process Reconstruction on (30, 30, 3) image\n"
     ]
    },
    {
     "data": {
      "image/png": "[encoded data removed]",
      "text/plain": [
       "<Figure size 432x288 with 1 Axes>"
      ]
     },
     "metadata": {
      "needs_background": "light"
     },
     "output_type": "display_data"
    },
    {
     "name": "stdout",
     "output_type": "stream",
     "text": [
      "26.534212715745767\n",
      "Process Reconstruction on (30, 30, 3) image\n"
     ]
    },
    {
     "data": {
      "image/png": "[encoded data removed]",
      "text/plain": [
       "<Figure size 432x288 with 1 Axes>"
      ]
     },
     "metadata": {
      "needs_background": "light"
     },
     "output_type": "display_data"
    },
    {
     "name": "stdout",
     "output_type": "stream",
     "text": [
      "22.23063451885958\n",
      "Process Reconstruction on (30, 30, 3) image\n"
     ]
    },
    {
     "data": {
      "image/png": "[encoded data removed]",
      "text/plain": [
       "<Figure size 432x288 with 1 Axes>"
      ]
     },
     "metadata": {
      "needs_background": "light"
     },
     "output_type": "display_data"
    },
    {
     "name": "stdout",
     "output_type": "stream",
     "text": [
      "21.93748694206639\n",
      "Process Reconstruction on (30, 30, 3) image\n"
     ]
    },
    {
     "data": {
      "image/png": "[encoded data removed]",
      "text/plain": [
       "<Figure size 432x288 with 1 Axes>"
      ]
     },
     "metadata": {
      "needs_background": "light"
     },
     "output_type": "display_data"
    },
    {
     "name": "stdout",
     "output_type": "stream",
     "text": [
      "22.194118339976672\n",
      "Process Reconstruction on (30, 30, 3) image\n"
     ]
    },
    {
     "data": {
      "image/png": "[encoded data removed]",
      "text/plain": [
       "<Figure size 432x288 with 1 Axes>"
      ]
     },
     "metadata": {
      "needs_background": "light"
     },
     "output_type": "display_data"
    },
    {
     "name": "stdout",
     "output_type": "stream",
     "text": [
      "21.953233120532484\n",
      "Process Reconstruction on (30, 30, 3) image\n"
     ]
    },
    {
     "data": {
      "image/png": "[encoded data removed]",
      "text/plain": [
       "<Figure size 432x288 with 1 Axes>"
      ]
     },
     "metadata": {
      "needs_background": "light"
     },
     "output_type": "display_data"
    },
    {
     "name": "stdout",
     "output_type": "stream",
     "text": [
      "21.621157333603684\n",
      "Process Reconstruction on (30, 30, 3) image\n"
     ]
    },
    {
     "data": {
      "image/png": "[encoded data removed]",
      "text/plain": [
       "<Figure size 432x288 with 1 Axes>"
      ]
     },
     "metadata": {
      "needs_background": "light"
     },
     "output_type": "display_data"
    },
    {
     "name": "stdout",
     "output_type": "stream",
     "text": [
      "21.95644678802915\n",
      "22.19608270461221\n"
     ]
    }
   ],
   "source": [
    "root = search_root()\n",
    "img = Image.open(os.path.join(root, \"image/tree_part1.jpg\"))\n",
    "img_arr = np.asarray(img)\n",
    "rep = 20\n",
    "avg = 0\n",
    "result=[]\n",
    "for i in range(0, 20):\n",
    "    reconst = filter_reconstruct(img_arr, num_cell=num_cell, cell_size = cell_size, sparse_freq=sparse_freq, alpha = alpha, observation = 'V1', mode = 'color')\n",
    "#     reconst = filter_reconstruct(img_arr, num_cell=50, cell_size = 1, sparse_freq=1, alpha = 0.001, observation = 'V1', mode = 'color')\n",
    "    error = error_calculation(img_arr, reconst)\n",
    "    plt.imshow(reconst)\n",
    "    plt.show()\n",
    "    print(error)\n",
    "    avg+=error\n",
    "    result.append(error)\n",
    "print(avg/20)\n"
   ]
  },
  {
   "cell_type": "code",
   "execution_count": 139,
   "id": "3c90dffe",
   "metadata": {},
   "outputs": [
    {
     "data": {
      "text/html": [
       "<div>\n",
       "<style scoped>\n",
       "    .dataframe tbody tr th:only-of-type {\n",
       "        vertical-align: middle;\n",
       "    }\n",
       "\n",
       "    .dataframe tbody tr th {\n",
       "        vertical-align: top;\n",
       "    }\n",
       "\n",
       "    .dataframe thead th {\n",
       "        text-align: right;\n",
       "    }\n",
       "</style>\n",
       "<table border=\"1\" class=\"dataframe\">\n",
       "  <thead>\n",
       "    <tr style=\"text-align: right;\">\n",
       "      <th></th>\n",
       "      <th>error</th>\n",
       "    </tr>\n",
       "  </thead>\n",
       "  <tbody>\n",
       "    <tr>\n",
       "      <th>0</th>\n",
       "      <td>33.538353</td>\n",
       "    </tr>\n",
       "    <tr>\n",
       "      <th>1</th>\n",
       "      <td>34.284707</td>\n",
       "    </tr>\n",
       "    <tr>\n",
       "      <th>2</th>\n",
       "      <td>33.934578</td>\n",
       "    </tr>\n",
       "    <tr>\n",
       "      <th>3</th>\n",
       "      <td>33.956623</td>\n",
       "    </tr>\n",
       "    <tr>\n",
       "      <th>4</th>\n",
       "      <td>34.184987</td>\n",
       "    </tr>\n",
       "    <tr>\n",
       "      <th>5</th>\n",
       "      <td>33.913730</td>\n",
       "    </tr>\n",
       "    <tr>\n",
       "      <th>6</th>\n",
       "      <td>34.158031</td>\n",
       "    </tr>\n",
       "    <tr>\n",
       "      <th>7</th>\n",
       "      <td>34.334628</td>\n",
       "    </tr>\n",
       "    <tr>\n",
       "      <th>8</th>\n",
       "      <td>34.066699</td>\n",
       "    </tr>\n",
       "    <tr>\n",
       "      <th>9</th>\n",
       "      <td>34.121841</td>\n",
       "    </tr>\n",
       "    <tr>\n",
       "      <th>10</th>\n",
       "      <td>34.129459</td>\n",
       "    </tr>\n",
       "    <tr>\n",
       "      <th>11</th>\n",
       "      <td>34.404473</td>\n",
       "    </tr>\n",
       "    <tr>\n",
       "      <th>12</th>\n",
       "      <td>33.579772</td>\n",
       "    </tr>\n",
       "    <tr>\n",
       "      <th>13</th>\n",
       "      <td>34.000310</td>\n",
       "    </tr>\n",
       "    <tr>\n",
       "      <th>14</th>\n",
       "      <td>34.618251</td>\n",
       "    </tr>\n",
       "    <tr>\n",
       "      <th>15</th>\n",
       "      <td>34.082677</td>\n",
       "    </tr>\n",
       "    <tr>\n",
       "      <th>16</th>\n",
       "      <td>33.725098</td>\n",
       "    </tr>\n",
       "    <tr>\n",
       "      <th>17</th>\n",
       "      <td>33.970804</td>\n",
       "    </tr>\n",
       "    <tr>\n",
       "      <th>18</th>\n",
       "      <td>33.873507</td>\n",
       "    </tr>\n",
       "    <tr>\n",
       "      <th>19</th>\n",
       "      <td>34.733765</td>\n",
       "    </tr>\n",
       "  </tbody>\n",
       "</table>\n",
       "</div>"
      ],
      "text/plain": [
       "        error\n",
       "0   33.538353\n",
       "1   34.284707\n",
       "2   33.934578\n",
       "3   33.956623\n",
       "4   34.184987\n",
       "5   33.913730\n",
       "6   34.158031\n",
       "7   34.334628\n",
       "8   34.066699\n",
       "9   34.121841\n",
       "10  34.129459\n",
       "11  34.404473\n",
       "12  33.579772\n",
       "13  34.000310\n",
       "14  34.618251\n",
       "15  34.082677\n",
       "16  33.725098\n",
       "17  33.970804\n",
       "18  33.873507\n",
       "19  34.733765"
      ]
     },
     "execution_count": 139,
     "metadata": {},
     "output_type": "execute_result"
    }
   ],
   "source": [
    "pd.DataFrame(result, columns=['error'])"
   ]
  },
  {
   "cell_type": "code",
   "execution_count": 119,
   "id": "83b95f93",
   "metadata": {},
   "outputs": [
    {
     "data": {
      "text/plain": [
       "34.11475348208387"
      ]
     },
     "execution_count": 119,
     "metadata": {},
     "output_type": "execute_result"
    }
   ],
   "source": [
    "error"
   ]
  },
  {
   "cell_type": "code",
   "execution_count": 120,
   "id": "d9208930",
   "metadata": {},
   "outputs": [
    {
     "data": {
      "text/html": [
       "<div>\n",
       "<style scoped>\n",
       "    .dataframe tbody tr th:only-of-type {\n",
       "        vertical-align: middle;\n",
       "    }\n",
       "\n",
       "    .dataframe tbody tr th {\n",
       "        vertical-align: top;\n",
       "    }\n",
       "\n",
       "    .dataframe thead th {\n",
       "        text-align: right;\n",
       "    }\n",
       "</style>\n",
       "<table border=\"1\" class=\"dataframe\">\n",
       "  <thead>\n",
       "    <tr style=\"text-align: right;\">\n",
       "      <th></th>\n",
       "      <th></th>\n",
       "      <th></th>\n",
       "      <th></th>\n",
       "      <th>rep</th>\n",
       "      <th>error</th>\n",
       "    </tr>\n",
       "    <tr>\n",
       "      <th>alp</th>\n",
       "      <th>num_cell</th>\n",
       "      <th>cell_size</th>\n",
       "      <th>sparse_freq</th>\n",
       "      <th></th>\n",
       "      <th></th>\n",
       "    </tr>\n",
       "  </thead>\n",
       "  <tbody>\n",
       "    <tr>\n",
       "      <th>1.0</th>\n",
       "      <th>200</th>\n",
       "      <th>6</th>\n",
       "      <th>2</th>\n",
       "      <td>9.5</td>\n",
       "      <td>34.114753</td>\n",
       "    </tr>\n",
       "  </tbody>\n",
       "</table>\n",
       "</div>"
      ],
      "text/plain": [
       "                                    rep      error\n",
       "alp num_cell cell_size sparse_freq                \n",
       "1.0 200      6         2            9.5  34.114753"
      ]
     },
     "execution_count": 120,
     "metadata": {},
     "output_type": "execute_result"
    }
   ],
   "source": [
    "V1_param_df.loc[(V1_param_df['num_cell'] == num_cell) & (V1_param_df['cell_size'] == cell_size) & (V1_param_df['sparse_freq'] == sparse_freq) & (V1_param_df['alp'] == alpha)].groupby(['alp', 'num_cell', 'cell_size', 'sparse_freq']).mean()"
   ]
  },
  {
   "cell_type": "code",
   "execution_count": null,
   "id": "3a3e4b98",
   "metadata": {},
   "outputs": [],
   "source": []
  },
  {
   "cell_type": "code",
   "execution_count": null,
   "id": "b6afc618",
   "metadata": {},
   "outputs": [],
   "source": []
  }
 ],
 "metadata": {
  "kernelspec": {
   "display_name": "Python 3 (ipykernel)",
   "language": "python",
   "name": "python3"
  },
  "language_info": {
   "codemirror_mode": {
    "name": "ipython",
    "version": 3
   },
   "file_extension": ".py",
   "mimetype": "text/x-python",
   "name": "python",
   "nbconvert_exporter": "python",
   "pygments_lexer": "ipython3",
   "version": "3.9.7"
  }
 },
 "nbformat": 4,
 "nbformat_minor": 5
}
