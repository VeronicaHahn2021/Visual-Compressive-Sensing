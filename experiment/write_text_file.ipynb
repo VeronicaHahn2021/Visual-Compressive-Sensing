{
 "cells": [
  {
   "cell_type": "code",
   "execution_count": 8,
   "id": "bc2dae8f",
   "metadata": {},
   "outputs": [],
   "source": [
    "import sys\n",
    "sys.path.append('../')\n",
    "from src.compress_sensing_library import *\n",
    "import pandas as pd"
   ]
  },
  {
   "cell_type": "code",
   "execution_count": 35,
   "id": "8fabd911",
   "metadata": {},
   "outputs": [
    {
     "name": "stdout",
     "output_type": "stream",
     "text": [
      "upper triggered: V1\n"
     ]
    }
   ],
   "source": [
    "hyperparam_track = data_save_path('tree_part1', 'dct', 'V1', 'test')\n",
    "hyperparam_track = hyperparam_track.split('.')[0] + '.txt'\n",
    "rep = 10\n",
    "alp = [1, 2, 3, 4, 5, 6]\n",
    "num_cell = [50, 100, 200]\n",
    "cell_size = [1, 2, 4, 6, 8]\n",
    "sparse_freq = [1, 2, 4, 6, 8]\n",
    "search_list = [rep, alp, num_cell, cell_size, sparse_freq]\n",
    "\n",
    "hyperparam_list = list(zip(search_df.columns, search_list))\n",
    "\n",
    "f = open(hyperparam_track, \"a+\")\n",
    "f.write(\"nameofFile\\n\")\n",
    "for i in hyperparam_list:\n",
    "    f.write(f\"   {i[0]}: {i[1]}\\n\")\n",
    "f.write(\"\\n\\n\")\n",
    "f.close()"
   ]
  },
  {
   "cell_type": "code",
   "execution_count": 15,
   "id": "ad8169f6",
   "metadata": {},
   "outputs": [
    {
     "data": {
      "text/plain": [
       "Index(['alp', 'num_cell', 'cell_size', 'sparse_freq'], dtype='object')"
      ]
     },
     "execution_count": 15,
     "metadata": {},
     "output_type": "execute_result"
    }
   ],
   "source": [
    "search_df = pd.DataFrame(columns= [ 'rep', 'alp', 'num_cell', 'cell_size', 'sparse_freq'])\n",
    "search_df.columns[1:]"
   ]
  },
  {
   "cell_type": "code",
   "execution_count": null,
   "id": "a47d3b92",
   "metadata": {},
   "outputs": [],
   "source": [
    "\n",
    "\n"
   ]
  },
  {
   "cell_type": "code",
   "execution_count": null,
   "id": "12c73b21",
   "metadata": {},
   "outputs": [],
   "source": []
  },
  {
   "cell_type": "code",
   "execution_count": null,
   "id": "754c545d",
   "metadata": {},
   "outputs": [],
   "source": []
  },
  {
   "cell_type": "code",
   "execution_count": null,
   "id": "bd69baca",
   "metadata": {},
   "outputs": [],
   "source": []
  },
  {
   "cell_type": "code",
   "execution_count": 1,
   "id": "0fd529d4",
   "metadata": {},
   "outputs": [],
   "source": [
    "import matplotlib.pyplot as plt\n",
    "import numpy as np\n",
    "import numpy.linalg as la\n",
    "\n",
    "import sys\n",
    "sys.path.append(\"../\")\n",
    "\n",
    "# Package for importing image representation\n",
    "from PIL import Image, ImageOps\n",
    "\n",
    "# from src.V1_reconst import generate_Y, reconstruct\n",
    "import pandas as pd\n",
    "import seaborn as sns\n",
    "import time\n",
    "import os.path\n",
    "from src.compress_sensing_library import *"
   ]
  },
  {
   "cell_type": "code",
   "execution_count": 2,
   "id": "5562aa52",
   "metadata": {},
   "outputs": [],
   "source": [
    "img_nm = 'tree_part1'\n",
    "root = search_root()\n",
    "load_V1 = '{root}/result/dct/{img}/V1/color_param_Fri_Jun_30_19_07_29_2023.csv'.format(root = root, img = img_nm)\n",
    "load_pixel = '{root}/result/dct/{img}/pixel/color_param_Fri_May_12_16_46_28_2023.csv'.format(root = root, img = img_nm)\n",
    "load_gaussian = '{root}/result/dct/{img}/gaussian/color_param_Fri_May_12_16_46_08_2023.csv'.format(root = root, img = img_nm)\n",
    "directory = \"num_cell_error\"\n",
    "save = True\n",
    "data = [load_pixel, load_gaussian, load_V1]"
   ]
  },
  {
   "cell_type": "code",
   "execution_count": 3,
   "id": "8788672f",
   "metadata": {},
   "outputs": [],
   "source": [
    "V1_param_df = pd.read_csv(load_V1)\n",
    "\n",
    "for index in V1_param_df.columns:\n",
    "    if (index == 'Unnamed: 0') :\n",
    "        V1_param_df.drop('Unnamed: 0', axis = 1, inplace=True)"
   ]
  },
  {
   "cell_type": "code",
   "execution_count": 4,
   "id": "11eed0ff",
   "metadata": {},
   "outputs": [
    {
     "data": {
      "text/html": [
       "<div>\n",
       "<style scoped>\n",
       "    .dataframe tbody tr th:only-of-type {\n",
       "        vertical-align: middle;\n",
       "    }\n",
       "\n",
       "    .dataframe tbody tr th {\n",
       "        vertical-align: top;\n",
       "    }\n",
       "\n",
       "    .dataframe thead th {\n",
       "        text-align: right;\n",
       "    }\n",
       "</style>\n",
       "<table border=\"1\" class=\"dataframe\">\n",
       "  <thead>\n",
       "    <tr style=\"text-align: right;\">\n",
       "      <th></th>\n",
       "      <th>rep</th>\n",
       "      <th>alp</th>\n",
       "      <th>num_cell</th>\n",
       "      <th>cell_size</th>\n",
       "      <th>sparse_freq</th>\n",
       "      <th>error</th>\n",
       "    </tr>\n",
       "  </thead>\n",
       "  <tbody>\n",
       "    <tr>\n",
       "      <th>0</th>\n",
       "      <td>0.0</td>\n",
       "      <td>0.1</td>\n",
       "      <td>50</td>\n",
       "      <td>2.0</td>\n",
       "      <td>2.0</td>\n",
       "      <td>153.865056</td>\n",
       "    </tr>\n",
       "    <tr>\n",
       "      <th>1</th>\n",
       "      <td>0.0</td>\n",
       "      <td>0.1</td>\n",
       "      <td>50</td>\n",
       "      <td>2.0</td>\n",
       "      <td>4.0</td>\n",
       "      <td>178.838409</td>\n",
       "    </tr>\n",
       "    <tr>\n",
       "      <th>2</th>\n",
       "      <td>0.0</td>\n",
       "      <td>0.1</td>\n",
       "      <td>50</td>\n",
       "      <td>4.0</td>\n",
       "      <td>2.0</td>\n",
       "      <td>174.455184</td>\n",
       "    </tr>\n",
       "    <tr>\n",
       "      <th>3</th>\n",
       "      <td>0.0</td>\n",
       "      <td>0.1</td>\n",
       "      <td>50</td>\n",
       "      <td>4.0</td>\n",
       "      <td>4.0</td>\n",
       "      <td>208.919030</td>\n",
       "    </tr>\n",
       "    <tr>\n",
       "      <th>4</th>\n",
       "      <td>0.0</td>\n",
       "      <td>0.1</td>\n",
       "      <td>200</td>\n",
       "      <td>2.0</td>\n",
       "      <td>2.0</td>\n",
       "      <td>56.573767</td>\n",
       "    </tr>\n",
       "    <tr>\n",
       "      <th>...</th>\n",
       "      <td>...</td>\n",
       "      <td>...</td>\n",
       "      <td>...</td>\n",
       "      <td>...</td>\n",
       "      <td>...</td>\n",
       "      <td>...</td>\n",
       "    </tr>\n",
       "    <tr>\n",
       "      <th>475</th>\n",
       "      <td>19.0</td>\n",
       "      <td>10.0</td>\n",
       "      <td>50</td>\n",
       "      <td>4.0</td>\n",
       "      <td>4.0</td>\n",
       "      <td>46.420410</td>\n",
       "    </tr>\n",
       "    <tr>\n",
       "      <th>476</th>\n",
       "      <td>19.0</td>\n",
       "      <td>10.0</td>\n",
       "      <td>200</td>\n",
       "      <td>2.0</td>\n",
       "      <td>2.0</td>\n",
       "      <td>37.221454</td>\n",
       "    </tr>\n",
       "    <tr>\n",
       "      <th>477</th>\n",
       "      <td>19.0</td>\n",
       "      <td>10.0</td>\n",
       "      <td>200</td>\n",
       "      <td>2.0</td>\n",
       "      <td>4.0</td>\n",
       "      <td>37.480825</td>\n",
       "    </tr>\n",
       "    <tr>\n",
       "      <th>478</th>\n",
       "      <td>19.0</td>\n",
       "      <td>10.0</td>\n",
       "      <td>200</td>\n",
       "      <td>4.0</td>\n",
       "      <td>2.0</td>\n",
       "      <td>36.091319</td>\n",
       "    </tr>\n",
       "    <tr>\n",
       "      <th>479</th>\n",
       "      <td>19.0</td>\n",
       "      <td>10.0</td>\n",
       "      <td>200</td>\n",
       "      <td>4.0</td>\n",
       "      <td>4.0</td>\n",
       "      <td>39.512108</td>\n",
       "    </tr>\n",
       "  </tbody>\n",
       "</table>\n",
       "<p>480 rows × 6 columns</p>\n",
       "</div>"
      ],
      "text/plain": [
       "      rep   alp  num_cell  cell_size  sparse_freq       error\n",
       "0     0.0   0.1        50        2.0          2.0  153.865056\n",
       "1     0.0   0.1        50        2.0          4.0  178.838409\n",
       "2     0.0   0.1        50        4.0          2.0  174.455184\n",
       "3     0.0   0.1        50        4.0          4.0  208.919030\n",
       "4     0.0   0.1       200        2.0          2.0   56.573767\n",
       "..    ...   ...       ...        ...          ...         ...\n",
       "475  19.0  10.0        50        4.0          4.0   46.420410\n",
       "476  19.0  10.0       200        2.0          2.0   37.221454\n",
       "477  19.0  10.0       200        2.0          4.0   37.480825\n",
       "478  19.0  10.0       200        4.0          2.0   36.091319\n",
       "479  19.0  10.0       200        4.0          4.0   39.512108\n",
       "\n",
       "[480 rows x 6 columns]"
      ]
     },
     "execution_count": 4,
     "metadata": {},
     "output_type": "execute_result"
    }
   ],
   "source": [
    "V1_param_df"
   ]
  },
  {
   "cell_type": "code",
   "execution_count": 5,
   "id": "2bd2c9ea",
   "metadata": {},
   "outputs": [
    {
     "data": {
      "text/html": [
       "<div>\n",
       "<style scoped>\n",
       "    .dataframe tbody tr th:only-of-type {\n",
       "        vertical-align: middle;\n",
       "    }\n",
       "\n",
       "    .dataframe tbody tr th {\n",
       "        vertical-align: top;\n",
       "    }\n",
       "\n",
       "    .dataframe thead th {\n",
       "        text-align: right;\n",
       "    }\n",
       "</style>\n",
       "<table border=\"1\" class=\"dataframe\">\n",
       "  <thead>\n",
       "    <tr style=\"text-align: right;\">\n",
       "      <th></th>\n",
       "      <th>rep</th>\n",
       "      <th>alp</th>\n",
       "      <th>num_cell</th>\n",
       "      <th>cell_size</th>\n",
       "      <th>sparse_freq</th>\n",
       "      <th>error</th>\n",
       "    </tr>\n",
       "  </thead>\n",
       "  <tbody>\n",
       "    <tr>\n",
       "      <th>0</th>\n",
       "      <td>0.0</td>\n",
       "      <td>0.1</td>\n",
       "      <td>50</td>\n",
       "      <td>2.0</td>\n",
       "      <td>2.0</td>\n",
       "      <td>153.865056</td>\n",
       "    </tr>\n",
       "    <tr>\n",
       "      <th>1</th>\n",
       "      <td>0.0</td>\n",
       "      <td>0.1</td>\n",
       "      <td>50</td>\n",
       "      <td>2.0</td>\n",
       "      <td>4.0</td>\n",
       "      <td>178.838409</td>\n",
       "    </tr>\n",
       "    <tr>\n",
       "      <th>2</th>\n",
       "      <td>0.0</td>\n",
       "      <td>0.1</td>\n",
       "      <td>50</td>\n",
       "      <td>4.0</td>\n",
       "      <td>2.0</td>\n",
       "      <td>174.455184</td>\n",
       "    </tr>\n",
       "    <tr>\n",
       "      <th>3</th>\n",
       "      <td>0.0</td>\n",
       "      <td>0.1</td>\n",
       "      <td>50</td>\n",
       "      <td>4.0</td>\n",
       "      <td>4.0</td>\n",
       "      <td>208.919030</td>\n",
       "    </tr>\n",
       "    <tr>\n",
       "      <th>8</th>\n",
       "      <td>0.0</td>\n",
       "      <td>1.0</td>\n",
       "      <td>50</td>\n",
       "      <td>2.0</td>\n",
       "      <td>2.0</td>\n",
       "      <td>76.695741</td>\n",
       "    </tr>\n",
       "    <tr>\n",
       "      <th>...</th>\n",
       "      <td>...</td>\n",
       "      <td>...</td>\n",
       "      <td>...</td>\n",
       "      <td>...</td>\n",
       "      <td>...</td>\n",
       "      <td>...</td>\n",
       "    </tr>\n",
       "    <tr>\n",
       "      <th>467</th>\n",
       "      <td>19.0</td>\n",
       "      <td>1.0</td>\n",
       "      <td>50</td>\n",
       "      <td>4.0</td>\n",
       "      <td>4.0</td>\n",
       "      <td>62.384275</td>\n",
       "    </tr>\n",
       "    <tr>\n",
       "      <th>472</th>\n",
       "      <td>19.0</td>\n",
       "      <td>10.0</td>\n",
       "      <td>50</td>\n",
       "      <td>2.0</td>\n",
       "      <td>2.0</td>\n",
       "      <td>66.465697</td>\n",
       "    </tr>\n",
       "    <tr>\n",
       "      <th>473</th>\n",
       "      <td>19.0</td>\n",
       "      <td>10.0</td>\n",
       "      <td>50</td>\n",
       "      <td>2.0</td>\n",
       "      <td>4.0</td>\n",
       "      <td>50.336060</td>\n",
       "    </tr>\n",
       "    <tr>\n",
       "      <th>474</th>\n",
       "      <td>19.0</td>\n",
       "      <td>10.0</td>\n",
       "      <td>50</td>\n",
       "      <td>4.0</td>\n",
       "      <td>2.0</td>\n",
       "      <td>52.852478</td>\n",
       "    </tr>\n",
       "    <tr>\n",
       "      <th>475</th>\n",
       "      <td>19.0</td>\n",
       "      <td>10.0</td>\n",
       "      <td>50</td>\n",
       "      <td>4.0</td>\n",
       "      <td>4.0</td>\n",
       "      <td>46.420410</td>\n",
       "    </tr>\n",
       "  </tbody>\n",
       "</table>\n",
       "<p>240 rows × 6 columns</p>\n",
       "</div>"
      ],
      "text/plain": [
       "      rep   alp  num_cell  cell_size  sparse_freq       error\n",
       "0     0.0   0.1        50        2.0          2.0  153.865056\n",
       "1     0.0   0.1        50        2.0          4.0  178.838409\n",
       "2     0.0   0.1        50        4.0          2.0  174.455184\n",
       "3     0.0   0.1        50        4.0          4.0  208.919030\n",
       "8     0.0   1.0        50        2.0          2.0   76.695741\n",
       "..    ...   ...       ...        ...          ...         ...\n",
       "467  19.0   1.0        50        4.0          4.0   62.384275\n",
       "472  19.0  10.0        50        2.0          2.0   66.465697\n",
       "473  19.0  10.0        50        2.0          4.0   50.336060\n",
       "474  19.0  10.0        50        4.0          2.0   52.852478\n",
       "475  19.0  10.0        50        4.0          4.0   46.420410\n",
       "\n",
       "[240 rows x 6 columns]"
      ]
     },
     "execution_count": 5,
     "metadata": {},
     "output_type": "execute_result"
    }
   ],
   "source": [
    "V1_param_df.loc[V1_param_df['num_cell'] == 50]"
   ]
  },
  {
   "cell_type": "code",
   "execution_count": 6,
   "id": "9a1bb720",
   "metadata": {},
   "outputs": [
    {
     "data": {
      "text/html": [
       "<div>\n",
       "<style scoped>\n",
       "    .dataframe tbody tr th:only-of-type {\n",
       "        vertical-align: middle;\n",
       "    }\n",
       "\n",
       "    .dataframe tbody tr th {\n",
       "        vertical-align: top;\n",
       "    }\n",
       "\n",
       "    .dataframe thead th {\n",
       "        text-align: right;\n",
       "    }\n",
       "</style>\n",
       "<table border=\"1\" class=\"dataframe\">\n",
       "  <thead>\n",
       "    <tr style=\"text-align: right;\">\n",
       "      <th></th>\n",
       "      <th>rep</th>\n",
       "      <th>alp</th>\n",
       "      <th>num_cell</th>\n",
       "      <th>cell_size</th>\n",
       "      <th>sparse_freq</th>\n",
       "      <th>error</th>\n",
       "    </tr>\n",
       "  </thead>\n",
       "  <tbody>\n",
       "  </tbody>\n",
       "</table>\n",
       "</div>"
      ],
      "text/plain": [
       "Empty DataFrame\n",
       "Columns: [rep, alp, num_cell, cell_size, sparse_freq, error]\n",
       "Index: []"
      ]
     },
     "execution_count": 6,
     "metadata": {},
     "output_type": "execute_result"
    }
   ],
   "source": [
    "V1_param_df.loc[(V1_param_df['num_cell'] == 50) & (V1_param_df['alp'] == 0.01) & (V1_param_df['cell_size'] == 8) & (V1_param_df['sparse_freq'] == 4)]"
   ]
  },
  {
   "cell_type": "code",
   "execution_count": 7,
   "id": "b83e4517",
   "metadata": {},
   "outputs": [
    {
     "data": {
      "text/html": [
       "<div>\n",
       "<style scoped>\n",
       "    .dataframe tbody tr th:only-of-type {\n",
       "        vertical-align: middle;\n",
       "    }\n",
       "\n",
       "    .dataframe tbody tr th {\n",
       "        vertical-align: top;\n",
       "    }\n",
       "\n",
       "    .dataframe thead th {\n",
       "        text-align: right;\n",
       "    }\n",
       "</style>\n",
       "<table border=\"1\" class=\"dataframe\">\n",
       "  <thead>\n",
       "    <tr style=\"text-align: right;\">\n",
       "      <th></th>\n",
       "      <th>num_cell</th>\n",
       "      <th>sparse_freq</th>\n",
       "      <th>cell_size</th>\n",
       "      <th>alp</th>\n",
       "      <th>error</th>\n",
       "    </tr>\n",
       "  </thead>\n",
       "  <tbody>\n",
       "    <tr>\n",
       "      <th>0</th>\n",
       "      <td>50</td>\n",
       "      <td>2.0</td>\n",
       "      <td>2.0</td>\n",
       "      <td>0.1</td>\n",
       "      <td>152.755678</td>\n",
       "    </tr>\n",
       "    <tr>\n",
       "      <th>1</th>\n",
       "      <td>50</td>\n",
       "      <td>2.0</td>\n",
       "      <td>2.0</td>\n",
       "      <td>1.0</td>\n",
       "      <td>78.811332</td>\n",
       "    </tr>\n",
       "    <tr>\n",
       "      <th>2</th>\n",
       "      <td>50</td>\n",
       "      <td>2.0</td>\n",
       "      <td>2.0</td>\n",
       "      <td>10.0</td>\n",
       "      <td>58.361234</td>\n",
       "    </tr>\n",
       "    <tr>\n",
       "      <th>3</th>\n",
       "      <td>50</td>\n",
       "      <td>2.0</td>\n",
       "      <td>4.0</td>\n",
       "      <td>0.1</td>\n",
       "      <td>166.797645</td>\n",
       "    </tr>\n",
       "    <tr>\n",
       "      <th>4</th>\n",
       "      <td>50</td>\n",
       "      <td>2.0</td>\n",
       "      <td>4.0</td>\n",
       "      <td>1.0</td>\n",
       "      <td>71.303997</td>\n",
       "    </tr>\n",
       "    <tr>\n",
       "      <th>5</th>\n",
       "      <td>50</td>\n",
       "      <td>2.0</td>\n",
       "      <td>4.0</td>\n",
       "      <td>10.0</td>\n",
       "      <td>54.842595</td>\n",
       "    </tr>\n",
       "    <tr>\n",
       "      <th>6</th>\n",
       "      <td>50</td>\n",
       "      <td>4.0</td>\n",
       "      <td>2.0</td>\n",
       "      <td>0.1</td>\n",
       "      <td>177.803339</td>\n",
       "    </tr>\n",
       "    <tr>\n",
       "      <th>7</th>\n",
       "      <td>50</td>\n",
       "      <td>4.0</td>\n",
       "      <td>2.0</td>\n",
       "      <td>1.0</td>\n",
       "      <td>88.633976</td>\n",
       "    </tr>\n",
       "    <tr>\n",
       "      <th>8</th>\n",
       "      <td>50</td>\n",
       "      <td>4.0</td>\n",
       "      <td>2.0</td>\n",
       "      <td>10.0</td>\n",
       "      <td>53.774387</td>\n",
       "    </tr>\n",
       "    <tr>\n",
       "      <th>9</th>\n",
       "      <td>50</td>\n",
       "      <td>4.0</td>\n",
       "      <td>4.0</td>\n",
       "      <td>0.1</td>\n",
       "      <td>189.215586</td>\n",
       "    </tr>\n",
       "    <tr>\n",
       "      <th>10</th>\n",
       "      <td>50</td>\n",
       "      <td>4.0</td>\n",
       "      <td>4.0</td>\n",
       "      <td>1.0</td>\n",
       "      <td>75.970999</td>\n",
       "    </tr>\n",
       "    <tr>\n",
       "      <th>11</th>\n",
       "      <td>50</td>\n",
       "      <td>4.0</td>\n",
       "      <td>4.0</td>\n",
       "      <td>10.0</td>\n",
       "      <td>47.338627</td>\n",
       "    </tr>\n",
       "    <tr>\n",
       "      <th>12</th>\n",
       "      <td>200</td>\n",
       "      <td>2.0</td>\n",
       "      <td>2.0</td>\n",
       "      <td>0.1</td>\n",
       "      <td>78.508501</td>\n",
       "    </tr>\n",
       "    <tr>\n",
       "      <th>13</th>\n",
       "      <td>200</td>\n",
       "      <td>2.0</td>\n",
       "      <td>2.0</td>\n",
       "      <td>1.0</td>\n",
       "      <td>36.878070</td>\n",
       "    </tr>\n",
       "    <tr>\n",
       "      <th>14</th>\n",
       "      <td>200</td>\n",
       "      <td>2.0</td>\n",
       "      <td>2.0</td>\n",
       "      <td>10.0</td>\n",
       "      <td>36.756798</td>\n",
       "    </tr>\n",
       "    <tr>\n",
       "      <th>15</th>\n",
       "      <td>200</td>\n",
       "      <td>2.0</td>\n",
       "      <td>4.0</td>\n",
       "      <td>0.1</td>\n",
       "      <td>57.741242</td>\n",
       "    </tr>\n",
       "    <tr>\n",
       "      <th>16</th>\n",
       "      <td>200</td>\n",
       "      <td>2.0</td>\n",
       "      <td>4.0</td>\n",
       "      <td>1.0</td>\n",
       "      <td>34.397261</td>\n",
       "    </tr>\n",
       "    <tr>\n",
       "      <th>17</th>\n",
       "      <td>200</td>\n",
       "      <td>2.0</td>\n",
       "      <td>4.0</td>\n",
       "      <td>10.0</td>\n",
       "      <td>36.236175</td>\n",
       "    </tr>\n",
       "    <tr>\n",
       "      <th>18</th>\n",
       "      <td>200</td>\n",
       "      <td>4.0</td>\n",
       "      <td>2.0</td>\n",
       "      <td>0.1</td>\n",
       "      <td>62.550128</td>\n",
       "    </tr>\n",
       "    <tr>\n",
       "      <th>19</th>\n",
       "      <td>200</td>\n",
       "      <td>4.0</td>\n",
       "      <td>2.0</td>\n",
       "      <td>1.0</td>\n",
       "      <td>36.433678</td>\n",
       "    </tr>\n",
       "    <tr>\n",
       "      <th>20</th>\n",
       "      <td>200</td>\n",
       "      <td>4.0</td>\n",
       "      <td>2.0</td>\n",
       "      <td>10.0</td>\n",
       "      <td>37.737178</td>\n",
       "    </tr>\n",
       "    <tr>\n",
       "      <th>21</th>\n",
       "      <td>200</td>\n",
       "      <td>4.0</td>\n",
       "      <td>4.0</td>\n",
       "      <td>0.1</td>\n",
       "      <td>35.567719</td>\n",
       "    </tr>\n",
       "    <tr>\n",
       "      <th>22</th>\n",
       "      <td>200</td>\n",
       "      <td>4.0</td>\n",
       "      <td>4.0</td>\n",
       "      <td>1.0</td>\n",
       "      <td>37.140180</td>\n",
       "    </tr>\n",
       "    <tr>\n",
       "      <th>23</th>\n",
       "      <td>200</td>\n",
       "      <td>4.0</td>\n",
       "      <td>4.0</td>\n",
       "      <td>10.0</td>\n",
       "      <td>39.559218</td>\n",
       "    </tr>\n",
       "  </tbody>\n",
       "</table>\n",
       "</div>"
      ],
      "text/plain": [
       "    num_cell  sparse_freq  cell_size   alp       error\n",
       "0         50          2.0        2.0   0.1  152.755678\n",
       "1         50          2.0        2.0   1.0   78.811332\n",
       "2         50          2.0        2.0  10.0   58.361234\n",
       "3         50          2.0        4.0   0.1  166.797645\n",
       "4         50          2.0        4.0   1.0   71.303997\n",
       "5         50          2.0        4.0  10.0   54.842595\n",
       "6         50          4.0        2.0   0.1  177.803339\n",
       "7         50          4.0        2.0   1.0   88.633976\n",
       "8         50          4.0        2.0  10.0   53.774387\n",
       "9         50          4.0        4.0   0.1  189.215586\n",
       "10        50          4.0        4.0   1.0   75.970999\n",
       "11        50          4.0        4.0  10.0   47.338627\n",
       "12       200          2.0        2.0   0.1   78.508501\n",
       "13       200          2.0        2.0   1.0   36.878070\n",
       "14       200          2.0        2.0  10.0   36.756798\n",
       "15       200          2.0        4.0   0.1   57.741242\n",
       "16       200          2.0        4.0   1.0   34.397261\n",
       "17       200          2.0        4.0  10.0   36.236175\n",
       "18       200          4.0        2.0   0.1   62.550128\n",
       "19       200          4.0        2.0   1.0   36.433678\n",
       "20       200          4.0        2.0  10.0   37.737178\n",
       "21       200          4.0        4.0   0.1   35.567719\n",
       "22       200          4.0        4.0   1.0   37.140180\n",
       "23       200          4.0        4.0  10.0   39.559218"
      ]
     },
     "execution_count": 7,
     "metadata": {},
     "output_type": "execute_result"
    }
   ],
   "source": [
    "temp = V1_param_df.loc[(V1_param_df['num_cell'] == 50) & (V1_param_df['alp'] == 0.01) & (V1_param_df['cell_size'] == 8) & (V1_param_df['sparse_freq'] == 4)]\n",
    "\n",
    "temp2 = V1_param_df.groupby(\n",
    "    ['num_cell', 'sparse_freq', 'cell_size', 'alp'], as_index=False).mean().drop('rep', axis=1) \n",
    "temp2#.loc[(temp2['num_cell'] == 50) & (temp2['alp'] == 0.1) & (temp2['cell_size'] == 8) & (temp2['sparse_freq'] == 4)]"
   ]
  },
  {
   "cell_type": "code",
   "execution_count": 8,
   "id": "6b959cd4",
   "metadata": {},
   "outputs": [
    {
     "ename": "NameError",
     "evalue": "name 'temp3' is not defined",
     "output_type": "error",
     "traceback": [
      "\u001b[0;31m---------------------------------------------------------------------------\u001b[0m",
      "\u001b[0;31mNameError\u001b[0m                                 Traceback (most recent call last)",
      "\u001b[0;32m/tmp/ipykernel_2181798/852010196.py\u001b[0m in \u001b[0;36m<module>\u001b[0;34m\u001b[0m\n\u001b[0;32m----> 1\u001b[0;31m temp3.groupby(\n\u001b[0m\u001b[1;32m      2\u001b[0m     ['num_cell', 'sparse_freq', 'cell_size', 'alp'], as_index=False).mean().drop('rep', axis=1)\n",
      "\u001b[0;31mNameError\u001b[0m: name 'temp3' is not defined"
     ]
    }
   ],
   "source": [
    "temp3.groupby(\n",
    "    ['num_cell', 'sparse_freq', 'cell_size', 'alp'], as_index=False).mean().drop('rep', axis=1)"
   ]
  },
  {
   "cell_type": "code",
   "execution_count": 9,
   "id": "4dd4cb21",
   "metadata": {},
   "outputs": [],
   "source": [
    "temp3 = V1_param_df.loc[V1_param_df['num_cell'] == 200]\n",
    "\n",
    "# temp3.loc[(temp3['error'] == temp3['error'].min())]\n",
    "temp50 = temp3.groupby(\n",
    "    ['num_cell', 'sparse_freq', 'cell_size', 'alp'], as_index=False).mean().drop('rep', axis=1)\n",
    "num_cell, cell_size, sparse_freq, alpha, error = temp50.loc[(temp50['error'] == temp50['error'].min())].values.squeeze()\n",
    "num_cell = int(num_cell)\n",
    "cell_size = int(cell_size)\n",
    "sparse_freq = int(sparse_freq)"
   ]
  },
  {
   "cell_type": "code",
   "execution_count": 10,
   "id": "e48b1ed9",
   "metadata": {},
   "outputs": [
    {
     "data": {
      "text/html": [
       "<div>\n",
       "<style scoped>\n",
       "    .dataframe tbody tr th:only-of-type {\n",
       "        vertical-align: middle;\n",
       "    }\n",
       "\n",
       "    .dataframe tbody tr th {\n",
       "        vertical-align: top;\n",
       "    }\n",
       "\n",
       "    .dataframe thead th {\n",
       "        text-align: right;\n",
       "    }\n",
       "</style>\n",
       "<table border=\"1\" class=\"dataframe\">\n",
       "  <thead>\n",
       "    <tr style=\"text-align: right;\">\n",
       "      <th></th>\n",
       "      <th>num_cell</th>\n",
       "      <th>sparse_freq</th>\n",
       "      <th>cell_size</th>\n",
       "      <th>alp</th>\n",
       "      <th>error</th>\n",
       "    </tr>\n",
       "  </thead>\n",
       "  <tbody>\n",
       "    <tr>\n",
       "      <th>4</th>\n",
       "      <td>200</td>\n",
       "      <td>2.0</td>\n",
       "      <td>4.0</td>\n",
       "      <td>1.0</td>\n",
       "      <td>34.397261</td>\n",
       "    </tr>\n",
       "  </tbody>\n",
       "</table>\n",
       "</div>"
      ],
      "text/plain": [
       "   num_cell  sparse_freq  cell_size  alp      error\n",
       "4       200          2.0        4.0  1.0  34.397261"
      ]
     },
     "execution_count": 10,
     "metadata": {},
     "output_type": "execute_result"
    }
   ],
   "source": [
    "temp50.loc[(temp50['error'] == temp50['error'].min())]"
   ]
  },
  {
   "cell_type": "code",
   "execution_count": 11,
   "id": "f31ba947",
   "metadata": {},
   "outputs": [
    {
     "data": {
      "text/html": [
       "<div>\n",
       "<style scoped>\n",
       "    .dataframe tbody tr th:only-of-type {\n",
       "        vertical-align: middle;\n",
       "    }\n",
       "\n",
       "    .dataframe tbody tr th {\n",
       "        vertical-align: top;\n",
       "    }\n",
       "\n",
       "    .dataframe thead th {\n",
       "        text-align: right;\n",
       "    }\n",
       "</style>\n",
       "<table border=\"1\" class=\"dataframe\">\n",
       "  <thead>\n",
       "    <tr style=\"text-align: right;\">\n",
       "      <th></th>\n",
       "      <th>rep</th>\n",
       "      <th>alp</th>\n",
       "      <th>num_cell</th>\n",
       "      <th>cell_size</th>\n",
       "      <th>sparse_freq</th>\n",
       "      <th>error</th>\n",
       "    </tr>\n",
       "  </thead>\n",
       "  <tbody>\n",
       "    <tr>\n",
       "      <th>14</th>\n",
       "      <td>0.0</td>\n",
       "      <td>1.0</td>\n",
       "      <td>200</td>\n",
       "      <td>4.0</td>\n",
       "      <td>2.0</td>\n",
       "      <td>34.210525</td>\n",
       "    </tr>\n",
       "    <tr>\n",
       "      <th>38</th>\n",
       "      <td>1.0</td>\n",
       "      <td>1.0</td>\n",
       "      <td>200</td>\n",
       "      <td>4.0</td>\n",
       "      <td>2.0</td>\n",
       "      <td>34.470648</td>\n",
       "    </tr>\n",
       "    <tr>\n",
       "      <th>62</th>\n",
       "      <td>2.0</td>\n",
       "      <td>1.0</td>\n",
       "      <td>200</td>\n",
       "      <td>4.0</td>\n",
       "      <td>2.0</td>\n",
       "      <td>35.531973</td>\n",
       "    </tr>\n",
       "    <tr>\n",
       "      <th>86</th>\n",
       "      <td>3.0</td>\n",
       "      <td>1.0</td>\n",
       "      <td>200</td>\n",
       "      <td>4.0</td>\n",
       "      <td>2.0</td>\n",
       "      <td>34.575666</td>\n",
       "    </tr>\n",
       "    <tr>\n",
       "      <th>110</th>\n",
       "      <td>4.0</td>\n",
       "      <td>1.0</td>\n",
       "      <td>200</td>\n",
       "      <td>4.0</td>\n",
       "      <td>2.0</td>\n",
       "      <td>33.693867</td>\n",
       "    </tr>\n",
       "    <tr>\n",
       "      <th>134</th>\n",
       "      <td>5.0</td>\n",
       "      <td>1.0</td>\n",
       "      <td>200</td>\n",
       "      <td>4.0</td>\n",
       "      <td>2.0</td>\n",
       "      <td>34.034215</td>\n",
       "    </tr>\n",
       "    <tr>\n",
       "      <th>158</th>\n",
       "      <td>6.0</td>\n",
       "      <td>1.0</td>\n",
       "      <td>200</td>\n",
       "      <td>4.0</td>\n",
       "      <td>2.0</td>\n",
       "      <td>34.173040</td>\n",
       "    </tr>\n",
       "    <tr>\n",
       "      <th>182</th>\n",
       "      <td>7.0</td>\n",
       "      <td>1.0</td>\n",
       "      <td>200</td>\n",
       "      <td>4.0</td>\n",
       "      <td>2.0</td>\n",
       "      <td>34.056538</td>\n",
       "    </tr>\n",
       "    <tr>\n",
       "      <th>206</th>\n",
       "      <td>8.0</td>\n",
       "      <td>1.0</td>\n",
       "      <td>200</td>\n",
       "      <td>4.0</td>\n",
       "      <td>2.0</td>\n",
       "      <td>33.996503</td>\n",
       "    </tr>\n",
       "    <tr>\n",
       "      <th>230</th>\n",
       "      <td>9.0</td>\n",
       "      <td>1.0</td>\n",
       "      <td>200</td>\n",
       "      <td>4.0</td>\n",
       "      <td>2.0</td>\n",
       "      <td>33.878197</td>\n",
       "    </tr>\n",
       "    <tr>\n",
       "      <th>254</th>\n",
       "      <td>10.0</td>\n",
       "      <td>1.0</td>\n",
       "      <td>200</td>\n",
       "      <td>4.0</td>\n",
       "      <td>2.0</td>\n",
       "      <td>34.496618</td>\n",
       "    </tr>\n",
       "    <tr>\n",
       "      <th>278</th>\n",
       "      <td>11.0</td>\n",
       "      <td>1.0</td>\n",
       "      <td>200</td>\n",
       "      <td>4.0</td>\n",
       "      <td>2.0</td>\n",
       "      <td>35.128320</td>\n",
       "    </tr>\n",
       "    <tr>\n",
       "      <th>302</th>\n",
       "      <td>12.0</td>\n",
       "      <td>1.0</td>\n",
       "      <td>200</td>\n",
       "      <td>4.0</td>\n",
       "      <td>2.0</td>\n",
       "      <td>34.204191</td>\n",
       "    </tr>\n",
       "    <tr>\n",
       "      <th>326</th>\n",
       "      <td>13.0</td>\n",
       "      <td>1.0</td>\n",
       "      <td>200</td>\n",
       "      <td>4.0</td>\n",
       "      <td>2.0</td>\n",
       "      <td>34.160552</td>\n",
       "    </tr>\n",
       "    <tr>\n",
       "      <th>350</th>\n",
       "      <td>14.0</td>\n",
       "      <td>1.0</td>\n",
       "      <td>200</td>\n",
       "      <td>4.0</td>\n",
       "      <td>2.0</td>\n",
       "      <td>34.828261</td>\n",
       "    </tr>\n",
       "    <tr>\n",
       "      <th>374</th>\n",
       "      <td>15.0</td>\n",
       "      <td>1.0</td>\n",
       "      <td>200</td>\n",
       "      <td>4.0</td>\n",
       "      <td>2.0</td>\n",
       "      <td>34.405507</td>\n",
       "    </tr>\n",
       "    <tr>\n",
       "      <th>398</th>\n",
       "      <td>16.0</td>\n",
       "      <td>1.0</td>\n",
       "      <td>200</td>\n",
       "      <td>4.0</td>\n",
       "      <td>2.0</td>\n",
       "      <td>34.455253</td>\n",
       "    </tr>\n",
       "    <tr>\n",
       "      <th>422</th>\n",
       "      <td>17.0</td>\n",
       "      <td>1.0</td>\n",
       "      <td>200</td>\n",
       "      <td>4.0</td>\n",
       "      <td>2.0</td>\n",
       "      <td>34.834083</td>\n",
       "    </tr>\n",
       "    <tr>\n",
       "      <th>446</th>\n",
       "      <td>18.0</td>\n",
       "      <td>1.0</td>\n",
       "      <td>200</td>\n",
       "      <td>4.0</td>\n",
       "      <td>2.0</td>\n",
       "      <td>34.401082</td>\n",
       "    </tr>\n",
       "    <tr>\n",
       "      <th>470</th>\n",
       "      <td>19.0</td>\n",
       "      <td>1.0</td>\n",
       "      <td>200</td>\n",
       "      <td>4.0</td>\n",
       "      <td>2.0</td>\n",
       "      <td>34.410173</td>\n",
       "    </tr>\n",
       "  </tbody>\n",
       "</table>\n",
       "</div>"
      ],
      "text/plain": [
       "      rep  alp  num_cell  cell_size  sparse_freq      error\n",
       "14    0.0  1.0       200        4.0          2.0  34.210525\n",
       "38    1.0  1.0       200        4.0          2.0  34.470648\n",
       "62    2.0  1.0       200        4.0          2.0  35.531973\n",
       "86    3.0  1.0       200        4.0          2.0  34.575666\n",
       "110   4.0  1.0       200        4.0          2.0  33.693867\n",
       "134   5.0  1.0       200        4.0          2.0  34.034215\n",
       "158   6.0  1.0       200        4.0          2.0  34.173040\n",
       "182   7.0  1.0       200        4.0          2.0  34.056538\n",
       "206   8.0  1.0       200        4.0          2.0  33.996503\n",
       "230   9.0  1.0       200        4.0          2.0  33.878197\n",
       "254  10.0  1.0       200        4.0          2.0  34.496618\n",
       "278  11.0  1.0       200        4.0          2.0  35.128320\n",
       "302  12.0  1.0       200        4.0          2.0  34.204191\n",
       "326  13.0  1.0       200        4.0          2.0  34.160552\n",
       "350  14.0  1.0       200        4.0          2.0  34.828261\n",
       "374  15.0  1.0       200        4.0          2.0  34.405507\n",
       "398  16.0  1.0       200        4.0          2.0  34.455253\n",
       "422  17.0  1.0       200        4.0          2.0  34.834083\n",
       "446  18.0  1.0       200        4.0          2.0  34.401082\n",
       "470  19.0  1.0       200        4.0          2.0  34.410173"
      ]
     },
     "execution_count": 11,
     "metadata": {},
     "output_type": "execute_result"
    }
   ],
   "source": [
    "V1_param_df.loc[(V1_param_df['num_cell'] == 200) & (V1_param_df['sparse_freq'] == 2) & (V1_param_df['cell_size'] == 4) & (V1_param_df['alp'] == 1)]"
   ]
  },
  {
   "cell_type": "code",
   "execution_count": 12,
   "id": "35e1335a",
   "metadata": {},
   "outputs": [],
   "source": [
    "root = search_root()\n",
    "img = Image.open(os.path.join(root, \"image/tree_part1.jpg\"))\n",
    "img_arr = np.asarray(img)\n"
   ]
  },
  {
   "cell_type": "code",
   "execution_count": 13,
   "id": "3c90dffe",
   "metadata": {},
   "outputs": [
    {
     "data": {
      "text/plain": [
       "(30, 30, 3)"
      ]
     },
     "execution_count": 13,
     "metadata": {},
     "output_type": "execute_result"
    }
   ],
   "source": [
    "img_arr.shape"
   ]
  },
  {
   "cell_type": "code",
   "execution_count": 14,
   "id": "1c0610a3",
   "metadata": {
    "scrolled": false
   },
   "outputs": [
    {
     "name": "stdout",
     "output_type": "stream",
     "text": [
      "Process Reconstruction on (30, 30, 3) image\n"
     ]
    },
    {
     "data": {
      "image/png": "[encoded data removed]",
      "text/plain": [
       "<Figure size 432x288 with 1 Axes>"
      ]
     },
     "metadata": {
      "needs_background": "light"
     },
     "output_type": "display_data"
    },
    {
     "name": "stdout",
     "output_type": "stream",
     "text": [
      "36.015876128914776\n",
      "Process Reconstruction on (30, 30, 3) image\n"
     ]
    },
    {
     "data": {
      "image/png": "[encoded data removed]",
      "text/plain": [
       "<Figure size 432x288 with 1 Axes>"
      ]
     },
     "metadata": {
      "needs_background": "light"
     },
     "output_type": "display_data"
    },
    {
     "name": "stdout",
     "output_type": "stream",
     "text": [
      "36.499421608811524\n",
      "Process Reconstruction on (30, 30, 3) image\n"
     ]
    },
    {
     "data": {
      "image/png": "[encoded data removed]",
      "text/plain": [
       "<Figure size 432x288 with 1 Axes>"
      ]
     },
     "metadata": {
      "needs_background": "light"
     },
     "output_type": "display_data"
    },
    {
     "name": "stdout",
     "output_type": "stream",
     "text": [
      "35.74836437594811\n",
      "Process Reconstruction on (30, 30, 3) image\n"
     ]
    },
    {
     "data": {
      "image/png": "[encoded data removed]",
      "text/plain": [
       "<Figure size 432x288 with 1 Axes>"
      ]
     },
     "metadata": {
      "needs_background": "light"
     },
     "output_type": "display_data"
    },
    {
     "name": "stdout",
     "output_type": "stream",
     "text": [
      "36.14194239384485\n",
      "Process Reconstruction on (30, 30, 3) image\n"
     ]
    },
    {
     "data": {
      "image/png": "[encoded data removed]",
      "text/plain": [
       "<Figure size 432x288 with 1 Axes>"
      ]
     },
     "metadata": {
      "needs_background": "light"
     },
     "output_type": "display_data"
    },
    {
     "name": "stdout",
     "output_type": "stream",
     "text": [
      "35.542759850323634\n",
      "Process Reconstruction on (30, 30, 3) image\n"
     ]
    },
    {
     "data": {
      "image/png": "[encoded data removed]",
      "text/plain": [
       "<Figure size 432x288 with 1 Axes>"
      ]
     },
     "metadata": {
      "needs_background": "light"
     },
     "output_type": "display_data"
    },
    {
     "name": "stdout",
     "output_type": "stream",
     "text": [
      "36.55622761962424\n",
      "Process Reconstruction on (30, 30, 3) image\n"
     ]
    },
    {
     "data": {
      "image/png": "[encoded data removed]",
      "text/plain": [
       "<Figure size 432x288 with 1 Axes>"
      ]
     },
     "metadata": {
      "needs_background": "light"
     },
     "output_type": "display_data"
    },
    {
     "name": "stdout",
     "output_type": "stream",
     "text": [
      "35.316473965181366\n",
      "Process Reconstruction on (30, 30, 3) image\n"
     ]
    },
    {
     "data": {
      "image/png": "[encoded data removed]",
      "text/plain": [
       "<Figure size 432x288 with 1 Axes>"
      ]
     },
     "metadata": {
      "needs_background": "light"
     },
     "output_type": "display_data"
    },
    {
     "name": "stdout",
     "output_type": "stream",
     "text": [
      "36.92370512286111\n",
      "Process Reconstruction on (30, 30, 3) image\n"
     ]
    },
    {
     "data": {
      "image/png": "[encoded data removed]",
      "text/plain": [
       "<Figure size 432x288 with 1 Axes>"
      ]
     },
     "metadata": {
      "needs_background": "light"
     },
     "output_type": "display_data"
    },
    {
     "name": "stdout",
     "output_type": "stream",
     "text": [
      "35.8548772445566\n",
      "Process Reconstruction on (30, 30, 3) image\n"
     ]
    },
    {
     "data": {
      "image/png": "[encoded data removed]",
      "text/plain": [
       "<Figure size 432x288 with 1 Axes>"
      ]
     },
     "metadata": {
      "needs_background": "light"
     },
     "output_type": "display_data"
    },
    {
     "name": "stdout",
     "output_type": "stream",
     "text": [
      "35.58322014033518\n"
     ]
    }
   ],
   "source": [
    "for i in range(0, 10) :\n",
    "    reconst = filter_reconstruct(img_arr, num_cell = num_cell, cell_size = cell_size, sparse_freq = sparse_freq, alpha = alpha, observation = 'V1', mode = 'color')\n",
    "    plt.imshow(reconst)\n",
    "    plt.show()\n",
    "    print(error_calculation(img_arr, reconst))"
   ]
  },
  {
   "cell_type": "code",
   "execution_count": 13,
   "id": "83b95f93",
   "metadata": {},
   "outputs": [
    {
     "data": {
      "text/plain": [
       "34.11475348208387"
      ]
     },
     "execution_count": 13,
     "metadata": {},
     "output_type": "execute_result"
    }
   ],
   "source": [
    "error"
   ]
  },
  {
   "cell_type": "code",
   "execution_count": 136,
   "id": "d9208930",
   "metadata": {},
   "outputs": [
    {
     "data": {
      "text/html": [
       "<div>\n",
       "<style scoped>\n",
       "    .dataframe tbody tr th:only-of-type {\n",
       "        vertical-align: middle;\n",
       "    }\n",
       "\n",
       "    .dataframe tbody tr th {\n",
       "        vertical-align: top;\n",
       "    }\n",
       "\n",
       "    .dataframe thead th {\n",
       "        text-align: right;\n",
       "    }\n",
       "</style>\n",
       "<table border=\"1\" class=\"dataframe\">\n",
       "  <thead>\n",
       "    <tr style=\"text-align: right;\">\n",
       "      <th></th>\n",
       "      <th></th>\n",
       "      <th></th>\n",
       "      <th></th>\n",
       "      <th>rep</th>\n",
       "      <th>error</th>\n",
       "    </tr>\n",
       "    <tr>\n",
       "      <th>alp</th>\n",
       "      <th>num_cell</th>\n",
       "      <th>cell_size</th>\n",
       "      <th>sparse_freq</th>\n",
       "      <th></th>\n",
       "      <th></th>\n",
       "    </tr>\n",
       "  </thead>\n",
       "  <tbody>\n",
       "    <tr>\n",
       "      <th>1.0</th>\n",
       "      <th>200</th>\n",
       "      <th>2</th>\n",
       "      <th>6</th>\n",
       "      <td>9.5</td>\n",
       "      <td>37.231709</td>\n",
       "    </tr>\n",
       "  </tbody>\n",
       "</table>\n",
       "</div>"
      ],
      "text/plain": [
       "                                    rep      error\n",
       "alp num_cell cell_size sparse_freq                \n",
       "1.0 200      2         6            9.5  37.231709"
      ]
     },
     "execution_count": 136,
     "metadata": {},
     "output_type": "execute_result"
    }
   ],
   "source": [
    "V1_param_df.loc[(V1_param_df['num_cell'] == num_cell) & (V1_param_df['cell_size'] == cell_size) & (V1_param_df['sparse_freq'] == sparse_freq) & (V1_param_df['alp'] == alpha)].groupby(['alp', 'num_cell', 'cell_size', 'sparse_freq']).mean()"
   ]
  },
  {
   "cell_type": "code",
   "execution_count": 148,
   "id": "27ae877f",
   "metadata": {},
   "outputs": [
    {
     "data": {
      "text/html": [
       "<div>\n",
       "<style scoped>\n",
       "    .dataframe tbody tr th:only-of-type {\n",
       "        vertical-align: middle;\n",
       "    }\n",
       "\n",
       "    .dataframe tbody tr th {\n",
       "        vertical-align: top;\n",
       "    }\n",
       "\n",
       "    .dataframe thead th {\n",
       "        text-align: right;\n",
       "    }\n",
       "</style>\n",
       "<table border=\"1\" class=\"dataframe\">\n",
       "  <thead>\n",
       "    <tr style=\"text-align: right;\">\n",
       "      <th></th>\n",
       "      <th>num_cell</th>\n",
       "      <th>sparse_freq</th>\n",
       "      <th>cell_size</th>\n",
       "      <th>alp</th>\n",
       "      <th>error</th>\n",
       "    </tr>\n",
       "  </thead>\n",
       "  <tbody>\n",
       "  </tbody>\n",
       "</table>\n",
       "</div>"
      ],
      "text/plain": [
       "Empty DataFrame\n",
       "Columns: [num_cell, sparse_freq, cell_size, alp, error]\n",
       "Index: []"
      ]
     },
     "execution_count": 148,
     "metadata": {},
     "output_type": "execute_result"
    }
   ],
   "source": [
    "temp50.loc[(V1_param_df['num_cell'] == num_cell) & (V1_param_df['cell_size'] == cell_size) & (V1_param_df['sparse_freq'] == sparse_freq) & (V1_param_df['alp'] == alpha)]"
   ]
  },
  {
   "cell_type": "code",
   "execution_count": 149,
   "id": "3a3e4b98",
   "metadata": {},
   "outputs": [
    {
     "data": {
      "text/html": [
       "<div>\n",
       "<style scoped>\n",
       "    .dataframe tbody tr th:only-of-type {\n",
       "        vertical-align: middle;\n",
       "    }\n",
       "\n",
       "    .dataframe tbody tr th {\n",
       "        vertical-align: top;\n",
       "    }\n",
       "\n",
       "    .dataframe thead th {\n",
       "        text-align: right;\n",
       "    }\n",
       "</style>\n",
       "<table border=\"1\" class=\"dataframe\">\n",
       "  <thead>\n",
       "    <tr style=\"text-align: right;\">\n",
       "      <th></th>\n",
       "      <th>num_cell</th>\n",
       "      <th>sparse_freq</th>\n",
       "      <th>cell_size</th>\n",
       "      <th>alp</th>\n",
       "      <th>error</th>\n",
       "    </tr>\n",
       "  </thead>\n",
       "  <tbody>\n",
       "    <tr>\n",
       "      <th>0</th>\n",
       "      <td>200</td>\n",
       "      <td>1</td>\n",
       "      <td>1</td>\n",
       "      <td>0.001</td>\n",
       "      <td>125.711718</td>\n",
       "    </tr>\n",
       "    <tr>\n",
       "      <th>1</th>\n",
       "      <td>200</td>\n",
       "      <td>1</td>\n",
       "      <td>1</td>\n",
       "      <td>0.010</td>\n",
       "      <td>120.815517</td>\n",
       "    </tr>\n",
       "    <tr>\n",
       "      <th>2</th>\n",
       "      <td>200</td>\n",
       "      <td>1</td>\n",
       "      <td>1</td>\n",
       "      <td>0.100</td>\n",
       "      <td>77.745605</td>\n",
       "    </tr>\n",
       "    <tr>\n",
       "      <th>3</th>\n",
       "      <td>200</td>\n",
       "      <td>1</td>\n",
       "      <td>1</td>\n",
       "      <td>1.000</td>\n",
       "      <td>46.563879</td>\n",
       "    </tr>\n",
       "    <tr>\n",
       "      <th>4</th>\n",
       "      <td>200</td>\n",
       "      <td>1</td>\n",
       "      <td>1</td>\n",
       "      <td>10.000</td>\n",
       "      <td>45.394015</td>\n",
       "    </tr>\n",
       "    <tr>\n",
       "      <th>...</th>\n",
       "      <td>...</td>\n",
       "      <td>...</td>\n",
       "      <td>...</td>\n",
       "      <td>...</td>\n",
       "      <td>...</td>\n",
       "    </tr>\n",
       "    <tr>\n",
       "      <th>170</th>\n",
       "      <td>200</td>\n",
       "      <td>8</td>\n",
       "      <td>8</td>\n",
       "      <td>0.100</td>\n",
       "      <td>38.769369</td>\n",
       "    </tr>\n",
       "    <tr>\n",
       "      <th>171</th>\n",
       "      <td>200</td>\n",
       "      <td>8</td>\n",
       "      <td>8</td>\n",
       "      <td>1.000</td>\n",
       "      <td>42.595263</td>\n",
       "    </tr>\n",
       "    <tr>\n",
       "      <th>172</th>\n",
       "      <td>200</td>\n",
       "      <td>8</td>\n",
       "      <td>8</td>\n",
       "      <td>10.000</td>\n",
       "      <td>46.416362</td>\n",
       "    </tr>\n",
       "    <tr>\n",
       "      <th>173</th>\n",
       "      <td>200</td>\n",
       "      <td>8</td>\n",
       "      <td>8</td>\n",
       "      <td>100.000</td>\n",
       "      <td>49.882553</td>\n",
       "    </tr>\n",
       "    <tr>\n",
       "      <th>174</th>\n",
       "      <td>200</td>\n",
       "      <td>8</td>\n",
       "      <td>8</td>\n",
       "      <td>1000.000</td>\n",
       "      <td>55.153600</td>\n",
       "    </tr>\n",
       "  </tbody>\n",
       "</table>\n",
       "<p>175 rows × 5 columns</p>\n",
       "</div>"
      ],
      "text/plain": [
       "     num_cell  sparse_freq  cell_size       alp       error\n",
       "0         200            1          1     0.001  125.711718\n",
       "1         200            1          1     0.010  120.815517\n",
       "2         200            1          1     0.100   77.745605\n",
       "3         200            1          1     1.000   46.563879\n",
       "4         200            1          1    10.000   45.394015\n",
       "..        ...          ...        ...       ...         ...\n",
       "170       200            8          8     0.100   38.769369\n",
       "171       200            8          8     1.000   42.595263\n",
       "172       200            8          8    10.000   46.416362\n",
       "173       200            8          8   100.000   49.882553\n",
       "174       200            8          8  1000.000   55.153600\n",
       "\n",
       "[175 rows x 5 columns]"
      ]
     },
     "execution_count": 149,
     "metadata": {},
     "output_type": "execute_result"
    }
   ],
   "source": [
    "temp50"
   ]
  },
  {
   "cell_type": "code",
   "execution_count": null,
   "id": "b6afc618",
   "metadata": {},
   "outputs": [],
   "source": []
  }
 ],
 "metadata": {
  "kernelspec": {
   "display_name": "Python 3 (ipykernel)",
   "language": "python",
   "name": "python3"
  },
  "language_info": {
   "codemirror_mode": {
    "name": "ipython",
    "version": 3
   },
   "file_extension": ".py",
   "mimetype": "text/x-python",
   "name": "python",
   "nbconvert_exporter": "python",
   "pygments_lexer": "ipython3",
   "version": "3.9.7"
  }
 },
 "nbformat": 4,
 "nbformat_minor": 5
}
