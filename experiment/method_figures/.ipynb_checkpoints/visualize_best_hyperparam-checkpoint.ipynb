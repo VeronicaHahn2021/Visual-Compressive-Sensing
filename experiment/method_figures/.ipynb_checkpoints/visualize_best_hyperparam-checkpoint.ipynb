{
 "cells": [
  {
   "cell_type": "code",
   "execution_count": 5,
   "id": "99a56c1f",
   "metadata": {},
   "outputs": [],
   "source": [
    "import matplotlib.pyplot as plt\n",
    "import numpy as np\n",
    "import pandas as pd\n",
    "\n",
    "import sys\n",
    "sys.path.append(\"../../\")\n",
    "\n",
    "import seaborn as sns\n",
    "import time\n",
    "import os.path\n",
    "from src.compress_sensing_library import *"
   ]
  },
  {
   "cell_type": "code",
   "execution_count": 2,
   "id": "e3b330e0",
   "metadata": {},
   "outputs": [],
   "source": [
    "img_nm = 'tree_part1'\n",
    "load_V1 = '../../result/dwt/{img}/V1/param_db2_Mon_Apr_24_13_52_32_2023.csv'.format(img = img_nm)\n",
    "load_pixel = '../../result/dwt/{img}/pixel/param_db2_Mon_Apr_24_12_36_36_2023.csv'.format(img = img_nm)\n",
    "load_gaussian = '../../result/dwt/{img}/gaussian/param_db2_Mon_Apr_24_12_37_23_2023.csv'.format(img = img_nm)"
   ]
  },
  {
   "cell_type": "code",
   "execution_count": 3,
   "id": "bcbeb16b",
   "metadata": {},
   "outputs": [],
   "source": [
    "V1_param_df = pd.read_csv(load_V1)\n",
    "for index in V1_param_df.columns:\n",
    "    if (index == 'Unnamed: 0') :\n",
    "        V1_param_df.drop('Unnamed: 0', axis = 1, inplace=True)\n",
    "V1_param_df.head(5)\n",
    "\n",
    "pixel_param_df = pd.read_csv(load_pixel)\n",
    "for index in pixel_param_df.columns:\n",
    "    if (index == 'Unnamed: 0') :\n",
    "        pixel_param_df.drop('Unnamed: 0', axis = 1, inplace=True)\n",
    "        \n",
    "gaussian_param_df = pd.read_csv(load_gaussian)\n",
    "for index in gaussian_param_df.columns:\n",
    "    if (index == 'Unnamed: 0') :\n",
    "        gaussian_param_df.drop('Unnamed: 0', axis = 1, inplace=True)        "
   ]
  },
  {
   "cell_type": "markdown",
   "id": "84b7ec12",
   "metadata": {},
   "source": [
    "# Reconstruct V1"
   ]
  },
  {
   "cell_type": "code",
   "execution_count": 4,
   "id": "7abbea25",
   "metadata": {},
   "outputs": [
    {
     "data": {
      "text/html": [
       "<div>\n",
       "<style scoped>\n",
       "    .dataframe tbody tr th:only-of-type {\n",
       "        vertical-align: middle;\n",
       "    }\n",
       "\n",
       "    .dataframe tbody tr th {\n",
       "        vertical-align: top;\n",
       "    }\n",
       "\n",
       "    .dataframe thead th {\n",
       "        text-align: right;\n",
       "    }\n",
       "</style>\n",
       "<table border=\"1\" class=\"dataframe\">\n",
       "  <thead>\n",
       "    <tr style=\"text-align: right;\">\n",
       "      <th></th>\n",
       "      <th>num_cell</th>\n",
       "      <th>sparse_freq</th>\n",
       "      <th>cell_size</th>\n",
       "      <th>alp</th>\n",
       "      <th>lv</th>\n",
       "      <th>min_error</th>\n",
       "    </tr>\n",
       "  </thead>\n",
       "  <tbody>\n",
       "    <tr>\n",
       "      <th>2192</th>\n",
       "      <td>500</td>\n",
       "      <td>1</td>\n",
       "      <td>8</td>\n",
       "      <td>0.1</td>\n",
       "      <td>4</td>\n",
       "      <td>13.320367</td>\n",
       "    </tr>\n",
       "    <tr>\n",
       "      <th>1730</th>\n",
       "      <td>300</td>\n",
       "      <td>2</td>\n",
       "      <td>4</td>\n",
       "      <td>0.1</td>\n",
       "      <td>4</td>\n",
       "      <td>18.907626</td>\n",
       "    </tr>\n",
       "    <tr>\n",
       "      <th>1229</th>\n",
       "      <td>200</td>\n",
       "      <td>2</td>\n",
       "      <td>6</td>\n",
       "      <td>1.0</td>\n",
       "      <td>4</td>\n",
       "      <td>21.348293</td>\n",
       "    </tr>\n",
       "    <tr>\n",
       "      <th>728</th>\n",
       "      <td>100</td>\n",
       "      <td>2</td>\n",
       "      <td>8</td>\n",
       "      <td>10.0</td>\n",
       "      <td>4</td>\n",
       "      <td>25.827914</td>\n",
       "    </tr>\n",
       "    <tr>\n",
       "      <th>413</th>\n",
       "      <td>50</td>\n",
       "      <td>6</td>\n",
       "      <td>8</td>\n",
       "      <td>10.0</td>\n",
       "      <td>4</td>\n",
       "      <td>28.666624</td>\n",
       "    </tr>\n",
       "  </tbody>\n",
       "</table>\n",
       "</div>"
      ],
      "text/plain": [
       "      num_cell  sparse_freq  cell_size   alp  lv  min_error\n",
       "2192       500            1          8   0.1   4  13.320367\n",
       "1730       300            2          4   0.1   4  18.907626\n",
       "1229       200            2          6   1.0   4  21.348293\n",
       "728        100            2          8  10.0   4  25.827914\n",
       "413         50            6          8  10.0   4  28.666624"
      ]
     },
     "execution_count": 4,
     "metadata": {},
     "output_type": "execute_result"
    }
   ],
   "source": [
    "V1_param_mean_df = V1_param_df.groupby(\n",
    "    ['num_cell', 'sparse_freq', 'cell_size', 'alp', 'lv'], as_index=False).mean().drop('rep', axis=1) \n",
    "\n",
    "V1_param_min_df = V1_param_mean_df.sort_values('error').drop_duplicates('num_cell')\n",
    "V1_param_min_df = V1_param_min_df.rename(columns={'error': 'min_error'})\n",
    "V1_merged_df = pd.merge(V1_param_df, V1_param_min_df, \n",
    "                               on=['num_cell', 'sparse_freq', 'cell_size', 'alp', 'lv'], how='left')\n",
    "V1_plotting_data = V1_merged_df.loc[V1_merged_df['min_error'].notnull()]\n",
    "\n",
    "V1_min_mean_err_df = pd.DataFrame()\n",
    "for i in V1_param_mean_df['num_cell'].unique():\n",
    "    V1_temp = V1_param_mean_df.loc[V1_param_mean_df['num_cell'] == i]\n",
    "    #hyperparameter for each number of cell\n",
    "    ## Grabbing values by each values\n",
    "    V1_min_mean_err_df = V1_min_mean_err_df.append(V1_temp.loc[V1_temp['error'] == V1_temp['error'].min()])\n",
    "    \n",
    "# Merge two data to extract\n",
    "V1_min_mean_err_df = V1_min_mean_err_df.rename(columns={'error' : 'mean_err'})\n",
    "V1_merged_df = pd.merge(V1_param_df, V1_min_mean_err_df, on = ['num_cell', 'sparse_freq', 'cell_size', 'alp', 'lv'], how = 'left')\n",
    "V1_plotting_data = V1_merged_df.loc[V1_merged_df['mean_err'].notnull()]\n",
    "V1_param_min_df"
   ]
  },
  {
   "cell_type": "code",
   "execution_count": 18,
   "id": "2dfc1eed",
   "metadata": {},
   "outputs": [
    {
     "name": "stdout",
     "output_type": "stream",
     "text": [
      "Process Reconstruction on (30, 30) image\n"
     ]
    },
    {
     "name": "stderr",
     "output_type": "stream",
     "text": [
      "/home/bans/anaconda3/lib/python3.9/site-packages/pywt/_multilevel.py:43: UserWarning: Level value of 4 is too high: all coefficients will experience boundary effects.\n",
      "  warnings.warn(\n"
     ]
    },
    {
     "name": "stdout",
     "output_type": "stream",
     "text": [
      "Original Error was 13.320367489100343 and reconstructed Error is 13.836345053678173\n"
     ]
    },
    {
     "data": {
      "image/png": "[encoded data removed]",
      "text/plain": [
       "<Figure size 432x288 with 1 Axes>"
      ]
     },
     "metadata": {
      "needs_background": "light"
     },
     "output_type": "display_data"
    },
    {
     "name": "stdout",
     "output_type": "stream",
     "text": [
      "Process Reconstruction on (30, 30) image\n"
     ]
    },
    {
     "name": "stderr",
     "output_type": "stream",
     "text": [
      "/home/bans/anaconda3/lib/python3.9/site-packages/pywt/_multilevel.py:43: UserWarning: Level value of 4 is too high: all coefficients will experience boundary effects.\n",
      "  warnings.warn(\n"
     ]
    },
    {
     "name": "stdout",
     "output_type": "stream",
     "text": [
      "Original Error was 18.907626056867578 and reconstructed Error is 18.755177063058262\n"
     ]
    },
    {
     "data": {
      "image/png": "[encoded data removed]",
      "text/plain": [
       "<Figure size 432x288 with 1 Axes>"
      ]
     },
     "metadata": {
      "needs_background": "light"
     },
     "output_type": "display_data"
    },
    {
     "name": "stdout",
     "output_type": "stream",
     "text": [
      "Process Reconstruction on (30, 30) image\n"
     ]
    },
    {
     "name": "stderr",
     "output_type": "stream",
     "text": [
      "/home/bans/anaconda3/lib/python3.9/site-packages/pywt/_multilevel.py:43: UserWarning: Level value of 4 is too high: all coefficients will experience boundary effects.\n",
      "  warnings.warn(\n",
      "/home/bans/anaconda3/lib/python3.9/site-packages/sklearn/linear_model/_coordinate_descent.py:530: ConvergenceWarning: Objective did not converge. You might want to increase the number of iterations. Duality gap: 6096666.448658622, tolerance: 5920768.091544031\n",
      "  model = cd_fast.enet_coordinate_descent(\n"
     ]
    },
    {
     "name": "stdout",
     "output_type": "stream",
     "text": [
      "Original Error was 21.348292698232434 and reconstructed Error is 20.81585933849477\n"
     ]
    },
    {
     "data": {
      "image/png": "[encoded data removed]",
      "text/plain": [
       "<Figure size 432x288 with 1 Axes>"
      ]
     },
     "metadata": {
      "needs_background": "light"
     },
     "output_type": "display_data"
    },
    {
     "name": "stdout",
     "output_type": "stream",
     "text": [
      "Process Reconstruction on (30, 30) image\n"
     ]
    },
    {
     "name": "stderr",
     "output_type": "stream",
     "text": [
      "/home/bans/anaconda3/lib/python3.9/site-packages/pywt/_multilevel.py:43: UserWarning: Level value of 4 is too high: all coefficients will experience boundary effects.\n",
      "  warnings.warn(\n"
     ]
    },
    {
     "name": "stdout",
     "output_type": "stream",
     "text": [
      "Original Error was 25.827914167539983 and reconstructed Error is 26.341433353390457\n"
     ]
    },
    {
     "data": {
      "image/png": "[encoded data removed]",
      "text/plain": [
       "<Figure size 432x288 with 1 Axes>"
      ]
     },
     "metadata": {
      "needs_background": "light"
     },
     "output_type": "display_data"
    },
    {
     "name": "stdout",
     "output_type": "stream",
     "text": [
      "Process Reconstruction on (30, 30) image\n"
     ]
    },
    {
     "name": "stderr",
     "output_type": "stream",
     "text": [
      "/home/bans/anaconda3/lib/python3.9/site-packages/pywt/_multilevel.py:43: UserWarning: Level value of 4 is too high: all coefficients will experience boundary effects.\n",
      "  warnings.warn(\n",
      "/home/bans/anaconda3/lib/python3.9/site-packages/sklearn/linear_model/_coordinate_descent.py:530: ConvergenceWarning: Objective did not converge. You might want to increase the number of iterations. Duality gap: 6141525.59359298, tolerance: 5659971.116814235\n",
      "  model = cd_fast.enet_coordinate_descent(\n"
     ]
    },
    {
     "name": "stdout",
     "output_type": "stream",
     "text": [
      "Original Error was 28.666623933704244 and reconstructed Error is 30.207964365562784\n"
     ]
    },
    {
     "data": {
      "image/png": "[encoded data removed]",
      "text/plain": [
       "<Figure size 432x288 with 1 Axes>"
      ]
     },
     "metadata": {
      "needs_background": "light"
     },
     "output_type": "display_data"
    }
   ],
   "source": [
    "image_nm = 'image/tree_part1.jpg'\n",
    "save_nm = image_nm.split('/')[1].split('.')[0]\n",
    "root = search_root()\n",
    "img = Image.open(os.path.join(root, image_nm))\n",
    "img = ImageOps.grayscale(img)\n",
    "img_arr = np.asarray(img)\n",
    "\n",
    "for (num_cell, sparse_freq, cell_size, alpha, lv, min_error) in V1_param_min_df.values:\n",
    "    num_cell = int(num_cell)\n",
    "    sparse_freq = int(sparse_freq)\n",
    "    cell_size = int(cell_size)\n",
    "    lv = int(lv)\n",
    "    reconst = filter_reconstruct(img_arr, num_cell, cell_size, sparse_freq, alpha=alpha, method = 'dwt', lv = lv, observation = 'V1')\n",
    "    plt.imshow(reconst)\n",
    "    error = error_calculation(img_arr, reconst)\n",
    "    print(\"Original Error was {min_err} and reconstructed Error is {re_err}\".format(min_err = min_error, re_err = error))\n",
    "    plt.show()"
   ]
  },
  {
   "cell_type": "markdown",
   "id": "13752b69",
   "metadata": {},
   "source": [
    "# Reconstruct Pixel"
   ]
  },
  {
   "cell_type": "code",
   "execution_count": 3,
   "id": "490de1a5",
   "metadata": {},
   "outputs": [],
   "source": [
    "V1_param_df = pd.read_csv(load_V1)\n",
    "for index in V1_param_df.columns:\n",
    "    if (index == 'Unnamed: 0') :\n",
    "        V1_param_df.drop('Unnamed: 0', axis = 1, inplace=True)\n",
    "V1_param_df.head(5)\n",
    "\n",
    "pixel_param_df = pd.read_csv(load_pixel)\n",
    "for index in pixel_param_df.columns:\n",
    "    if (index == 'Unnamed: 0') :\n",
    "        pixel_param_df.drop('Unnamed: 0', axis = 1, inplace=True)\n",
    "        \n",
    "gaussian_param_df = pd.read_csv(load_gaussian)\n",
    "for index in gaussian_param_df.columns:\n",
    "    if (index == 'Unnamed: 0') :\n",
    "        gaussian_param_df.drop('Unnamed: 0', axis = 1, inplace=True)        "
   ]
  },
  {
   "cell_type": "code",
   "execution_count": 4,
   "id": "63fb44dd",
   "metadata": {},
   "outputs": [
    {
     "data": {
      "text/html": [
       "<div>\n",
       "<style scoped>\n",
       "    .dataframe tbody tr th:only-of-type {\n",
       "        vertical-align: middle;\n",
       "    }\n",
       "\n",
       "    .dataframe tbody tr th {\n",
       "        vertical-align: top;\n",
       "    }\n",
       "\n",
       "    .dataframe thead th {\n",
       "        text-align: right;\n",
       "    }\n",
       "</style>\n",
       "<table border=\"1\" class=\"dataframe\">\n",
       "  <thead>\n",
       "    <tr style=\"text-align: right;\">\n",
       "      <th></th>\n",
       "      <th>num_cell</th>\n",
       "      <th>sparse_freq</th>\n",
       "      <th>cell_size</th>\n",
       "      <th>alp</th>\n",
       "      <th>lv</th>\n",
       "      <th>min_error</th>\n",
       "    </tr>\n",
       "  </thead>\n",
       "  <tbody>\n",
       "    <tr>\n",
       "      <th>2192</th>\n",
       "      <td>500</td>\n",
       "      <td>1</td>\n",
       "      <td>8</td>\n",
       "      <td>0.1</td>\n",
       "      <td>4</td>\n",
       "      <td>13.320367</td>\n",
       "    </tr>\n",
       "    <tr>\n",
       "      <th>1730</th>\n",
       "      <td>300</td>\n",
       "      <td>2</td>\n",
       "      <td>4</td>\n",
       "      <td>0.1</td>\n",
       "      <td>4</td>\n",
       "      <td>18.907626</td>\n",
       "    </tr>\n",
       "    <tr>\n",
       "      <th>1229</th>\n",
       "      <td>200</td>\n",
       "      <td>2</td>\n",
       "      <td>6</td>\n",
       "      <td>1.0</td>\n",
       "      <td>4</td>\n",
       "      <td>21.348293</td>\n",
       "    </tr>\n",
       "    <tr>\n",
       "      <th>728</th>\n",
       "      <td>100</td>\n",
       "      <td>2</td>\n",
       "      <td>8</td>\n",
       "      <td>10.0</td>\n",
       "      <td>4</td>\n",
       "      <td>25.827914</td>\n",
       "    </tr>\n",
       "    <tr>\n",
       "      <th>413</th>\n",
       "      <td>50</td>\n",
       "      <td>6</td>\n",
       "      <td>8</td>\n",
       "      <td>10.0</td>\n",
       "      <td>4</td>\n",
       "      <td>28.666624</td>\n",
       "    </tr>\n",
       "  </tbody>\n",
       "</table>\n",
       "</div>"
      ],
      "text/plain": [
       "      num_cell  sparse_freq  cell_size   alp  lv  min_error\n",
       "2192       500            1          8   0.1   4  13.320367\n",
       "1730       300            2          4   0.1   4  18.907626\n",
       "1229       200            2          6   1.0   4  21.348293\n",
       "728        100            2          8  10.0   4  25.827914\n",
       "413         50            6          8  10.0   4  28.666624"
      ]
     },
     "execution_count": 4,
     "metadata": {},
     "output_type": "execute_result"
    }
   ],
   "source": [
    "V1_param_mean_df = V1_param_df.groupby(\n",
    "    ['num_cell', 'sparse_freq', 'cell_size', 'alp', 'lv'], as_index=False).mean().drop('rep', axis=1) \n",
    "\n",
    "V1_param_min_df = V1_param_mean_df.sort_values('error').drop_duplicates('num_cell')\n",
    "V1_param_min_df = V1_param_min_df.rename(columns={'error': 'min_error'})\n",
    "V1_merged_df = pd.merge(V1_param_df, V1_param_min_df, \n",
    "                               on=['num_cell', 'sparse_freq', 'cell_size', 'alp', 'lv'], how='left')\n",
    "V1_plotting_data = V1_merged_df.loc[V1_merged_df['min_error'].notnull()]\n",
    "\n",
    "V1_min_mean_err_df = pd.DataFrame()\n",
    "for i in V1_param_mean_df['num_cell'].unique():\n",
    "    V1_temp = V1_param_mean_df.loc[V1_param_mean_df['num_cell'] == i]\n",
    "    #hyperparameter for each number of cell\n",
    "    ## Grabbing values by each values\n",
    "    V1_min_mean_err_df = V1_min_mean_err_df.append(V1_temp.loc[V1_temp['error'] == V1_temp['error'].min()])\n",
    "    \n",
    "# Merge two data to extract\n",
    "V1_min_mean_err_df = V1_min_mean_err_df.rename(columns={'error' : 'mean_err'})\n",
    "V1_merged_df = pd.merge(V1_param_df, V1_min_mean_err_df, on = ['num_cell', 'sparse_freq', 'cell_size', 'alp', 'lv'], how = 'left')\n",
    "V1_plotting_data = V1_merged_df.loc[V1_merged_df['mean_err'].notnull()]\n",
    "V1_param_min_df"
   ]
  }
 ],
 "metadata": {
  "kernelspec": {
   "display_name": "Python 3 (ipykernel)",
   "language": "python",
   "name": "python3"
  },
  "language_info": {
   "codemirror_mode": {
    "name": "ipython",
    "version": 3
   },
   "file_extension": ".py",
   "mimetype": "text/x-python",
   "name": "python",
   "nbconvert_exporter": "python",
   "pygments_lexer": "ipython3",
   "version": "3.9.7"
  }
 },
 "nbformat": 4,
 "nbformat_minor": 5
}
