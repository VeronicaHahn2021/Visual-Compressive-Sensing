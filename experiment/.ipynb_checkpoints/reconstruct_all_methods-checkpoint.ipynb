{
 "cells": [
  {
   "cell_type": "code",
   "execution_count": 1,
   "id": "f8c03260",
   "metadata": {},
   "outputs": [],
   "source": [
    "import os\n",
    "import sys\n",
    "sys.path.append('../')\n",
    "from src.compress_sensing_library import reconstruct, generate_V1_variables, generate_gaussian_variables, generate_classical_variables, error_calculation\n",
    "from matplotlib import pyplot as plt\n",
    "from PIL import Image, ImageOps\n",
    "import numpy as np\n",
    "import pywt\n",
    "import pandas as pd"
   ]
  },
  {
   "cell_type": "code",
   "execution_count": 2,
   "id": "c3a29b70",
   "metadata": {},
   "outputs": [],
   "source": [
    "img_list = [\"image/tree_part1.jpg\", \"image/\", \"image/city_part2.png\", \"image/city_part3.png\"]\n",
    "big_img = \"image/city_grayscaled.png\""
   ]
  },
  {
   "cell_type": "code",
   "execution_count": 3,
   "id": "7a9b1a4a",
   "metadata": {},
   "outputs": [
    {
     "data": {
      "image/png": "[encoded data removed]",
      "text/plain": [
       "<Figure size 432x288 with 1 Axes>"
      ]
     },
     "metadata": {
      "needs_background": "light"
     },
     "output_type": "display_data"
    }
   ],
   "source": [
    "image_nm = img_list[0]\n",
    "save_nm = image_nm.split('/')[1].split('.')[0]\n",
    "root = \"../\"\n",
    "img = Image.open(os.path.join(root + image_nm))\n",
    "img = ImageOps.grayscale(img)\n",
    "img_arr = np.asarray(img)\n",
    "plt.axis('off')\n",
    "plt.title('Original city image')\n",
    "plt.imshow(img_arr, 'gray')\n",
    "\n",
    "num_cell = 500\n",
    "cell_size = 7\n",
    "cell_freq = 2\n",
    "alpha = 1\n",
    "dwt_type =  'db1'\n",
    "lv = 1"
   ]
  },
  {
   "cell_type": "markdown",
   "id": "3b61ed77",
   "metadata": {},
   "source": [
    "# V1"
   ]
  },
  {
   "cell_type": "code",
   "execution_count": 4,
   "id": "80457b1a",
   "metadata": {},
   "outputs": [
    {
     "data": {
      "image/png": "[encoded data removed]",
      "text/plain": [
       "<Figure size 432x288 with 1 Axes>"
      ]
     },
     "metadata": {
      "needs_background": "light"
     },
     "output_type": "display_data"
    },
    {
     "name": "stdout",
     "output_type": "stream",
     "text": [
      "Error: 22.497790700149388\n"
     ]
    }
   ],
   "source": [
    "W_V1, y_V1 = generate_V1_variables(num_cell, cell_size, cell_freq, img_arr)\n",
    "theta_V1, reconst_V1, s_V1 = reconstruct(W_V1, y_V1, alpha = alpha, method = 'dwt', lv = lv, dwt_type = dwt_type)\n",
    "title = \"DWT Reconstruction(V1) at err {err:.3f}\".format(err = error_calculation(img_arr, reconst_V1))\n",
    "plt.title(title)\n",
    "plt.axis('off')\n",
    "plt.imshow(reconst_V1, 'gray', vmin = 0, vmax = 255)\n",
    "plt.clim(0, 255)\n",
    "# plt.savefig(title+\".png\", dpi = 300)\n",
    "plt.show()\n",
    "print(\"Error:\", error_calculation(img_arr, reconst_V1))"
   ]
  },
  {
   "cell_type": "code",
   "execution_count": null,
   "id": "ab0aa5df",
   "metadata": {},
   "outputs": [],
   "source": []
  },
  {
   "cell_type": "markdown",
   "id": "ad59a304",
   "metadata": {},
   "source": [
    "# Gaussian"
   ]
  },
  {
   "cell_type": "code",
   "execution_count": 5,
   "id": "e036589b",
   "metadata": {},
   "outputs": [
    {
     "ename": "TypeError",
     "evalue": "fourier_reconstruct() missing 1 required positional argument: 'fit_intercept'",
     "output_type": "error",
     "traceback": [
      "\u001b[1;31m---------------------------------------------------------------------------\u001b[0m",
      "\u001b[1;31mTypeError\u001b[0m                                 Traceback (most recent call last)",
      "\u001b[1;32m<ipython-input-5-36be624fe796>\u001b[0m in \u001b[0;36m<module>\u001b[1;34m\u001b[0m\n\u001b[0;32m      1\u001b[0m \u001b[0mW_Gau\u001b[0m\u001b[1;33m,\u001b[0m \u001b[0my_Gau\u001b[0m \u001b[1;33m=\u001b[0m \u001b[0mgenerate_gaussian_variables\u001b[0m\u001b[1;33m(\u001b[0m\u001b[0mimg_arr\u001b[0m\u001b[1;33m,\u001b[0m \u001b[0mnum_cell\u001b[0m\u001b[1;33m)\u001b[0m\u001b[1;33m\u001b[0m\u001b[1;33m\u001b[0m\u001b[0m\n\u001b[1;32m----> 2\u001b[1;33m \u001b[0mtheta_Gau\u001b[0m\u001b[1;33m,\u001b[0m \u001b[0mreconst_Gau\u001b[0m\u001b[1;33m,\u001b[0m \u001b[0ms_Gau\u001b[0m \u001b[1;33m=\u001b[0m \u001b[0mreconstruct\u001b[0m\u001b[1;33m(\u001b[0m\u001b[0mW_Gau\u001b[0m\u001b[1;33m,\u001b[0m \u001b[0my_Gau\u001b[0m\u001b[1;33m,\u001b[0m \u001b[0malpha\u001b[0m \u001b[1;33m=\u001b[0m \u001b[0malpha\u001b[0m \u001b[1;33m/\u001b[0m \u001b[1;36m2\u001b[0m\u001b[1;33m,\u001b[0m \u001b[0mmethod\u001b[0m \u001b[1;33m=\u001b[0m \u001b[1;34m'dct'\u001b[0m\u001b[1;33m,\u001b[0m \u001b[0mlv\u001b[0m \u001b[1;33m=\u001b[0m \u001b[0mlv\u001b[0m\u001b[1;33m,\u001b[0m \u001b[0mdwt_type\u001b[0m \u001b[1;33m=\u001b[0m \u001b[0mdwt_type\u001b[0m\u001b[1;33m)\u001b[0m\u001b[1;33m\u001b[0m\u001b[1;33m\u001b[0m\u001b[0m\n\u001b[0m\u001b[0;32m      3\u001b[0m \u001b[0mtitle\u001b[0m \u001b[1;33m=\u001b[0m \u001b[1;34m\"DWT Reconstruction(Gau) at err {err:.3f}\"\u001b[0m\u001b[1;33m.\u001b[0m\u001b[0mformat\u001b[0m\u001b[1;33m(\u001b[0m\u001b[0merr\u001b[0m \u001b[1;33m=\u001b[0m \u001b[0merror_calculation\u001b[0m\u001b[1;33m(\u001b[0m\u001b[0mimg_arr\u001b[0m\u001b[1;33m,\u001b[0m \u001b[0mreconst_Gau\u001b[0m\u001b[1;33m)\u001b[0m\u001b[1;33m)\u001b[0m\u001b[1;33m\u001b[0m\u001b[1;33m\u001b[0m\u001b[0m\n\u001b[0;32m      4\u001b[0m \u001b[0mplt\u001b[0m\u001b[1;33m.\u001b[0m\u001b[0mtitle\u001b[0m\u001b[1;33m(\u001b[0m\u001b[0mtitle\u001b[0m\u001b[1;33m)\u001b[0m\u001b[1;33m\u001b[0m\u001b[1;33m\u001b[0m\u001b[0m\n\u001b[0;32m      5\u001b[0m \u001b[0mplt\u001b[0m\u001b[1;33m.\u001b[0m\u001b[0maxis\u001b[0m\u001b[1;33m(\u001b[0m\u001b[1;34m'off'\u001b[0m\u001b[1;33m)\u001b[0m\u001b[1;33m\u001b[0m\u001b[1;33m\u001b[0m\u001b[0m\n",
      "\u001b[1;32m~\\Work\\research\\src\\compress_sensing_library.py\u001b[0m in \u001b[0;36mreconstruct\u001b[1;34m(W, y, alpha, fit_intercept, method, lv, dwt_type)\u001b[0m\n\u001b[0;32m    320\u001b[0m \u001b[1;33m\u001b[0m\u001b[0m\n\u001b[0;32m    321\u001b[0m     \u001b[1;32mif\u001b[0m \u001b[1;33m(\u001b[0m\u001b[0mmethod\u001b[0m \u001b[1;33m==\u001b[0m \u001b[1;34m'dct'\u001b[0m\u001b[1;33m)\u001b[0m \u001b[1;33m:\u001b[0m\u001b[1;33m\u001b[0m\u001b[1;33m\u001b[0m\u001b[0m\n\u001b[1;32m--> 322\u001b[1;33m         \u001b[0mtheta\u001b[0m\u001b[1;33m,\u001b[0m \u001b[0ms\u001b[0m\u001b[1;33m,\u001b[0m \u001b[0mreconstruct\u001b[0m \u001b[1;33m=\u001b[0m \u001b[0mfourier_reconstruct\u001b[0m\u001b[1;33m(\u001b[0m\u001b[0mW\u001b[0m\u001b[1;33m,\u001b[0m \u001b[0my\u001b[0m\u001b[1;33m,\u001b[0m \u001b[0msample_sz\u001b[0m\u001b[1;33m,\u001b[0m \u001b[0mn\u001b[0m\u001b[1;33m,\u001b[0m \u001b[0mm\u001b[0m\u001b[1;33m,\u001b[0m \u001b[0mfit_intercept\u001b[0m\u001b[1;33m)\u001b[0m\u001b[1;33m\u001b[0m\u001b[1;33m\u001b[0m\u001b[0m\n\u001b[0m\u001b[0;32m    323\u001b[0m     \u001b[1;32melif\u001b[0m \u001b[1;33m(\u001b[0m\u001b[0mmethod\u001b[0m \u001b[1;33m==\u001b[0m \u001b[1;34m'dwt'\u001b[0m\u001b[1;33m)\u001b[0m \u001b[1;33m:\u001b[0m\u001b[1;33m\u001b[0m\u001b[1;33m\u001b[0m\u001b[0m\n\u001b[0;32m    324\u001b[0m         \u001b[0mtheta\u001b[0m\u001b[1;33m,\u001b[0m \u001b[0mreconstruct\u001b[0m\u001b[1;33m,\u001b[0m \u001b[0ms\u001b[0m \u001b[1;33m=\u001b[0m \u001b[0mwavelet_reconstruct\u001b[0m\u001b[1;33m(\u001b[0m\u001b[0mW\u001b[0m\u001b[1;33m,\u001b[0m \u001b[0my\u001b[0m\u001b[1;33m,\u001b[0m \u001b[0malpha\u001b[0m\u001b[1;33m,\u001b[0m \u001b[0msample_sz\u001b[0m\u001b[1;33m,\u001b[0m \u001b[0mn\u001b[0m\u001b[1;33m,\u001b[0m \u001b[0mm\u001b[0m\u001b[1;33m,\u001b[0m \u001b[0mfit_intercept\u001b[0m\u001b[1;33m,\u001b[0m \u001b[0mdwt_type\u001b[0m\u001b[1;33m,\u001b[0m \u001b[0mlv\u001b[0m\u001b[1;33m)\u001b[0m\u001b[1;33m\u001b[0m\u001b[1;33m\u001b[0m\u001b[0m\n",
      "\u001b[1;31mTypeError\u001b[0m: fourier_reconstruct() missing 1 required positional argument: 'fit_intercept'"
     ]
    }
   ],
   "source": [
    "W_Gau, y_Gau = generate_gaussian_variables(img_arr, num_cell)\n",
    "theta_Gau, reconst_Gau, s_Gau = reconstruct(W_Gau, y_Gau, alpha = alpha / 2, method = 'dct', lv = lv, dwt_type = dwt_type)\n",
    "title = \"DWT Reconstruction(Gau) at err {err:.3f}\".format(err = error_calculation(img_arr, reconst_Gau))\n",
    "plt.title(title)\n",
    "plt.axis('off')\n",
    "plt.imshow(reconst_Gau, 'gray', vmin = 0, vmax = 255)\n",
    "plt.clim(0, 255)\n",
    "# plt.savefig(title+\".png\", dpi = 300)\n",
    "plt.show()\n",
    "print(\"Error:\", error_calculation(img_arr, reconst_Gau))"
   ]
  },
  {
   "cell_type": "code",
   "execution_count": 6,
   "id": "12d15570",
   "metadata": {},
   "outputs": [
    {
     "name": "stderr",
     "output_type": "stream",
     "text": [
      "C:\\Users\\qkstn\\anaconda3\\lib\\site-packages\\sklearn\\linear_model\\_coordinate_descent.py:530: ConvergenceWarning: Objective did not converge. You might want to increase the number of iterations. Duality gap: 2036436.5194281898, tolerance: 945741.2993524133\n",
      "  model = cd_fast.enet_coordinate_descent(\n"
     ]
    },
    {
     "data": {
      "image/png": "[encoded data removed]",
      "text/plain": [
       "<Figure size 432x288 with 1 Axes>"
      ]
     },
     "metadata": {
      "needs_background": "light"
     },
     "output_type": "display_data"
    },
    {
     "name": "stdout",
     "output_type": "stream",
     "text": [
      "Error: 69.94453285436138\n"
     ]
    }
   ],
   "source": [
    "W_Gau, y_Gau = generate_gaussian_variables(img_arr, num_cell)\n",
    "theta_Gau, reconst_Gau, s_Gau = reconstruct(W_Gau, y_Gau, alpha = alpha / 2, method = 'dwt', lv = lv, dwt_type = dwt_type)\n",
    "title = \"DWT Reconstruction(Gau) at err {err:.3f}\".format(err = error_calculation(img_arr, reconst_Gau))\n",
    "plt.title(title)\n",
    "plt.axis('off')\n",
    "plt.imshow(reconst_Gau, 'gray', vmin = 0, vmax = 255)\n",
    "plt.clim(0, 255)\n",
    "# plt.savefig(title+\".png\", dpi = 300)\n",
    "plt.show()\n",
    "print(\"Error:\", error_calculation(img_arr, reconst_Gau))"
   ]
  },
  {
   "cell_type": "code",
   "execution_count": null,
   "id": "6e6f703f",
   "metadata": {},
   "outputs": [],
   "source": []
  },
  {
   "cell_type": "markdown",
   "id": "8361c00d",
   "metadata": {},
   "source": [
    "# Classical"
   ]
  },
  {
   "cell_type": "code",
   "execution_count": null,
   "id": "a13ff7f5",
   "metadata": {},
   "outputs": [],
   "source": []
  },
  {
   "cell_type": "code",
   "execution_count": null,
   "id": "eb26220c",
   "metadata": {},
   "outputs": [],
   "source": [
    "W_Cla.shape\n",
    "# y_Cla.shape"
   ]
  },
  {
   "cell_type": "code",
   "execution_count": 7,
   "id": "af6067c7",
   "metadata": {
    "scrolled": true
   },
   "outputs": [
    {
     "data": {
      "image/png": "[encoded data removed]",
      "text/plain": [
       "<Figure size 432x288 with 1 Axes>"
      ]
     },
     "metadata": {
      "needs_background": "light"
     },
     "output_type": "display_data"
    },
    {
     "name": "stdout",
     "output_type": "stream",
     "text": [
      "Error: 46.584490571547356\n"
     ]
    }
   ],
   "source": [
    "W_Cla, y_Cla = generate_classical_variables(img_arr, num_cell)\n",
    "theta_Cla, reconst_Cla, s_Cla = reconstruct(W_Cla, y_Cla, method = 'dwt', lv = lv, dwt_type = dwt_type)\n",
    "title = \"DWT Reconstruction(Cla) at err {err:.3f}\".format(err = error_calculation(img_arr, reconst_Cla))\n",
    "plt.title(title)\n",
    "plt.axis('off')\n",
    "plt.imshow(reconst_Cla, 'gray', vmin = 0, vmax = 255)\n",
    "plt.clim(0, 255)\n",
    "# plt.savefig(title+\".png\", dpi = 300)\n",
    "plt.show()\n",
    "print(\"Error:\", error_calculation(img_arr, reconst_Cla))"
   ]
  },
  {
   "cell_type": "code",
   "execution_count": null,
   "id": "724e0580",
   "metadata": {},
   "outputs": [],
   "source": []
  },
  {
   "cell_type": "code",
   "execution_count": null,
   "id": "f8de3a88",
   "metadata": {},
   "outputs": [],
   "source": []
  }
 ],
 "metadata": {
  "kernelspec": {
   "display_name": "Python 3",
   "language": "python",
   "name": "python3"
  },
  "language_info": {
   "codemirror_mode": {
    "name": "ipython",
    "version": 3
   },
   "file_extension": ".py",
   "mimetype": "text/x-python",
   "name": "python",
   "nbconvert_exporter": "python",
   "pygments_lexer": "ipython3",
   "version": "3.8.8"
  }
 },
 "nbformat": 4,
 "nbformat_minor": 5
}
