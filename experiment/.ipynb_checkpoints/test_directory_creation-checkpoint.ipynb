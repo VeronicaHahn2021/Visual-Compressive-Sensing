{
 "cells": [
  {
   "cell_type": "code",
   "execution_count": 11,
   "id": "b98b43fb",
   "metadata": {},
   "outputs": [
    {
     "ename": "ModuleNotFoundError",
     "evalue": "No module named 'compress_sensing_library'",
     "output_type": "error",
     "traceback": [
      "\u001b[0;31m---------------------------------------------------------------------------\u001b[0m",
      "\u001b[0;31mModuleNotFoundError\u001b[0m                       Traceback (most recent call last)",
      "\u001b[0;32m/tmp/ipykernel_3133685/1923077246.py\u001b[0m in \u001b[0;36m<module>\u001b[0;34m\u001b[0m\n\u001b[1;32m      1\u001b[0m \u001b[0;32mfrom\u001b[0m \u001b[0mpathlib\u001b[0m \u001b[0;32mimport\u001b[0m \u001b[0mPath\u001b[0m\u001b[0;34m\u001b[0m\u001b[0;34m\u001b[0m\u001b[0m\n\u001b[1;32m      2\u001b[0m \u001b[0mos\u001b[0m\u001b[0;34m.\u001b[0m\u001b[0mpath\u001b[0m\u001b[0;34m.\u001b[0m\u001b[0mjoin\u001b[0m\u001b[0;34m(\u001b[0m\u001b[0;34m'../src'\u001b[0m\u001b[0;34m)\u001b[0m\u001b[0;34m\u001b[0m\u001b[0;34m\u001b[0m\u001b[0m\n\u001b[0;32m----> 3\u001b[0;31m \u001b[0;32mfrom\u001b[0m \u001b[0mcompress_sensing_library\u001b[0m \u001b[0;32mimport\u001b[0m \u001b[0mreconstruct\u001b[0m\u001b[0;34m,\u001b[0m\u001b[0mgenerate_V1_variables\u001b[0m\u001b[0;34m,\u001b[0m \u001b[0merror_calculation\u001b[0m\u001b[0;34m\u001b[0m\u001b[0;34m\u001b[0m\u001b[0m\n\u001b[0m",
      "\u001b[0;31mModuleNotFoundError\u001b[0m: No module named 'compress_sensing_library'"
     ]
    }
   ],
   "source": [
    "from pathlib import Path\n",
    "import os\n",
    "os.path.join(\"../src\")\n",
    "from compress_sensing_library import reconstruct, generate_V1_variables, error_calculation\n",
    "from matplotlib import pyplot as plt\n",
    "from PIL import Image, ImageOps\n",
    "import numpy as np\n",
    "import pywt"
   ]
  },
  {
   "cell_type": "code",
   "execution_count": null,
   "id": "82f1a4e0",
   "metadata": {},
   "outputs": [],
   "source": [
    "image_nm = 'image/city_part2.png'\n",
    "save_nm = image_nm.split('/')[1].split('.')[0]\n",
    "img = Image.open(os.path.join(\"../\" + image_nm))\n",
    "img = ImageOps.grayscale(img)\n",
    "img_arr = np.asarray(img)\n",
    "plt.axis('off')\n",
    "plt.title('Original city image')\n",
    "plt.imshow(img_arr, 'gray')\n",
    "\n",
    "num_cell = 500\n",
    "cell_size = 7\n",
    "cell_freq = 2\n",
    "alpha = 1\n",
    "dwt_type =  'db1'"
   ]
  },
  {
   "cell_type": "code",
   "execution_count": null,
   "id": "18e834bd",
   "metadata": {},
   "outputs": [],
   "source": [
    "W, y = generate_V1_variables(num_cell, cell_size, cell_freq, img_arr)\n",
    "theta, reconst, s = reconstruct(W, y, alpha)"
   ]
  },
  {
   "cell_type": "code",
   "execution_count": null,
   "id": "8e5c02a3",
   "metadata": {},
   "outputs": [],
   "source": [
    "plt.imshow(reconst, 'gray')\n",
    "plt.savefig(fig_path, dpi = 300)"
   ]
  },
  {
   "cell_type": "code",
   "execution_count": null,
   "id": "ce230c98",
   "metadata": {},
   "outputs": [],
   "source": [
    "\n",
    "Path(\"../\").exists()"
   ]
  },
  {
   "cell_type": "code",
   "execution_count": null,
   "id": "a23113b4",
   "metadata": {},
   "outputs": [],
   "source": [
    "os.path.basename()"
   ]
  },
  {
   "cell_type": "code",
   "execution_count": null,
   "id": "4171aba1",
   "metadata": {},
   "outputs": [],
   "source": [
    "Path.parent"
   ]
  },
  {
   "cell_type": "code",
   "execution_count": null,
   "id": "b4cba1fa",
   "metadata": {},
   "outputs": [],
   "source": [
    "print(Path.parent.name)"
   ]
  },
  {
   "cell_type": "code",
   "execution_count": null,
   "id": "235579f5",
   "metadata": {},
   "outputs": [],
   "source": [
    "def fig_path(img_nm, method, observation, save_nm):\n",
    "    save_nm = save_nm.replace(\" \", \"_\")\n",
    "    Path(\"../figures/{method}/{img_nm}/{observation}\".format(\n",
    "        method = method, img_nm = img_nm, observation = observation)).mkdir(parents=True, exist_ok = True)\n",
    "    return \"../figures/{method}/{img_nm}/{observation}/{save_nm}.png\".format(\n",
    "        method = method, img_nm = img_nm, observation = observation, save_nm = save_nm)\n",
    "     "
   ]
  },
  {
   "cell_type": "code",
   "execution_count": null,
   "id": "1ced3dfc",
   "metadata": {},
   "outputs": [],
   "source": [
    "def data_path(img_nm, method, observation, save_nm): \n",
    "    save_nm = save_nm.replace(\" \", \"_\")\n",
    "    return \"../result/{method}/{img_nm}/{observation}/{save_nm}.csv\".format(\n",
    "        method = method, img_nm = img_nm, observation = observation, save_nm = save_nm)"
   ]
  },
  {
   "cell_type": "code",
   "execution_count": null,
   "id": "886a7b66",
   "metadata": {},
   "outputs": [],
   "source": [
    "fig_path = fig_save_path(image_nm.split('/')[1].split('.')[0], 'dct', 'V1', \"test save file\")\n",
    "fig_path"
   ]
  },
  {
   "cell_type": "code",
   "execution_count": null,
   "id": "7300a143",
   "metadata": {},
   "outputs": [],
   "source": [
    "fig_path"
   ]
  },
  {
   "cell_type": "code",
   "execution_count": null,
   "id": "e33894c6",
   "metadata": {},
   "outputs": [],
   "source": []
  }
 ],
 "metadata": {
  "kernelspec": {
   "display_name": "Python 3 (ipykernel)",
   "language": "python",
   "name": "python3"
  },
  "language_info": {
   "codemirror_mode": {
    "name": "ipython",
    "version": 3
   },
   "file_extension": ".py",
   "mimetype": "text/x-python",
   "name": "python",
   "nbconvert_exporter": "python",
   "pygments_lexer": "ipython3",
   "version": "3.9.7"
  }
 },
 "nbformat": 4,
 "nbformat_minor": 5
}
