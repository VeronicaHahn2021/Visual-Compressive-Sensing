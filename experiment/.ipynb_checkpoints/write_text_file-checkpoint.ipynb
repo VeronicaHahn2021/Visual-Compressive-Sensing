{
 "cells": [
  {
   "cell_type": "code",
   "execution_count": 8,
   "id": "bcb1d58b",
   "metadata": {},
   "outputs": [],
   "source": [
    "import sys\n",
    "sys.path.append('../')\n",
    "from src.compress_sensing_library import *\n",
    "import pandas as pd"
   ]
  },
  {
   "cell_type": "code",
   "execution_count": 23,
   "id": "8f2811ff",
   "metadata": {},
   "outputs": [
    {
     "name": "stdout",
     "output_type": "stream",
     "text": [
      "upper triggered: V1\n",
      "[50, 100, 200]\n"
     ]
    }
   ],
   "source": [
    "hyperparam_track = data_save_path('tree_part1', 'dct', 'V1', 'test')\n",
    "hyperparam_track = hyperparam_track.split('.')[0] + '.txt'\n",
    "rep = 10\n",
    "alp = [1, 2, 3, 4, 5, 6]\n",
    "num_cell = [50, 100, 200]\n",
    "cell_size = [1, 2, 4, 6, 8]\n",
    "sparse_freq = [1, 2, 4, 6, 8]\n",
    "search_list = [rep, alp, num_cell, cell_size, sparse_freq]\n",
    "\n",
    "hyperparam_list = list(zip(search_df.columns, search_list))[2][1]\n",
    "f = open(hyperparam_track, \"a+\")\n",
    "for i in hyperparam_list:\n",
    "    f.write(i[0] + \": \" + i[1] + \"\\n\")\n",
    "f.write(\"\\n\")\n",
    "f.close()"
   ]
  },
  {
   "cell_type": "code",
   "execution_count": 15,
   "id": "63f44378",
   "metadata": {},
   "outputs": [
    {
     "data": {
      "text/plain": [
       "Index(['alp', 'num_cell', 'cell_size', 'sparse_freq'], dtype='object')"
      ]
     },
     "execution_count": 15,
     "metadata": {},
     "output_type": "execute_result"
    }
   ],
   "source": [
    "search_df = pd.DataFrame(columns= [ 'rep', 'alp', 'num_cell', 'cell_size', 'sparse_freq'])\n",
    "search_df.columns[1:]"
   ]
  },
  {
   "cell_type": "code",
   "execution_count": null,
   "id": "a1bcbed0",
   "metadata": {},
   "outputs": [],
   "source": []
  }
 ],
 "metadata": {
  "kernelspec": {
   "display_name": "Python 3 (ipykernel)",
   "language": "python",
   "name": "python3"
  },
  "language_info": {
   "codemirror_mode": {
    "name": "ipython",
    "version": 3
   },
   "file_extension": ".py",
   "mimetype": "text/x-python",
   "name": "python",
   "nbconvert_exporter": "python",
   "pygments_lexer": "ipython3",
   "version": "3.9.7"
  }
 },
 "nbformat": 4,
 "nbformat_minor": 5
}
