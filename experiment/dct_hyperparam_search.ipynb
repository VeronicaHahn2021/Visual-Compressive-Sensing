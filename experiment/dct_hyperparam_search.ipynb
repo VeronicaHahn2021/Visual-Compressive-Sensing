{
 "cells": [
  {
   "cell_type": "code",
   "execution_count": 1,
   "id": "a53986c2",
   "metadata": {},
   "outputs": [],
   "source": [
    "import numpy as np\n",
    "import sys\n",
    "sys.path.append(\"../\")\n",
    "from pathlib import Path\n",
    "\n",
    "# Package for importing image representation\n",
    "from PIL import Image, ImageOps\n",
    "\n",
    "from src.compress_sensing_library import reconstruct, generate_classical_variables, error_calculation\n",
    "\n",
    "import pandas as pd\n",
    "import itertools\n",
    "import dask\n",
    "from dask.distributed import Client, progress\n",
    "import time\n",
    "import os.path"
   ]
  },
  {
   "cell_type": "code",
   "execution_count": 2,
   "id": "9ea77fb0",
   "metadata": {},
   "outputs": [
    {
     "ename": "SyntaxError",
     "evalue": "invalid syntax (955110356.py, line 24)",
     "output_type": "error",
     "traceback": [
      "\u001b[0;36m  File \u001b[0;32m\"/tmp/ipykernel_110489/955110356.py\"\u001b[0;36m, line \u001b[0;32m24\u001b[0m\n\u001b[0;31m    if\u001b[0m\n\u001b[0m       ^\u001b[0m\n\u001b[0;31mSyntaxError\u001b[0m\u001b[0;31m:\u001b[0m invalid syntax\n"
     ]
    }
   ],
   "source": [
    "def search(img_arr, repetition = 20, observation = 'classical' alpha_list = None, num_cell_list = None, method = 'dct'):\n",
    "    cn, cm = img_arr.shape\n",
    "    params = []\n",
    "    results = []\n",
    "\n",
    "    #Ternary Operater. Set up alpha and classical_samp_list to be default size for\n",
    "    #Hyperparameter sweep\n",
    "    alpha_list = np.logspace(-3, 3, 7) if None else alpha_list\n",
    "    num_cell_list = [50, 100, 200, 500] if None else num_cell_list\n",
    "\n",
    "    # List to make combination of\n",
    "    search_list = {'repetition': repetition,\n",
    "                   'alpha_list': alpha_list,\n",
    "                   'classical_samp_list': num_cell_list\n",
    "                  }\n",
    "\n",
    "\n",
    "\n",
    "    # Get repetition * alpha combination amount of result\n",
    "    for row in itertools.product(*search_list.values()):\n",
    "        product = dict(zip(search_list.keys(), row))\n",
    "        rep, alpha, sample_size = product.values()\n",
    "        \n",
    "        if \n",
    "        C3D, y = generate_classical_variables(img_arr, sample_size)\n",
    "        theta, reconst, s = reconstruct(C3D, y, alpha)\n",
    "        \n",
    "        error = error_calculation(img_arr, reconst)\n",
    "        \n",
    "        params.append({'classical_samp' : classical_samp,\n",
    "                       'alpha' : alp,\n",
    "                       'method' : method,\n",
    "                       'repetition' : rep,\n",
    "                       'error' : error\n",
    "                      })\n",
    "        results.append({'s' : s,\n",
    "                        'theta' : theta,\n",
    "                        'reform' : reconst,\n",
    "                       })\n",
    "        \n",
    "    return params, results, \n",
    "\n",
    "\n",
    "    \n",
    "    "
   ]
  },
  {
   "cell_type": "code",
   "execution_count": 3,
   "id": "d47909f6",
   "metadata": {
    "scrolled": true
   },
   "outputs": [
    {
     "ename": "FileNotFoundError",
     "evalue": "[Errno 2] No such file or directory: '../image/-f'",
     "output_type": "error",
     "traceback": [
      "\u001b[0;31m---------------------------------------------------------------------------\u001b[0m",
      "\u001b[0;31mFileNotFoundError\u001b[0m                         Traceback (most recent call last)",
      "\u001b[0;32m/tmp/ipykernel_110489/2313181883.py\u001b[0m in \u001b[0;36m<module>\u001b[0;34m\u001b[0m\n\u001b[1;32m     17\u001b[0m \u001b[0;34m\u001b[0m\u001b[0m\n\u001b[1;32m     18\u001b[0m \u001b[0;32mif\u001b[0m \u001b[0m__name__\u001b[0m \u001b[0;34m==\u001b[0m \u001b[0;34m\"__main__\"\u001b[0m\u001b[0;34m:\u001b[0m\u001b[0;34m\u001b[0m\u001b[0;34m\u001b[0m\u001b[0m\n\u001b[0;32m---> 19\u001b[0;31m     \u001b[0mmain\u001b[0m\u001b[0;34m(\u001b[0m\u001b[0;34m)\u001b[0m\u001b[0;34m\u001b[0m\u001b[0;34m\u001b[0m\u001b[0m\n\u001b[0m\u001b[1;32m     20\u001b[0m \u001b[0;34m\u001b[0m\u001b[0m\n",
      "\u001b[0;32m/tmp/ipykernel_110489/2313181883.py\u001b[0m in \u001b[0;36mmain\u001b[0;34m()\u001b[0m\n\u001b[1;32m      3\u001b[0m     \u001b[0mimage_path\u001b[0m \u001b[0;34m=\u001b[0m\u001b[0;34m'../image/{img}'\u001b[0m\u001b[0;34m.\u001b[0m\u001b[0mformat\u001b[0m\u001b[0;34m(\u001b[0m\u001b[0mimg\u001b[0m \u001b[0;34m=\u001b[0m \u001b[0mfile\u001b[0m\u001b[0;34m)\u001b[0m\u001b[0;34m\u001b[0m\u001b[0;34m\u001b[0m\u001b[0m\n\u001b[1;32m      4\u001b[0m     \u001b[0mimage_nm\u001b[0m \u001b[0;34m=\u001b[0m \u001b[0mimage_path\u001b[0m\u001b[0;34m.\u001b[0m\u001b[0msplit\u001b[0m\u001b[0;34m(\u001b[0m\u001b[0;34m'/'\u001b[0m\u001b[0;34m)\u001b[0m\u001b[0;34m[\u001b[0m\u001b[0;36m2\u001b[0m\u001b[0;34m]\u001b[0m\u001b[0;34m.\u001b[0m\u001b[0msplit\u001b[0m\u001b[0;34m(\u001b[0m\u001b[0;34m'.'\u001b[0m\u001b[0;34m)\u001b[0m\u001b[0;34m[\u001b[0m\u001b[0;36m0\u001b[0m\u001b[0;34m]\u001b[0m\u001b[0;34m\u001b[0m\u001b[0;34m\u001b[0m\u001b[0m\n\u001b[0;32m----> 5\u001b[0;31m     \u001b[0mimg\u001b[0m \u001b[0;34m=\u001b[0m \u001b[0mImage\u001b[0m\u001b[0;34m.\u001b[0m\u001b[0mopen\u001b[0m\u001b[0;34m(\u001b[0m\u001b[0mimage_path\u001b[0m\u001b[0;34m)\u001b[0m\u001b[0;34m\u001b[0m\u001b[0;34m\u001b[0m\u001b[0m\n\u001b[0m\u001b[1;32m      6\u001b[0m     \u001b[0mimg\u001b[0m \u001b[0;34m=\u001b[0m \u001b[0mImageOps\u001b[0m\u001b[0;34m.\u001b[0m\u001b[0mgrayscale\u001b[0m\u001b[0;34m(\u001b[0m\u001b[0mimg\u001b[0m\u001b[0;34m)\u001b[0m\u001b[0;34m\u001b[0m\u001b[0;34m\u001b[0m\u001b[0m\n\u001b[1;32m      7\u001b[0m     \u001b[0mimg_arr\u001b[0m \u001b[0;34m=\u001b[0m \u001b[0mnp\u001b[0m\u001b[0;34m.\u001b[0m\u001b[0masarray\u001b[0m\u001b[0;34m(\u001b[0m\u001b[0mimg\u001b[0m\u001b[0;34m)\u001b[0m\u001b[0;34m\u001b[0m\u001b[0;34m\u001b[0m\u001b[0m\n",
      "\u001b[0;32m~/anaconda3/lib/python3.9/site-packages/PIL/Image.py\u001b[0m in \u001b[0;36mopen\u001b[0;34m(fp, mode, formats)\u001b[0m\n\u001b[1;32m   2973\u001b[0m \u001b[0;34m\u001b[0m\u001b[0m\n\u001b[1;32m   2974\u001b[0m     \u001b[0;32mif\u001b[0m \u001b[0mfilename\u001b[0m\u001b[0;34m:\u001b[0m\u001b[0;34m\u001b[0m\u001b[0;34m\u001b[0m\u001b[0m\n\u001b[0;32m-> 2975\u001b[0;31m         \u001b[0mfp\u001b[0m \u001b[0;34m=\u001b[0m \u001b[0mbuiltins\u001b[0m\u001b[0;34m.\u001b[0m\u001b[0mopen\u001b[0m\u001b[0;34m(\u001b[0m\u001b[0mfilename\u001b[0m\u001b[0;34m,\u001b[0m \u001b[0;34m\"rb\"\u001b[0m\u001b[0;34m)\u001b[0m\u001b[0;34m\u001b[0m\u001b[0;34m\u001b[0m\u001b[0m\n\u001b[0m\u001b[1;32m   2976\u001b[0m         \u001b[0mexclusive_fp\u001b[0m \u001b[0;34m=\u001b[0m \u001b[0;32mTrue\u001b[0m\u001b[0;34m\u001b[0m\u001b[0;34m\u001b[0m\u001b[0m\n\u001b[1;32m   2977\u001b[0m \u001b[0;34m\u001b[0m\u001b[0m\n",
      "\u001b[0;31mFileNotFoundError\u001b[0m: [Errno 2] No such file or directory: '../image/-f'"
     ]
    }
   ],
   "source": [
    "def main():\n",
    "    '''\n",
    "    arg[1] = img_name ex)tree_part1.jpg\n",
    "    arg[2] = observation_type ex)classical, V1, gaussian\n",
    "    arg[3] = num_cell list ex) [50, 100, 200, 500]\n",
    "    arg[4] = cell_size list ex) [1, 2, 4, 8, 10]\n",
    "    arg[5] = sparse_freq ex) [1, 2, 4, 8, 10]\n",
    "    '''\n",
    "    file = sys.argv[1]\n",
    "    image_path ='../image/{img}'.format(img = file)\n",
    "    image_nm = image_path.split('/')[2].split('.')[0]\n",
    "    img = Image.open(image_path)\n",
    "    img = ImageOps.grayscale(img)\n",
    "    img_arr = np.asarray(img)\n",
    "    save_path = os.path.join(\"../result/{img_nm}/V1\".format(img_nm = image_nm))\n",
    "    params, results = search(img_arr = img_arr)\n",
    "    print('Process Completed')\n",
    "    \n",
    "    save_path = os.path.join('./result/{img}/Classical/'.format(img = image_nm))\n",
    "\n",
    "    classical_param_df = pd.DataFrame(params)\n",
    "    classical_param_df.to_csv(os.path.join(save_path, \"Classical_Param_\" + \"_\".join(str.split(time.ctime().replace(\":\", \"_\"))) + \".csv\"))\n",
    "    print('Save Completed. Terminate program')\n",
    "\n",
    "if __name__ == \"__main__\":\n",
    "    main()\n",
    "    "
   ]
  },
  {
   "cell_type": "code",
   "execution_count": null,
   "id": "a474f7d8",
   "metadata": {},
   "outputs": [],
   "source": []
  },
  {
   "cell_type": "code",
   "execution_count": null,
   "id": "937f678f",
   "metadata": {},
   "outputs": [],
   "source": []
  },
  {
   "cell_type": "code",
   "execution_count": null,
   "id": "83728c1c",
   "metadata": {},
   "outputs": [],
   "source": [
    "import numpy as np\n",
    "import numpy.linalg as la\n",
    "import sys\n",
    "sys.path.append(\"../\")\n",
    "import matplotlib.pyplot as plt\n",
    "\n",
    "# Package for importing image representation\n",
    "from PIL import Image, ImageOps\n",
    "\n",
    "from compress_sensing_library import generate_Y, reconstruct\n",
    "import pandas as pd\n",
    "import itertools\n",
    "import dask\n",
    "from dask.distributed import Client, progress\n",
    "import time\n",
    "import os.path\n",
    "\n"
   ]
  },
  {
   "cell_type": "code",
   "execution_count": 67,
   "id": "5fdad943",
   "metadata": {},
   "outputs": [],
   "source": [
    "def run_sim(img_arr, rep, alp, num, sz, freq):\n",
    "    num = int(num)\n",
    "    img_arr = np.array([img_arr]).squeeze()\n",
    "    dim = img_arr.shape\n",
    "    n, m = dim\n",
    "\n",
    "    # Generate V1 weight with y\n",
    "    W = V1_weights(num, dim, sz, freq) \n",
    "    y = generate_Y(W, img_arr)\n",
    "    W_model = W.reshape(num, n, m)\n",
    "    \n",
    "    # Call function and calculate error\n",
    "    theta, reform, s = reconstruct(W_model, y, alp)\n",
    "    error = np.linalg.norm(img_arr - reform, 'fro') / np.sqrt(m*n)\n",
    "    \n",
    "    return error, theta, reform, s\n",
    "\n",
    "\n",
    "def main() :\n",
    "    '''\n",
    "    arg[1] = img_name ex)tree_part1.jpg\n",
    "    arg[2] = observation_type ex)classical, V1, gaussian\n",
    "    arg[3] = alpha_list ex) [0.001, 0.01, 0.1]\n",
    "    arg[4] = num_cell list ex) [50, 100, 200, 500]\n",
    "    arg[5] = cell_size list ex) [1, 2, 4, 8, 10]\n",
    "    arg[6] = sparse_freq ex) [1, 2, 4, 8, 10]\n",
    "    '''\n",
    "    # Set up hyperparameters that would affect results\n",
    "    param_dict = {\n",
    "        1 : None, \n",
    "        2 : 'classical', \n",
    "        3 : np.logspace(-3, 3, 7),\n",
    "        4 : [50, 100, 200, 500], \n",
    "        5 : [2, 5, 7],\n",
    "        6 : [1, 2, 5]\n",
    "    }\n",
    "    if (len(sys.argv) < 1):\n",
    "        print(\"File Name at least required\");\n",
    "    else :\n",
    "        if (sys.argv[1] == \"help\" | sys.argv[1] == \"-h\"):\n",
    "            print(\"Usage \\n \\\n",
    "                  \\targ[1] = img_name ex)tree_part1.jpg \\n \\\n",
    "                  \\t arg[2] = observation_type ex)classical, V1, gaussian \\n \\\n",
    "                  \\t arg[3] = num_cell list ex) [50, 100, 200, 500] \\n \\\n",
    "                  \\t arg[4] = cell_size list ex) [1, 2, 4, 8, 10] \\n \\\n",
    "                  \\t arg[5] = sparse_freq ex) [1, 2, 4, 8, 10]\")\n",
    "            sys.exit(0)\n",
    "        else :\n",
    "            dict[1] = sys.argv[1]\n",
    "    if (len(sys.argv) >= 2):\n",
    "        for i in range(2, len(sys.argv)):\n",
    "            dict[i] = sys.argv[i]\n",
    "    \n",
    "    file, observation, alpha, num_cell, cell_sz, sparse_freq = param_dict.values()\n",
    "    \n",
    "    #Make sure the data type input is in correct format\n",
    "    assert type(file) == str\n",
    "    assert type(observation) == str\n",
    "    assert type(alpha) == list\n",
    "    assert type(num_cell) == list\n",
    "    assert type(cell_sz) == list\n",
    "    assert type(sparse_freq) == list\n",
    "    \n",
    "    \n",
    "    image_path ='../image/{img}'.format(img = file)\n",
    "    delay_list = []\n",
    "    params = []\n",
    "    alpha = np.logspace(-3, 3, 7)\n",
    "    rep = np.arange(20)\n",
    "\n",
    "\n",
    "    image_nm = image_path.split('/')[2].split('.')[0]\n",
    "    img = Image.open(image_path)\n",
    "    img = ImageOps.grayscale(img)\n",
    "    img_arr = np.asarray(img)\n",
    "    #plt.imshow(img_arr)\n",
    "    #plt.show()\n",
    "    save_path = os.path.join(\"../result/{img_nm}/V1\".format(img_nm = image_nm))\n",
    "\n",
    "    # TODO: change search list and trailing to have observation, \n",
    "    #       and update observation to have function according to the its value\n",
    "\n",
    "    search_list = [rep, alpha, num_cell, cell_sz, sparse_freq]\n",
    "\n",
    "    # All combinations of hyperparameter to try \n",
    "    search = list(itertools.product(*search_list))             \n",
    "    search_df = pd.DataFrame(search, columns= [ 'rep', 'alp', 'num_cell', 'cell_sz', 'sparse_freq'])\n",
    "    print(search_df.head())\n",
    "\n",
    "    # Call dask\n",
    "    client = Client()\n",
    "\n",
    "    # counter = 0; # Keep track of number of iteration. Debugging method\n",
    "    for p in search_df.values:\n",
    "        delay = dask.delayed(run_sim)(img_arr, *p)\n",
    "        delay_list.append(delay)\n",
    "\n",
    "    print('running dask completed')\n",
    "\n",
    "    futures = dask.persist(*delay_list)\n",
    "    print('futures completed')\n",
    "    progress(futures)\n",
    "    print('progressing futures')\n",
    "\n",
    "    # Compute the result\n",
    "    results = dask.compute(*futures)\n",
    "    print('result computed')\n",
    "    results_df = pd.DataFrame(results, columns=['error', 'theta', 'reform', 's'])\n",
    "\n",
    "    # Add error onto parameter\n",
    "    params_result_df = search_df.join(results_df['error'])\n",
    "\n",
    "    # save parameter_error data with error_results data\n",
    "    params_result_df.to_csv(os.path.join(save_path, \"param_\" + \"_\".join(str.split(time.ctime().replace(\":\", \"_\"))) + \".csv\"))\n",
    "    results_df.to_csv(os.path.join(save_path, \"result_\" + \"_\".join(str.split(time.ctime().replace(\":\", \"_\"))) + \".csv\"))\n",
    "    print(\"Execution Complete\")\n",
    "\n"
   ]
  },
  {
   "cell_type": "code",
   "execution_count": null,
   "id": "7f5426da",
   "metadata": {},
   "outputs": [],
   "source": [
    "if __name__ == \"__main__\":\n",
    "    main()"
   ]
  },
  {
   "cell_type": "code",
   "execution_count": 7,
   "id": "b8714f97",
   "metadata": {},
   "outputs": [
    {
     "ename": "SyntaxError",
     "evalue": "invalid syntax (3579179018.py, line 2)",
     "output_type": "error",
     "traceback": [
      "\u001b[0;36m  File \u001b[0;32m\"/tmp/ipykernel_110489/3579179018.py\"\u001b[0;36m, line \u001b[0;32m2\u001b[0m\n\u001b[0;31m    match arg:\u001b[0m\n\u001b[0m          ^\u001b[0m\n\u001b[0;31mSyntaxError\u001b[0m\u001b[0;31m:\u001b[0m invalid syntax\n"
     ]
    }
   ],
   "source": [
    "arg = 5\n",
    "match arg:\n",
    "    case 5:\n",
    "        print(5)\n",
    "    case 4:\n",
    "        print(4)\n",
    "    case 3:\n",
    "        print(3)\n",
    "    case 2:\n",
    "        print(2)\n",
    "    case 1:\n",
    "        print(1)"
   ]
  },
  {
   "cell_type": "code",
   "execution_count": 49,
   "id": "705d4290",
   "metadata": {},
   "outputs": [],
   "source": [
    "dict = {\n",
    "    1: [0, 1, 2],\n",
    "    2: 1,\n",
    "    3: 2,\n",
    "}"
   ]
  },
  {
   "cell_type": "code",
   "execution_count": 36,
   "id": "c548719f",
   "metadata": {},
   "outputs": [
    {
     "data": {
      "text/plain": [
       "{1: 0, 2: 1, 3: 2}"
      ]
     },
     "execution_count": 36,
     "metadata": {},
     "output_type": "execute_result"
    }
   ],
   "source": [
    "dict"
   ]
  },
  {
   "cell_type": "code",
   "execution_count": 35,
   "id": "67a455a3",
   "metadata": {},
   "outputs": [],
   "source": [
    "dict[1] = 0"
   ]
  },
  {
   "cell_type": "code",
   "execution_count": null,
   "id": "7556fc6a",
   "metadata": {},
   "outputs": [],
   "source": [
    "assert()"
   ]
  },
  {
   "cell_type": "code",
   "execution_count": 62,
   "id": "e80dceef",
   "metadata": {},
   "outputs": [],
   "source": [
    "assert type('type(dict[1])') == str"
   ]
  },
  {
   "cell_type": "code",
   "execution_count": 60,
   "id": "de2f7d28",
   "metadata": {},
   "outputs": [
    {
     "data": {
      "text/plain": [
       "str"
      ]
     },
     "execution_count": 60,
     "metadata": {},
     "output_type": "execute_result"
    }
   ],
   "source": [
    "type(\"adf\")"
   ]
  },
  {
   "cell_type": "code",
   "execution_count": 55,
   "id": "d5f7bc9b",
   "metadata": {},
   "outputs": [
    {
     "data": {
      "text/plain": [
       "[0, 1, 2]"
      ]
     },
     "execution_count": 55,
     "metadata": {},
     "output_type": "execute_result"
    }
   ],
   "source": [
    "assert "
   ]
  },
  {
   "cell_type": "code",
   "execution_count": 56,
   "id": "86761e46",
   "metadata": {},
   "outputs": [
    {
     "data": {
      "text/plain": [
       "1"
      ]
     },
     "execution_count": 56,
     "metadata": {},
     "output_type": "execute_result"
    }
   ],
   "source": [
    "b"
   ]
  },
  {
   "cell_type": "code",
   "execution_count": 72,
   "id": "661052f6",
   "metadata": {},
   "outputs": [],
   "source": [
    "arg = 4\n",
    "arg1 = 5\n",
    "arg2 = 6\n",
    "a = 1\n",
    "b = 2\n",
    "c = 3\n",
    "d = 1"
   ]
  },
  {
   "cell_type": "code",
   "execution_count": 73,
   "id": "bd5b8dae",
   "metadata": {},
   "outputs": [
    {
     "name": "stdout",
     "output_type": "stream",
     "text": [
      "6\n"
     ]
    }
   ],
   "source": [
    "h = arg if a == b else arg1 if b == c else arg2 if a == d else 0\n",
    "print(h)"
   ]
  },
  {
   "cell_type": "code",
   "execution_count": 75,
   "id": "91ce2818",
   "metadata": {},
   "outputs": [],
   "source": [
    "def hello(a, b):\n",
    "    return a+b"
   ]
  },
  {
   "cell_type": "code",
   "execution_count": 76,
   "id": "45fc944c",
   "metadata": {},
   "outputs": [],
   "source": [
    "e = hello"
   ]
  },
  {
   "cell_type": "code",
   "execution_count": 77,
   "id": "501e975d",
   "metadata": {},
   "outputs": [
    {
     "data": {
      "text/plain": [
       "3"
      ]
     },
     "execution_count": 77,
     "metadata": {},
     "output_type": "execute_result"
    }
   ],
   "source": [
    "e(1, 2)"
   ]
  },
  {
   "cell_type": "code",
   "execution_count": null,
   "id": "95098291",
   "metadata": {},
   "outputs": [],
   "source": []
  }
 ],
 "metadata": {
  "kernelspec": {
   "display_name": "Python 3 (ipykernel)",
   "language": "python",
   "name": "python3"
  },
  "language_info": {
   "codemirror_mode": {
    "name": "ipython",
    "version": 3
   },
   "file_extension": ".py",
   "mimetype": "text/x-python",
   "name": "python",
   "nbconvert_exporter": "python",
   "pygments_lexer": "ipython3",
   "version": "3.9.7"
  }
 },
 "nbformat": 4,
 "nbformat_minor": 5
}
