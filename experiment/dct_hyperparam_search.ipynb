{
 "cells": [
  {
   "cell_type": "code",
   "execution_count": null,
   "id": "a53986c2",
   "metadata": {},
   "outputs": [],
   "source": [
    "import numpy as np\n",
    "import sys\n",
    "sys.path.append(\"../\")\n",
    "from pathlib import Path\n",
    "\n",
    "# Package for importing image representation\n",
    "from PIL import Image, ImageOps\n",
    "\n",
    "from src.compress_sensing_library import reconstruct, generate_classical_variables, error_calculation\n",
    "\n",
    "import pandas as pd\n",
    "import itertools\n",
    "import dask\n",
    "from dask.distributed import Client, progress\n",
    "import time\n",
    "import os.path"
   ]
  },
  {
   "cell_type": "code",
   "execution_count": null,
   "id": "9ea77fb0",
   "metadata": {},
   "outputs": [],
   "source": [
    "def search(img_arr, repetition = 20, observation = 'classical' alpha_list = None, num_cell_list = None, method = 'dct'):\n",
    "    cn, cm = img_arr.shape\n",
    "    params = []\n",
    "    results = []\n",
    "\n",
    "    #Ternary Operater. Set up alpha and classical_samp_list to be default size for\n",
    "    #Hyperparameter sweep\n",
    "    alpha_list = np.logspace(-3, 3, 7) if None else alpha_list\n",
    "    num_cell_list = [50, 100, 200, 500] if None else num_cell_list\n",
    "\n",
    "    # List to make combination of\n",
    "    search_list = {'repetition': repetition,\n",
    "                   'alpha_list': alpha_list,\n",
    "                   'classical_samp_list': num_cell_list\n",
    "                  }\n",
    "\n",
    "\n",
    "\n",
    "    # Get repetition * alpha combination amount of result\n",
    "    for row in itertools.product(*search_list.values()):\n",
    "        product = dict(zip(search_list.keys(), row))\n",
    "        rep, alpha, sample_size = product.values()\n",
    "        \n",
    "        if \n",
    "        C3D, y = generate_classical_variables(img_arr, sample_size)\n",
    "        theta, reconst, s = reconstruct(C3D, y, alpha)\n",
    "        \n",
    "        error = error_calculation(img_arr, reconst)\n",
    "        \n",
    "        params.append({'classical_samp' : classical_samp,\n",
    "                       'alpha' : alp,\n",
    "                       'method' : method,\n",
    "                       'repetition' : rep,\n",
    "                       'error' : error\n",
    "                      })\n",
    "        results.append({'s' : s,\n",
    "                        'theta' : theta,\n",
    "                        'reform' : reconst,\n",
    "                       })\n",
    "        \n",
    "    return params, results, \n",
    "\n",
    "\n",
    "    \n",
    "    "
   ]
  },
  {
   "cell_type": "code",
   "execution_count": null,
   "id": "d47909f6",
   "metadata": {
    "scrolled": true
   },
   "outputs": [],
   "source": [
    "def main():\n",
    "    '''\n",
    "    arg[1] = img_name ex)tree_part1.jpg\n",
    "    arg[2] = observation_type ex)classical, V1, gaussian\n",
    "    arg[3] = num_cell list ex) [50, 100, 200, 500]\n",
    "    arg[4] = cell_size list ex) [1, 2, 4, 8, 10]\n",
    "    arg[5] = sparse_freq ex) [1, 2, 4, 8, 10]\n",
    "    '''\n",
    "    file = sys.argv[1]\n",
    "    image_path ='../image/{img}'.format(img = file)\n",
    "    image_nm = image_path.split('/')[2].split('.')[0]\n",
    "    img = Image.open(image_path)\n",
    "    img = ImageOps.grayscale(img)\n",
    "    img_arr = np.asarray(img)\n",
    "    save_path = os.path.join(\"../result/{img_nm}/V1\".format(img_nm = image_nm))\n",
    "    params, results = search(img_arr = img_arr)\n",
    "    print('Process Completed')\n",
    "    \n",
    "    save_path = os.path.join('./result/{img}/Classical/'.format(img = image_nm))\n",
    "\n",
    "    classical_param_df = pd.DataFrame(params)\n",
    "    classical_param_df.to_csv(os.path.join(save_path, \"Classical_Param_\" + \"_\".join(str.split(time.ctime().replace(\":\", \"_\"))) + \".csv\"))\n",
    "    print('Save Completed. Terminate program')\n",
    "\n",
    "if __name__ == \"__main__\":\n",
    "    main()\n",
    "    "
   ]
  },
  {
   "cell_type": "code",
   "execution_count": null,
   "id": "a474f7d8",
   "metadata": {},
   "outputs": [],
   "source": []
  },
  {
   "cell_type": "code",
   "execution_count": null,
   "id": "937f678f",
   "metadata": {},
   "outputs": [],
   "source": []
  },
  {
   "cell_type": "code",
   "execution_count": 1,
   "id": "83728c1c",
   "metadata": {},
   "outputs": [],
   "source": [
    "import numpy as np\n",
    "import numpy.linalg as la\n",
    "import sys\n",
    "sys.path.append(\"../\")\n",
    "import matplotlib.pyplot as plt\n",
    "\n",
    "# Package for importing image representation\n",
    "from PIL import Image, ImageOps\n",
    "\n",
    "from src.compress_sensing_library import *\n",
    "import pandas as pd\n",
    "import itertools\n",
    "import dask\n",
    "from dask.distributed import Client, progress\n",
    "import time\n",
    "import os.path\n",
    "\n"
   ]
  },
  {
   "cell_type": "code",
   "execution_count": 11,
   "id": "5fdad943",
   "metadata": {},
   "outputs": [],
   "source": [
    "def run_sim(method, observation, rep, alpha, num_cell, cell_sz, sparse_freq, img_arr):\n",
    "    num_cell = int(num_cell)\n",
    "    img_arr = np.array([img_arr]).squeeze()\n",
    "    dim = img_arr.shape\n",
    "    n, m = dim\n",
    "\n",
    "    \n",
    "    if (observation.lower() == 'classical') :\n",
    "        #TODO\n",
    "        W, y = generate_classical_variables(img_arr, num_cell)\n",
    "    elif (observation.lower() == 'gaussian') :\n",
    "        #TODO\n",
    "        W, y = generate_gaussian_variables(img_arr, num_cell)\n",
    "    elif (observation.upper() == 'V1') :\n",
    "        #TODO\n",
    "        W, y = generate_V1_variables(img_arr, num_cell, cell_size, sparse_freq)\n",
    "    \n",
    "    \n",
    "    \n",
    "    # Call function and calculate error\n",
    "    theta, reconst, s = reconstruct(W, y, alpha, method = method)\n",
    "    error = error_calculation(img_arr, reconst)\n",
    "    \n",
    "    return error, theta, reconst, s\n",
    "\n",
    "\n",
    "def main() :\n",
    "    '''\n",
    "    arg[1] = img_name ex)tree_part1.jpg\n",
    "    arg[2] = method ex)dct, dwt\n",
    "    arg[3] = observation_type ex)classical, V1, gaussian\n",
    "    arg[4] = alpha_list ex) [0.001, 0.01, 0.1]\n",
    "    arg[5] = num_cell list ex) [50, 100, 200, 500]\n",
    "    arg[6] = cell_size list ex) [1, 2, 4, 8, 10]\n",
    "    arg[7] = sparse_freq ex) [1, 2, 4, 8, 10]\n",
    "    '''\n",
    "    # Set up hyperparameters that would affect results\n",
    "    param_dict = {\n",
    "        1 : None, \n",
    "        2 : 'dct',\n",
    "        3 : 'classical', \n",
    "        4 : np.logspace(-3, 3, 7),\n",
    "        5 : [50, 100, 200, 500], \n",
    "        6 : [2, 5, 7],\n",
    "        7 : [1, 2, 5]\n",
    "    }\n",
    "    if (len(sys.argv) < 1):\n",
    "        print(\"File Name at least required\");\n",
    "    else :\n",
    "        if (sys.argv[1] == \"help\" | sys.argv[1] == \"-h\"):\n",
    "            print(\"Usage \\n \\\n",
    "                   arg[1] = img_name ex)tree_part1.jpg \\n \\\n",
    "                   \\t arg[2] = method ex)dct, dwt\\n \\\n",
    "                   \\t arg[3] = observation_type ex)classical, V1, gaussian\\n \\\n",
    "                   \\t arg[4] = alpha_list ex) [0.001, 0.01, 0.1]\\n \\\n",
    "                   \\t arg[5] = num_cell list ex) [50, 100, 200, 500]\\n \\\n",
    "                   \\t arg[6] = cell_size list ex) [1, 2, 4, 8, 10]\\n \\\n",
    "                   \\t arg[7] = sparse_freq ex) [1, 2, 4, 8, 10]\")\n",
    "                  \n",
    "            sys.exit(0)\n",
    "        else :\n",
    "            param_dict[1] = sys.argv[1]\n",
    "    if (len(sys.argv) >= 2):\n",
    "        for i in range(2, len(sys.argv)):\n",
    "            if (sys.argv[i] != '-n')\n",
    "            param_dict[i] = sys.argv[i]\n",
    "    \n",
    "    file, method, observation, alpha, num_cell, cell_sz, sparse_freq = param_dict.values()\n",
    "    \n",
    "    #Make sure the data type input is in correct format\n",
    "    assert type(file) == str\n",
    "    assert type(method) == str\n",
    "    assert type(observation) == str\n",
    "    assert type(alpha) == list\n",
    "    assert type(num_cell) == list\n",
    "    assert type(cell_sz) == list\n",
    "    assert type(sparse_freq) == list\n",
    "    \n",
    "    \n",
    "    image_path ='../image/{img}'.format(img = file)\n",
    "    delay_list = []\n",
    "    params = []\n",
    "#     alpha = np.logspace(-3, 3, 7)\n",
    "    rep = np.arange(20)\n",
    "    \n",
    "\n",
    "    image_nm = image_path.split('/')[2].split('.')[0]\n",
    "    img = Image.open(image_path)\n",
    "    img = ImageOps.grayscale(img)\n",
    "    img_arr = np.asarray(img)\n",
    "    #plt.imshow(img_arr)\n",
    "    #plt.show()\n",
    "    save_path = os.path.join(\"../result/{img_nm}/V1\".format(img_nm = image_nm))\n",
    "\n",
    "    # TODO: change search list and trailing to have observation, \n",
    "    #       and update observation to have function according to the its value\n",
    "    \n",
    "    search_list = [rep, alpha, num_cell, cell_sz, sparse_freq]\n",
    "\n",
    "    # All combinations of hyperparameter to try \n",
    "    search = list(itertools.product(*search_list))             \n",
    "    search_df = pd.DataFrame(search, columns= [ 'rep', 'alp', 'num_cell', 'cell_sz', 'sparse_freq'])\n",
    "    print(search_df.head())\n",
    "\n",
    "    # Call dask\n",
    "    client = Client()\n",
    "\n",
    "    # counter = 0; # Keep track of number of iteration. Debugging method\n",
    "    for p in search_df.values:\n",
    "        delay = dask.delayed(run_sim)(method, observation, *p, img_arr)\n",
    "        delay_list.append(delay)\n",
    "\n",
    "    print('running dask completed')\n",
    "\n",
    "    futures = dask.persist(*delay_list)\n",
    "    print('futures completed')\n",
    "    progress(futures)\n",
    "    print('progressing futures')\n",
    "\n",
    "    # Compute the result\n",
    "    results = dask.compute(*futures)\n",
    "    print('result computed')\n",
    "    results_df = pd.DataFrame(results, columns=['error', 'theta', 'reform', 's'])\n",
    "    \n",
    "    param_path = data_save_path(image_nm, method, observation, \"param_\" + \"_\".join(str.split(time.ctime().replace(\":\", \"_\"))))\n",
    "    result_path = data_save_path(image_nm, method, observation, \"result_\" + \"_\".join(str.split(time.ctime().replace(\":\", \"_\"))))\n",
    "    # Add error onto parameter\n",
    "    params_result_df = search_df.join(results_df['error'])\n",
    "    \n",
    "    # save parameter_error data with error_results data\n",
    "    params_result_df.to_csv(param_path)\n",
    "    results_df.to_csv(result_path)\n",
    "    print(\"Execution Complete\")\n",
    "\n"
   ]
  },
  {
   "cell_type": "code",
   "execution_count": 3,
   "id": "7f5426da",
   "metadata": {},
   "outputs": [
    {
     "ename": "TypeError",
     "evalue": "unsupported operand type(s) for |: 'str' and 'str'",
     "output_type": "error",
     "traceback": [
      "\u001b[0;31m---------------------------------------------------------------------------\u001b[0m",
      "\u001b[0;31mTypeError\u001b[0m                                 Traceback (most recent call last)",
      "\u001b[0;32m/tmp/ipykernel_442558/3832242952.py\u001b[0m in \u001b[0;36m<module>\u001b[0;34m\u001b[0m\n\u001b[1;32m      1\u001b[0m \u001b[0;32mif\u001b[0m \u001b[0m__name__\u001b[0m \u001b[0;34m==\u001b[0m \u001b[0;34m\"__main__\"\u001b[0m\u001b[0;34m:\u001b[0m\u001b[0;34m\u001b[0m\u001b[0;34m\u001b[0m\u001b[0m\n\u001b[0;32m----> 2\u001b[0;31m     \u001b[0mmain\u001b[0m\u001b[0;34m(\u001b[0m\u001b[0;34m)\u001b[0m\u001b[0;34m\u001b[0m\u001b[0;34m\u001b[0m\u001b[0m\n\u001b[0m",
      "\u001b[0;32m/tmp/ipykernel_442558/910464618.py\u001b[0m in \u001b[0;36mmain\u001b[0;34m()\u001b[0m\n\u001b[1;32m     48\u001b[0m         \u001b[0mprint\u001b[0m\u001b[0;34m(\u001b[0m\u001b[0;34m\"File Name at least required\"\u001b[0m\u001b[0;34m)\u001b[0m\u001b[0;34m;\u001b[0m\u001b[0;34m\u001b[0m\u001b[0;34m\u001b[0m\u001b[0m\n\u001b[1;32m     49\u001b[0m     \u001b[0;32melse\u001b[0m \u001b[0;34m:\u001b[0m\u001b[0;34m\u001b[0m\u001b[0;34m\u001b[0m\u001b[0m\n\u001b[0;32m---> 50\u001b[0;31m         \u001b[0;32mif\u001b[0m \u001b[0;34m(\u001b[0m\u001b[0msys\u001b[0m\u001b[0;34m.\u001b[0m\u001b[0margv\u001b[0m\u001b[0;34m[\u001b[0m\u001b[0;36m1\u001b[0m\u001b[0;34m]\u001b[0m \u001b[0;34m==\u001b[0m \u001b[0;34m\"help\"\u001b[0m \u001b[0;34m|\u001b[0m \u001b[0msys\u001b[0m\u001b[0;34m.\u001b[0m\u001b[0margv\u001b[0m\u001b[0;34m[\u001b[0m\u001b[0;36m1\u001b[0m\u001b[0;34m]\u001b[0m \u001b[0;34m==\u001b[0m \u001b[0;34m\"-h\"\u001b[0m\u001b[0;34m)\u001b[0m\u001b[0;34m:\u001b[0m\u001b[0;34m\u001b[0m\u001b[0;34m\u001b[0m\u001b[0m\n\u001b[0m\u001b[1;32m     51\u001b[0m             print(\"Usage \\n \\\n\u001b[1;32m     52\u001b[0m                    arg[1] = img_name ex)tree_part1.jpg \\n \\\n",
      "\u001b[0;31mTypeError\u001b[0m: unsupported operand type(s) for |: 'str' and 'str'"
     ]
    }
   ],
   "source": [
    "if __name__ == \"__main__\":\n",
    "    main()"
   ]
  },
  {
   "cell_type": "code",
   "execution_count": 5,
   "id": "b8714f97",
   "metadata": {},
   "outputs": [
    {
     "data": {
      "text/plain": [
       "'../result/dct/tree_part1/classical/param_Mon_Mar_20_17_42_40_2023.csv'"
      ]
     },
     "execution_count": 5,
     "metadata": {},
     "output_type": "execute_result"
    }
   ],
   "source": [
    "data_save_path('tree_part1', 'dct', 'classical', \"param_\" + \"_\".join(str.split(time.ctime().replace(\":\", \"_\"))))"
   ]
  },
  {
   "cell_type": "code",
   "execution_count": 9,
   "id": "705d4290",
   "metadata": {},
   "outputs": [],
   "source": [
    "dict = {\n",
    "    1: [0, 1, 2],\n",
    "    2: 1,\n",
    "    3: 2,\n",
    "}"
   ]
  },
  {
   "cell_type": "code",
   "execution_count": null,
   "id": "c548719f",
   "metadata": {},
   "outputs": [],
   "source": [
    "dict"
   ]
  },
  {
   "cell_type": "code",
   "execution_count": 7,
   "id": "67a455a3",
   "metadata": {},
   "outputs": [],
   "source": [
    "dict[1] = 0"
   ]
  },
  {
   "cell_type": "code",
   "execution_count": 10,
   "id": "7556fc6a",
   "metadata": {},
   "outputs": [
    {
     "data": {
      "text/plain": [
       "[0, 1, 2]"
      ]
     },
     "execution_count": 10,
     "metadata": {},
     "output_type": "execute_result"
    }
   ],
   "source": [
    "dict[1]"
   ]
  },
  {
   "cell_type": "code",
   "execution_count": null,
   "id": "e80dceef",
   "metadata": {},
   "outputs": [],
   "source": [
    "assert type('type(dict[1])') == str"
   ]
  },
  {
   "cell_type": "code",
   "execution_count": null,
   "id": "de2f7d28",
   "metadata": {},
   "outputs": [],
   "source": [
    "type(\"adf\")"
   ]
  },
  {
   "cell_type": "code",
   "execution_count": null,
   "id": "86761e46",
   "metadata": {},
   "outputs": [],
   "source": [
    "b"
   ]
  },
  {
   "cell_type": "code",
   "execution_count": null,
   "id": "661052f6",
   "metadata": {},
   "outputs": [],
   "source": [
    "arg = 4\n",
    "arg1 = 5\n",
    "arg2 = 6\n",
    "a = 1\n",
    "b = 2\n",
    "c = 3\n",
    "d = 1"
   ]
  },
  {
   "cell_type": "code",
   "execution_count": null,
   "id": "bd5b8dae",
   "metadata": {},
   "outputs": [],
   "source": [
    "h = arg if a == b else arg1 if b == c else arg2 if a == d else 0\n",
    "print(h)"
   ]
  },
  {
   "cell_type": "code",
   "execution_count": null,
   "id": "91ce2818",
   "metadata": {},
   "outputs": [],
   "source": [
    "def hello(a, b):\n",
    "    return a+b"
   ]
  },
  {
   "cell_type": "code",
   "execution_count": null,
   "id": "45fc944c",
   "metadata": {},
   "outputs": [],
   "source": [
    "e = hello"
   ]
  },
  {
   "cell_type": "code",
   "execution_count": 1,
   "id": "501e975d",
   "metadata": {},
   "outputs": [],
   "source": [
    "dict = {}"
   ]
  },
  {
   "cell_type": "code",
   "execution_count": 3,
   "id": "38957d8f",
   "metadata": {},
   "outputs": [],
   "source": [
    "dict[1] = 1"
   ]
  },
  {
   "cell_type": "code",
   "execution_count": 8,
   "id": "3e0e60a7",
   "metadata": {},
   "outputs": [
    {
     "data": {
      "text/plain": [
       "1"
      ]
     },
     "execution_count": 8,
     "metadata": {},
     "output_type": "execute_result"
    }
   ],
   "source": [
    "lst = [1, 2, 3, 4, 5]\n",
    "lst[0]"
   ]
  },
  {
   "cell_type": "code",
   "execution_count": 11,
   "id": "235e6783",
   "metadata": {},
   "outputs": [
    {
     "data": {
      "text/plain": [
       "1"
      ]
     },
     "execution_count": 11,
     "metadata": {},
     "output_type": "execute_result"
    }
   ],
   "source": [
    "#lst = None\n",
    "\n",
    "if (True):\n",
    "    st = 1\n",
    "st"
   ]
  },
  {
   "cell_type": "code",
   "execution_count": 13,
   "id": "55a82020",
   "metadata": {},
   "outputs": [
    {
     "ename": "TypeError",
     "evalue": "object of type 'int' has no len()",
     "output_type": "error",
     "traceback": [
      "\u001b[0;31m---------------------------------------------------------------------------\u001b[0m",
      "\u001b[0;31mTypeError\u001b[0m                                 Traceback (most recent call last)",
      "\u001b[0;32m/tmp/ipykernel_724987/4187952147.py\u001b[0m in \u001b[0;36m<module>\u001b[0;34m\u001b[0m\n\u001b[1;32m      1\u001b[0m \u001b[0mlst\u001b[0m \u001b[0;34m=\u001b[0m \u001b[0;36m10\u001b[0m\u001b[0;34m\u001b[0m\u001b[0;34m\u001b[0m\u001b[0m\n\u001b[0;32m----> 2\u001b[0;31m \u001b[0mlen\u001b[0m\u001b[0;34m(\u001b[0m\u001b[0mlst\u001b[0m\u001b[0;34m)\u001b[0m\u001b[0;34m\u001b[0m\u001b[0;34m\u001b[0m\u001b[0m\n\u001b[0m",
      "\u001b[0;31mTypeError\u001b[0m: object of type 'int' has no len()"
     ]
    }
   ],
   "source": [
    "lst = 10\n",
    "len(lst)"
   ]
  },
  {
   "cell_type": "code",
   "execution_count": null,
   "id": "afee757a",
   "metadata": {},
   "outputs": [],
   "source": []
  }
 ],
 "metadata": {
  "kernelspec": {
   "display_name": "Python 3",
   "language": "python",
   "name": "python3"
  },
  "language_info": {
   "codemirror_mode": {
    "name": "ipython",
    "version": 3
   },
   "file_extension": ".py",
   "mimetype": "text/x-python",
   "name": "python",
   "nbconvert_exporter": "python",
   "pygments_lexer": "ipython3",
   "version": "3.8.8"
  }
 },
 "nbformat": 4,
 "nbformat_minor": 5
}
