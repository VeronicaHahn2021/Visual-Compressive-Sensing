{
 "cells": [
  {
   "cell_type": "code",
   "execution_count": 1,
   "id": "56975493-3805-4cb4-bf20-87795676188a",
   "metadata": {},
   "outputs": [],
   "source": [
    "import os\n",
    "import os.path as path\n",
    "from tqdm import tqdm\n",
    "\n",
    "import matplotlib.pyplot as plt\n",
    "import numpy as np\n",
    "import numpy.linalg as la\n",
    "\n",
    "from src.structured_random_features.src.models.weights import V1_weights\n",
    "\n",
    "# Packages for fft and fitting data\n",
    "from scipy import fftpack as fft\n",
    "from sklearn.linear_model import Lasso\n",
    "\n",
    "# Package for importing image representation\n",
    "from PIL import Image, ImageOps\n"
   ]
  },
  {
   "cell_type": "code",
   "execution_count": 5,
   "id": "ebdf8004",
   "metadata": {},
   "outputs": [
    {
     "data": {
      "text/plain": [
       "(145, 10000)"
      ]
     },
     "execution_count": 5,
     "metadata": {},
     "output_type": "execute_result"
    }
   ],
   "source": [
    "param = []\n",
    "\n",
    "# Original Image size(1000, 662)\n",
    "img_Original = Image.open(\"image/tree.jpg\") \n",
    "img_Original = ImageOps.grayscale(img_Original)\n",
    "\n",
    "# took 30 X 30 pixel part of tree image at about coord(650, 260)\n",
    "img = Image.open(\"image/tree_part1.jpg\")\n",
    "img = ImageOps.grayscale(img)\n",
    "imgArr = np.asarray(img)\n",
    "\n",
    "\n",
    "\n",
    "# 1. Generate random V1 weights\n",
    "numCell = np.random.randint(50, 2000)\n",
    "dim = (100, 100)\n",
    "n = 30\n",
    "\n",
    "\n",
    "cellSize = np.random.uniform(0.01, 20)\n",
    "sparseFreq = np.random.randint(1, 10)\n",
    "\n",
    "\n",
    "\n",
    "# Store generated V1 cells in W\n",
    "W = V1_weights(numCell, dim, cellSize, sparseFreq) \n",
    "\n",
    "    \n",
    "\n",
    "W.shape"
   ]
  },
  {
   "cell_type": "code",
   "execution_count": 4,
   "id": "72bbf7d8",
   "metadata": {},
   "outputs": [],
   "source": [
    "\n",
    "# Function: compress\n",
    "# Parameters:\n",
    "##     W: An opened index for measurement\n",
    "##     y: the value of the opened index W\n",
    "##     alpha: panelty value to fit for Lasso\n",
    "##     dim (n, m): image size that needs to be reformed\n",
    "\n",
    "# Return:\n",
    "##     theta: matrix of W when FFT took in place\n",
    "##     reformed: Reformed image in array\n",
    "##     s: sparse vector s which is a estimated coefficient generated from LASSO\n",
    "def compress(W, y, alpha, dim):\n",
    "    n, m = dim\n",
    "    smapleSz = W.shape[0]\n",
    "    \n",
    "    ## WΨ\n",
    "    theta = fft.dctn(W.reshape(numCell, n, m), norm = 'ortho', axes = [1, 2])\n",
    "    theta = theta.reshape(numCell, n*n)\n",
    "    \n",
    "    ## Initialize Lasso and Fit data\n",
    "    mini = Lasso(alpha = alpha)\n",
    "    mini.fit(theta, y)\n",
    "    \n",
    "    ## Retrieve sparse vector s\n",
    "    s = mini.coef_\n",
    "    \n",
    "    # Reform the image using sparse vector s with inverse descrete cosine\n",
    "    reform = fft.idctn(s.reshape(n, n), norm='ortho', axes=[0,1])\n",
    "    \n",
    "    #return theta, reformed img, sparse vectors\n",
    "    return theta, reform, s"
   ]
  },
  {
   "cell_type": "code",
   "execution_count": null,
   "id": "3768f7f4",
   "metadata": {},
   "outputs": [],
   "source": [
    "## Return reform image array\n",
    "    reformedImg = Image.fromarray(reform)\n",
    "    reformedImg.save(\"reformedImage.png\")"
   ]
  },
  {
   "cell_type": "code",
   "execution_count": null,
   "id": "7ea3f0e3",
   "metadata": {},
   "outputs": [],
   "source": []
  },
  {
   "cell_type": "code",
   "execution_count": null,
   "id": "27cea9b9",
   "metadata": {},
   "outputs": [],
   "source": []
  },
  {
   "cell_type": "code",
   "execution_count": null,
   "id": "f5083839",
   "metadata": {},
   "outputs": [],
   "source": []
  },
  {
   "cell_type": "code",
   "execution_count": null,
   "id": "509ecf21",
   "metadata": {},
   "outputs": [],
   "source": []
  },
  {
   "cell_type": "code",
   "execution_count": null,
   "id": "bc27f77f",
   "metadata": {},
   "outputs": [],
   "source": []
  },
  {
   "cell_type": "code",
   "execution_count": null,
   "id": "6cbcb207",
   "metadata": {},
   "outputs": [],
   "source": []
  },
  {
   "cell_type": "code",
   "execution_count": null,
   "id": "d5b27789",
   "metadata": {},
   "outputs": [],
   "source": []
  }
 ],
 "metadata": {
  "kernelspec": {
   "display_name": "Python 3",
   "language": "python",
   "name": "python3"
  },
  "language_info": {
   "codemirror_mode": {
    "name": "ipython",
    "version": 3
   },
   "file_extension": ".py",
   "mimetype": "text/x-python",
   "name": "python",
   "nbconvert_exporter": "python",
   "pygments_lexer": "ipython3",
   "version": "3.8.8"
  }
 },
 "nbformat": 4,
 "nbformat_minor": 5
}
