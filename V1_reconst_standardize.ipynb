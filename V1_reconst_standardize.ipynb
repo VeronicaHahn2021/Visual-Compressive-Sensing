{
 "cells": [
  {
   "cell_type": "code",
   "execution_count": 8,
   "id": "56975493-3805-4cb4-bf20-87795676188a",
   "metadata": {},
   "outputs": [],
   "source": [
    "import os\n",
    "import os.path as path\n",
    "# from tqdm import tqdm\n",
    "\n",
    "import matplotlib.pyplot as plt\n",
    "import numpy as np\n",
    "import numpy.linalg as la\n",
    "\n",
    "from structured_random_features.src.models.weights import V1_weights\n",
    "\n",
    "# Packages for fft and fitting data\n",
    "from scipy import fftpack as fft\n",
    "from sklearn.linear_model import Lasso\n",
    "\n",
    "# Package for importing image representation\n",
    "from PIL import Image, ImageOps\n",
    "\n",
    "# Package for storing reformed image\n",
    "import imageio"
   ]
  },
  {
   "cell_type": "code",
   "execution_count": 9,
   "id": "d2ed2a9b",
   "metadata": {},
   "outputs": [],
   "source": [
    "def generate_Y(W, img):\n",
    "    n, m = img.shape\n",
    "    y = W @ img.reshape(n * m, 1)\n",
    "    return y"
   ]
  },
  {
   "cell_type": "code",
   "execution_count": 10,
   "id": "ebdf8004",
   "metadata": {},
   "outputs": [],
   "source": [
    "def generate_V1_variables(numCell, cellSize, sparseFreq, img):\n",
    "    # Get size of image\n",
    "    dim = np.asanyarray(img).shape\n",
    "    n, m = dim\n",
    "    # Store generated V1 cells in W\n",
    "    W = V1_weights(numCell, dim, cellSize, sparseFreq) \n",
    "    \n",
    "    # Retrieve y from W @ imgArr\n",
    "    y = W @ img.reshape(n*m, 1)\n",
    "\n",
    "    # Resize W to shape (numCell, height of image, width of image) for fetching into function\n",
    "    W = W.reshape(numCell, dim[0], dim[1])\n",
    "    return W, y"
   ]
  },
  {
   "cell_type": "code",
   "execution_count": 11,
   "id": "72bbf7d8",
   "metadata": {},
   "outputs": [],
   "source": [
    "\n",
    "# Function: compress\n",
    "# Parameters:\n",
    "##     W: An opened index for measurement\n",
    "##     y: the value of the opened index W\n",
    "##     alpha: panelty value to fit for Lasso\n",
    "##     dim (n, m): image size that needs to be reformed\n",
    "\n",
    "# Return:\n",
    "##     theta: matrix of W when FFT took in place\n",
    "##     reformed: Reformed image in array\n",
    "##     s: sparse vector s which is a estimated coefficient generated from LASSO\n",
    "def reconstruct(W, y, alpha):\n",
    "    sampleSz, n, m = W.shape\n",
    "    \n",
    "    ## WΨ\n",
    "    theta = fft.dctn(W.reshape(sampleSz, n, m), norm = 'ortho', axes = [1, 2])\n",
    "    theta = theta.reshape(sampleSz, n * m)\n",
    "\n",
    "    ## Initialize Lasso and Fit data\n",
    "    mini = Lasso(alpha = alpha, fit_intercept = False)\n",
    "    mini.fit(theta, y)\n",
    "    \n",
    "    ## Retrieve sparse vector s\n",
    "    s = mini.coef_\n",
    "    \n",
    "    # Reform the image using sparse vector s with inverse descrete cosine\n",
    "    reform = fft.idctn(s.reshape(n, m), norm='ortho', axes=[0,1])\n",
    "    \n",
    "    #return theta, reformed img, sparse vectors\n",
    "    return theta, reform, s"
   ]
  },
  {
   "cell_type": "code",
   "execution_count": 12,
   "id": "3768f7f4",
   "metadata": {},
   "outputs": [
    {
     "name": "stderr",
     "output_type": "stream",
     "text": [
      "Lossy conversion from float64 to uint8. Range [9.885154035577173, 240.6416945497465]. Convert image to uint8 prior to saving to suppress this warning.\n"
     ]
    },
    {
     "data": {
      "text/plain": [
       "<matplotlib.image.AxesImage at 0x7f9091fda2b0>"
      ]
     },
     "execution_count": 12,
     "metadata": {},
     "output_type": "execute_result"
    },
    {
     "data": {
      "image/png": "[encoded data removed]",
      "text/plain": [
       "<Figure size 432x288 with 1 Axes>"
      ]
     },
     "metadata": {
      "needs_background": "light"
     },
     "output_type": "display_data"
    }
   ],
   "source": [
    "## Changing V1 weight for each time\n",
    "\n",
    "# took 30 X 30 pixel part of tree image at about coord(650, 260)\n",
    "input_img = \"image/tree_part1.jpg\"\n",
    "img = Image.open(input_img)\n",
    "img = ImageOps.grayscale(img)\n",
    "img_arr = np.asarray(img)\n",
    "\n",
    "num_cell = 500   \n",
    "\n",
    "cell_size = 1 \n",
    "sparse_freq = 1 \n",
    "\n",
    "W, y = generate_V1_variables(num_cell, cell_size, sparse_freq, img_arr)\n",
    "\n",
    "## Return reform image array\n",
    "theta, reform, s = reconstruct(W, y, 1)\n",
    "\n",
    "\n",
    "imageio.imwrite('reformedImage.jpeg', reform)\n",
    "\n",
    "plt.imshow(reform)"
   ]
  },
  {
   "cell_type": "code",
   "execution_count": 7,
   "id": "bc27f77f",
   "metadata": {},
   "outputs": [],
   "source": [
    "## Making V1 weight to be consistent\n",
    "\n",
    "img = Image.open(\"image/tree_part1.jpg\")\n",
    "img = ImageOps.grayscale(img)\n",
    "img_arr = np.asarray(img)\n",
    "\n",
    "# V1 Variables\n",
    "num_cell = 100\n",
    "cell_size = 2\n",
    "sparse_freq = 2\n",
    "dim = img_arr.shape\n",
    "n,m = dim\n",
    "\n",
    "W = V1_weights(num_cell, dim, cell_size, sparse_freq) \n",
    "y = generate_Y(W, img_arr)\n",
    "W_rev = W.reshape(num_cell, n, m)\n",
    "theta, reform, s = compress(W_rev, y, 50)\n"
   ]
  },
  {
   "cell_type": "code",
   "execution_count": null,
   "id": "6cbcb207",
   "metadata": {},
   "outputs": [],
   "source": []
  },
  {
   "cell_type": "code",
   "execution_count": null,
   "id": "ae4e7bf0",
   "metadata": {},
   "outputs": [],
   "source": []
  },
  {
   "cell_type": "code",
   "execution_count": null,
   "id": "d9b682e6",
   "metadata": {},
   "outputs": [],
   "source": []
  }
 ],
 "metadata": {
  "kernelspec": {
   "display_name": "Python 3 (ipykernel)",
   "language": "python",
   "name": "python3"
  },
  "language_info": {
   "codemirror_mode": {
    "name": "ipython",
    "version": 3
   },
   "file_extension": ".py",
   "mimetype": "text/x-python",
   "name": "python",
   "nbconvert_exporter": "python",
   "pygments_lexer": "ipython3",
   "version": "3.9.7"
  }
 },
 "nbformat": 4,
 "nbformat_minor": 5
}
