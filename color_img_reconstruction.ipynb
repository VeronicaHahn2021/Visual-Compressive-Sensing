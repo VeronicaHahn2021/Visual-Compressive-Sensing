{
 "cells": [
  {
   "cell_type": "code",
   "execution_count": 1,
   "id": "d5ee52ba",
   "metadata": {},
   "outputs": [],
   "source": [
    "import matplotlib.pyplot as plt\n",
    "import numpy as np\n",
    "import numpy.linalg as la\n",
    "\n",
    "from src.structured_random_features.src.models.weights import V1_weights\n",
    "\n",
    "# Packages for fft and fitting data\n",
    "from scipy import fftpack as fft\n",
    "from sklearn.linear_model import Lasso\n",
    "\n",
    "# Package for importing image representation\n",
    "from PIL import Image, ImageOps, ImageEnhance\n",
    "\n",
    "from src.V1_Compress import generate_Y, compress\n",
    "import pandas as pd\n",
    "import seaborn as sns\n",
    "import time\n",
    "import os.path"
   ]
  },
  {
   "cell_type": "code",
   "execution_count": 3,
   "id": "44e609e4",
   "metadata": {
    "scrolled": false
   },
   "outputs": [
    {
     "data": {
      "image/png": "[encoded data removed]",
      "text/plain": [
       "<Figure size 432x288 with 1 Axes>"
      ]
     },
     "metadata": {
      "needs_background": "light"
     },
     "output_type": "display_data"
    },
    {
     "name": "stderr",
     "output_type": "stream",
     "text": [
      "Clipping input data to the valid range for imshow with RGB data ([0..1] for floats or [0..255] for integers).\n"
     ]
    },
    {
     "data": {
      "image/png": "[encoded data removed]",
      "text/plain": [
       "<Figure size 432x288 with 1 Axes>"
      ]
     },
     "metadata": {
      "needs_background": "light"
     },
     "output_type": "display_data"
    }
   ],
   "source": [
    "image_path = 'image/tree_part1.jpg'\n",
    "num_cell = 200\n",
    "cell_size = 7\n",
    "sparse_freq = 2\n",
    "alpha = 0.01\n",
    "\n",
    "filter_dim = (30, 30)\n",
    "filt = np.zeros(filter_dim)\n",
    "\n",
    "img = Image.open(image_path)\n",
    "img_arr = np.asarray(img)\n",
    "# dim = img_arr.shape\n",
    "\n",
    "i = 0\n",
    "dim = img_arr[:,:,i].shape\n",
    "\n",
    "W = V1_weights(num_cell, dim, cell_size, sparse_freq) \n",
    "final = np.zeros(img_arr.shape)\n",
    "\n",
    "# with same V1 cells generated, reconstruct images for each of 3 rgb arrays and append to final\n",
    "while (i < 3):\n",
    "    img_arr_pt = img_arr[:,:,i]\n",
    "    img_arr_pt_dim = img_arr_pt.shape\n",
    "    n_pt, m_pt = img_arr_pt_dim\n",
    "    y = generate_Y(W, img_arr_pt)\n",
    "    W_model = W.reshape(num_cell, n_pt, m_pt)\n",
    "    theta, reform, s = compress(W_model, y, alpha)\n",
    "    final[:,:,i] = reform\n",
    "    i+=1\n",
    "    \n",
    "final = np.round(final).astype(int)\n",
    "\n",
    "plt.imshow(img_arr)\n",
    "plt.title(\"original image\")\n",
    "plt.show()\n",
    "\n",
    "# org_factor = 2\n",
    "# org_enhancer = ImageEnhance.Sharpness(img)\n",
    "# org_sharp = org_enhancer.enhance(org_factor)\n",
    "# plt.imshow(org_sharp)\n",
    "# plt.title(\"Original image sharpened by factor of {f}\".format(f = org_factor))\n",
    "# plt.show()\n",
    "\n",
    "plt.imshow(np.round(final).astype(int))\n",
    "plt.title(\"reconstructed RGB image\")\n",
    "plt.show()\n",
    "\n",
    "# Print error\n",
    "\n",
    "\n",
    "# final = Image.fromarray(final.astype(np.uint8))\n",
    "# enhancer = ImageEnhance.Sharpness(final)\n",
    "# factor = 2\n",
    "# final_sharp = enhancer.enhance(factor)\n",
    "# plt.imshow(final_sharp)\n",
    "# plt.title(\"sharpened reconstructed image by factor of {f}\".format(f = factor))\n",
    "# plt.show()"
   ]
  },
  {
   "cell_type": "code",
   "execution_count": 22,
   "id": "668ae76c",
   "metadata": {},
   "outputs": [
    {
     "data": {
      "text/plain": [
       "-55"
      ]
     },
     "execution_count": 22,
     "metadata": {},
     "output_type": "execute_result"
    }
   ],
   "source": [
    "np.min(img_arr - final)"
   ]
  },
  {
   "cell_type": "code",
   "execution_count": null,
   "id": "b97f1c2a",
   "metadata": {},
   "outputs": [],
   "source": []
  }
 ],
 "metadata": {
  "kernelspec": {
   "display_name": "Python 3",
   "language": "python",
   "name": "python3"
  },
  "language_info": {
   "codemirror_mode": {
    "name": "ipython",
    "version": 3
   },
   "file_extension": ".py",
   "mimetype": "text/x-python",
   "name": "python",
   "nbconvert_exporter": "python",
   "pygments_lexer": "ipython3",
   "version": "3.8.8"
  }
 },
 "nbformat": 4,
 "nbformat_minor": 5
}
