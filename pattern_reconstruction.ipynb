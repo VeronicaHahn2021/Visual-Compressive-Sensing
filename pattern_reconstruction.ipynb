{
 "cells": [
  {
   "cell_type": "code",
   "execution_count": 1,
   "id": "55ac04fc",
   "metadata": {},
   "outputs": [],
   "source": [
    "import matplotlib.pyplot as plt\n",
    "import numpy as np\n",
    "import numpy.linalg as la\n",
    "\n",
    "from structured_random_features.src.models.weights import V1_weights\n",
    "\n",
    "# Packages for fft and fitting data\n",
    "from scipy import fftpack as fft\n",
    "from sklearn.linear_model import Lasso\n",
    "\n",
    "# Package for importing image representation\n",
    "from PIL import Image, ImageOps\n",
    "\n",
    "from src.V1_reconst import generate_Y, reconstruct\n",
    "import pandas as pd\n",
    "import itertools\n",
    "import dask\n",
    "from dask.distributed import Client, progress\n",
    "import seaborn as sns\n",
    "import time\n",
    "import os.path"
   ]
  },
  {
   "cell_type": "code",
   "execution_count": null,
   "id": "5176c09b",
   "metadata": {},
   "outputs": [],
   "source": []
  },
  {
   "cell_type": "code",
   "execution_count": 5,
   "id": "73e9a0b1",
   "metadata": {},
   "outputs": [],
   "source": [
    "# Load Image\n",
    "image_nm = os.path.join('image', 'check_part1.png') #'image/check_part1.png'\n",
    "img = Image.open(image_nm)\n",
    "img = ImageOps.grayscale(img)\n",
    "img_arr = np.asarray(img)\n",
    "\n"
   ]
  },
  {
   "cell_type": "code",
   "execution_count": null,
   "id": "b9bc1136",
   "metadata": {},
   "outputs": [],
   "source": []
  },
  {
   "cell_type": "code",
   "execution_count": null,
   "id": "88136e88",
   "metadata": {},
   "outputs": [],
   "source": []
  }
 ],
 "metadata": {
  "kernelspec": {
   "display_name": "Python 3 (ipykernel)",
   "language": "python",
   "name": "python3"
  },
  "language_info": {
   "codemirror_mode": {
    "name": "ipython",
    "version": 3
   },
   "file_extension": ".py",
   "mimetype": "text/x-python",
   "name": "python",
   "nbconvert_exporter": "python",
   "pygments_lexer": "ipython3",
   "version": "3.9.7"
  }
 },
 "nbformat": 4,
 "nbformat_minor": 5
}
