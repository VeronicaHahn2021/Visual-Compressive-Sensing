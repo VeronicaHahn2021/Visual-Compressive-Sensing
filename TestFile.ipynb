{
 "cells": [
  {
   "cell_type": "code",
   "execution_count": 1,
   "id": "326591af",
   "metadata": {},
   "outputs": [],
   "source": [
    "import os\n",
    "import os.path as path\n",
    "from tqdm import tqdm\n",
    "\n",
    "import matplotlib.pyplot as plt\n",
    "import numpy as np\n",
    "import numpy.linalg as la\n",
    "\n",
    "from src.structured_random_features.src.models.weights import V1_weights\n",
    "\n",
    "# Packages for fft and fitting data\n",
    "from scipy import fftpack as fft\n",
    "from sklearn.linear_model import Lasso\n",
    "\n",
    "# Package for importing image representation\n",
    "from PIL import Image, ImageOps\n"
   ]
  },
  {
   "cell_type": "code",
   "execution_count": 2,
   "id": "626aaa57",
   "metadata": {},
   "outputs": [
    {
     "ename": "NameError",
     "evalue": "name 'imgArr' is not defined",
     "output_type": "error",
     "traceback": [
      "\u001b[1;31m---------------------------------------------------------------------------\u001b[0m",
      "\u001b[1;31mNameError\u001b[0m                                 Traceback (most recent call last)",
      "\u001b[1;32m<ipython-input-2-ecf500226420>\u001b[0m in \u001b[0;36m<module>\u001b[1;34m\u001b[0m\n\u001b[0;32m     16\u001b[0m \u001b[1;33m\u001b[0m\u001b[0m\n\u001b[0;32m     17\u001b[0m \u001b[1;33m\u001b[0m\u001b[0m\n\u001b[1;32m---> 18\u001b[1;33m     \u001b[0mimgArr\u001b[0m \u001b[1;33m=\u001b[0m \u001b[0mimgArr\u001b[0m\u001b[1;33m.\u001b[0m\u001b[0mflatten\u001b[0m\u001b[1;33m(\u001b[0m\u001b[1;33m)\u001b[0m\u001b[1;33m.\u001b[0m\u001b[0mreshape\u001b[0m\u001b[1;33m(\u001b[0m\u001b[1;33m(\u001b[0m\u001b[1;36m900\u001b[0m\u001b[1;33m,\u001b[0m \u001b[1;36m1\u001b[0m\u001b[1;33m)\u001b[0m\u001b[1;33m)\u001b[0m \u001b[1;31m# Reshape image for dot product with W\u001b[0m\u001b[1;33m\u001b[0m\u001b[1;33m\u001b[0m\u001b[0m\n\u001b[0m\u001b[0;32m     19\u001b[0m     \u001b[0mprint\u001b[0m\u001b[1;33m(\u001b[0m\u001b[1;34m\"W shape:\"\u001b[0m\u001b[1;33m,\u001b[0m \u001b[0mW\u001b[0m\u001b[1;33m.\u001b[0m\u001b[0mshape\u001b[0m\u001b[1;33m,\u001b[0m \u001b[1;34m\"\\nimageArr Shape:\"\u001b[0m\u001b[1;33m,\u001b[0m \u001b[0mimgArr\u001b[0m\u001b[1;33m.\u001b[0m\u001b[0mshape\u001b[0m\u001b[1;33m)\u001b[0m\u001b[1;33m\u001b[0m\u001b[1;33m\u001b[0m\u001b[0m\n\u001b[0;32m     20\u001b[0m \u001b[1;33m\u001b[0m\u001b[0m\n",
      "\u001b[1;31mNameError\u001b[0m: name 'imgArr' is not defined"
     ]
    }
   ],
   "source": [
    "testmin = []\n",
    "reformed = []\n",
    "\n",
    "\n",
    "\n",
    "for i in range (10):\n",
    "    # 1. Generate random V1 weights\n",
    "    numCell = np.random.randint(50, 2000)\n",
    "    dim = (30, 30)\n",
    "    n = 30\n",
    "    \n",
    "    # Try itertools package to get all combinations of cellSIze and sparseFreq to get optimal size & freq\n",
    "    cellSize = np.random.randint(1, 10)\n",
    "    sparseFreq = np.random.randint(1, 10)\n",
    "\n",
    "    # Store generated V1 cells in W\n",
    "    W = V1_weights(numCell, dim, cellSize, sparseFreq) \n",
    "    \n",
    "    \n",
    "    imgArr = imgArr.flatten().reshape((900, 1)) # Reshape image for dot product with W\n",
    "    print(\"W shape:\", W.shape, \"\\nimageArr Shape:\", imgArr.shape)\n",
    "\n",
    "    ## Get y\n",
    "    y = W @ imgArr\n",
    "\n",
    "    ## WΨ\n",
    "    theta = fft.dctn(W.reshape(numCell, n, n), norm = 'ortho', axes = [1, 2])\n",
    "    theta = theta.reshape(numCell, n*n)\n",
    "\n",
    "    ## Initialize Lasso and Fit data\n",
    "    mini = Lasso(alpha = 1*numCell)\n",
    "    mini.fit(theta, y)\n",
    "    \n",
    "    ## Retrieve sparse vector s\n",
    "    s = mini.coef_\n",
    "    \n",
    "    # Reform the image using sparse vector s with inverse descrete cosine\n",
    "    reform = fft.idctn(s.reshape(n, n), norm='ortho', axes=[0,1])\n",
    "    \n",
    "    ## Return reform image array\n",
    "    \n",
    "    \n",
    "    "
   ]
  },
  {
   "cell_type": "code",
   "execution_count": null,
   "id": "6c7eaa7a",
   "metadata": {},
   "outputs": [],
   "source": []
  }
 ],
 "metadata": {
  "kernelspec": {
   "display_name": "Python 3",
   "language": "python",
   "name": "python3"
  },
  "language_info": {
   "codemirror_mode": {
    "name": "ipython",
    "version": 3
   },
   "file_extension": ".py",
   "mimetype": "text/x-python",
   "name": "python",
   "nbconvert_exporter": "python",
   "pygments_lexer": "ipython3",
   "version": "3.8.8"
  }
 },
 "nbformat": 4,
 "nbformat_minor": 5
}
