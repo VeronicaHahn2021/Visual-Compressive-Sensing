{
 "cells": [
  {
   "cell_type": "code",
   "execution_count": 1,
   "id": "326591af",
   "metadata": {},
   "outputs": [],
   "source": [
    "import matplotlib.pyplot as plt\n",
    "import numpy as np\n",
    "import numpy.linalg as la\n",
    "\n",
    "from src.structured_random_features.src.models.weights import V1_weights\n",
    "\n",
    "# Packages for fft and fitting data\n",
    "from scipy import fftpack as fft\n",
    "from sklearn.linear_model import Lasso\n",
    "\n",
    "# Package for importing image representation\n",
    "from PIL import Image, ImageOps\n",
    "\n",
    "from src.V1_Compress import generate_Y, compress\n",
    "import pandas as pd\n",
    "import itertools\n",
    "import dask\n",
    "from dask.distributed import Client, progress\n",
    "import seaborn as sns\n",
    "import time\n",
    "import os.path"
   ]
  },
  {
   "cell_type": "code",
   "execution_count": 2,
   "id": "d98f0e5d",
   "metadata": {},
   "outputs": [],
   "source": [
    "def opt_hyperparams(data): \n",
    "    # Try to use pd group_by to group repetition and get avg\n",
    "    \n",
    "    # Among those average, get the lowest error hyperparam\n",
    "    \n",
    "    return pd.DataFrame(data).sort_values(by = 'error', ascending = True).head(1)"
   ]
  },
  {
   "cell_type": "code",
   "execution_count": 3,
   "id": "8e9fef49",
   "metadata": {},
   "outputs": [],
   "source": [
    "# def run_sim(rep, alpha, num, sz, freq, img_arr = img_arr):\n",
    "#     img_arr = np.array([img_arr]).squeeze()\n",
    "#     dim = img_arr.shape\n",
    "#     n, m = dim\n",
    "\n",
    "#     # Generate V1 weight with y\n",
    "#     W = V1_weights(num, dim, sz, freq) \n",
    "#     y = generate_Y(W, img_arr)\n",
    "#     W_model = W.reshape(num, n, m)\n",
    "    \n",
    "#     # Call function and calculate error\n",
    "#     theta, reform, s = compress(W_model, y, alp)\n",
    "#     error = np.linalg.norm(img - reform, 'fro') / np.sqrt(m*n)\n",
    "    \n",
    "#     return error, theta, reform, s"
   ]
  },
  {
   "cell_type": "code",
   "execution_count": 4,
   "id": "c5e10578",
   "metadata": {
    "scrolled": false
   },
   "outputs": [],
   "source": [
    "# #DF version after looking at Desk method\n",
    "\n",
    "# # Set up hyperparameters that would affect results\n",
    "# param = []\n",
    "# params = []\n",
    "# # result = []\n",
    "# alpha = np.logspace(-3, 3, 7)\n",
    "# rep = np.arange(10)\n",
    "# num_cell = [100, 200, 500]\n",
    "# cell_sz = [2, 5, 7]\n",
    "# sparse_freq = [1, 2, 5]\n",
    "\n",
    "# # Load Image\n",
    "# image_nm = 'image/tree_part1.jpg'\n",
    "# img = Image.open(image_nm)\n",
    "# img = ImageOps.grayscale(img)\n",
    "# img_arr = np.asarray(img)\n",
    "\n",
    "\n",
    "\n",
    "# search_list = [rep, alpha, num_cell, cell_sz, sparse_freq]\n",
    "# search = list(itertools.product(*search_list))             \n",
    "# search_df = pd.DataFrame(search, columns= [ 'rep', 'alp', 'num_cell', 'cell_sz', 'sparse_freq'])\n",
    "# print(search_df.head())\n",
    "\n",
    "# # Call dask\n",
    "# client = Client()\n",
    "# client\n",
    "\n",
    "# # counter = 0; # Keep track of number of iteration. Debugging method\n",
    "# for p in search_df.values:\n",
    "#     param = dask.delayed(run_sim)(*p)\n",
    "#     params.append(param)\n",
    "# #     counter+=1\n",
    "# #     print(\"iteration: \", counter)\n",
    "    \n",
    "# futures = dask.persist(*params)\n",
    "# progress(futures)\n",
    "\n",
    "# # print(\"Before computing the process\")\n",
    "# # results = dask.compute(*process)\n",
    "# # print(\"Computing over\")\n",
    "# # results = pd.DataFrame(results, columns = ['error', 'theta', 'reform', 's'])\n",
    "# # print(\"results DataFramed\")\n",
    "\n",
    "\n",
    "\n",
    "# # Load V1 weight\n",
    "# # dim = img_arr.shape\n",
    "# # n, m = dim\n",
    "\n",
    "# # # use itertool to reduce amount of for loops\n",
    "# # for row in itertools.product(*search_list.values()):\n",
    "# #     product = dict(zip(search_list.keys(), row))\n",
    "# #     epo, alp, num, sz, freq = product.values()\n",
    "# #     W = V1_weights(num, dim, sz, freq) \n",
    "# #     y = generate_Y(W, img_arr)\n",
    "# #     W_model = W.reshape(num, n, m)\n",
    "    \n",
    "# #     theta, reform, s = compress(W_model, y, alp)\n",
    "# #     error = np.linalg.norm(img - reform, 'fro') / np.sqrt(m*n)\n",
    "    \n",
    "# #     params.append({'repetition' : rep,\n",
    "# #                    'num_cell' : num,\n",
    "# #                    'cell_size' : sz,\n",
    "# #                    'sparse_freq' : freq,\n",
    "# #                    'alpha': alp,\n",
    "# #                    'error' : error\n",
    "# #                   })\n",
    "# # opt_param = opt_hyperparams(params)"
   ]
  },
  {
   "cell_type": "code",
   "execution_count": 9,
   "id": "592252ec",
   "metadata": {},
   "outputs": [
    {
     "ename": "NameError",
     "evalue": "name 'alpha' is not defined",
     "output_type": "error",
     "traceback": [
      "\u001b[0;31m---------------------------------------------------------------------------\u001b[0m",
      "\u001b[0;31mNameError\u001b[0m                                 Traceback (most recent call last)",
      "\u001b[0;32m/tmp/ipykernel_16823/2030153579.py\u001b[0m in \u001b[0;36m<module>\u001b[0;34m\u001b[0m\n\u001b[0;32m----> 1\u001b[0;31m \u001b[0malpha\u001b[0m\u001b[0;34m\u001b[0m\u001b[0;34m\u001b[0m\u001b[0m\n\u001b[0m",
      "\u001b[0;31mNameError\u001b[0m: name 'alpha' is not defined"
     ]
    }
   ],
   "source": []
  },
  {
   "cell_type": "code",
   "execution_count": 5,
   "id": "626aaa57",
   "metadata": {},
   "outputs": [],
   "source": [
    "# This works but other ways does not work at all for no reason\n",
    "\n",
    "params = []\n",
    "reformed = []\n",
    "alpha = np.logspace(-3, 3, 7)\n",
    "rep = np.arange(10)\n",
    "results = []\n",
    "\n",
    "# Load Image\n",
    "image_nm = 'image/tree_part1.jpg'\n",
    "img = Image.open(image_nm)\n",
    "img = ImageOps.grayscale(img)\n",
    "img_arr = np.asarray(img)\n",
    "\n",
    "\n",
    "# Load V1 weight\n",
    "search_list = {'repetition': rep,\n",
    "               'alpha': alpha,\n",
    "               'num_cell': [100, 200, 500],\n",
    "               'cell_sz': [2, 5, 7],\n",
    "               'sparse_freq': [1, 2, 5]\n",
    "              }\n",
    "\n",
    "dim = img_arr.shape\n",
    "n, m = dim\n",
    "\n",
    "# use itertool to reduce amount of for loops\n",
    "for row in itertools.product(*search_list.values()):\n",
    "    product = dict(zip(search_list.keys(), row))\n",
    "    rep, alp, num, sz, freq = product.values()\n",
    "    W = V1_weights(num, dim, sz, freq) \n",
    "    y = generate_Y(W, img_arr)\n",
    "    W_model = W.reshape(num, n, m)\n",
    "    \n",
    "    theta, reform, s = compress(W_model, y, alp)\n",
    "    error = np.linalg.norm(img - reform, 'fro') / np.sqrt(m*n)\n",
    "    \n",
    "    \n",
    "    \n",
    "    params.append({'repetition' : rep,\n",
    "                   'num_cell' : num,\n",
    "                   'cell_size' : sz,\n",
    "                   'sparse_freq' : freq,\n",
    "                   'alpha': alp,\n",
    "                   'error' : error\n",
    "                  })\n",
    "    \n",
    "    \n",
    "    results.append({'s' : s,\n",
    "                    'theta' : theta,\n",
    "                    'reform' : reform\n",
    "                   })\n",
    "# opt_param = opt_hyperparams(params)"
   ]
  },
  {
   "cell_type": "code",
   "execution_count": 6,
   "id": "4994b21d",
   "metadata": {},
   "outputs": [],
   "source": [
    "#Saving \n",
    "save_path = os.path.join('./result/')\n",
    "params_df = pd.DataFrame(params)\n",
    "results_df = pd.DataFrame(results)\n",
    "\n",
    "total_df = params_df.join(results_df)\n",
    "\n",
    "params_df.to_csv(os.path.join(save_path, \"param_\" + \"_\".join(str.split(time.ctime().replace(\":\", \"_\"))) + \".csv\"))\n",
    "results_df.to_csv(os.path.join(save_path, \"results_\" + \"_\".join(str.split(time.ctime().replace(\":\", \"_\"))) + \".csv\"))\n",
    "total_df.to_csv(os.path.join(save_path, \"total_\" + \"_\".join(str.split(time.ctime().replace(\":\", \"_\"))) + \".csv\"))\n"
   ]
  },
  {
   "cell_type": "code",
   "execution_count": 12,
   "id": "f9dfcd0c",
   "metadata": {},
   "outputs": [],
   "source": [
    "# Work on previously saved data\n",
    "params_df = pd.read_csv('result//param_Mon_May_23_21_46_49_2022.csv')\n",
    "results_df = pd.read_csv('result//results_Mon_May_23_21_46_49_2022.csv')\n",
    "total_df = pd.read_csv('result//total_Mon_May_23_21_47_07_2022.csv')"
   ]
  },
  {
   "cell_type": "code",
   "execution_count": 27,
   "id": "06bfbac5",
   "metadata": {},
   "outputs": [
    {
     "data": {
      "text/html": [
       "<div>\n",
       "<style scoped>\n",
       "    .dataframe tbody tr th:only-of-type {\n",
       "        vertical-align: middle;\n",
       "    }\n",
       "\n",
       "    .dataframe tbody tr th {\n",
       "        vertical-align: top;\n",
       "    }\n",
       "\n",
       "    .dataframe thead th {\n",
       "        text-align: right;\n",
       "    }\n",
       "</style>\n",
       "<table border=\"1\" class=\"dataframe\">\n",
       "  <thead>\n",
       "    <tr style=\"text-align: right;\">\n",
       "      <th></th>\n",
       "      <th>Unnamed: 0</th>\n",
       "      <th>repetition</th>\n",
       "      <th>num_cell</th>\n",
       "      <th>cell_size</th>\n",
       "      <th>sparse_freq</th>\n",
       "      <th>alpha</th>\n",
       "      <th>error</th>\n",
       "    </tr>\n",
       "  </thead>\n",
       "  <tbody>\n",
       "    <tr>\n",
       "      <th>0</th>\n",
       "      <td>0</td>\n",
       "      <td>0</td>\n",
       "      <td>100</td>\n",
       "      <td>2</td>\n",
       "      <td>1</td>\n",
       "      <td>0.001</td>\n",
       "      <td>118.552402</td>\n",
       "    </tr>\n",
       "    <tr>\n",
       "      <th>1</th>\n",
       "      <td>1</td>\n",
       "      <td>0</td>\n",
       "      <td>100</td>\n",
       "      <td>2</td>\n",
       "      <td>2</td>\n",
       "      <td>0.001</td>\n",
       "      <td>1517.257701</td>\n",
       "    </tr>\n",
       "    <tr>\n",
       "      <th>2</th>\n",
       "      <td>2</td>\n",
       "      <td>0</td>\n",
       "      <td>100</td>\n",
       "      <td>2</td>\n",
       "      <td>5</td>\n",
       "      <td>0.001</td>\n",
       "      <td>2642.888029</td>\n",
       "    </tr>\n",
       "    <tr>\n",
       "      <th>3</th>\n",
       "      <td>3</td>\n",
       "      <td>0</td>\n",
       "      <td>100</td>\n",
       "      <td>5</td>\n",
       "      <td>1</td>\n",
       "      <td>0.001</td>\n",
       "      <td>122.698407</td>\n",
       "    </tr>\n",
       "    <tr>\n",
       "      <th>4</th>\n",
       "      <td>4</td>\n",
       "      <td>0</td>\n",
       "      <td>100</td>\n",
       "      <td>5</td>\n",
       "      <td>2</td>\n",
       "      <td>0.001</td>\n",
       "      <td>1334.387078</td>\n",
       "    </tr>\n",
       "    <tr>\n",
       "      <th>...</th>\n",
       "      <td>...</td>\n",
       "      <td>...</td>\n",
       "      <td>...</td>\n",
       "      <td>...</td>\n",
       "      <td>...</td>\n",
       "      <td>...</td>\n",
       "      <td>...</td>\n",
       "    </tr>\n",
       "    <tr>\n",
       "      <th>1885</th>\n",
       "      <td>1885</td>\n",
       "      <td>9</td>\n",
       "      <td>500</td>\n",
       "      <td>5</td>\n",
       "      <td>2</td>\n",
       "      <td>1000.000</td>\n",
       "      <td>28.332152</td>\n",
       "    </tr>\n",
       "    <tr>\n",
       "      <th>1886</th>\n",
       "      <td>1886</td>\n",
       "      <td>9</td>\n",
       "      <td>500</td>\n",
       "      <td>5</td>\n",
       "      <td>5</td>\n",
       "      <td>1000.000</td>\n",
       "      <td>29.203209</td>\n",
       "    </tr>\n",
       "    <tr>\n",
       "      <th>1887</th>\n",
       "      <td>1887</td>\n",
       "      <td>9</td>\n",
       "      <td>500</td>\n",
       "      <td>7</td>\n",
       "      <td>1</td>\n",
       "      <td>1000.000</td>\n",
       "      <td>37.352217</td>\n",
       "    </tr>\n",
       "    <tr>\n",
       "      <th>1888</th>\n",
       "      <td>1888</td>\n",
       "      <td>9</td>\n",
       "      <td>500</td>\n",
       "      <td>7</td>\n",
       "      <td>2</td>\n",
       "      <td>1000.000</td>\n",
       "      <td>30.094042</td>\n",
       "    </tr>\n",
       "    <tr>\n",
       "      <th>1889</th>\n",
       "      <td>1889</td>\n",
       "      <td>9</td>\n",
       "      <td>500</td>\n",
       "      <td>7</td>\n",
       "      <td>5</td>\n",
       "      <td>1000.000</td>\n",
       "      <td>29.727872</td>\n",
       "    </tr>\n",
       "  </tbody>\n",
       "</table>\n",
       "<p>1890 rows × 7 columns</p>\n",
       "</div>"
      ],
      "text/plain": [
       "      Unnamed: 0  repetition  num_cell  cell_size  sparse_freq     alpha  \\\n",
       "0              0           0       100          2            1     0.001   \n",
       "1              1           0       100          2            2     0.001   \n",
       "2              2           0       100          2            5     0.001   \n",
       "3              3           0       100          5            1     0.001   \n",
       "4              4           0       100          5            2     0.001   \n",
       "...          ...         ...       ...        ...          ...       ...   \n",
       "1885        1885           9       500          5            2  1000.000   \n",
       "1886        1886           9       500          5            5  1000.000   \n",
       "1887        1887           9       500          7            1  1000.000   \n",
       "1888        1888           9       500          7            2  1000.000   \n",
       "1889        1889           9       500          7            5  1000.000   \n",
       "\n",
       "            error  \n",
       "0      118.552402  \n",
       "1     1517.257701  \n",
       "2     2642.888029  \n",
       "3      122.698407  \n",
       "4     1334.387078  \n",
       "...           ...  \n",
       "1885    28.332152  \n",
       "1886    29.203209  \n",
       "1887    37.352217  \n",
       "1888    30.094042  \n",
       "1889    29.727872  \n",
       "\n",
       "[1890 rows x 7 columns]"
      ]
     },
     "execution_count": 27,
     "metadata": {},
     "output_type": "execute_result"
    }
   ],
   "source": [
    "params_df"
   ]
  },
  {
   "cell_type": "code",
   "execution_count": 65,
   "id": "7d5c45ba",
   "metadata": {},
   "outputs": [
    {
     "data": {
      "text/plain": [
       "<seaborn.axisgrid.FacetGrid at 0x24c68754850>"
      ]
     },
     "execution_count": 65,
     "metadata": {},
     "output_type": "execute_result"
    },
    {
     "data": {
      "image/png": "[encoded data removed]",
      "text/plain": [
       "<Figure size 409.75x360 with 1 Axes>"
      ]
     },
     "metadata": {
      "needs_background": "light"
     },
     "output_type": "display_data"
    }
   ],
   "source": [
    "fig = sns.relplot(data = params_df, x = 'alpha', y = 'error', kind='line', palette='Accent', hue = 'cell_size')\n",
    "fig.set(yscale='log')\n",
    "fig.set(xscale='log')\n",
    "fig.set(title='error for each cell_size')"
   ]
  },
  {
   "cell_type": "code",
   "execution_count": 67,
   "id": "3a36f33e",
   "metadata": {},
   "outputs": [
    {
     "data": {
      "text/plain": [
       "<seaborn.axisgrid.FacetGrid at 0x24c66e303a0>"
      ]
     },
     "execution_count": 67,
     "metadata": {},
     "output_type": "execute_result"
    },
    {
     "data": {
      "image/png": "[encoded data removed]",
      "text/plain": [
       "<Figure size 426.125x360 with 1 Axes>"
      ]
     },
     "metadata": {
      "needs_background": "light"
     },
     "output_type": "display_data"
    }
   ],
   "source": [
    "fig = sns.relplot(data = params_df, x = 'alpha', y = 'error', kind='line', palette='Accent', hue = 'sparse_freq')\n",
    "fig.set(yscale='log')\n",
    "fig.set(xscale='log')\n",
    "fig.set(title='error for each cell_size')"
   ]
  },
  {
   "cell_type": "code",
   "execution_count": 59,
   "id": "4f456037",
   "metadata": {},
   "outputs": [
    {
     "data": {
      "text/plain": [
       "<seaborn.axisgrid.FacetGrid at 0x24c66f337c0>"
      ]
     },
     "execution_count": 59,
     "metadata": {},
     "output_type": "execute_result"
    },
    {
     "data": {
      "image/png": "[encoded data removed]",
      "text/plain": [
       "<Figure size 360x360 with 1 Axes>"
      ]
     },
     "metadata": {
      "needs_background": "light"
     },
     "output_type": "display_data"
    }
   ],
   "source": [
    "fig = sns.relplot(data = params_df, x = 'alpha', y = 'error', kind='line')\n",
    "fig.set(yscale='log')\n",
    "fig.set(xscale='log')\n",
    "fig.set(title='Error for each penalty')"
   ]
  },
  {
   "cell_type": "code",
   "execution_count": 63,
   "id": "4d3acaaf",
   "metadata": {},
   "outputs": [
    {
     "data": {
      "text/plain": [
       "<seaborn.axisgrid.FacetGrid at 0x24c62fef610>"
      ]
     },
     "execution_count": 63,
     "metadata": {},
     "output_type": "execute_result"
    },
    {
     "data": {
      "image/png": "[encoded data removed]",
      "text/plain": [
       "<Figure size 431.125x360 with 1 Axes>"
      ]
     },
     "metadata": {
      "needs_background": "light"
     },
     "output_type": "display_data"
    }
   ],
   "source": [
    "# To show how consistent randomly generated V1 weight would be for each rep. it should be about same for each repetition\n",
    "\n",
    "\n",
    "fig = sns.relplot(data = params_df, x = 'repetition', y = 'error', kind='line', palette='Accent', hue = 'alpha')\n",
    "fig.set(title='error consistency')\n",
    "fig.set(yscale='log')"
   ]
  },
  {
   "cell_type": "code",
   "execution_count": 60,
   "id": "460d5506",
   "metadata": {},
   "outputs": [
    {
     "data": {
      "text/plain": [
       "<seaborn.axisgrid.FacetGrid at 0x24c617fdfd0>"
      ]
     },
     "execution_count": 60,
     "metadata": {},
     "output_type": "execute_result"
    },
    {
     "data": {
      "image/png": "[encoded data removed]",
      "text/plain": [
       "<Figure size 431.125x360 with 1 Axes>"
      ]
     },
     "metadata": {
      "needs_background": "light"
     },
     "output_type": "display_data"
    }
   ],
   "source": [
    "sns.relplot(data = params_df, x = 'repetition', y = 'error', kind='line', palette='Accent', hue = 'alpha')"
   ]
  },
  {
   "cell_type": "code",
   "execution_count": null,
   "id": "97b7843f",
   "metadata": {},
   "outputs": [],
   "source": []
  },
  {
   "cell_type": "code",
   "execution_count": null,
   "id": "4f045bce",
   "metadata": {},
   "outputs": [],
   "source": [
    "plt.figure(figsize=(3, 3))\n",
    "fig = sns.relplot()"
   ]
  },
  {
   "cell_type": "code",
   "execution_count": 19,
   "id": "590ad72a",
   "metadata": {
    "scrolled": false
   },
   "outputs": [
    {
     "name": "stdout",
     "output_type": "stream",
     "text": [
      "start for loop\n",
      "0.0 0.001 100.0 2.0 1.0 30 30\n"
     ]
    },
    {
     "ename": "IndexError",
     "evalue": "invalid index to scalar variable.",
     "output_type": "error",
     "traceback": [
      "\u001b[0;31m---------------------------------------------------------------------------\u001b[0m",
      "\u001b[0;31mIndexError\u001b[0m                                Traceback (most recent call last)",
      "\u001b[0;32m/tmp/ipykernel_2172/2410262589.py\u001b[0m in \u001b[0;36m<module>\u001b[0;34m\u001b[0m\n\u001b[1;32m     36\u001b[0m \u001b[0;32mfor\u001b[0m \u001b[0mrep\u001b[0m\u001b[0;34m,\u001b[0m \u001b[0malp\u001b[0m\u001b[0;34m,\u001b[0m \u001b[0mnum\u001b[0m\u001b[0;34m,\u001b[0m \u001b[0msz\u001b[0m\u001b[0;34m,\u001b[0m \u001b[0mfreq\u001b[0m \u001b[0;32min\u001b[0m \u001b[0mlist\u001b[0m\u001b[0;34m(\u001b[0m\u001b[0msearch_df\u001b[0m\u001b[0;34m.\u001b[0m\u001b[0mvalues\u001b[0m\u001b[0;34m)\u001b[0m\u001b[0;34m:\u001b[0m\u001b[0;34m\u001b[0m\u001b[0;34m\u001b[0m\u001b[0m\n\u001b[1;32m     37\u001b[0m     \u001b[0mprint\u001b[0m\u001b[0;34m(\u001b[0m\u001b[0mrep\u001b[0m\u001b[0;34m,\u001b[0m \u001b[0malp\u001b[0m\u001b[0;34m,\u001b[0m \u001b[0mnum\u001b[0m\u001b[0;34m,\u001b[0m \u001b[0msz\u001b[0m\u001b[0;34m,\u001b[0m \u001b[0mfreq\u001b[0m\u001b[0;34m,\u001b[0m \u001b[0mdim\u001b[0m\u001b[0;34m[\u001b[0m\u001b[0;36m0\u001b[0m\u001b[0;34m]\u001b[0m\u001b[0;34m,\u001b[0m \u001b[0mdim\u001b[0m\u001b[0;34m[\u001b[0m\u001b[0;36m1\u001b[0m\u001b[0;34m]\u001b[0m\u001b[0;34m)\u001b[0m\u001b[0;34m\u001b[0m\u001b[0;34m\u001b[0m\u001b[0m\n\u001b[0;32m---> 38\u001b[0;31m     \u001b[0mW\u001b[0m \u001b[0;34m=\u001b[0m \u001b[0mV1_weights\u001b[0m\u001b[0;34m(\u001b[0m\u001b[0mnum\u001b[0m\u001b[0;34m,\u001b[0m \u001b[0mdim\u001b[0m\u001b[0;34m,\u001b[0m \u001b[0msz\u001b[0m\u001b[0;34m,\u001b[0m \u001b[0mfreq\u001b[0m\u001b[0;34m)\u001b[0m\u001b[0;34m\u001b[0m\u001b[0;34m\u001b[0m\u001b[0m\n\u001b[0m\u001b[1;32m     39\u001b[0m     \u001b[0my\u001b[0m \u001b[0;34m=\u001b[0m \u001b[0mgenerate_Y\u001b[0m\u001b[0;34m(\u001b[0m\u001b[0mW\u001b[0m\u001b[0;34m,\u001b[0m \u001b[0mimg_arr\u001b[0m\u001b[0;34m)\u001b[0m\u001b[0;34m\u001b[0m\u001b[0;34m\u001b[0m\u001b[0m\n\u001b[1;32m     40\u001b[0m     \u001b[0mW_model\u001b[0m \u001b[0;34m=\u001b[0m \u001b[0mW\u001b[0m\u001b[0;34m.\u001b[0m\u001b[0mreshape\u001b[0m\u001b[0;34m(\u001b[0m\u001b[0mnum\u001b[0m\u001b[0;34m,\u001b[0m \u001b[0mn\u001b[0m\u001b[0;34m,\u001b[0m \u001b[0mm\u001b[0m\u001b[0;34m)\u001b[0m\u001b[0;34m\u001b[0m\u001b[0;34m\u001b[0m\u001b[0m\n",
      "\u001b[0;32m~/Documents/research/src/structured_random_features/src/models/weights.py\u001b[0m in \u001b[0;36mV1_weights\u001b[0;34m(num_weights, dim, size, spatial_freq, center, scale, seed)\u001b[0m\n\u001b[1;32m    269\u001b[0m         \u001b[0mc\u001b[0m \u001b[0;34m=\u001b[0m \u001b[0;34m(\u001b[0m\u001b[0mint\u001b[0m\u001b[0;34m(\u001b[0m\u001b[0mdim\u001b[0m\u001b[0;34m[\u001b[0m\u001b[0;36m0\u001b[0m\u001b[0;34m]\u001b[0m\u001b[0;34m/\u001b[0m \u001b[0;36m2\u001b[0m\u001b[0;34m)\u001b[0m\u001b[0;34m,\u001b[0m \u001b[0mint\u001b[0m\u001b[0;34m(\u001b[0m\u001b[0mdim\u001b[0m\u001b[0;34m[\u001b[0m\u001b[0;36m1\u001b[0m\u001b[0;34m]\u001b[0m\u001b[0;34m/\u001b[0m\u001b[0;36m2\u001b[0m\u001b[0;34m)\u001b[0m\u001b[0;34m)\u001b[0m \u001b[0;31m# center of the visual field\u001b[0m\u001b[0;34m\u001b[0m\u001b[0;34m\u001b[0m\u001b[0m\n\u001b[1;32m    270\u001b[0m         \u001b[0mC\u001b[0m \u001b[0;34m=\u001b[0m \u001b[0mV1_covariance_matrix\u001b[0m\u001b[0;34m(\u001b[0m\u001b[0mdim\u001b[0m\u001b[0;34m,\u001b[0m \u001b[0msize\u001b[0m\u001b[0;34m,\u001b[0m \u001b[0mspatial_freq\u001b[0m\u001b[0;34m,\u001b[0m \u001b[0mc\u001b[0m\u001b[0;34m,\u001b[0m \u001b[0mscale\u001b[0m\u001b[0;34m)\u001b[0m\u001b[0;34m\u001b[0m\u001b[0;34m\u001b[0m\u001b[0m\n\u001b[0;32m--> 271\u001b[0;31m         \u001b[0mW_centered\u001b[0m \u001b[0;34m=\u001b[0m \u001b[0mnp\u001b[0m\u001b[0;34m.\u001b[0m\u001b[0mrandom\u001b[0m\u001b[0;34m.\u001b[0m\u001b[0mmultivariate_normal\u001b[0m\u001b[0;34m(\u001b[0m\u001b[0mmean\u001b[0m\u001b[0;34m=\u001b[0m\u001b[0mnp\u001b[0m\u001b[0;34m.\u001b[0m\u001b[0mzeros\u001b[0m\u001b[0;34m(\u001b[0m\u001b[0mdim\u001b[0m\u001b[0;34m[\u001b[0m\u001b[0;36m0\u001b[0m\u001b[0;34m]\u001b[0m \u001b[0;34m*\u001b[0m \u001b[0mdim\u001b[0m\u001b[0;34m[\u001b[0m\u001b[0;36m1\u001b[0m\u001b[0;34m]\u001b[0m\u001b[0;34m)\u001b[0m\u001b[0;34m,\u001b[0m \u001b[0mcov\u001b[0m\u001b[0;34m=\u001b[0m\u001b[0mC\u001b[0m\u001b[0;34m,\u001b[0m \u001b[0msize\u001b[0m\u001b[0;34m=\u001b[0m\u001b[0mnum_weights\u001b[0m\u001b[0;34m)\u001b[0m\u001b[0;34m\u001b[0m\u001b[0;34m\u001b[0m\u001b[0m\n\u001b[0m\u001b[1;32m    272\u001b[0m         \u001b[0mW_centered\u001b[0m \u001b[0;34m=\u001b[0m \u001b[0mW_centered\u001b[0m\u001b[0;34m.\u001b[0m\u001b[0mreshape\u001b[0m\u001b[0;34m(\u001b[0m\u001b[0;34m-\u001b[0m\u001b[0;36m1\u001b[0m\u001b[0;34m,\u001b[0m \u001b[0mdim\u001b[0m\u001b[0;34m[\u001b[0m\u001b[0;36m0\u001b[0m\u001b[0;34m]\u001b[0m\u001b[0;34m,\u001b[0m \u001b[0mdim\u001b[0m\u001b[0;34m[\u001b[0m\u001b[0;36m1\u001b[0m\u001b[0;34m]\u001b[0m\u001b[0;34m)\u001b[0m\u001b[0;34m\u001b[0m\u001b[0;34m\u001b[0m\u001b[0m\n\u001b[1;32m    273\u001b[0m \u001b[0;34m\u001b[0m\u001b[0m\n",
      "\u001b[0;32mmtrand.pyx\u001b[0m in \u001b[0;36mnumpy.random.mtrand.RandomState.multivariate_normal\u001b[0;34m()\u001b[0m\n",
      "\u001b[0;31mIndexError\u001b[0m: invalid index to scalar variable."
     ]
    }
   ],
   "source": [
    "params = []\n",
    "# result = []\n",
    "alpha = np.logspace(-3, 3, 7)\n",
    "rep = np.arange(10)\n",
    "num_cell = [100, 200, 500]\n",
    "cell_sz = [2, 5, 7]\n",
    "sparse_freq = [1, 2, 5]\n",
    "\n",
    "# Load Image\n",
    "image_nm = 'image/tree_part1.jpg'\n",
    "img = Image.open(image_nm)\n",
    "img = ImageOps.grayscale(img)\n",
    "img_arr = np.asarray(img)\n",
    "\n",
    "dim = img_arr.shape\n",
    "n, m = dim\n",
    "\n",
    "# Load V1 weight\n",
    "# search_list = {'repetition': rep,\n",
    "#                'alpha': alpha,\n",
    "#                'num_cell': ,\n",
    "#                'cell_sz': [2, 5, 7],\n",
    "#                'sparse_freq': [1, 2, 5]\n",
    "#               }\n",
    "\n",
    "\n",
    "search_list = [rep, alpha, num_cell, cell_sz, sparse_freq]\n",
    "search = list(itertools.product(*search_list))             \n",
    "search_df = pd.DataFrame(search, columns= [ 'rep', 'alp', 'num_cell', 'cell_sz', 'sparse_freq'])\n",
    "\n",
    "\n",
    "result = pd.DataFrame(columns=['s', 'theta', 'reform', 'error'])\n",
    "# use itertool to reduce amount of for loops\n",
    "# for row in itertools.product(*search_list.values()):\n",
    "print(\"start for loop\")\n",
    "for rep, alp, num, sz, freq in list(search_df.values):\n",
    "    print(rep, alp, num, sz, freq, dim[0], dim[1])\n",
    "    W = V1_weights(num, dim, sz, freq) \n",
    "    y = generate_Y(W, img_arr)\n",
    "    W_model = W.reshape(num, n, m)\n",
    "\n",
    "    theta, reform, s = compress(W_model, y, alp)\n",
    "    error = np.linalg.norm(img - reform, 'fro') / np.sqrt(m*n)\n",
    "    \n",
    "#     params.append({'repetition' : rep,\n",
    "#                    'num_cell' : num,\n",
    "#                    'cell_size' : sz,\n",
    "#                    'sparse_freq' : freq,\n",
    "#                    'alpha': alp,\n",
    "#                    'error' : error\n",
    "#                   })\n",
    "# opt_param = opt_hyperparams(params)"
   ]
  },
  {
   "cell_type": "code",
   "execution_count": null,
   "id": "ae5c5ce8",
   "metadata": {
    "scrolled": true
   },
   "outputs": [],
   "source": [
    "V1_reform = opt_param['reform'].to_numpy()[0]\n",
    "plt.figure(figsize= (3,3))\n",
    "plt.axis('off')\n",
    "plt.imshow(V1_reform)\n",
    "# use format string to name it with params\n",
    "plt.savefig(\"tree_reconstruction.png\", dpi = 200)\n",
    "\n",
    "# Try grayscale color map\n",
    "\n",
    "# Store original image of gray scale"
   ]
  },
  {
   "cell_type": "code",
   "execution_count": null,
   "id": "9814eed5",
   "metadata": {},
   "outputs": [],
   "source": [
    "params"
   ]
  },
  {
   "cell_type": "code",
   "execution_count": null,
   "id": "17302f94",
   "metadata": {},
   "outputs": [],
   "source": [
    "alpha = np.arange(1, 401, 5)\n",
    "search_list = {'alpha': alpha,\n",
    "          'cell_sz': [2, 5, 7],\n",
    "          'num_cell': [100, 200, 500],\n",
    "          'sparse_freq': [1, 2, 5]}\n",
    "search_list\n",
    "\n",
    "for row in itertools.product(*search_list.values()):\n",
    "    product = dict(zip(search_list.keys(), row))\n",
    "#     print(dict(product))\n",
    "#     print(dict(product).values()[0])"
   ]
  },
  {
   "cell_type": "code",
   "execution_count": null,
   "id": "55b6fd00",
   "metadata": {},
   "outputs": [],
   "source": []
  },
  {
   "cell_type": "code",
   "execution_count": null,
   "id": "71eb9739",
   "metadata": {},
   "outputs": [],
   "source": [
    "#Compress Sensing on function"
   ]
  },
  {
   "cell_type": "code",
   "execution_count": 8,
   "id": "2346fb7e",
   "metadata": {},
   "outputs": [
    {
     "name": "stdout",
     "output_type": "stream",
     "text": [
      "30 30\n"
     ]
    }
   ],
   "source": [
    "## Check if this function is applicable to regular compress sensing\n",
    "compress_img = Image.open(\"image/tree_part1.jpg\")\n",
    "compress_img = ImageOps.grayscale(compress_img)\n",
    "compress_arr = np.asarray(compress_img)\n",
    "cn, cm = compress_arr.shape\n",
    "print(cn, cm)\n",
    "compress_samp = 500 #np.floor (cn * cm * 0.20).astype(int)"
   ]
  },
  {
   "cell_type": "code",
   "execution_count": null,
   "id": "8ba9ceba",
   "metadata": {},
   "outputs": [],
   "source": [
    "# loop for 10 times \n",
    "\n",
    "# Generate random indexes and find corresponding y value for each index\n",
    "rand_index = np.random.randint(0, cn * cm, compress_samp)\n",
    "compress_Y = compress_arr.flatten()[rand_index]\n",
    "compress_Y = compress_Y.reshape(compress_samp, 1)\n",
    "\n",
    "# Generate C matrix\n",
    "C = np.eye(cn * cm)[rand_index, :]\n",
    "C3D = C.reshape(compress_samp, cn, cm)\n",
    "theta, compress_reform, s = compress(C3D, compress_Y, .0003)\n",
    "\n",
    "plt.imshow(reform)"
   ]
  },
  {
   "cell_type": "code",
   "execution_count": 2,
   "id": "e31fbddf",
   "metadata": {},
   "outputs": [
    {
     "ename": "NameError",
     "evalue": "name 'img_list' is not defined",
     "output_type": "error",
     "traceback": [
      "\u001b[0;31m---------------------------------------------------------------------------\u001b[0m",
      "\u001b[0;31mNameError\u001b[0m                                 Traceback (most recent call last)",
      "\u001b[0;32m/tmp/ipykernel_16823/2645798872.py\u001b[0m in \u001b[0;36m<module>\u001b[0;34m\u001b[0m\n\u001b[1;32m      1\u001b[0m \u001b[0mimgList\u001b[0m \u001b[0;34m=\u001b[0m \u001b[0;34m[\u001b[0m\u001b[0;34m\"image/city_part2.png\"\u001b[0m\u001b[0;34m,\u001b[0m \u001b[0;34m\"image/city_part3.png\"\u001b[0m\u001b[0;34m]\u001b[0m\u001b[0;34m\u001b[0m\u001b[0;34m\u001b[0m\u001b[0m\n\u001b[1;32m      2\u001b[0m \u001b[0;34m\u001b[0m\u001b[0m\n\u001b[0;32m----> 3\u001b[0;31m \u001b[0;32mfor\u001b[0m \u001b[0mim\u001b[0m \u001b[0;32min\u001b[0m \u001b[0mimg_list\u001b[0m\u001b[0;34m:\u001b[0m\u001b[0;34m\u001b[0m\u001b[0;34m\u001b[0m\u001b[0m\n\u001b[0m\u001b[1;32m      4\u001b[0m     \u001b[0mimg\u001b[0m \u001b[0;34m=\u001b[0m \u001b[0mImage\u001b[0m\u001b[0;34m.\u001b[0m\u001b[0mopen\u001b[0m\u001b[0;34m(\u001b[0m\u001b[0mim\u001b[0m\u001b[0;34m)\u001b[0m\u001b[0;34m\u001b[0m\u001b[0;34m\u001b[0m\u001b[0m\n\u001b[1;32m      5\u001b[0m     \u001b[0mimg\u001b[0m \u001b[0;34m=\u001b[0m \u001b[0mImageOps\u001b[0m\u001b[0;34m.\u001b[0m\u001b[0mgrayscale\u001b[0m\u001b[0;34m(\u001b[0m\u001b[0mimg\u001b[0m\u001b[0;34m)\u001b[0m\u001b[0;34m\u001b[0m\u001b[0;34m\u001b[0m\u001b[0m\n",
      "\u001b[0;31mNameError\u001b[0m: name 'img_list' is not defined"
     ]
    }
   ],
   "source": [
    "img_list = [\"image/city_part2.png\", \"image/city_part3.png\"]\n",
    "\n",
    "for im in img_list:\n",
    "    img = Image.open(im)\n",
    "    img = ImageOps.grayscale(img)\n",
    "    img_arr = np.asarray(img)\n",
    "\n",
    "    # V1 Variables\n",
    "    num_cell = 500\n",
    "    cell_size = 5\n",
    "    sparse_freq = 1\n",
    "    dim = img_arr.shape\n",
    "    n,m = dim\n",
    "\n",
    "    W = V1_weights(num_cell, dim, cell_size, sparse_freq) \n",
    "    y = generate_Y(W, img_arr)\n",
    "    W_rev = W.reshape(num_cell, n, m)\n",
    "    theta, reform, s = compress(W_rev, y, 1)\n",
    "    plt.imshow(reform)\n",
    "    plt.show()"
   ]
  },
  {
   "cell_type": "code",
   "execution_count": 36,
   "id": "c64b94ba",
   "metadata": {},
   "outputs": [
    {
     "data": {
      "text/plain": [
       "numpy.ndarray"
      ]
     },
     "execution_count": 36,
     "metadata": {},
     "output_type": "execute_result"
    }
   ],
   "source": [
    "type(img_arr)"
   ]
  },
  {
   "cell_type": "code",
   "execution_count": 27,
   "id": "c54d1c42",
   "metadata": {},
   "outputs": [
    {
     "data": {
      "text/plain": [
       "(30, 30)"
      ]
     },
     "execution_count": 27,
     "metadata": {},
     "output_type": "execute_result"
    }
   ],
   "source": []
  },
  {
   "cell_type": "code",
   "execution_count": null,
   "id": "36a0a8c4",
   "metadata": {},
   "outputs": [],
   "source": []
  },
  {
   "cell_type": "markdown",
   "id": "a34a851c",
   "metadata": {},
   "source": [
    "1. Save all the images for hyperparams, and hyperparams as well, save original image along with it\n",
    "2. Try same with compress sensing\n"
   ]
  }
 ],
 "metadata": {
  "kernelspec": {
   "display_name": "Python 3 (ipykernel)",
   "language": "python",
   "name": "python3"
  },
  "language_info": {
   "codemirror_mode": {
    "name": "ipython",
    "version": 3
   },
   "file_extension": ".py",
   "mimetype": "text/x-python",
   "name": "python",
   "nbconvert_exporter": "python",
   "pygments_lexer": "ipython3",
   "version": "3.9.7"
  }
 },
 "nbformat": 4,
 "nbformat_minor": 5
}
