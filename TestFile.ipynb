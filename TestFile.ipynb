{
 "cells": [
  {
   "cell_type": "code",
   "execution_count": 1,
   "id": "326591af",
   "metadata": {},
   "outputs": [],
   "source": [
    "import matplotlib.pyplot as plt\n",
    "import numpy as np\n",
    "import numpy.linalg as la\n",
    "\n",
    "from src.structured_random_features.src.models.weights import V1_weights\n",
    "\n",
    "# Packages for fft and fitting data\n",
    "from scipy import fftpack as fft\n",
    "from sklearn.linear_model import Lasso\n",
    "\n",
    "# Package for importing image representation\n",
    "from PIL import Image, ImageOps\n",
    "\n",
    "from src.V1_Compress import generate_Y, compress\n",
    "import pandas as pd\n",
    "import itertools"
   ]
  },
  {
   "cell_type": "code",
   "execution_count": 2,
   "id": "d98f0e5d",
   "metadata": {},
   "outputs": [],
   "source": [
    "def opt_hyperparams(data): \n",
    "    # Try to use pd group_by to group repetition and get avg\n",
    "    \n",
    "    # Among those average, get the lowest error hyperparam\n",
    "    \n",
    "    return pd.DataFrame(data).sort_values(by = 'error', ascending = True).head(1)"
   ]
  },
  {
   "cell_type": "code",
   "execution_count": 5,
   "id": "626aaa57",
   "metadata": {},
   "outputs": [
    {
     "ename": "NameError",
     "evalue": "name 'opt_hyperarams' is not defined",
     "output_type": "error",
     "traceback": [
      "\u001b[1;31m---------------------------------------------------------------------------\u001b[0m",
      "\u001b[1;31mNameError\u001b[0m                                 Traceback (most recent call last)",
      "\u001b[1;32m<ipython-input-5-f5fc2f339431>\u001b[0m in \u001b[0;36m<module>\u001b[1;34m\u001b[0m\n\u001b[0;32m     70\u001b[0m \u001b[1;31m#                                    'sparse': s,\u001b[0m\u001b[1;33m\u001b[0m\u001b[1;33m\u001b[0m\u001b[1;33m\u001b[0m\u001b[0m\n\u001b[0;32m     71\u001b[0m \u001b[1;31m#                                    'error' : error})\u001b[0m\u001b[1;33m\u001b[0m\u001b[1;33m\u001b[0m\u001b[1;33m\u001b[0m\u001b[0m\n\u001b[1;32m---> 72\u001b[1;33m \u001b[0mopt_param\u001b[0m \u001b[1;33m=\u001b[0m \u001b[0mopt_hyperarams\u001b[0m\u001b[1;33m(\u001b[0m\u001b[0mparams\u001b[0m\u001b[1;33m)\u001b[0m\u001b[1;33m\u001b[0m\u001b[1;33m\u001b[0m\u001b[0m\n\u001b[0m",
      "\u001b[1;31mNameError\u001b[0m: name 'opt_hyperarams' is not defined"
     ]
    }
   ],
   "source": [
    "params = []\n",
    "reformed = []\n",
    "alpha = np.logspace(-3, 3, 7)\n",
    "epoch = np.arange(10)\n",
    "\n",
    "# Load Image\n",
    "image_nm = 'image/tree_part1.jpg'\n",
    "img = Image.open(image_nm)\n",
    "img = ImageOps.grayscale(img)\n",
    "img_arr = np.asarray(img)\n",
    "\n",
    "\n",
    "# Load V1 weight\n",
    "search_list = {'epoch': epoch,\n",
    "               'alpha': alpha,\n",
    "               'num_cell': [100, 200, 500],\n",
    "               'cell_sz': [2, 5, 7],\n",
    "               'sparse_freq': [1, 2, 5]\n",
    "              }\n",
    "# num_cell = [100, 200, 500]\n",
    "# cell_sz = [2, 5, 7]\n",
    "# sparse_freq = [1, 2, 5]\n",
    "dim = img_arr.shape\n",
    "n, m = dim\n",
    "\n",
    "# use itertool to reduce amount of for loops\n",
    "for row in itertools.product(*search_list.values()):\n",
    "    product = dict(zip(search_list.keys(), row))\n",
    "    epo, alp, num, sz, freq = product.values()\n",
    "    W = V1_weights(num, dim, sz, freq) \n",
    "    y = generate_Y(W, img_arr)\n",
    "    W_model = W.reshape(num, n, m)\n",
    "    \n",
    "    theta, reform, s = compress(W_model, y, alp)\n",
    "    error = np.linalg.norm(img - reform, 'fro') / np.sqrt(m*n)\n",
    "    \n",
    "    params.append({'epoch' : epo,\n",
    "                   'num_cell' : num,\n",
    "                   'cell_size' : sz,\n",
    "                   'sparse_freq' : freq,\n",
    "                   'alpha': alp,\n",
    "                   'error' : error\n",
    "                  })\n",
    "opt_param = opt_hyperarams(params)"
   ]
  },
  {
   "cell_type": "code",
   "execution_count": null,
   "id": "ae5c5ce8",
   "metadata": {
    "scrolled": true
   },
   "outputs": [],
   "source": [
    "V1_reform = opt_param['reform'].to_numpy()[0]\n",
    "plt.figure(figsize= (3,3))\n",
    "plt.axis('off')\n",
    "plt.imshow(V1_reform)\n",
    "# use format string to name it with params\n",
    "plt.savefig(\"tree_reconstruction.png\", dpi = 200)\n",
    "\n",
    "# Try grayscale color map\n",
    "\n",
    "# Store original image of gray scale"
   ]
  },
  {
   "cell_type": "code",
   "execution_count": null,
   "id": "9814eed5",
   "metadata": {},
   "outputs": [],
   "source": []
  },
  {
   "cell_type": "code",
   "execution_count": null,
   "id": "17302f94",
   "metadata": {},
   "outputs": [],
   "source": [
    "alpha = np.arange(1, 401, 5)\n",
    "search_list = {'alpha': alpha,\n",
    "          'cell_sz': [2, 5, 7],\n",
    "          'num_cell': [100, 200, 500],\n",
    "          'sparse_freq': [1, 2, 5]}\n",
    "search_list\n",
    "\n",
    "for row in itertools.product(*search_list.values()):\n",
    "    product = dict(zip(search_list.keys(), row))\n",
    "#     print(dict(product))\n",
    "#     print(dict(product).values()[0])"
   ]
  },
  {
   "cell_type": "code",
   "execution_count": null,
   "id": "71eb9739",
   "metadata": {},
   "outputs": [],
   "source": [
    "#Compress Sensing on function"
   ]
  },
  {
   "cell_type": "code",
   "execution_count": null,
   "id": "2346fb7e",
   "metadata": {},
   "outputs": [],
   "source": [
    "## Check if this function is applicable to regular compress sensing\n",
    "compress_img = Image.open(\"image/tree_part1.jpg\")\n",
    "compress_img = ImageOps.grayscale(compress_img)\n",
    "compress_arr = np.asarray(compress_img)\n",
    "cn, cm = compress_arr.shape\n",
    "print(cn, cm)\n",
    "compress_samp = 500#np.floor (cn * cm * 0.20).astype(int)\n",
    "rand_index = np.random.randint(0, cn * cm, compressSamp)\n",
    "compress_Y = compress_arr.flatten()[rand_index]\n",
    "compress_Y compress_Y.reshape(compress_samp, 1)"
   ]
  },
  {
   "cell_type": "code",
   "execution_count": null,
   "id": "8ba9ceba",
   "metadata": {},
   "outputs": [],
   "source": [
    "# Generate C matrix\n",
    "C = np.eye(cn * cm)[rand_index, :]\n",
    "C3D = C.reshape(compress_samp, cn, cm)\n",
    "theta, compress_reform, s = compress(C3D, compress_Y, .0003)\n",
    "\n",
    "plt.imshow(reform)"
   ]
  },
  {
   "cell_type": "code",
   "execution_count": null,
   "id": "469e09da",
   "metadata": {},
   "outputs": [],
   "source": []
  },
  {
   "cell_type": "code",
   "execution_count": null,
   "id": "e31fbddf",
   "metadata": {},
   "outputs": [],
   "source": [
    "imgList = [\"image/city_part2.png\", \"image/city_part3.png\"]\n",
    "\n",
    "for im in img_list:\n",
    "    img = Image.open(im)\n",
    "    img = ImageOps.grayscale(img)\n",
    "    img_arr = np.asarray(img)\n",
    "\n",
    "    # V1 Variables\n",
    "    num_cell = 500\n",
    "    cell_size = 5\n",
    "    sparse_freq = 1\n",
    "    dim = img_arr.shape\n",
    "    n,m = dim\n",
    "\n",
    "    W = V1_weights(num_cell, dim, cell_size, sparse_freq) \n",
    "    y = generate_Y(W, img_arr)\n",
    "    W_rev = W.reshape(num_cell, n, m)\n",
    "    theta, reform, s = compress(W_rev, y, 1)\n",
    "    plt.imshow(reform)\n",
    "    plt.show()"
   ]
  },
  {
   "cell_type": "code",
   "execution_count": null,
   "id": "c64b94ba",
   "metadata": {},
   "outputs": [],
   "source": []
  },
  {
   "cell_type": "code",
   "execution_count": null,
   "id": "c54d1c42",
   "metadata": {},
   "outputs": [],
   "source": []
  },
  {
   "cell_type": "code",
   "execution_count": null,
   "id": "36a0a8c4",
   "metadata": {},
   "outputs": [],
   "source": []
  },
  {
   "cell_type": "markdown",
   "id": "a34a851c",
   "metadata": {},
   "source": [
    "1. Save all the images for hyperparams, and hyperparams as well, save original image along with it\n",
    "2. Try same with compress sensing\n"
   ]
  }
 ],
 "metadata": {
  "kernelspec": {
   "display_name": "Python 3",
   "language": "python",
   "name": "python3"
  },
  "language_info": {
   "codemirror_mode": {
    "name": "ipython",
    "version": 3
   },
   "file_extension": ".py",
   "mimetype": "text/x-python",
   "name": "python",
   "nbconvert_exporter": "python",
   "pygments_lexer": "ipython3",
   "version": "3.8.8"
  }
 },
 "nbformat": 4,
 "nbformat_minor": 5
}
