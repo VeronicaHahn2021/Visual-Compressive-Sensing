{
 "cells": [
  {
   "cell_type": "code",
   "execution_count": 1,
   "id": "326591af",
   "metadata": {},
   "outputs": [],
   "source": [
    "import matplotlib.pyplot as plt\n",
    "import numpy as np\n",
    "import numpy.linalg as la\n",
    "\n",
    "from src.structured_random_features.src.models.weights import V1_weights\n",
    "\n",
    "# Packages for fft and fitting data\n",
    "from scipy import fftpack as fft\n",
    "from sklearn.linear_model import Lasso\n",
    "\n",
    "# Package for importing image representation\n",
    "from PIL import Image, ImageOps\n",
    "\n",
    "from src.V1_Compress import generate_Y, compress\n",
    "import pandas as pd\n",
    "import itertools\n",
    "import dask\n",
    "from dask.distributed import Client, progress\n",
    "import seaborn as sns\n",
    "import time\n",
    "import os.path"
   ]
  },
  {
   "cell_type": "code",
   "execution_count": 2,
   "id": "d98f0e5d",
   "metadata": {},
   "outputs": [],
   "source": [
    "def opt_hyperparams(data): \n",
    "    # Try to use pd group_by to group repetition and get avg\n",
    "    \n",
    "    # Among those average, get the lowest error hyperparam\n",
    "    ordered_data = pd.DataFrame(data).sort_values(by = 'error', ascending = True)\n",
    "    print(ordered_data.head(5))\n",
    "    \n",
    "    return ordered_data.head(1)"
   ]
  },
  {
   "cell_type": "code",
   "execution_count": 3,
   "id": "8e9fef49",
   "metadata": {},
   "outputs": [],
   "source": [
    "def run_sim(rep, alp, num, sz, freq, img_arr):\n",
    "    num = int(num)\n",
    "    img_arr = np.array([img_arr]).squeeze()\n",
    "    dim = img_arr.shape\n",
    "    n, m = dim\n",
    "\n",
    "    # Generate V1 weight with y\n",
    "    W = V1_weights(num, dim, sz, freq) \n",
    "    y = generate_Y(W, img_arr)\n",
    "    W_model = W.reshape(num, n, m)\n",
    "    \n",
    "    # Call function and calculate error\n",
    "    theta, reform, s = compress(W_model, y, alp)\n",
    "    error = np.linalg.norm(img - reform, 'fro') / np.sqrt(m*n)\n",
    "    \n",
    "    return error, theta, reform, s"
   ]
  },
  {
   "cell_type": "code",
   "execution_count": 4,
   "id": "c5e10578",
   "metadata": {
    "scrolled": true
   },
   "outputs": [
    {
     "name": "stdout",
     "output_type": "stream",
     "text": [
      "   rep    alp  num_cell  cell_sz  sparse_freq\n",
      "0    0  0.001       100        2            1\n",
      "1    0  0.001       100        2            2\n",
      "2    0  0.001       100        2            5\n",
      "3    0  0.001       100        5            1\n",
      "4    0  0.001       100        5            2\n"
     ]
    },
    {
     "ename": "KeyboardInterrupt",
     "evalue": "",
     "output_type": "error",
     "traceback": [
      "\u001b[0;31m---------------------------------------------------------------------------\u001b[0m",
      "\u001b[0;31mKeyboardInterrupt\u001b[0m                         Traceback (most recent call last)",
      "\u001b[0;32m/tmp/ipykernel_4107/1455222078.py\u001b[0m in \u001b[0;36m<module>\u001b[0;34m\u001b[0m\n\u001b[1;32m     37\u001b[0m \u001b[0;34m\u001b[0m\u001b[0m\n\u001b[1;32m     38\u001b[0m \u001b[0;31m# Compute the result\u001b[0m\u001b[0;34m\u001b[0m\u001b[0;34m\u001b[0m\u001b[0m\n\u001b[0;32m---> 39\u001b[0;31m \u001b[0mresults\u001b[0m \u001b[0;34m=\u001b[0m \u001b[0mdask\u001b[0m\u001b[0;34m.\u001b[0m\u001b[0mcompute\u001b[0m\u001b[0;34m(\u001b[0m\u001b[0;34m*\u001b[0m\u001b[0mfutures\u001b[0m\u001b[0;34m)\u001b[0m\u001b[0;34m\u001b[0m\u001b[0;34m\u001b[0m\u001b[0m\n\u001b[0m\u001b[1;32m     40\u001b[0m \u001b[0mpd\u001b[0m\u001b[0;34m.\u001b[0m\u001b[0mDataFrame\u001b[0m\u001b[0;34m(\u001b[0m\u001b[0mresults\u001b[0m\u001b[0;34m)\u001b[0m\u001b[0;34m\u001b[0m\u001b[0;34m\u001b[0m\u001b[0m\n",
      "\u001b[0;32m~/anaconda3/lib/python3.9/site-packages/dask/base.py\u001b[0m in \u001b[0;36mcompute\u001b[0;34m(*args, **kwargs)\u001b[0m\n\u001b[1;32m    568\u001b[0m         \u001b[0mpostcomputes\u001b[0m\u001b[0;34m.\u001b[0m\u001b[0mappend\u001b[0m\u001b[0;34m(\u001b[0m\u001b[0mx\u001b[0m\u001b[0;34m.\u001b[0m\u001b[0m__dask_postcompute__\u001b[0m\u001b[0;34m(\u001b[0m\u001b[0;34m)\u001b[0m\u001b[0;34m)\u001b[0m\u001b[0;34m\u001b[0m\u001b[0;34m\u001b[0m\u001b[0m\n\u001b[1;32m    569\u001b[0m \u001b[0;34m\u001b[0m\u001b[0m\n\u001b[0;32m--> 570\u001b[0;31m     \u001b[0mresults\u001b[0m \u001b[0;34m=\u001b[0m \u001b[0mschedule\u001b[0m\u001b[0;34m(\u001b[0m\u001b[0mdsk\u001b[0m\u001b[0;34m,\u001b[0m \u001b[0mkeys\u001b[0m\u001b[0;34m,\u001b[0m \u001b[0;34m**\u001b[0m\u001b[0mkwargs\u001b[0m\u001b[0;34m)\u001b[0m\u001b[0;34m\u001b[0m\u001b[0;34m\u001b[0m\u001b[0m\n\u001b[0m\u001b[1;32m    571\u001b[0m     \u001b[0;32mreturn\u001b[0m \u001b[0mrepack\u001b[0m\u001b[0;34m(\u001b[0m\u001b[0;34m[\u001b[0m\u001b[0mf\u001b[0m\u001b[0;34m(\u001b[0m\u001b[0mr\u001b[0m\u001b[0;34m,\u001b[0m \u001b[0;34m*\u001b[0m\u001b[0ma\u001b[0m\u001b[0;34m)\u001b[0m \u001b[0;32mfor\u001b[0m \u001b[0mr\u001b[0m\u001b[0;34m,\u001b[0m \u001b[0;34m(\u001b[0m\u001b[0mf\u001b[0m\u001b[0;34m,\u001b[0m \u001b[0ma\u001b[0m\u001b[0;34m)\u001b[0m \u001b[0;32min\u001b[0m \u001b[0mzip\u001b[0m\u001b[0;34m(\u001b[0m\u001b[0mresults\u001b[0m\u001b[0;34m,\u001b[0m \u001b[0mpostcomputes\u001b[0m\u001b[0;34m)\u001b[0m\u001b[0;34m]\u001b[0m\u001b[0;34m)\u001b[0m\u001b[0;34m\u001b[0m\u001b[0;34m\u001b[0m\u001b[0m\n\u001b[1;32m    572\u001b[0m \u001b[0;34m\u001b[0m\u001b[0m\n",
      "\u001b[0;32m~/anaconda3/lib/python3.9/site-packages/distributed/client.py\u001b[0m in \u001b[0;36mget\u001b[0;34m(self, dsk, keys, workers, allow_other_workers, resources, sync, asynchronous, direct, retries, priority, fifo_timeout, actors, **kwargs)\u001b[0m\n\u001b[1;32m   2691\u001b[0m                     \u001b[0mshould_rejoin\u001b[0m \u001b[0;34m=\u001b[0m \u001b[0;32mFalse\u001b[0m\u001b[0;34m\u001b[0m\u001b[0;34m\u001b[0m\u001b[0m\n\u001b[1;32m   2692\u001b[0m             \u001b[0;32mtry\u001b[0m\u001b[0;34m:\u001b[0m\u001b[0;34m\u001b[0m\u001b[0;34m\u001b[0m\u001b[0m\n\u001b[0;32m-> 2693\u001b[0;31m                 \u001b[0mresults\u001b[0m \u001b[0;34m=\u001b[0m \u001b[0mself\u001b[0m\u001b[0;34m.\u001b[0m\u001b[0mgather\u001b[0m\u001b[0;34m(\u001b[0m\u001b[0mpacked\u001b[0m\u001b[0;34m,\u001b[0m \u001b[0masynchronous\u001b[0m\u001b[0;34m=\u001b[0m\u001b[0masynchronous\u001b[0m\u001b[0;34m,\u001b[0m \u001b[0mdirect\u001b[0m\u001b[0;34m=\u001b[0m\u001b[0mdirect\u001b[0m\u001b[0;34m)\u001b[0m\u001b[0;34m\u001b[0m\u001b[0;34m\u001b[0m\u001b[0m\n\u001b[0m\u001b[1;32m   2694\u001b[0m             \u001b[0;32mfinally\u001b[0m\u001b[0;34m:\u001b[0m\u001b[0;34m\u001b[0m\u001b[0;34m\u001b[0m\u001b[0m\n\u001b[1;32m   2695\u001b[0m                 \u001b[0;32mfor\u001b[0m \u001b[0mf\u001b[0m \u001b[0;32min\u001b[0m \u001b[0mfutures\u001b[0m\u001b[0;34m.\u001b[0m\u001b[0mvalues\u001b[0m\u001b[0;34m(\u001b[0m\u001b[0;34m)\u001b[0m\u001b[0;34m:\u001b[0m\u001b[0;34m\u001b[0m\u001b[0;34m\u001b[0m\u001b[0m\n",
      "\u001b[0;32m~/anaconda3/lib/python3.9/site-packages/distributed/client.py\u001b[0m in \u001b[0;36mgather\u001b[0;34m(self, futures, errors, direct, asynchronous)\u001b[0m\n\u001b[1;32m   1967\u001b[0m             \u001b[0;32melse\u001b[0m\u001b[0;34m:\u001b[0m\u001b[0;34m\u001b[0m\u001b[0;34m\u001b[0m\u001b[0m\n\u001b[1;32m   1968\u001b[0m                 \u001b[0mlocal_worker\u001b[0m \u001b[0;34m=\u001b[0m \u001b[0;32mNone\u001b[0m\u001b[0;34m\u001b[0m\u001b[0;34m\u001b[0m\u001b[0m\n\u001b[0;32m-> 1969\u001b[0;31m             return self.sync(\n\u001b[0m\u001b[1;32m   1970\u001b[0m                 \u001b[0mself\u001b[0m\u001b[0;34m.\u001b[0m\u001b[0m_gather\u001b[0m\u001b[0;34m,\u001b[0m\u001b[0;34m\u001b[0m\u001b[0;34m\u001b[0m\u001b[0m\n\u001b[1;32m   1971\u001b[0m                 \u001b[0mfutures\u001b[0m\u001b[0;34m,\u001b[0m\u001b[0;34m\u001b[0m\u001b[0;34m\u001b[0m\u001b[0m\n",
      "\u001b[0;32m~/anaconda3/lib/python3.9/site-packages/distributed/client.py\u001b[0m in \u001b[0;36msync\u001b[0;34m(self, func, asynchronous, callback_timeout, *args, **kwargs)\u001b[0m\n\u001b[1;32m    863\u001b[0m             \u001b[0;32mreturn\u001b[0m \u001b[0mfuture\u001b[0m\u001b[0;34m\u001b[0m\u001b[0;34m\u001b[0m\u001b[0m\n\u001b[1;32m    864\u001b[0m         \u001b[0;32melse\u001b[0m\u001b[0;34m:\u001b[0m\u001b[0;34m\u001b[0m\u001b[0;34m\u001b[0m\u001b[0m\n\u001b[0;32m--> 865\u001b[0;31m             return sync(\n\u001b[0m\u001b[1;32m    866\u001b[0m                 \u001b[0mself\u001b[0m\u001b[0;34m.\u001b[0m\u001b[0mloop\u001b[0m\u001b[0;34m,\u001b[0m \u001b[0mfunc\u001b[0m\u001b[0;34m,\u001b[0m \u001b[0;34m*\u001b[0m\u001b[0margs\u001b[0m\u001b[0;34m,\u001b[0m \u001b[0mcallback_timeout\u001b[0m\u001b[0;34m=\u001b[0m\u001b[0mcallback_timeout\u001b[0m\u001b[0;34m,\u001b[0m \u001b[0;34m**\u001b[0m\u001b[0mkwargs\u001b[0m\u001b[0;34m\u001b[0m\u001b[0;34m\u001b[0m\u001b[0m\n\u001b[1;32m    867\u001b[0m             )\n",
      "\u001b[0;32m~/anaconda3/lib/python3.9/site-packages/distributed/utils.py\u001b[0m in \u001b[0;36msync\u001b[0;34m(loop, func, callback_timeout, *args, **kwargs)\u001b[0m\n\u001b[1;32m    322\u001b[0m     \u001b[0;32melse\u001b[0m\u001b[0;34m:\u001b[0m\u001b[0;34m\u001b[0m\u001b[0;34m\u001b[0m\u001b[0m\n\u001b[1;32m    323\u001b[0m         \u001b[0;32mwhile\u001b[0m \u001b[0;32mnot\u001b[0m \u001b[0me\u001b[0m\u001b[0;34m.\u001b[0m\u001b[0mis_set\u001b[0m\u001b[0;34m(\u001b[0m\u001b[0;34m)\u001b[0m\u001b[0;34m:\u001b[0m\u001b[0;34m\u001b[0m\u001b[0;34m\u001b[0m\u001b[0m\n\u001b[0;32m--> 324\u001b[0;31m             \u001b[0me\u001b[0m\u001b[0;34m.\u001b[0m\u001b[0mwait\u001b[0m\u001b[0;34m(\u001b[0m\u001b[0;36m10\u001b[0m\u001b[0;34m)\u001b[0m\u001b[0;34m\u001b[0m\u001b[0;34m\u001b[0m\u001b[0m\n\u001b[0m\u001b[1;32m    325\u001b[0m     \u001b[0;32mif\u001b[0m \u001b[0merror\u001b[0m\u001b[0;34m[\u001b[0m\u001b[0;36m0\u001b[0m\u001b[0;34m]\u001b[0m\u001b[0;34m:\u001b[0m\u001b[0;34m\u001b[0m\u001b[0;34m\u001b[0m\u001b[0m\n\u001b[1;32m    326\u001b[0m         \u001b[0mtyp\u001b[0m\u001b[0;34m,\u001b[0m \u001b[0mexc\u001b[0m\u001b[0;34m,\u001b[0m \u001b[0mtb\u001b[0m \u001b[0;34m=\u001b[0m \u001b[0merror\u001b[0m\u001b[0;34m[\u001b[0m\u001b[0;36m0\u001b[0m\u001b[0;34m]\u001b[0m\u001b[0;34m\u001b[0m\u001b[0;34m\u001b[0m\u001b[0m\n",
      "\u001b[0;32m~/anaconda3/lib/python3.9/threading.py\u001b[0m in \u001b[0;36mwait\u001b[0;34m(self, timeout)\u001b[0m\n\u001b[1;32m    572\u001b[0m             \u001b[0msignaled\u001b[0m \u001b[0;34m=\u001b[0m \u001b[0mself\u001b[0m\u001b[0;34m.\u001b[0m\u001b[0m_flag\u001b[0m\u001b[0;34m\u001b[0m\u001b[0;34m\u001b[0m\u001b[0m\n\u001b[1;32m    573\u001b[0m             \u001b[0;32mif\u001b[0m \u001b[0;32mnot\u001b[0m \u001b[0msignaled\u001b[0m\u001b[0;34m:\u001b[0m\u001b[0;34m\u001b[0m\u001b[0;34m\u001b[0m\u001b[0m\n\u001b[0;32m--> 574\u001b[0;31m                 \u001b[0msignaled\u001b[0m \u001b[0;34m=\u001b[0m \u001b[0mself\u001b[0m\u001b[0;34m.\u001b[0m\u001b[0m_cond\u001b[0m\u001b[0;34m.\u001b[0m\u001b[0mwait\u001b[0m\u001b[0;34m(\u001b[0m\u001b[0mtimeout\u001b[0m\u001b[0;34m)\u001b[0m\u001b[0;34m\u001b[0m\u001b[0;34m\u001b[0m\u001b[0m\n\u001b[0m\u001b[1;32m    575\u001b[0m             \u001b[0;32mreturn\u001b[0m \u001b[0msignaled\u001b[0m\u001b[0;34m\u001b[0m\u001b[0;34m\u001b[0m\u001b[0m\n\u001b[1;32m    576\u001b[0m \u001b[0;34m\u001b[0m\u001b[0m\n",
      "\u001b[0;32m~/anaconda3/lib/python3.9/threading.py\u001b[0m in \u001b[0;36mwait\u001b[0;34m(self, timeout)\u001b[0m\n\u001b[1;32m    314\u001b[0m             \u001b[0;32melse\u001b[0m\u001b[0;34m:\u001b[0m\u001b[0;34m\u001b[0m\u001b[0;34m\u001b[0m\u001b[0m\n\u001b[1;32m    315\u001b[0m                 \u001b[0;32mif\u001b[0m \u001b[0mtimeout\u001b[0m \u001b[0;34m>\u001b[0m \u001b[0;36m0\u001b[0m\u001b[0;34m:\u001b[0m\u001b[0;34m\u001b[0m\u001b[0;34m\u001b[0m\u001b[0m\n\u001b[0;32m--> 316\u001b[0;31m                     \u001b[0mgotit\u001b[0m \u001b[0;34m=\u001b[0m \u001b[0mwaiter\u001b[0m\u001b[0;34m.\u001b[0m\u001b[0macquire\u001b[0m\u001b[0;34m(\u001b[0m\u001b[0;32mTrue\u001b[0m\u001b[0;34m,\u001b[0m \u001b[0mtimeout\u001b[0m\u001b[0;34m)\u001b[0m\u001b[0;34m\u001b[0m\u001b[0;34m\u001b[0m\u001b[0m\n\u001b[0m\u001b[1;32m    317\u001b[0m                 \u001b[0;32melse\u001b[0m\u001b[0;34m:\u001b[0m\u001b[0;34m\u001b[0m\u001b[0;34m\u001b[0m\u001b[0m\n\u001b[1;32m    318\u001b[0m                     \u001b[0mgotit\u001b[0m \u001b[0;34m=\u001b[0m \u001b[0mwaiter\u001b[0m\u001b[0;34m.\u001b[0m\u001b[0macquire\u001b[0m\u001b[0;34m(\u001b[0m\u001b[0;32mFalse\u001b[0m\u001b[0;34m)\u001b[0m\u001b[0;34m\u001b[0m\u001b[0;34m\u001b[0m\u001b[0m\n",
      "\u001b[0;31mKeyboardInterrupt\u001b[0m: "
     ]
    }
   ],
   "source": [
    "#DF version after looking at Desk method\n",
    "\n",
    "# Set up hyperparameters that would affect results\n",
    "param = []\n",
    "params = []\n",
    "# result = []\n",
    "alpha = np.logspace(-3, 3, 7)\n",
    "rep = np.arange(10)\n",
    "num_cell = [100, 200, 500]\n",
    "cell_sz = [2, 5, 7]\n",
    "sparse_freq = [1, 2, 5]\n",
    "\n",
    "# Load Image\n",
    "image_nm = 'image/tree_part1.jpg'\n",
    "img = Image.open(image_nm)\n",
    "img = ImageOps.grayscale(img)\n",
    "img_arr = np.asarray(img)\n",
    "\n",
    "\n",
    "\n",
    "search_list = [rep, alpha, num_cell, cell_sz, sparse_freq]\n",
    "search = list(itertools.product(*search_list))             \n",
    "search_df = pd.DataFrame(search, columns= [ 'rep', 'alp', 'num_cell', 'cell_sz', 'sparse_freq'])\n",
    "print(search_df.head())\n",
    "\n",
    "# Call dask\n",
    "client = Client()\n",
    "client\n",
    "\n",
    "# counter = 0; # Keep track of number of iteration. Debugging method\n",
    "for p in search_df.values:\n",
    "    param = dask.delayed(run_sim)(*p, img_arr)\n",
    "    params.append(param)\n",
    "\n",
    "futures = dask.persist(*params)\n",
    "progress(futures)\n",
    "\n",
    "# Compute the result\n",
    "results = dask.compute(*futures)\n",
    "pd.DataFrame(results)"
   ]
  },
  {
   "cell_type": "code",
   "execution_count": null,
   "id": "592252ec",
   "metadata": {},
   "outputs": [],
   "source": [
    "pd.DataFrame(results)"
   ]
  },
  {
   "cell_type": "code",
   "execution_count": null,
   "id": "626aaa57",
   "metadata": {},
   "outputs": [],
   "source": [
    "# This works but other ways does not work at all for no reason\n",
    "\n",
    "params = []\n",
    "reformed = []\n",
    "alpha = np.logspace(-3, 3, 7)\n",
    "rep = np.arange(10)\n",
    "results = []\n",
    "\n",
    "# Load Image\n",
    "image_nm = 'image/tree_part1.jpg'\n",
    "img = Image.open(image_nm)\n",
    "img = ImageOps.grayscale(img)\n",
    "img_arr = np.asarray(img)\n",
    "\n",
    "\n",
    "# Load V1 weight\n",
    "search_list = {'repetition': rep,\n",
    "               'alpha': alpha,\n",
    "               'num_cell': [100, 200, 500],\n",
    "               'cell_sz': [2, 5, 7],\n",
    "               'sparse_freq': [1, 2, 5]\n",
    "              }\n",
    "\n",
    "dim = img_arr.shape\n",
    "n, m = dim\n",
    "\n",
    "# use itertool to reduce amount of for loops\n",
    "for row in itertools.product(*search_list.values()):\n",
    "    product = dict(zip(search_list.keys(), row))\n",
    "    rep, alp, num, sz, freq = product.values()\n",
    "    W = V1_weights(num, dim, sz, freq) \n",
    "    y = generate_Y(W, img_arr)\n",
    "    W_model = W.reshape(num, n, m)\n",
    "    \n",
    "    theta, reform, s = compress(W_model, y, alp)\n",
    "    error = np.linalg.norm(img - reform, 'fro') / np.sqrt(m*n)\n",
    "    \n",
    "    \n",
    "    \n",
    "    params.append({'repetition' : rep,\n",
    "                   'num_cell' : num,\n",
    "                   'cell_size' : sz,\n",
    "                   'sparse_freq' : freq,\n",
    "                   'alpha': alp,\n",
    "                   'error' : error\n",
    "                  })\n",
    "    \n",
    "    \n",
    "    results.append({'s' : s,\n",
    "                    'theta' : theta,\n",
    "                    'reform' : reform\n",
    "                   })\n",
    "# opt_param = opt_hyperparams(params)"
   ]
  },
  {
   "cell_type": "code",
   "execution_count": null,
   "id": "4994b21d",
   "metadata": {},
   "outputs": [],
   "source": [
    "#Saving \n",
    "save_path = os.path.join('./result/')\n",
    "params_df = pd.DataFrame(params)\n",
    "results_df = pd.DataFrame(results)\n",
    "\n",
    "total_df = params_df.join(results_df)\n",
    "\n",
    "params_df.to_csv(os.path.join(save_path, \"param_\" + \"_\".join(str.split(time.ctime().replace(\":\", \"_\"))) + \".csv\"))\n",
    "results_df.to_csv(os.path.join(save_path, \"results_\" + \"_\".join(str.split(time.ctime().replace(\":\", \"_\"))) + \".csv\"))\n",
    "total_df.to_csv(os.path.join(save_path, \"total_\" + \"_\".join(str.split(time.ctime().replace(\":\", \"_\"))) + \".csv\"))\n"
   ]
  },
  {
   "cell_type": "code",
   "execution_count": null,
   "id": "f9dfcd0c",
   "metadata": {},
   "outputs": [],
   "source": [
    "# Work on previously saved data\n",
    "params_df = pd.read_csv('result//param_Mon_May_23_21_46_49_2022.csv')\n",
    "results_df = pd.read_csv('result//results_Mon_May_23_21_46_49_2022.csv')\n",
    "total_df = pd.read_csv('result//total_Mon_May_23_21_47_07_2022.csv')"
   ]
  },
  {
   "cell_type": "code",
   "execution_count": null,
   "id": "06bfbac5",
   "metadata": {},
   "outputs": [],
   "source": [
    "params_df"
   ]
  },
  {
   "cell_type": "code",
   "execution_count": null,
   "id": "6e848613",
   "metadata": {},
   "outputs": [],
   "source": []
  },
  {
   "cell_type": "code",
   "execution_count": null,
   "id": "ea5880fc",
   "metadata": {},
   "outputs": [],
   "source": [
    "W"
   ]
  },
  {
   "cell_type": "code",
   "execution_count": null,
   "id": "7d5c45ba",
   "metadata": {},
   "outputs": [],
   "source": [
    "fig = sns.relplot(data = params_df, x = 'alpha', y = 'error', kind='line', palette='Accent', hue = 'cell_size')\n",
    "fig.set(yscale='log')\n",
    "fig.set(xscale='log')\n",
    "fig.set(title='error for each cell_size')"
   ]
  },
  {
   "cell_type": "code",
   "execution_count": null,
   "id": "3a36f33e",
   "metadata": {},
   "outputs": [],
   "source": [
    "fig = sns.relplot(data = params_df, x = 'alpha', y = 'error', kind='line', palette='Accent', hue = 'sparse_freq')\n",
    "fig.set(yscale='log')\n",
    "fig.set(xscale='log')\n",
    "fig.set(title='error for each cell_size')"
   ]
  },
  {
   "cell_type": "code",
   "execution_count": null,
   "id": "4f456037",
   "metadata": {},
   "outputs": [
    {
     "name": "stderr",
     "output_type": "stream",
     "text": [
      "distributed.worker - WARNING - Compute Failed\n",
      "Function:  run_sim\n",
      "args:      (7.0, 10.0, 200.0, 2.0, 5.0, array([[213, 210, 216, 216, 206, 208, 216, 214, 193, 216, 233, 178, 196,\n",
      "        141, 117, 134, 176, 112, 167, 160, 186, 213, 190, 177, 203, 182,\n",
      "        195, 202, 185, 180],\n",
      "       [220, 206, 204, 208, 208, 214, 215, 204, 228, 227, 203, 159, 174,\n",
      "        142,  93,  95, 115, 122, 144, 163, 181, 158, 205, 163, 165, 193,\n",
      "        201, 190, 187, 179],\n",
      "       [207, 195, 196, 203, 207, 214, 216, 204, 199, 184, 145, 131, 164,\n",
      "        171, 115, 105,  70, 102, 101, 117, 125,  86, 147, 109, 143, 204,\n",
      "        196, 176, 195, 194],\n",
      "       [190, 187, 197, 202, 195, 195, 197, 189, 192, 160, 111,  75, 106,\n",
      "        124, 100, 101, 108,  96,  96,  93,  93, 100,  99, 117, 146, 189,\n",
      "        174, 170, 192, 203],\n",
      "       [198, 194, 200, 202, 190, 180, 169, 152, 183, 172, 167, 112, 129,\n",
      "        108,  94,  87, 131, 104,  95, 106, 100, 141, 101, 168, 148, 165,\n",
      "        169, 191, 177, 191],\n",
      "       [214, 202, 202, 204, 195, 182, 160, 132, 101, 116, 157, 112, 124,\n",
      "         88,  79,  67, \n",
      "kwargs:    {}\n",
      "Exception: 'NameError(\"name \\'alp\\' is not defined\")'\n",
      "\n",
      "distributed.worker - WARNING - Compute Failed\n",
      "Function:  run_sim\n",
      "args:      (9.0, 10.0, 500.0, 2.0, 1.0, array([[213, 210, 216, 216, 206, 208, 216, 214, 193, 216, 233, 178, 196,\n",
      "        141, 117, 134, 176, 112, 167, 160, 186, 213, 190, 177, 203, 182,\n",
      "        195, 202, 185, 180],\n",
      "       [220, 206, 204, 208, 208, 214, 215, 204, 228, 227, 203, 159, 174,\n",
      "        142,  93,  95, 115, 122, 144, 163, 181, 158, 205, 163, 165, 193,\n",
      "        201, 190, 187, 179],\n",
      "       [207, 195, 196, 203, 207, 214, 216, 204, 199, 184, 145, 131, 164,\n",
      "        171, 115, 105,  70, 102, 101, 117, 125,  86, 147, 109, 143, 204,\n",
      "        196, 176, 195, 194],\n",
      "       [190, 187, 197, 202, 195, 195, 197, 189, 192, 160, 111,  75, 106,\n",
      "        124, 100, 101, 108,  96,  96,  93,  93, 100,  99, 117, 146, 189,\n",
      "        174, 170, 192, 203],\n",
      "       [198, 194, 200, 202, 190, 180, 169, 152, 183, 172, 167, 112, 129,\n",
      "        108,  94,  87, 131, 104,  95, 106, 100, 141, 101, 168, 148, 165,\n",
      "        169, 191, 177, 191],\n",
      "       [214, 202, 202, 204, 195, 182, 160, 132, 101, 116, 157, 112, 124,\n",
      "         88,  79,  67, \n",
      "kwargs:    {}\n",
      "Exception: 'NameError(\"name \\'alp\\' is not defined\")'\n",
      "\n"
     ]
    }
   ],
   "source": [
    "fig = sns.relplot(data = params_df, x = 'alpha', y = 'error', kind='line')\n",
    "fig.set(yscale='log')\n",
    "fig.set(xscale='log')\n",
    "fig.set(title='Error for each penalty')"
   ]
  },
  {
   "cell_type": "code",
   "execution_count": null,
   "id": "4d3acaaf",
   "metadata": {},
   "outputs": [],
   "source": [
    "# To show how consistent randomly generated V1 weight would be for each rep. it should be about same for each repetition\n",
    "\n",
    "\n",
    "fig = sns.relplot(data = params_df, x = 'repetition', y = 'error', kind='line', palette='Accent', hue = 'alpha')\n",
    "fig.set(title='error consistency')\n",
    "fig.set(yscale='log')"
   ]
  },
  {
   "cell_type": "code",
   "execution_count": null,
   "id": "460d5506",
   "metadata": {},
   "outputs": [],
   "source": [
    "sns.relplot(data = params_df, x = 'repetition', y = 'error', kind='line', palette='Accent', hue = 'alpha')"
   ]
  },
  {
   "cell_type": "code",
   "execution_count": null,
   "id": "97b7843f",
   "metadata": {},
   "outputs": [],
   "source": []
  },
  {
   "cell_type": "code",
   "execution_count": null,
   "id": "4f045bce",
   "metadata": {},
   "outputs": [],
   "source": [
    "plt.figure(figsize=(3, 3))\n",
    "fig = sns.relplot()"
   ]
  },
  {
   "cell_type": "code",
   "execution_count": null,
   "id": "590ad72a",
   "metadata": {
    "scrolled": true
   },
   "outputs": [],
   "source": [
    "\n",
    "alpha = np.logspace(-3, 3, 7)\n",
    "rep = np.arange(10)\n",
    "num_cell = [100, 200, 500]\n",
    "cell_sz = [2, 5, 7]\n",
    "sparse_freq = [1, 2, 5]\n",
    "\n",
    "# Load Image\n",
    "image_nm = 'city_part3.png'\n",
    "img = Image.open('image/' + image_nm)\n",
    "img = ImageOps.grayscale(img)\n",
    "img_arr = np.asarray(img)\n",
    "\n",
    "dim = img_arr.shape\n",
    "n, m = dim\n",
    "\n",
    "# Load V1 weight\n",
    "# search_list = {'repetition': rep,\n",
    "#                'alpha': alpha,\n",
    "#                'num_cell': ,\n",
    "#                'cell_sz': [2, 5, 7],\n",
    "#                'sparse_freq': [1, 2, 5]\n",
    "#               }\n",
    "\n",
    "temp_alp = 3\n",
    "temp_num = 200\n",
    "temp_sz = 5\n",
    "temp_freq = 5\n",
    "\n",
    "temp_dim = img_arr.shape\n",
    "\n",
    "temp_W = V1_weights(temp_num, dim, temp_sz, temp_freq)\n",
    "\n",
    "\n",
    "search_list = [rep, alpha, num_cell, cell_sz, sparse_freq]\n",
    "search = list(itertools.product(*search_list))             \n",
    "search_df = pd.DataFrame(search, columns= [ 'rep', 'alp', 'num_cell', 'cell_sz', 'sparse_freq'])\n",
    "\n",
    "\n",
    "result = pd.DataFrame(columns=['s', 'theta', 'reform', 'error'])\n",
    "# use itertool to reduce amount of for loops\n",
    "# for row in itertools.product(*search_list.values()):\n",
    "\n",
    "search_result = []\n",
    "print(\"start for loop\")\n",
    "for rep, alp, num, sz, freq in list(search_df.values):\n",
    "    print(\"repetition:\", rep, \"alpha:\", alp, \"num_Cell:\", num, \"Cell Size:\", sz, \n",
    "          \"Cell_Freq:\", freq, \"Dim\", dim[0], dim[1])\n",
    "    \n",
    "    # fix the classes of hyperparameter from float to int if needed\n",
    "    rep = int(rep)\n",
    "    num = int(num)\n",
    "    sz = int(sz)\n",
    "    freq = int(freq)\n",
    "\n",
    "    # Generate V1 weight with Y values\n",
    "    W = V1_weights(num, dim, sz, freq) \n",
    "    y = generate_Y(W, img_arr)\n",
    "    W_model = W.reshape(num, n, m)\n",
    "\n",
    "    # Compute bio-reconstruction of image with error\n",
    "    theta, reform, s = compress(W_model, y, alp)\n",
    "    error = np.linalg.norm(img - reform, 'fro') / np.sqrt(m*n)\n",
    "    print(\"Error:\", error)\n",
    "    \n",
    "    # Save result \n",
    "    search_result.append({'repetition' : rep,\n",
    "                          'num_cell' : num,\n",
    "                          'cell_size' : sz,\n",
    "                          'sparse_freq' : freq,\n",
    "                          'alpha': alp,\n",
    "                          'error' : error\n",
    "                         })\n",
    "opt_param = opt_hyperparams(search_result)"
   ]
  },
  {
   "cell_type": "markdown",
   "id": "8081736f",
   "metadata": {},
   "source": [
    "## Optimal hyperparam\n",
    "### tree_part1.jpg\n",
    "####  num_cell: 500,  cell_size: 5,   sparse_freq: 2,   alpha: 0.01,      error: 12.434444\n",
    "\n",
    "### city_part2.png\n",
    "#### num_cell: 500,  cell_size: 7,  sparse_freq: 2,  alpha: 0.01     error: 8.087927\n",
    "\n",
    "### city_part3.png\n",
    "#### num_cell: 500,  cell_size: 2,  sparse_freq: 1,  alpha: 0.10     error: 14.200209"
   ]
  },
  {
   "cell_type": "code",
   "execution_count": null,
   "id": "4d131c44",
   "metadata": {
    "scrolled": true
   },
   "outputs": [],
   "source": [
    "#Saving \n",
    "save_path = os.path.join('./result/')\n",
    "\n",
    "results_df = pd.DataFrame(search_result)\n",
    "\n",
    "results_df.to_csv(os.path.join(save_path, \"city_part3_results_\" + \"_\".join(str.split(time.ctime().replace(\":\", \"_\"))) + \".csv\"))\n"
   ]
  },
  {
   "cell_type": "code",
   "execution_count": null,
   "id": "7851a57e",
   "metadata": {},
   "outputs": [],
   "source": [
    "repetition, num_cell_h, cell_size_h, sparse_freq_h, alpha_h, error = opt_param.values.ravel()"
   ]
  },
  {
   "cell_type": "code",
   "execution_count": null,
   "id": "17302f94",
   "metadata": {},
   "outputs": [],
   "source": []
  },
  {
   "cell_type": "code",
   "execution_count": null,
   "id": "55b6fd00",
   "metadata": {},
   "outputs": [],
   "source": []
  },
  {
   "cell_type": "code",
   "execution_count": null,
   "id": "71eb9739",
   "metadata": {},
   "outputs": [],
   "source": [
    "#Compress Sensing on function"
   ]
  },
  {
   "cell_type": "code",
   "execution_count": 6,
   "id": "e304c2fc",
   "metadata": {},
   "outputs": [
    {
     "name": "stdout",
     "output_type": "stream",
     "text": [
      "30 30\n"
     ]
    }
   ],
   "source": [
    "## Check if this function is applicable to regular compress sensing\n",
    "classical_img = Image.open(\"image/tree_part1.jpg\")\n",
    "classical_img = ImageOps.grayscale(classical_img)\n",
    "classical_arr = np.asarray(classical_img)\n",
    "cn, cm = classical_arr.shape\n",
    "print(cn, cm)\n",
    "classical_samp_list = [100, 200, 500] #np.floor (cn * cm * 0.20).astype(int)\n",
    "classical_samp = 500"
   ]
  },
  {
   "cell_type": "code",
   "execution_count": 11,
   "id": "8ba9ceba",
   "metadata": {
    "scrolled": false
   },
   "outputs": [
    {
     "data": {
      "image/png": "[encoded data removed]",
      "text/plain": [
       "<Figure size 432x288 with 1 Axes>"
      ]
     },
     "metadata": {
      "needs_background": "light"
     },
     "output_type": "display_data"
    },
    {
     "data": {
      "image/png": "[encoded data removed]",
      "text/plain": [
       "<Figure size 432x288 with 1 Axes>"
      ]
     },
     "metadata": {
      "needs_background": "light"
     },
     "output_type": "display_data"
    },
    {
     "data": {
      "image/png": "[encoded data removed]",
      "text/plain": [
       "<Figure size 432x288 with 1 Axes>"
      ]
     },
     "metadata": {
      "needs_background": "light"
     },
     "output_type": "display_data"
    },
    {
     "data": {
      "image/png": "[encoded data removed]",
      "text/plain": [
       "<Figure size 432x288 with 1 Axes>"
      ]
     },
     "metadata": {
      "needs_background": "light"
     },
     "output_type": "display_data"
    },
    {
     "data": {
      "image/png": "[encoded data removed]",
      "text/plain": [
       "<Figure size 432x288 with 1 Axes>"
      ]
     },
     "metadata": {
      "needs_background": "light"
     },
     "output_type": "display_data"
    },
    {
     "data": {
      "image/png": "[encoded data removed]",
      "text/plain": [
       "<Figure size 432x288 with 1 Axes>"
      ]
     },
     "metadata": {
      "needs_background": "light"
     },
     "output_type": "display_data"
    },
    {
     "data": {
      "image/png": "[encoded data removed]",
      "text/plain": [
       "<Figure size 432x288 with 1 Axes>"
      ]
     },
     "metadata": {
      "needs_background": "light"
     },
     "output_type": "display_data"
    }
   ],
   "source": [
    "alpha_list = np.logspace(-3, 3, 7)\n",
    "\n",
    "\n",
    "for alp in alpha_list:\n",
    "    # Generate random indexes and find corresponding y value for each index\n",
    "    rand_index = np.random.permutation(cn * cm)[:classical_samp]\n",
    "    classical_Y = classical_arr.flatten()[rand_index]\n",
    "    classical_Y = classical_Y.reshape(classical_samp, 1)\n",
    "\n",
    "    # Generate C matrix\n",
    "    C = np.eye(cn * cm)[rand_index, :] * np.sqrt(cn * cm)\n",
    "    C3D = C.reshape(classical_samp, cn, cm)\n",
    "    theta, classical_reform, s = compress(C3D, classical_Y, alp)\n",
    "\n",
    "    plt.imshow(classical_reform)\n",
    "    plt.title(\"Recon.(alp: \" + str(alp) + \")\")\n",
    "    plt.show()\n",
    "    if (alp == 0.001):\n",
    "        save = classical_reform"
   ]
  },
  {
   "cell_type": "code",
   "execution_count": 12,
   "id": "44fe6f05",
   "metadata": {},
   "outputs": [
    {
     "data": {
      "text/plain": [
       "array([[ 2.25733880e+00,  2.51080268e+00,  2.47885384e+00,\n",
       "         2.71114371e+00,  2.37765419e+00,  2.21084867e+00,\n",
       "         2.71190437e+00,  2.11529331e+00,  1.94404654e+00,\n",
       "         2.71141663e+00,  3.27664686e+00,  1.39746804e+00,\n",
       "         2.04369276e+00,  1.70004126e-01, -5.89049946e-01,\n",
       "        -2.19206950e-02,  1.37707332e+00, -7.54751625e-01,\n",
       "         1.07785599e+00,  7.13000229e-01,  1.72922980e+00,\n",
       "         2.61047156e+00,  1.84352403e+00,  1.41052869e+00,\n",
       "         2.27703776e+00,  1.57768825e+00,  1.76494374e+00,\n",
       "         2.24339455e+00,  2.74972884e+00,  1.23756642e+00],\n",
       "       [ 2.66528557e+00,  2.37760708e+00,  2.31133992e+00,\n",
       "         2.44416158e+00,  2.44333028e+00,  2.64406816e+00,\n",
       "         2.67735221e+00,  2.31148604e+00,  2.33754313e+00,\n",
       "         3.07690228e+00,  1.69560238e+00,  8.11223745e-01,\n",
       "         1.31110205e+00,  2.44178449e-01, -4.41219415e-01,\n",
       "        -1.32153273e+00, -6.54972384e-01, -4.22258429e-01,\n",
       "         3.11881572e-01,  9.43654857e-01,  1.54399764e+00,\n",
       "         5.15111220e-01,  2.34307512e+00,  9.44861262e-01,\n",
       "         1.27746014e+00,  1.94441835e+00,  1.65467478e+00,\n",
       "         1.89722547e+00,  1.74459607e+00,  1.57291000e+00],\n",
       "       [ 2.41096359e+00,  1.92222395e+00,  2.04409624e+00,\n",
       "         2.40880726e+00,  2.41114743e+00,  2.64420333e+00,\n",
       "         2.66312229e+00,  1.98177401e+00,  2.14417645e+00,\n",
       "         1.29141545e+00,  3.44962445e-01, -8.75878915e-01,\n",
       "         9.76909499e-01,  8.99493061e-02, -4.25437294e-01,\n",
       "        -9.88859480e-01, -4.60478433e-01, -6.93679964e-01,\n",
       "        -1.12158331e+00, -5.87856315e-01,  1.91351574e-01,\n",
       "        -1.62049746e+00,  4.11857134e-01,  5.50999879e-01,\n",
       "         2.77577570e-01,  2.31114549e+00,  1.47262782e+00,\n",
       "         1.37791379e+00,  2.01074743e+00,  1.75933472e+00],\n",
       "       [ 1.84448172e+00,  1.74510909e+00,  2.07788440e+00,\n",
       "         2.24532228e+00,  1.77757704e+00,  2.66672012e+00,\n",
       "         2.07793059e+00,  1.81087904e+00,  1.91086825e+00,\n",
       "         1.31152287e+00, -4.78610822e-01, -1.98820214e+00,\n",
       "        -9.55067206e-01, -3.55630083e-01, -3.29490968e-01,\n",
       "        -9.76014299e-01, -3.20084808e-01, -1.04466901e+00,\n",
       "        -5.46945073e-01, -1.38871817e+00, -1.20865606e+00,\n",
       "        -1.15466476e+00, -5.05016502e-02, -5.88439915e-01,\n",
       "        -1.35368015e-02,  1.68246964e+00,  1.31066067e+00,\n",
       "         2.07678171e+00,  1.73074288e+00,  2.27742923e+00],\n",
       "       [ 1.92006392e+00,  2.17916057e+00,  2.17729185e+00,\n",
       "         2.24380997e+00,  1.33787902e+00,  1.51150947e+00,\n",
       "         1.27782990e+00,  5.77810195e-01,  1.33456678e+00,\n",
       "         4.52292694e-01,  1.07710615e+00, -7.55115855e-01,\n",
       "        -1.89568316e-01, -7.51668396e-01, -5.79901800e-01,\n",
       "        -1.58799928e+00, -1.23079132e-01, -1.02177447e+00,\n",
       "        -2.32186013e-01, -1.80772592e+00, -6.24383282e-01,\n",
       "         2.10652135e-01, -1.12159091e+00,  7.81963661e-01,\n",
       "         5.39993325e-01,  1.57886644e+00,  1.14383210e+00,\n",
       "         1.99137446e+00,  1.41154632e+00,  1.87713114e+00],\n",
       "       [ 2.64452723e+00,  2.66966989e+00,  2.07283584e+00,\n",
       "         2.31085757e+00,  6.13474726e-01,  1.57712813e+00,\n",
       "         6.63821795e-01, -8.90753267e-02, -1.12088890e+00,\n",
       "        -6.22832863e-01,  7.43966113e-01, -7.55630437e-01,\n",
       "        -5.28695999e-01, -1.11570158e+00, -7.09959530e-01,\n",
       "        -1.39699770e+00, -1.07923425e+00, -9.89100785e-01,\n",
       "        -8.53924836e-01, -1.63278923e+00, -1.12171736e+00,\n",
       "        -5.22582738e-01, -1.38700251e+00,  9.10463394e-01,\n",
       "         4.10158256e-01,  9.10799864e-01,  1.91082796e+00,\n",
       "         2.11462323e+00,  1.14493570e+00,  9.48644099e-01],\n",
       "       [ 2.61061865e+00,  1.82596195e+00,  2.55646498e+00,\n",
       "         2.24393718e+00,  4.34449210e-01,  5.50741142e-01,\n",
       "         1.10811629e-01, -5.99280334e-01, -1.06450331e+00,\n",
       "        -8.55013068e-01, -3.55769326e-01, -1.15632925e+00,\n",
       "        -2.45404079e-01, -1.55520570e+00, -8.31195761e-01,\n",
       "        -9.93903355e-01, -2.38796585e+00, -9.88876596e-01,\n",
       "        -2.22173306e+00, -2.01079580e+00, -1.27956594e+00,\n",
       "        -1.19198627e+00, -6.66756386e-01,  3.47151509e-01,\n",
       "        -7.05430642e-01,  6.18770275e-01,  1.01116744e+00,\n",
       "         2.51045160e+00,  4.45160790e-01,  1.31142773e+00],\n",
       "       [ 2.27768743e+00,  2.38415102e+00,  2.81063184e+00,\n",
       "         1.73135217e+00,  1.11671735e-01, -3.50699855e-01,\n",
       "        -6.18162356e-01, -1.01687995e+00, -1.92189212e+00,\n",
       "        -1.68845487e+00, -3.96550243e-01, -1.48871195e+00,\n",
       "        -7.24993582e-01, -1.02002925e+00, -6.80017977e-01,\n",
       "        -1.30356599e+00, -2.52241198e+00, -1.52246555e+00,\n",
       "        -1.90827830e+00, -2.95498386e+00, -1.05563232e+00,\n",
       "        -1.12264332e+00, -4.92653059e-01, -1.45474967e+00,\n",
       "        -5.99429092e-01, -1.77615371e-01,  1.76817622e-01,\n",
       "         6.77553580e-01,  5.30308258e-01,  1.10480585e+00],\n",
       "       [ 2.21062300e+00,  2.44327381e+00,  2.16536970e+00,\n",
       "         2.04380947e+00, -5.54954739e-01, -1.42109278e+00,\n",
       "        -1.95553064e+00, -1.02226243e+00, -1.23949486e+00,\n",
       "        -2.28853831e+00, -1.28884343e+00, -2.08876298e+00,\n",
       "        -1.75539479e+00, -2.88973677e-01, -1.21162757e+00,\n",
       "        -1.08932883e+00, -2.37456998e+00, -1.88952827e+00,\n",
       "        -1.55582840e+00, -1.91288596e+00, -1.71875474e+00,\n",
       "        -2.08871589e+00, -9.45402160e-01, -1.28924490e+00,\n",
       "        -1.25599011e+00, -1.55552532e+00, -7.86116085e-01,\n",
       "        -3.41582562e-01, -2.60476166e-02,  2.40963495e+00],\n",
       "       [ 2.31003932e+00,  2.06795984e+00,  1.37982385e+00,\n",
       "         8.11073971e-01,  7.79907816e-02, -8.13582221e-01,\n",
       "        -1.84906903e+00, -2.32177246e+00, -1.34713463e+00,\n",
       "        -1.48835543e+00, -1.92170960e+00, -1.58869624e+00,\n",
       "        -9.35176747e-01, -7.13539483e-01, -1.09258883e+00,\n",
       "        -1.46681274e+00, -2.32190900e+00, -1.98911160e+00,\n",
       "        -8.66109740e-01, -1.65613359e+00, -2.10977893e+00,\n",
       "        -2.72358127e+00, -1.01911591e+00, -1.70551411e+00,\n",
       "        -1.92138693e+00, -7.71161852e-01, -1.31256417e+00,\n",
       "        -2.55537081e+00, -6.78896536e-01,  3.92768807e-01],\n",
       "       [ 1.42714557e+00,  1.24503000e+00,  1.77689744e+00,\n",
       "         1.68807361e-01,  1.44400300e+00, -3.22637411e-01,\n",
       "        -1.82164565e+00, -1.41613529e+00, -1.38873423e+00,\n",
       "        -7.90031809e-01, -1.02206755e+00,  1.11056662e-01,\n",
       "        -9.21778251e-01, -1.46392341e+00, -1.62647606e+00,\n",
       "        -1.55558082e+00, -1.88861825e+00, -1.76335344e+00,\n",
       "        -8.81119290e-01, -1.55586793e+00, -2.28927516e+00,\n",
       "        -2.72195754e+00, -1.81869417e+00, -2.68768999e+00,\n",
       "        -1.45674118e+00, -9.01936184e-01, -1.48870467e+00,\n",
       "        -1.82147437e+00, -1.00061510e+00, -8.89209192e-01],\n",
       "       [ 5.11923497e-01,  5.36451021e-01,  6.43857444e-01,\n",
       "         4.77589539e-01,  3.83563370e-02, -1.08949067e+00,\n",
       "        -1.64469537e+00, -4.84866746e-01, -1.04823155e+00,\n",
       "        -1.24133807e+00, -4.89454520e-01,  1.94271823e+00,\n",
       "         6.43990606e-01, -1.19433060e+00, -1.85524783e+00,\n",
       "        -2.75529856e+00, -1.58876950e+00, -1.46298300e+00,\n",
       "        -1.05634943e+00, -1.68847038e+00, -2.25540251e+00,\n",
       "        -2.28875062e+00, -2.28894903e+00, -2.45498111e+00,\n",
       "        -2.05538225e+00, -1.28892727e+00, -2.18821561e+00,\n",
       "        -1.58829231e+00, -2.85388311e+00, -1.28991760e+00],\n",
       "       [ 5.10586730e-01,  1.15135081e-01, -5.47148062e-01,\n",
       "         2.07012623e-01, -1.12363678e+00, -1.58236316e+00,\n",
       "        -1.62162335e+00, -7.89396693e-01, -1.01967832e+00,\n",
       "        -1.87105687e+00,  8.95771830e-02,  4.44810131e-01,\n",
       "         3.07219956e-01, -1.78487241e+00, -1.96830234e+00,\n",
       "        -2.88896872e+00, -1.85549876e+00, -1.72356989e+00,\n",
       "        -1.68895953e+00, -2.28817585e+00, -2.20197655e+00,\n",
       "        -2.12213070e+00, -1.95597290e+00, -2.27710964e+00,\n",
       "        -1.85530512e+00, -1.88858112e+00, -1.58854081e+00,\n",
       "        -1.51338569e+00, -1.52280286e+00, -1.85614412e+00],\n",
       "       [-8.55946670e-01, -4.55792800e-01, -1.22648577e+00,\n",
       "        -7.59445095e-01, -2.28814329e+00, -1.45555576e+00,\n",
       "        -1.58893088e+00, -1.89899903e-01, -3.89666729e-01,\n",
       "        -2.05469512e+00, -6.89531275e-01, -3.56647695e-01,\n",
       "        -6.88985853e-01, -1.72304158e+00, -1.59890713e+00,\n",
       "        -1.92762064e+00, -1.69028778e+00, -1.25894021e+00,\n",
       "        -1.72265038e+00, -2.28816421e+00, -2.52239988e+00,\n",
       "        -2.25604062e+00, -2.18870900e+00, -2.19250600e+00,\n",
       "        -1.60191929e+00, -2.58837217e+00, -2.08916921e+00,\n",
       "        -1.45568324e+00, -1.29939511e+00, -2.15472411e+00],\n",
       "       [-2.65457508e+00, -6.92900833e-01, -1.95528274e+00,\n",
       "        -1.88870261e+00, -2.28790214e+00, -2.32252813e+00,\n",
       "        -2.32177955e+00, -1.25551586e+00, -6.22512946e-01,\n",
       "        -1.02172519e+00, -5.02599289e-01, -1.60822323e+00,\n",
       "        -1.92173631e+00, -2.12258580e+00, -1.28450937e+00,\n",
       "        -2.88939404e+00, -2.80225277e+00, -1.65574141e+00,\n",
       "        -1.71613848e+00, -1.92234840e+00, -2.86262885e+00,\n",
       "        -2.48906296e+00, -2.70056482e+00, -1.92550511e+00,\n",
       "        -1.82452090e+00, -2.68479369e+00, -2.24439677e+00,\n",
       "        -1.86803794e+00, -1.29004626e+00, -2.18595711e+00],\n",
       "       [-1.98917420e+00, -1.00450333e+00, -1.52221913e+00,\n",
       "        -2.45487785e+00, -1.33115916e+00, -1.12203863e+00,\n",
       "        -1.40519202e+00, -2.78718806e+00, -8.57992263e-01,\n",
       "        -1.55470559e+00, -1.23388773e-01, -2.08881953e+00,\n",
       "        -2.02147665e+00, -1.58851075e+00, -1.90033620e+00,\n",
       "        -2.34670198e+00, -3.25462174e+00, -2.62197491e+00,\n",
       "        -1.98861065e+00, -1.98890761e+00, -3.26762561e+00,\n",
       "        -2.72173407e+00, -2.47563344e+00, -2.81156674e+00,\n",
       "        -1.85587721e+00, -2.66213980e+00, -2.39580270e+00,\n",
       "        -2.18875772e+00, -1.68921019e+00, -1.68934290e+00],\n",
       "       [-1.48587138e+00, -1.41265984e+00, -1.12805503e+00,\n",
       "        -1.15594665e+00, -2.89661671e-01, -1.11194692e+00,\n",
       "        -6.56174995e-01, -1.78942710e+00, -1.05585369e+00,\n",
       "        -1.37252165e+00, -2.28793817e+00, -2.78843189e+00,\n",
       "        -2.14642686e+00, -7.63843395e-01, -1.41185127e+00,\n",
       "        -2.45623617e+00, -2.65562732e+00, -1.98870322e+00,\n",
       "        -2.69574764e+00, -2.08890101e+00, -2.82119510e+00,\n",
       "        -2.61845974e+00, -2.42248121e+00, -2.07214004e+00,\n",
       "        -1.52048922e+00, -2.44806314e+00, -2.21810018e+00,\n",
       "        -1.25590436e+00, -1.57395649e+00, -2.36627291e+00],\n",
       "       [-1.22697763e-01, -1.35497552e+00,  1.27224060e-01,\n",
       "        -1.05510744e+00, -9.55716378e-01, -1.75489040e+00,\n",
       "        -1.17237762e+00, -1.71830173e+00, -8.32115842e-01,\n",
       "        -2.85514125e-01, -6.89701949e-01, -2.62199576e+00,\n",
       "        -2.02194516e+00, -2.89815461e-01, -1.78874346e+00,\n",
       "        -3.48784594e+00, -2.64765436e+00, -1.40147984e+00,\n",
       "        -2.72182362e+00, -2.15767725e+00, -1.92259886e+00,\n",
       "        -2.67817672e+00, -2.08895219e+00, -1.93316692e+00,\n",
       "        -1.53511556e+00, -1.37251074e+00, -2.28892713e+00,\n",
       "        -2.52237817e+00, -1.95607822e+00, -2.28892147e+00],\n",
       "       [-2.01969575e-01, -9.21253781e-01,  1.61036023e+00,\n",
       "        -7.73076827e-01, -9.56207878e-01, -1.08538010e+00,\n",
       "        -1.45447753e+00, -1.12183511e+00, -3.69348269e-01,\n",
       "         7.43688398e-01, -2.78652506e+00, -2.32184122e+00,\n",
       "        -1.48955906e+00, -2.38778057e+00, -2.46939013e+00,\n",
       "        -2.56811256e-01, -1.99095614e+00, -1.32519682e+00,\n",
       "        -1.65566071e+00, -1.20843702e+00, -1.15581833e+00,\n",
       "        -2.58187318e+00, -1.45573534e+00, -2.75497450e+00,\n",
       "        -1.71664474e+00, -1.12246359e+00, -1.85592803e+00,\n",
       "        -2.45540150e+00, -1.82209170e+00, -1.55561597e+00],\n",
       "       [-5.21079738e-01,  7.63372109e-02,  6.77925747e-01,\n",
       "         6.44263140e-01, -1.62125513e+00, -1.15482983e+00,\n",
       "         9.43109050e-01, -7.55687640e-01, -3.56017396e-01,\n",
       "         9.76170273e-01, -4.55944051e-01, -2.07789834e+00,\n",
       "        -1.34988786e+00,  6.09053040e-01, -2.78866297e+00,\n",
       "        -1.00170738e+00, -1.19031936e+00, -5.18496965e-01,\n",
       "         7.39850896e-01, -6.99772564e-01, -1.45105839e+00,\n",
       "        -1.68878604e+00, -6.89595573e-01, -7.85017606e-01,\n",
       "        -2.82233439e+00, -3.28800961e+00, -1.82204620e+00,\n",
       "        -1.44769786e+00, -2.38860727e+00, -1.02291751e+00],\n",
       "       [ 2.11016894e+00,  6.81258738e-01,  9.11299627e-01,\n",
       "         3.51519733e-01, -2.95084668e-01, -4.74859217e-02,\n",
       "         3.14243017e-01,  3.32238583e-01, -5.55004921e-01,\n",
       "        -4.55773686e-01, -4.11358077e-01,  1.02950629e-02,\n",
       "        -1.95506204e+00, -9.22863091e-01, -1.64744741e+00,\n",
       "        -1.42612550e+00, -1.85494287e+00,  1.76973209e-01,\n",
       "         2.57668299e+00, -9.31986114e-01, -2.35539249e+00,\n",
       "         8.76577456e-01, -9.02487773e-02, -4.13093297e-01,\n",
       "        -4.88888703e-01, -2.02199775e+00, -1.05630960e+00,\n",
       "        -1.05382973e+00, -6.55353588e-01, -8.99839065e-01],\n",
       "       [ 2.02749268e+00,  5.11581244e-01,  1.81031714e+00,\n",
       "         5.02981487e-01,  1.84325289e+00,  9.56052595e-01,\n",
       "         4.84505564e-01,  1.45046460e+00,  7.53313648e-01,\n",
       "         4.77954471e-01, -7.55356743e-01,  3.12047480e-01,\n",
       "        -1.56130870e+00, -3.18747379e+00, -2.02197137e+00,\n",
       "        -7.89706071e-01, -2.02170060e+00,  1.87717713e+00,\n",
       "         2.84317169e+00, -1.48795152e+00, -2.17196027e+00,\n",
       "         2.11417729e-01, -1.02224945e-01, -5.55797011e-01,\n",
       "        -7.55078712e-01, -2.45940929e-01, -2.08782750e+00,\n",
       "         1.11609479e-01,  2.01084895e+00,  9.76855342e-01],\n",
       "       [ 2.54392865e+00,  8.11275949e-01,  2.81043091e+00,\n",
       "         1.30313756e+00,  2.41815723e+00,  2.14367177e+00,\n",
       "         1.19035232e+00,  2.47660336e+00,  1.08011425e+00,\n",
       "         1.87744712e+00,  2.44512849e-01,  8.68566809e-02,\n",
       "        -9.85014281e-01, -7.89154345e-01, -3.02027899e+00,\n",
       "        -2.48805516e+00,  9.43023555e-01,  2.37739325e+00,\n",
       "         1.00931409e+00, -2.42029059e+00, -4.16702677e-01,\n",
       "         6.33698979e-02,  7.15718958e-01,  1.71055920e+00,\n",
       "         1.91032108e+00,  2.40992341e+00,  7.10202902e-01,\n",
       "         1.81020371e+00,  2.21285318e+00,  1.64368203e+00],\n",
       "       [ 2.70377076e+00,  1.75271516e+00,  1.89519800e+00,\n",
       "         2.31063845e+00,  2.97717425e+00,  2.41097284e+00,\n",
       "         1.33049571e+00,  2.04460132e+00,  1.84403217e+00,\n",
       "         1.82876579e+00,  2.07679780e+00,  1.47714768e+00,\n",
       "         8.04668822e-01,  2.39368918e-01, -4.12163132e+00,\n",
       "        -1.35555501e+00,  1.43792181e-01,  1.15648903e+00,\n",
       "        -2.31985833e+00, -1.15407293e+00,  1.80986303e+00,\n",
       "         1.82302731e-01,  1.67666774e+00,  2.22781486e+00,\n",
       "         1.89979582e+00,  2.18571801e+00,  2.41082094e+00,\n",
       "         2.11161745e+00,  1.24420893e+00,  2.23289049e+00],\n",
       "       [ 2.35835187e+00,  2.31168973e+00,  1.79021479e+00,\n",
       "         2.34405978e+00,  2.63165961e+00,  2.34372813e+00,\n",
       "         1.98244589e+00,  2.01093425e+00,  1.87537909e+00,\n",
       "         1.68047085e+00,  1.87686849e+00,  1.74399948e+00,\n",
       "         2.54283215e+00,  1.24454646e+00, -3.28778216e+00,\n",
       "        -2.02170823e+00, -9.53115120e-01,  7.08840952e-02,\n",
       "         4.76576305e-01,  2.41033481e+00,  1.43960899e+00,\n",
       "         1.57508838e-01,  1.03725174e+00,  1.85725093e+00,\n",
       "         1.77859526e+00,  1.40961957e+00,  2.65054108e+00,\n",
       "         1.77729471e+00,  1.81061409e+00,  2.04006780e+00],\n",
       "       [ 2.05099259e+00,  3.05436750e+00,  2.21148974e+00,\n",
       "         2.24510060e+00,  2.21044290e+00,  2.03428112e+00,\n",
       "         2.07739662e+00,  2.04460889e+00,  2.28933506e+00,\n",
       "         1.77776662e+00,  1.64528066e+00,  1.54448161e+00,\n",
       "         1.71150223e+00,  1.96614645e+00, -1.92191122e+00,\n",
       "        -2.65383471e+00, -2.12173686e+00, -2.88439590e-01,\n",
       "         6.84364583e-02,  2.11053065e+00,  1.84354426e+00,\n",
       "         1.32592641e-01,  1.78132269e-01,  1.84467683e+00,\n",
       "         2.15129087e+00,  1.97647771e+00,  1.97779169e+00,\n",
       "         1.97765923e+00,  2.01079279e+00,  2.04447076e+00],\n",
       "       [ 2.16354719e+00,  2.39800817e+00,  2.21175455e+00,\n",
       "         1.56314279e+00,  2.19452302e+00,  2.21033760e+00,\n",
       "         2.21174123e+00,  2.66398724e+00,  2.34392234e+00,\n",
       "         2.24425638e+00,  1.87940877e+00,  1.19078134e+00,\n",
       "         1.72653566e+00,  2.41054003e+00,  6.78070541e-01,\n",
       "        -1.31705232e+00, -2.85432886e+00,  1.60998950e+00,\n",
       "         6.56259410e-01,  2.26628141e+00,  1.84401955e+00,\n",
       "         3.29181970e-01,  6.01188738e-01,  2.14392983e+00,\n",
       "         2.17692796e+00,  1.16200784e+00,  1.69048027e+00,\n",
       "         2.21121039e+00,  2.24448122e+00,  2.27743249e+00],\n",
       "       [ 2.21034008e+00,  2.17781611e+00,  2.11746767e+00,\n",
       "         2.14450052e+00,  2.05484938e+00,  1.92361680e+00,\n",
       "         1.96646607e+00,  2.21160353e+00,  2.11956926e+00,\n",
       "         2.27768238e+00,  2.04404688e+00,  2.04257746e+00,\n",
       "         2.15846510e+00,  2.47770184e+00,  1.84345977e+00,\n",
       "        -1.75427550e+00, -2.24776332e+00,  1.03842082e+00,\n",
       "         1.64415800e+00,  1.61086131e+00,  7.70409447e-01,\n",
       "         1.06317854e+00,  1.67703210e+00,  1.76144542e+00,\n",
       "         2.24418941e+00,  9.45462202e-01,  1.88644801e+00,\n",
       "         2.17860349e+00,  2.37744085e+00,  2.34431421e+00],\n",
       "       [ 2.17817386e+00,  2.14478719e+00,  2.11115214e+00,\n",
       "         1.97410702e+00,  2.28304139e+00,  2.04521484e+00,\n",
       "         2.04426122e+00,  2.04428779e+00,  1.71129204e+00,\n",
       "         2.21125866e+00,  1.77792327e+00,  2.22510322e+00,\n",
       "         1.91043730e+00,  2.11094210e+00,  1.91002686e+00,\n",
       "         5.34490681e-04, -1.29662263e+00,  1.14429328e+00,\n",
       "         1.71149377e+00,  2.21094392e+00,  8.53838327e-01,\n",
       "         2.37665146e+00,  1.63739279e+00,  2.07762901e+00,\n",
       "         2.17749629e+00,  1.41965405e+00,  2.24500540e+00,\n",
       "         2.03812446e+00,  2.52662245e+00,  2.34377506e+00],\n",
       "       [ 2.37792784e+00,  2.37794943e+00,  2.34415301e+00,\n",
       "         2.17458396e+00,  2.27675417e+00,  1.79839696e+00,\n",
       "         2.24471871e+00,  1.54899551e+00,  2.17706935e+00,\n",
       "         2.70341325e+00,  2.34451519e+00,  2.04433981e+00,\n",
       "         1.09762573e+00,  2.44365887e+00,  2.27725335e+00,\n",
       "         7.82675103e-02,  8.76136186e-02,  1.04972424e+00,\n",
       "         1.69158490e+00,  2.41058590e+00,  2.02074393e+00,\n",
       "         1.16782090e+00,  1.29133897e+00,  1.85252045e+00,\n",
       "         2.23803596e+00,  1.78916890e+00,  2.21073011e+00,\n",
       "         2.33584796e+00,  2.27747591e+00,  2.08212462e+00]])"
      ]
     },
     "execution_count": 12,
     "metadata": {},
     "output_type": "execute_result"
    }
   ],
   "source": [
    "error = np."
   ]
  },
  {
   "cell_type": "code",
   "execution_count": null,
   "id": "061f381d",
   "metadata": {},
   "outputs": [],
   "source": []
  },
  {
   "cell_type": "code",
   "execution_count": null,
   "id": "b9a711e5",
   "metadata": {
    "scrolled": true
   },
   "outputs": [],
   "source": [
    "opt_hyperparams(params_df)"
   ]
  },
  {
   "cell_type": "code",
   "execution_count": null,
   "id": "e31fbddf",
   "metadata": {},
   "outputs": [],
   "source": [
    "img_list1 = [\"image/tree_part1.jpg\", \"image/city_part2.png\"]\n",
    "\n",
    "\n",
    "for im in img_list1:\n",
    "    img = Image.open(im)\n",
    "    img = ImageOps.grayscale(img)\n",
    "    img_arr = np.asarray(img)\n",
    "\n",
    "    # V1 Variables\n",
    "    num_cell = 500\n",
    "    cell_size = 7\n",
    "    sparse_freq = 2\n",
    "    dim = img_arr.shape\n",
    "    n,m = dim\n",
    "\n",
    "    W = V1_weights(num_cell, dim, cell_size, sparse_freq) \n",
    "    y = generate_Y(W, img_arr)\n",
    "    W_rev = W.reshape(num_cell, n, m)\n",
    "    theta, reform, s = compress(W_rev, y, 0.01)\n",
    "    plt.imshow(reform)\n",
    "    plt.show()"
   ]
  },
  {
   "cell_type": "code",
   "execution_count": null,
   "id": "06a65a68",
   "metadata": {},
   "outputs": [],
   "source": [
    "# Classical Method\n",
    "tree_img = Image.open(\"image/tree_part1.jpg\")\n",
    "tree_img = ImageOps.grayscale(tree_img)\n",
    "tree_img_arr = np.asarray(tree_img)\n",
    "\n",
    "city_img = Image.open(\"image/city_part2.png\")\n",
    "city_img = ImageOps.grayscale(city_img)\n",
    "city_img_arr = np.asarray(city_img)\n",
    "\n",
    "# V1 Optimized Variables\n",
    "classical_samp = 100\n",
    "dim = tree_img_arr.shape\n",
    "n, m = dim\n",
    "alp = 0.003\n",
    "\n",
    "rand_index_tree = np.random.permutation(n * m)[:classical_samp]\n",
    "classical_Y_tree = tree_img_arr.flatten()[rand_index_tree]\n",
    "classical_Y_tree = classical_Y_tree.reshape(classical_samp, 1)\n",
    "\n",
    "rand_index_city = np.random.permutation(n * m)[:classical_samp]\n",
    "classical_Y_city = city_img_arr.flatten()[rand_index_city]\n",
    "classical_Y_city = classical_Y_city.reshape(classical_samp, 1)\n",
    "\n",
    "# Generate C matrix for tree\n",
    "C_tree = np.eye(n * m)[rand_index_tree, :] #* np.sqrt(n * m)\n",
    "C3D_tree = C_tree.reshape(classical_samp, n, m)\n",
    "\n",
    "# Generate C matrix for city\n",
    "C_city = np.eye(n * m)[rand_index_city, :] #* np.sqrt(n * m)\n",
    "C3D_city = C_city.reshape(classical_samp, n, m)\n",
    "\n",
    "\n",
    "\n",
    "# Fetch into function\n",
    "theta_tree, classical_recons_tree, s_tree = compress(C3D_tree, classical_Y_tree, alp)\n",
    "theta_city, classical_recons_city, s_city = compress(C3D_city, classical_Y_city, alp)"
   ]
  },
  {
   "cell_type": "code",
   "execution_count": null,
   "id": "6c069a73",
   "metadata": {},
   "outputs": [],
   "source": [
    "# Show Original/Reconstructed image\n",
    "fig = plt.figure(figsize = (10, 10))\n",
    "\n",
    "ax = fig.add_subplot(3, 2, 1)\n",
    "plt.imshow(tree_img)\n",
    "axes = plt.gca()\n",
    "axes.get_xaxis().set_visible(False)\n",
    "axes.get_yaxis().set_visible(False)\n",
    "\n",
    "ax = fig.add_subplot(3, 2, 2)\n",
    "plt.imshow(city_img)\n",
    "axes = plt.gca()\n",
    "axes.get_xaxis().set_visible(False)\n",
    "axes.get_yaxis().set_visible(False)\n",
    "\n",
    "ax = fig.add_subplot(3, 2, 3)\n",
    "plt.imshow(classical_recons_tree)\n",
    "axes = plt.gca()\n",
    "axes.get_xaxis().set_visible(False)\n",
    "axes.get_yaxis().set_visible(False)\n",
    "\n",
    "ax = fig.add_subplot(3, 2, 4)\n",
    "plt.imshow(classical_recons_city)\n",
    "axes = plt.gca()\n",
    "axes.get_xaxis().set_visible(False)\n",
    "axes.get_yaxis().set_visible(False)\n",
    "\n",
    "ax = fig.add_subplot(3, 2, 5)\n",
    "plt.imshow(tree_img_arr - classical_recons_tree)\n",
    "axes = plt.gca()\n",
    "axes.get_xaxis().set_visible(False)\n",
    "axes.get_yaxis().set_visible(False)\n",
    "\n",
    "ax = fig.add_subplot(3, 2, 6)\n",
    "plt.imshow(city_img_arr - classical_recons_city)\n",
    "axes = plt.gca()\n",
    "axes.get_xaxis().set_visible(False)\n",
    "axes.get_yaxis().set_visible(False)\n",
    "\n"
   ]
  },
  {
   "cell_type": "code",
   "execution_count": null,
   "id": "87239ad5",
   "metadata": {},
   "outputs": [],
   "source": [
    "# V1 Methods\n",
    "tree_img = Image.open(\"image/tree_part1.jpg\")\n",
    "tree_img = ImageOps.grayscale(tree_img)\n",
    "tree_img_arr = np.asarray(tree_img)\n",
    "\n",
    "city_img = Image.open(\"image/city_part2.png\")\n",
    "city_img = ImageOps.grayscale(city_img)\n",
    "city_img_arr = np.asarray(city_img)\n",
    "\n",
    "# V1 Optimized Variables\n",
    "num_cell = 100\n",
    "cell_size = 7\n",
    "sparse_freq = 2\n",
    "dim = img_arr.shape\n",
    "n,m = dim\n",
    "alp = 1\n",
    "\n",
    "W = V1_weights(num_cell, dim, cell_size, sparse_freq) \n",
    "y_tree = generate_Y(W, tree_img_arr)\n",
    "y_city = generate_Y(W, city_img_arr)\n",
    "W_rev = W.reshape(num_cell, n, m)\n",
    "theta_tree, recons_tree, s_tree = compress(W_rev, y_tree, alp)\n",
    "theta_city, recons_city, s_city = compress(W_rev, y_city, alp)\n",
    "\n",
    "plt.imshow(recons_tree)"
   ]
  },
  {
   "cell_type": "code",
   "execution_count": null,
   "id": "ec6ec530",
   "metadata": {},
   "outputs": [],
   "source": [
    "# Show Original/Reconstructed image\n",
    "fig = plt.figure(figsize = (10, 10))\n",
    "\n",
    "ax = fig.add_subplot(3, 2, 1)\n",
    "plt.imshow(tree_img)\n",
    "axes = plt.gca()\n",
    "axes.get_xaxis().set_visible(False)\n",
    "axes.get_yaxis().set_visible(False)\n",
    "\n",
    "ax = fig.add_subplot(3, 2, 2)\n",
    "plt.imshow(city_img)\n",
    "axes = plt.gca()\n",
    "axes.get_xaxis().set_visible(False)\n",
    "axes.get_yaxis().set_visible(False)\n",
    "\n",
    "ax = fig.add_subplot(3, 2, 3)\n",
    "plt.imshow(recons_tree)\n",
    "axes = plt.gca()\n",
    "axes.get_xaxis().set_visible(False)\n",
    "axes.get_yaxis().set_visible(False)\n",
    "\n",
    "ax = fig.add_subplot(3, 2, 4)\n",
    "plt.imshow(recons_city)\n",
    "axes = plt.gca()\n",
    "axes.get_xaxis().set_visible(False)\n",
    "axes.get_yaxis().set_visible(False)\n",
    "\n",
    "ax = fig.add_subplot(3, 2, 5)\n",
    "plt.imshow(tree_img_arr - recons_tree)\n",
    "axes = plt.gca()\n",
    "axes.get_xaxis().set_visible(False)\n",
    "axes.get_yaxis().set_visible(False)\n",
    "\n",
    "ax = fig.add_subplot(3, 2, 6)\n",
    "plt.imshow(city_img_arr - recons_city)\n",
    "axes = plt.gca()\n",
    "axes.get_xaxis().set_visible(False)\n",
    "axes.get_yaxis().set_visible(False)\n",
    "\n"
   ]
  },
  {
   "cell_type": "code",
   "execution_count": null,
   "id": "c54d1c42",
   "metadata": {},
   "outputs": [],
   "source": [
    "tree_img_arr"
   ]
  },
  {
   "cell_type": "code",
   "execution_count": 15,
   "id": "6c8be659",
   "metadata": {
    "scrolled": true
   },
   "outputs": [
    {
     "ename": "NameError",
     "evalue": "name 'classical_recons_tree' is not defined",
     "output_type": "error",
     "traceback": [
      "\u001b[1;31m---------------------------------------------------------------------------\u001b[0m",
      "\u001b[1;31mNameError\u001b[0m                                 Traceback (most recent call last)",
      "\u001b[1;32m<ipython-input-15-e734fae5fb2f>\u001b[0m in \u001b[0;36m<module>\u001b[1;34m\u001b[0m\n\u001b[1;32m----> 1\u001b[1;33m \u001b[0mclassical_recons_tree\u001b[0m\u001b[1;33m\u001b[0m\u001b[1;33m\u001b[0m\u001b[0m\n\u001b[0m",
      "\u001b[1;31mNameError\u001b[0m: name 'classical_recons_tree' is not defined"
     ]
    }
   ],
   "source": [
    "classical_recons_tree"
   ]
  },
  {
   "cell_type": "code",
   "execution_count": 14,
   "id": "36a0a8c4",
   "metadata": {},
   "outputs": [
    {
     "data": {
      "text/plain": [
       "0.5555555555555556"
      ]
     },
     "execution_count": 14,
     "metadata": {},
     "output_type": "execute_result"
    }
   ],
   "source": []
  },
  {
   "cell_type": "markdown",
   "id": "a34a851c",
   "metadata": {},
   "source": [
    "1. Save all the images for hyperparams, and hyperparams as well, save original image along with it\n",
    "2. Try same with compress sensing\n"
   ]
  },
  {
   "cell_type": "code",
   "execution_count": null,
   "id": "f7b37033",
   "metadata": {},
   "outputs": [],
   "source": []
  },
  {
   "cell_type": "code",
   "execution_count": null,
   "id": "ee4474bd",
   "metadata": {},
   "outputs": [],
   "source": []
  },
  {
   "cell_type": "code",
   "execution_count": null,
   "id": "7da681c0",
   "metadata": {},
   "outputs": [],
   "source": []
  },
  {
   "cell_type": "code",
   "execution_count": null,
   "id": "9f198184",
   "metadata": {},
   "outputs": [],
   "source": []
  },
  {
   "cell_type": "code",
   "execution_count": null,
   "id": "a07ef33b",
   "metadata": {},
   "outputs": [],
   "source": []
  },
  {
   "cell_type": "code",
   "execution_count": null,
   "id": "f18aa77a",
   "metadata": {},
   "outputs": [],
   "source": []
  },
  {
   "cell_type": "code",
   "execution_count": null,
   "id": "04a13f0e",
   "metadata": {},
   "outputs": [],
   "source": []
  },
  {
   "cell_type": "code",
   "execution_count": null,
   "id": "e2b07676",
   "metadata": {},
   "outputs": [],
   "source": []
  }
 ],
 "metadata": {
  "kernelspec": {
   "display_name": "Python 3 (ipykernel)",
   "language": "python",
   "name": "python3"
  },
  "language_info": {
   "codemirror_mode": {
    "name": "ipython",
    "version": 3
   },
   "file_extension": ".py",
   "mimetype": "text/x-python",
   "name": "python",
   "nbconvert_exporter": "python",
   "pygments_lexer": "ipython3",
   "version": "3.9.7"
  }
 },
 "nbformat": 4,
 "nbformat_minor": 5
}
