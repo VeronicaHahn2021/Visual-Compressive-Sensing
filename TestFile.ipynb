{
 "cells": [
  {
   "cell_type": "code",
   "execution_count": 3,
   "id": "326591af",
   "metadata": {},
   "outputs": [],
   "source": [
    "import os\n",
    "import os.path as path\n",
    "from tqdm import tqdm\n",
    "\n",
    "import matplotlib.pyplot as plt\n",
    "import numpy as np\n",
    "import numpy.linalg as la\n",
    "\n",
    "from src.structured_random_features.src.models.weights import V1_weights\n",
    "\n",
    "# Packages for fft and fitting data\n",
    "from scipy import fftpack as fft\n",
    "from sklearn.linear_model import Lasso\n",
    "\n",
    "# Package for importing image representation\n",
    "from PIL import Image, ImageOps\n",
    "\n",
    "from src.V1_Compress import generateY, compress"
   ]
  },
  {
   "cell_type": "code",
   "execution_count": 4,
   "id": "e8db1ff3",
   "metadata": {},
   "outputs": [],
   "source": [
    "import pandas as pd"
   ]
  },
  {
   "cell_type": "code",
   "execution_count": 71,
   "id": "d98f0e5d",
   "metadata": {},
   "outputs": [],
   "source": [
    "def OptHyperParams(data): \n",
    "#     print(pd.DataFrame(data).sort_values(by = 'score', ascending = True).loc[0])\n",
    "#     df = pd.DataFrame(data)\n",
    "#     df_temp = df.sort_values(by = 'score', ascending = True).head(1)\n",
    "#     print(df_temp)\n",
    "#     print(\"Inside func min: \",df[df.score == df.score.min()])\n",
    "#     return df.loc[index]\n",
    "#     return df_temp.to_numpy()\n",
    "    return pd.DataFrame(data).sort_values(by = 'score', ascending = True).head(1)"
   ]
  },
  {
   "cell_type": "code",
   "execution_count": 72,
   "id": "626aaa57",
   "metadata": {},
   "outputs": [],
   "source": [
    "params = []\n",
    "reformed = []\n",
    "alpha = np.arange(1, 402, 5)\n",
    "\n",
    "# Load Image\n",
    "imageName = 'image/tree_part1.jpg'\n",
    "img = Image.open(imageName)\n",
    "img = ImageOps.grayscale(img)\n",
    "imgArr = np.asarray(img)\n",
    "\n",
    "\n",
    "# Load V1 weight\n",
    "numCell = [100, 200, 500]\n",
    "cellSize = [2, 5, 7]\n",
    "sparseFreq = [1, 2, 5]\n",
    "dim = imgArr.shape\n",
    "n, m = dim\n",
    "\n",
    "\n",
    "for num in numCell:\n",
    "    for sz in cellSize:\n",
    "        for freq in sparseFreq:\n",
    "            W = V1_weights(num, dim, sz, freq) \n",
    "            y = generateY(W, imgArr)\n",
    "            W_model = W.reshape(num, n, m)\n",
    "            bestAlpha = []\n",
    "            for i, a in enumerate(alpha):\n",
    "                theta, reform, s = compress(W_model, y, a)\n",
    "                score = np.linalg.norm(img - reform, 'fro') / n\n",
    "                params.append({'numCell' : num,\n",
    "                               'cellSize' : sz,\n",
    "                               'sparseFreq' : freq,'alpha': a,\n",
    "                               'theta': theta,\n",
    "                               'reform': reform,\n",
    "                               'sparse': s,\n",
    "                               'score' : score})\n",
    "optParam = OptHyperParams(params)"
   ]
  },
  {
   "cell_type": "code",
   "execution_count": 84,
   "id": "5cd02695",
   "metadata": {},
   "outputs": [
    {
     "ename": "TypeError",
     "evalue": "cannot unpack non-iterable method object",
     "output_type": "error",
     "traceback": [
      "\u001b[0;31m---------------------------------------------------------------------------\u001b[0m",
      "\u001b[0;31mTypeError\u001b[0m                                 Traceback (most recent call last)",
      "\u001b[0;32m/tmp/ipykernel_30317/2044238945.py\u001b[0m in \u001b[0;36m<module>\u001b[0;34m\u001b[0m\n\u001b[0;32m----> 1\u001b[0;31m \u001b[0moptNumCell\u001b[0m\u001b[0;34m,\u001b[0m \u001b[0moptCellSize\u001b[0m\u001b[0;34m,\u001b[0m \u001b[0moptSparseFreq\u001b[0m\u001b[0;34m,\u001b[0m \u001b[0moptAlpha\u001b[0m\u001b[0;34m,\u001b[0m \u001b[0moptTheta\u001b[0m\u001b[0;34m,\u001b[0m \u001b[0moptReform\u001b[0m\u001b[0;34m,\u001b[0m \u001b[0moptS\u001b[0m\u001b[0;34m,\u001b[0m \u001b[0moptScore\u001b[0m \u001b[0;34m=\u001b[0m \u001b[0mpd\u001b[0m\u001b[0;34m.\u001b[0m\u001b[0mDataFrame\u001b[0m\u001b[0;34m(\u001b[0m\u001b[0moptParam\u001b[0m\u001b[0;34m)\u001b[0m\u001b[0;34m.\u001b[0m\u001b[0mto_numpy\u001b[0m\u001b[0;34m\u001b[0m\u001b[0;34m\u001b[0m\u001b[0m\n\u001b[0m",
      "\u001b[0;31mTypeError\u001b[0m: cannot unpack non-iterable method object"
     ]
    }
   ],
   "source": [
    "optNumCell, optCellSize, optSparseFreq, optAlpha, optTheta, optReform, optS, optScore = pd.DataFrame(optParam).to_numpy\n"
   ]
  },
  {
   "cell_type": "code",
   "execution_count": 8,
   "id": "229f6762",
   "metadata": {},
   "outputs": [],
   "source": [
    "# Somehow, hyperparameter is not giving optimal score data. I will ask professor for some possible issue that\n",
    "# i cannot find why."
   ]
  },
  {
   "cell_type": "code",
   "execution_count": 9,
   "id": "ce31da12",
   "metadata": {},
   "outputs": [],
   "source": [
    "df = pd.DataFrame(params)\n",
    "numCell, cellSize, sparseFreq, alpha, theta, reform, sparse, score = df.loc[df.score == df.score.min()]"
   ]
  },
  {
   "cell_type": "code",
   "execution_count": 37,
   "id": "6b26b625",
   "metadata": {},
   "outputs": [
    {
     "data": {
      "text/plain": [
       "[2, 5, 7]"
      ]
     },
     "execution_count": 37,
     "metadata": {},
     "output_type": "execute_result"
    }
   ],
   "source": [
    "cellSize"
   ]
  },
  {
   "cell_type": "code",
   "execution_count": null,
   "id": "9814eed5",
   "metadata": {},
   "outputs": [],
   "source": []
  },
  {
   "cell_type": "code",
   "execution_count": null,
   "id": "17302f94",
   "metadata": {},
   "outputs": [],
   "source": []
  },
  {
   "cell_type": "code",
   "execution_count": null,
   "id": "2f931740",
   "metadata": {},
   "outputs": [],
   "source": []
  },
  {
   "cell_type": "code",
   "execution_count": null,
   "id": "06e9268d",
   "metadata": {},
   "outputs": [],
   "source": []
  },
  {
   "cell_type": "code",
   "execution_count": 11,
   "id": "71eb9739",
   "metadata": {},
   "outputs": [],
   "source": [
    "#Compress Sensing on function"
   ]
  },
  {
   "cell_type": "code",
   "execution_count": 32,
   "id": "2346fb7e",
   "metadata": {},
   "outputs": [
    {
     "name": "stdout",
     "output_type": "stream",
     "text": [
      "30 30\n"
     ]
    }
   ],
   "source": [
    "## Check if this function is applicable to regular compress sensing\n",
    "compressImg = Image.open(\"image/tree_part1.jpg\")\n",
    "compressImg = ImageOps.grayscale(compressImg)\n",
    "compressArr = np.asarray(compressImg)\n",
    "cn, cm = compressArr.shape\n",
    "print(cn, cm)\n",
    "compressSamp = np.floor (cn * cm * 0.20).astype(int)\n",
    "randIndex = np.random.randint(0, cn * cm, compressSamp)\n",
    "compressY = compressArr.flatten()[randIndex]\n",
    "compressY = compressY.reshape(compressSamp, 1)"
   ]
  },
  {
   "cell_type": "code",
   "execution_count": 36,
   "id": "8ba9ceba",
   "metadata": {},
   "outputs": [
    {
     "name": "stderr",
     "output_type": "stream",
     "text": [
      "/home/bans/anaconda3/lib/python3.9/site-packages/sklearn/linear_model/_coordinate_descent.py:530: ConvergenceWarning: Objective did not converge. You might want to increase the number of iterations. Duality gap: 72.32534658742873, tolerance: 54.87845500000001\n",
      "  model = cd_fast.enet_coordinate_descent(\n"
     ]
    },
    {
     "data": {
      "text/plain": [
       "<matplotlib.image.AxesImage at 0x7fb3b25edc40>"
      ]
     },
     "execution_count": 36,
     "metadata": {},
     "output_type": "execute_result"
    },
    {
     "data": {
      "image/png": "[encoded data removed]",
      "text/plain": [
       "<Figure size 432x288 with 1 Axes>"
      ]
     },
     "metadata": {
      "needs_background": "light"
     },
     "output_type": "display_data"
    }
   ],
   "source": [
    "# Generate C matrix\n",
    "C = np.eye(cn * cm)[randIndex, :]\n",
    "C3D = C.reshape(compressSamp, cn, cm)\n",
    "theta, reform, s = compress(C3D, compressY, 0.0005)\n",
    "\n",
    "plt.imshow(reform)"
   ]
  },
  {
   "cell_type": "code",
   "execution_count": null,
   "id": "469e09da",
   "metadata": {},
   "outputs": [],
   "source": []
  },
  {
   "cell_type": "code",
   "execution_count": 89,
   "id": "e31fbddf",
   "metadata": {},
   "outputs": [
    {
     "data": {
      "image/png": "[encoded data removed]",
      "text/plain": [
       "<Figure size 432x288 with 1 Axes>"
      ]
     },
     "metadata": {
      "needs_background": "light"
     },
     "output_type": "display_data"
    },
    {
     "data": {
      "image/png": "[encoded data removed]",
      "text/plain": [
       "<Figure size 432x288 with 1 Axes>"
      ]
     },
     "metadata": {
      "needs_background": "light"
     },
     "output_type": "display_data"
    }
   ],
   "source": [
    "imgList = [\"image/city_part2.png\", \"image/city_part3.png\"]\n",
    "\n",
    "for im in imgList:\n",
    "    img = Image.open(im)\n",
    "    img = ImageOps.grayscale(img)\n",
    "    imgArr = np.asarray(img)\n",
    "\n",
    "    # V1 Variables\n",
    "    numCell = 100\n",
    "    cellSize = 2\n",
    "    sparseFreq = 2\n",
    "    dim = imgArr.shape\n",
    "    n,m = dim\n",
    "\n",
    "    W = V1_weights(numCell, dim, cellSize, sparseFreq) \n",
    "    y = generateY(W, imgArr)\n",
    "    W_rev = W.reshape(numCell, n, m)\n",
    "    theta, reform, s = compress(W_rev, y, 50)\n",
    "    plt.imshow(reform)\n",
    "    plt.show()"
   ]
  },
  {
   "cell_type": "code",
   "execution_count": null,
   "id": "c64b94ba",
   "metadata": {},
   "outputs": [],
   "source": []
  }
 ],
 "metadata": {
  "kernelspec": {
   "display_name": "Python 3 (ipykernel)",
   "language": "python",
   "name": "python3"
  },
  "language_info": {
   "codemirror_mode": {
    "name": "ipython",
    "version": 3
   },
   "file_extension": ".py",
   "mimetype": "text/x-python",
   "name": "python",
   "nbconvert_exporter": "python",
   "pygments_lexer": "ipython3",
   "version": "3.9.7"
  }
 },
 "nbformat": 4,
 "nbformat_minor": 5
}
