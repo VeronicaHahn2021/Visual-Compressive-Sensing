{
 "cells": [
  {
   "cell_type": "code",
   "execution_count": 1,
   "id": "9a554bd1",
   "metadata": {},
   "outputs": [],
   "source": [
    "import matplotlib.pyplot as plt\n",
    "import numpy as np\n",
    "import numpy.linalg as la\n",
    "\n",
    "from src.structured_random_features.src.models.weights import V1_weights\n",
    "\n",
    "# Packages for fft and fitting data\n",
    "from scipy import fftpack as fft\n",
    "from sklearn.linear_model import Lasso\n",
    "\n",
    "# Package for importing image representation\n",
    "from PIL import Image, ImageOps\n",
    "\n",
    "from src.V1_Compress import generate_Y, compress\n",
    "import pandas as pd\n",
    "import itertools\n",
    "import dask\n",
    "from dask.distributed import Client, progress\n",
    "import seaborn as sns\n",
    "import time\n",
    "import os.path"
   ]
  },
  {
   "cell_type": "code",
   "execution_count": null,
   "id": "f678e822",
   "metadata": {},
   "outputs": [],
   "source": []
  },
  {
   "cell_type": "code",
   "execution_count": null,
   "id": "58db7768",
   "metadata": {},
   "outputs": [],
   "source": []
  },
  {
   "cell_type": "code",
   "execution_count": null,
   "id": "872ff94f",
   "metadata": {},
   "outputs": [],
   "source": []
  },
  {
   "cell_type": "code",
   "execution_count": null,
   "id": "e511b082",
   "metadata": {},
   "outputs": [],
   "source": []
  },
  {
   "cell_type": "code",
   "execution_count": null,
   "id": "38cbd039",
   "metadata": {},
   "outputs": [],
   "source": []
  },
  {
   "cell_type": "code",
   "execution_count": 9,
   "id": "c4fcfdc8",
   "metadata": {},
   "outputs": [
    {
     "name": "stdout",
     "output_type": "stream",
     "text": [
      "30 30\n"
     ]
    }
   ],
   "source": [
    "## Check if this function is applicable to regular compress sensing\n",
    "compress_img = Image.open(\"image/tree_part1.jpg\")\n",
    "compress_img = ImageOps.grayscale(compress_img)\n",
    "compress_arr = np.asarray(compress_img)\n",
    "cn, cm = compress_arr.shape\n",
    "print(cn, cm)\n",
    "compress_samp = 500 #np.floor (cn * cm * 0.20).astype(int)\n",
    "alpha = np.logspace(-3, 3, 7)\n",
    "rep = np.arange(10)\n",
    "params = []\n",
    "results = []\n",
    "\n",
    "# List to make combination of\n",
    "search_list = {'repetition': rep,\n",
    "               'alpha': alpha\n",
    "              }\n",
    "\n",
    "\n",
    "\n",
    "# Get repetition * alpha combination amount of result\n",
    "for row in itertools.product(*search_list.values()):\n",
    "    product = dict(zip(search_list.keys(), row))\n",
    "    rep, alp = product.values()\n",
    "    \n",
    "    rand_index = np.random.randint(0, cn * cm, compress_samp)\n",
    "    compress_Y = compress_arr.flatten()[rand_index]\n",
    "    compress_Y = compress_Y.reshape(compress_samp, 1)\n",
    "\n",
    "    # Generate C matrix\n",
    "    C = np.eye(cn * cm)[rand_index, :]\n",
    "    C3D = C.reshape(compress_samp, cn, cm)\n",
    "    theta, compress_reform, s = compress(C3D, compress_Y, alp)\n",
    "    \n",
    "    error = np.linalg.norm(compress_img - compress_reform, 'fro') / np.sqrt(cm*cn)\n",
    "    \n",
    "    params.append({'alpha' : alp,\n",
    "                   'repetition' : rep,\n",
    "                   'error' : error\n",
    "                  })\n",
    "    results.append({'s' : s,\n",
    "                    'theta' : theta,\n",
    "                    'reform' : compress_reform,\n",
    "                   })"
   ]
  },
  {
   "cell_type": "code",
   "execution_count": 16,
   "id": "ce6dbc7c",
   "metadata": {},
   "outputs": [],
   "source": [
    "save_path = os.path.join('./result/')\n",
    "\n",
    "compress_param_df = pd.DataFrame(params)\n",
    "compress_param_df.to_csv(os.path.join(save_path, \"Compress_param_\" + \"_\".join(str.split(time.ctime().replace(\":\", \"_\"))) + \".csv\"))"
   ]
  },
  {
   "cell_type": "code",
   "execution_count": 18,
   "id": "c6889913",
   "metadata": {},
   "outputs": [
    {
     "data": {
      "text/html": [
       "<div>\n",
       "<style scoped>\n",
       "    .dataframe tbody tr th:only-of-type {\n",
       "        vertical-align: middle;\n",
       "    }\n",
       "\n",
       "    .dataframe tbody tr th {\n",
       "        vertical-align: top;\n",
       "    }\n",
       "\n",
       "    .dataframe thead th {\n",
       "        text-align: right;\n",
       "    }\n",
       "</style>\n",
       "<table border=\"1\" class=\"dataframe\">\n",
       "  <thead>\n",
       "    <tr style=\"text-align: right;\">\n",
       "      <th></th>\n",
       "      <th>error</th>\n",
       "    </tr>\n",
       "    <tr>\n",
       "      <th>alpha</th>\n",
       "      <th></th>\n",
       "    </tr>\n",
       "  </thead>\n",
       "  <tbody>\n",
       "    <tr>\n",
       "      <th>0.001</th>\n",
       "      <td>136.947511</td>\n",
       "    </tr>\n",
       "    <tr>\n",
       "      <th>0.010</th>\n",
       "      <td>136.939150</td>\n",
       "    </tr>\n",
       "    <tr>\n",
       "      <th>0.100</th>\n",
       "      <td>137.990362</td>\n",
       "    </tr>\n",
       "    <tr>\n",
       "      <th>1.000</th>\n",
       "      <td>144.029095</td>\n",
       "    </tr>\n",
       "    <tr>\n",
       "      <th>10.000</th>\n",
       "      <td>145.781640</td>\n",
       "    </tr>\n",
       "    <tr>\n",
       "      <th>100.000</th>\n",
       "      <td>145.781640</td>\n",
       "    </tr>\n",
       "    <tr>\n",
       "      <th>1000.000</th>\n",
       "      <td>145.781640</td>\n",
       "    </tr>\n",
       "  </tbody>\n",
       "</table>\n",
       "</div>"
      ],
      "text/plain": [
       "               error\n",
       "alpha               \n",
       "0.001     136.947511\n",
       "0.010     136.939150\n",
       "0.100     137.990362\n",
       "1.000     144.029095\n",
       "10.000    145.781640\n",
       "100.000   145.781640\n",
       "1000.000  145.781640"
      ]
     },
     "execution_count": 18,
     "metadata": {},
     "output_type": "execute_result"
    }
   ],
   "source": [
    "compress_param_df_aug = compress_param_df.groupby('alpha').mean().drop('repetition', axis=1) #  sort_values('error', ascending=True).head()\n",
    "compress_param_df_aug"
   ]
  },
  {
   "cell_type": "code",
   "execution_count": 28,
   "id": "ec1d35a7",
   "metadata": {},
   "outputs": [
    {
     "data": {
      "text/plain": [
       "<seaborn.axisgrid.FacetGrid at 0x7f2ad5ef45b0>"
      ]
     },
     "execution_count": 28,
     "metadata": {},
     "output_type": "execute_result"
    },
    {
     "data": {
      "image/png": "[encoded data removed]",
      "text/plain": [
       "<Figure size 360x360 with 1 Axes>"
      ]
     },
     "metadata": {
      "needs_background": "light"
     },
     "output_type": "display_data"
    }
   ],
   "source": [
    "compress_fig = sns.relplot(data = compress_param_df, x = 'alpha', y = 'error', kind= 'line')\n",
    "fig.set(yscale='log')\n",
    "fig.set(xscale='log')"
   ]
  },
  {
   "cell_type": "code",
   "execution_count": 29,
   "id": "c62bec95",
   "metadata": {},
   "outputs": [
    {
     "data": {
      "text/plain": [
       "array([1.e-03, 1.e-02, 1.e-01, 1.e+00, 1.e+01, 1.e+02, 1.e+03])"
      ]
     },
     "execution_count": 29,
     "metadata": {},
     "output_type": "execute_result"
    }
   ],
   "source": [
    "alpha"
   ]
  },
  {
   "cell_type": "code",
   "execution_count": null,
   "id": "fd05730b",
   "metadata": {},
   "outputs": [],
   "source": []
  }
 ],
 "metadata": {
  "kernelspec": {
   "display_name": "Python 3 (ipykernel)",
   "language": "python",
   "name": "python3"
  },
  "language_info": {
   "codemirror_mode": {
    "name": "ipython",
    "version": 3
   },
   "file_extension": ".py",
   "mimetype": "text/x-python",
   "name": "python",
   "nbconvert_exporter": "python",
   "pygments_lexer": "ipython3",
   "version": "3.9.7"
  }
 },
 "nbformat": 4,
 "nbformat_minor": 5
}
